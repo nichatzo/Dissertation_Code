{
  "nbformat": 4,
  "nbformat_minor": 0,
  "metadata": {
    "colab": {
      "provenance": []
    },
    "kernelspec": {
      "name": "python3",
      "display_name": "Python 3"
    },
    "language_info": {
      "name": "python"
    }
  },
  "cells": [
    {
      "cell_type": "code",
      "execution_count": null,
      "metadata": {
        "colab": {
          "base_uri": "https://localhost:8080/"
        },
        "id": "HCqOGqvmTB-b",
        "outputId": "8080d8d9-3788-43cb-8129-b9b3da478499"
      },
      "outputs": [
        {
          "output_type": "stream",
          "name": "stderr",
          "text": [
            "C:\\Users\\user\\AppData\\Local\\Temp\\ipykernel_19532\\1126741316.py:20: FutureWarning: DataFrame.applymap has been deprecated. Use DataFrame.map instead.\n",
            "  df_grouped = df_grouped.applymap(lambda x: 1 if x > 0 else 0)\n"
          ]
        }
      ],
      "source": [
        "import pandas as pd\n",
        "\n",
        "# CPU Optimization Settings\n",
        "import os\n",
        "os.environ['OMP_NUM_THREADS'] = '16'\n",
        "os.environ['TF_NUM_INTRA_OP_PARALLELISM_THREADS'] = '16'\n",
        "os.environ['TF_NUM_INTER_OP_PARALLELISM_THREADS'] = '8'\n",
        "\n",
        "# Load and preprocess the dataset\n",
        "file_path = r\"C:\\Users\\user\\Desktop\\CW4\\online+retail\\Online Retail.xlsx\"\n",
        "df = pd.read_excel(file_path, sheet_name='Online Retail')\n",
        "\n",
        "# Data Cleaning\n",
        "df_cleaned = df.dropna(subset=['CustomerID', 'Description'])\n",
        "df_cleaned = df_cleaned[df_cleaned['Quantity'] > 0]\n",
        "df_cleaned['Description'] = df_cleaned['Description'].str.strip()\n",
        "\n",
        "# Encoding Items and Creating Transactions\n",
        "df_grouped = df_cleaned.groupby(['InvoiceNo', 'Description'])['Quantity'].sum().unstack().reset_index().fillna(0).set_index('InvoiceNo')\n",
        "df_grouped = df_grouped.applymap(lambda x: 1 if x > 0 else 0)\n",
        "\n",
        "# Split Data into Training and Testing\n",
        "transaction_list = [set(row[row == 1].index) for _, row in df_grouped.iterrows()]\n",
        "train_size = int(len(transaction_list) * 0.8)\n",
        "train_data = transaction_list[:train_size]\n",
        "test_data = transaction_list[train_size:]\n"
      ]
    },
    {
      "cell_type": "code",
      "source": [
        "from mlxtend.frequent_patterns import apriori, association_rules, fpgrowth\n",
        "import numpy as np\n",
        "from tqdm import tqdm\n",
        "import time\n",
        "\n",
        "# Parameters for Fine-Tuning\n",
        "MIN_SUPPORT = 0.01  # Minimum support for frequent itemsets\n",
        "CONFIDENCE_THRESHOLD = 0.5  # Confidence threshold for rules\n",
        "SAVE_PATH = r\"C:\\Users\\user\\Desktop\\CW4\\online+retail\\results.csv\"\n",
        "BATCH_SIZE = 500  # Number of transactions to process per batch for predictions\n",
        "\n",
        "# Function to time each step\n",
        "def time_step(step_name, func, *args, **kwargs):\n",
        "    print(f\"\\n=== Starting Step: {step_name} ===\")\n",
        "    start_time = time.time()\n",
        "    result = func(*args, **kwargs)\n",
        "    elapsed_time = time.time() - start_time\n",
        "    print(f\"=== Completed Step: {step_name} in {elapsed_time:.2f} seconds ===\")\n",
        "    return result\n",
        "\n",
        "# Function to generate predictions using NumPy and batching\n",
        "def generate_predictions_batch(rules, test_transactions, batch_size):\n",
        "    predictions = []\n",
        "    test_array = test_transactions.to_numpy()  # Convert to NumPy array for faster processing\n",
        "    column_names = np.array(test_transactions.columns)  # Keep track of item names\n",
        "\n",
        "    for start in tqdm(range(0, len(test_array), batch_size), desc=\"Generating Predictions in Batches\", ncols=100):\n",
        "        batch = test_array[start:start + batch_size]\n",
        "        for transaction in batch:\n",
        "            transaction_items = set(column_names[transaction == 1])  # Get the items in the transaction\n",
        "            matched_rules = rules[rules['antecedents'].apply(lambda x: x.issubset(transaction_items))]\n",
        "            if not matched_rules.empty:\n",
        "                predicted = matched_rules.sort_values(by='confidence', ascending=False).iloc[0]['consequents']\n",
        "                predictions.append(list(predicted))\n",
        "            else:\n",
        "                predictions.append([])\n",
        "    return predictions\n",
        "\n",
        "# Function to calculate metrics\n",
        "def calculate_metrics(y_true, y_pred):\n",
        "    # Ensure y_true and y_pred have the same number of transactions\n",
        "    assert len(y_true) == len(y_pred), f\"y_true ({len(y_true)}) and y_pred ({len(y_pred)}) must have the same number of transactions.\"\n",
        "\n",
        "    # Accuracy: Exact match ratio\n",
        "    accuracy = np.mean([1 if set(yt) == set(yp) else 0 for yt, yp in zip(y_true, y_pred)])\n",
        "\n",
        "    # Precision and Recall: Per-transaction average\n",
        "    precision_per_transaction = [\n",
        "        len(set(yt).intersection(set(yp))) / len(set(yp)) if len(set(yp)) > 0 else 0\n",
        "        for yt, yp in zip(y_true, y_pred)\n",
        "    ]\n",
        "    recall_per_transaction = [\n",
        "        len(set(yt).intersection(set(yp))) / len(set(yt)) if len(set(yt)) > 0 else 0\n",
        "        for yt, yp in zip(y_true, y_pred)\n",
        "    ]\n",
        "    precision = np.mean(precision_per_transaction)\n",
        "    recall = np.mean(recall_per_transaction)\n",
        "\n",
        "    # Hit Rate: At least one match per transaction\n",
        "    hit_rate = np.mean([1 if len(set(yt).intersection(set(yp))) > 0 else 0 for yt, yp in zip(y_true, y_pred)])\n",
        "\n",
        "    # Mean Reciprocal Rank (MRR)\n",
        "    mrr = np.mean([\n",
        "        1 / (yp.index(next(iter(set(yt).intersection(set(yp))), None)) + 1)\n",
        "        if set(yt).intersection(set(yp)) else 0\n",
        "        for yt, yp in zip(y_true, y_pred) if yp\n",
        "    ])\n",
        "\n",
        "    return accuracy, precision, recall, hit_rate, mrr\n",
        "\n",
        "# Create train and test DataFrame\n",
        "item_columns = df_grouped.columns\n",
        "train_df = pd.DataFrame(0, index=range(len(train_data)), columns=item_columns)\n",
        "for idx, transaction in enumerate(train_data):\n",
        "    train_df.loc[idx, list(transaction)] = 1\n",
        "\n",
        "test_df = pd.DataFrame(0, index=range(len(test_data)), columns=item_columns)\n",
        "for idx, transaction in enumerate(test_data):\n",
        "    test_df.loc[idx, list(transaction)] = 1\n",
        "\n",
        "# Time the Apriori process\n",
        "frequent_itemsets_apriori = time_step(\n",
        "    \"Apriori Frequent Itemsets\",\n",
        "    apriori, train_df, min_support=MIN_SUPPORT, use_colnames=True\n",
        ")\n",
        "\n",
        "rules_apriori = time_step(\n",
        "    \"Apriori Association Rules\",\n",
        "    association_rules, frequent_itemsets_apriori, metric=\"confidence\", min_threshold=CONFIDENCE_THRESHOLD\n",
        ")\n",
        "\n",
        "y_pred_apriori = time_step(\n",
        "    \"Apriori Predictions\",\n",
        "    generate_predictions_batch, rules_apriori, test_df, BATCH_SIZE\n",
        ")\n",
        "\n",
        "# Calculate metrics for Apriori\n",
        "y_true = [set(row[row == 1].index) for _, row in test_df.iterrows()]\n",
        "accuracy_apriori, precision_apriori, recall_apriori, hit_rate_apriori, mrr_apriori = calculate_metrics(y_true, y_pred_apriori)\n",
        "\n",
        "# Save Results to File\n",
        "results = pd.DataFrame([\n",
        "    [\"Apriori\", accuracy_apriori, precision_apriori, recall_apriori, hit_rate_apriori, mrr_apriori]\n",
        "], columns=[\"Algorithm\", \"Accuracy\", \"Precision\", \"Recall\", \"Hit Rate\", \"MRR\"])\n",
        "\n",
        "time_step(\"Save Results\", results.to_csv, SAVE_PATH, index=False)\n",
        "\n",
        "print(\"\\n=== Final Results ===\")\n",
        "print(results)\n"
      ],
      "metadata": {
        "colab": {
          "base_uri": "https://localhost:8080/"
        },
        "id": "nlfKD-jTXBJi",
        "outputId": "52393dcf-3fcd-44fd-d591-b647b38eb928"
      },
      "execution_count": null,
      "outputs": [
        {
          "output_type": "stream",
          "name": "stdout",
          "text": [
            "\n",
            "=== Starting Step: Apriori Frequent Itemsets ===\n"
          ]
        },
        {
          "output_type": "stream",
          "name": "stderr",
          "text": [
            "C:\\Users\\user\\AppData\\Local\\Programs\\Python\\Python310\\lib\\site-packages\\mlxtend\\frequent_patterns\\fpcommon.py:109: DeprecationWarning: DataFrames with non-bool types result in worse computationalperformance and their support might be discontinued in the future.Please use a DataFrame with bool type\n",
            "  warnings.warn(\n"
          ]
        },
        {
          "output_type": "stream",
          "name": "stdout",
          "text": [
            "=== Completed Step: Apriori Frequent Itemsets in 114.17 seconds ===\n",
            "\n",
            "=== Starting Step: Apriori Association Rules ===\n",
            "=== Completed Step: Apriori Association Rules in 0.01 seconds ===\n",
            "\n",
            "=== Starting Step: Apriori Predictions ===\n"
          ]
        },
        {
          "output_type": "stream",
          "name": "stderr",
          "text": [
            "Generating Predictions in Batches: 100%|██████████████████████████████| 8/8 [00:01<00:00,  6.91it/s]\n"
          ]
        },
        {
          "output_type": "stream",
          "name": "stdout",
          "text": [
            "=== Completed Step: Apriori Predictions in 1.17 seconds ===\n",
            "\n",
            "=== Starting Step: Save Results ===\n",
            "=== Completed Step: Save Results in 0.02 seconds ===\n",
            "\n",
            "=== Final Results ===\n",
            "  Algorithm  Accuracy  Precision  Recall  Hit Rate       MRR\n",
            "0   Apriori       0.0   0.326052   0.019  0.326052  0.496509\n"
          ]
        }
      ]
    },
    {
      "cell_type": "code",
      "source": [
        "from mlxtend.frequent_patterns import apriori, association_rules, fpgrowth\n",
        "import numpy as np\n",
        "from tqdm import tqdm\n",
        "import time\n",
        "\n",
        "# Parameters for Fine-Tuning\n",
        "MIN_SUPPORT = 0.01  # Minimum support for frequent itemsets\n",
        "CONFIDENCE_THRESHOLD = 0.5  # Confidence threshold for rules\n",
        "SAVE_PATH = r\"C:\\Users\\user\\Desktop\\CW4\\online+retail\\results.csv\"\n",
        "BATCH_SIZE = 500  # Number of transactions to process per batch for predictions\n",
        "\n",
        "# Function to time each step\n",
        "def time_step(step_name, func, *args, **kwargs):\n",
        "    print(f\"\\n=== Starting Step: {step_name} ===\")\n",
        "    start_time = time.time()\n",
        "    result = func(*args, **kwargs)\n",
        "    elapsed_time = time.time() - start_time\n",
        "    print(f\"=== Completed Step: {step_name} in {elapsed_time:.2f} seconds ===\")\n",
        "    return result\n",
        "\n",
        "# Function to generate predictions using NumPy and batching\n",
        "def generate_predictions_batch(rules, test_transactions, batch_size):\n",
        "    predictions = []\n",
        "    test_array = test_transactions.to_numpy()  # Convert to NumPy array for faster processing\n",
        "    column_names = np.array(test_transactions.columns)  # Keep track of item names\n",
        "\n",
        "    for start in tqdm(range(0, len(test_array), batch_size), desc=\"Generating Predictions in Batches\", ncols=100):\n",
        "        batch = test_array[start:start + batch_size]\n",
        "        for transaction in batch:\n",
        "            transaction_items = set(column_names[transaction == 1])  # Get the items in the transaction\n",
        "            matched_rules = rules[rules['antecedents'].apply(lambda x: x.issubset(transaction_items))]\n",
        "            if not matched_rules.empty:\n",
        "                predicted = matched_rules.sort_values(by='confidence', ascending=False).iloc[0]['consequents']\n",
        "                predictions.append(list(predicted))\n",
        "            else:\n",
        "                predictions.append([])\n",
        "    return predictions\n",
        "\n",
        "# Function to calculate metrics\n",
        "def calculate_metrics(y_true, y_pred):\n",
        "    # Ensure y_true and y_pred have the same number of transactions\n",
        "    assert len(y_true) == len(y_pred), f\"y_true ({len(y_true)}) and y_pred ({len(y_pred)}) must have the same number of transactions.\"\n",
        "\n",
        "    # Accuracy: Exact match ratio\n",
        "    accuracy = np.mean([1 if set(yt) == set(yp) else 0 for yt, yp in zip(y_true, y_pred)])\n",
        "\n",
        "    # Precision and Recall: Per-transaction average\n",
        "    precision_per_transaction = [\n",
        "        len(set(yt).intersection(set(yp))) / len(set(yp)) if len(set(yp)) > 0 else 0\n",
        "        for yt, yp in zip(y_true, y_pred)\n",
        "    ]\n",
        "    recall_per_transaction = [\n",
        "        len(set(yt).intersection(set(yp))) / len(set(yt)) if len(set(yt)) > 0 else 0\n",
        "        for yt, yp in zip(y_true, y_pred)\n",
        "    ]\n",
        "    precision = np.mean(precision_per_transaction)\n",
        "    recall = np.mean(recall_per_transaction)\n",
        "\n",
        "    # Hit Rate: At least one match per transaction\n",
        "    hit_rate = np.mean([1 if len(set(yt).intersection(set(yp))) > 0 else 0 for yt, yp in zip(y_true, y_pred)])\n",
        "\n",
        "    # Mean Reciprocal Rank (MRR)\n",
        "    mrr = np.mean([\n",
        "        1 / (yp.index(next(iter(set(yt).intersection(set(yp))), None)) + 1)\n",
        "        if set(yt).intersection(set(yp)) else 0\n",
        "        for yt, yp in zip(y_true, y_pred) if yp\n",
        "    ])\n",
        "\n",
        "    return accuracy, precision, recall, hit_rate, mrr\n",
        "\n",
        "# Create train and test DataFrame\n",
        "item_columns = df_grouped.columns\n",
        "train_df = pd.DataFrame(0, index=range(len(train_data)), columns=item_columns)\n",
        "for idx, transaction in enumerate(train_data):\n",
        "    train_df.loc[idx, list(transaction)] = 1\n",
        "\n",
        "test_df = pd.DataFrame(0, index=range(len(test_data)), columns=item_columns)\n",
        "for idx, transaction in enumerate(test_data):\n",
        "    test_df.loc[idx, list(transaction)] = 1\n",
        "\n",
        "# Time the Apriori process\n",
        "frequent_itemsets_apriori = time_step(\n",
        "    \"Apriori Frequent Itemsets\",\n",
        "    apriori, train_df, min_support=MIN_SUPPORT, use_colnames=True\n",
        ")\n",
        "\n",
        "rules_apriori = time_step(\n",
        "    \"Apriori Association Rules\",\n",
        "    association_rules, frequent_itemsets_apriori, metric=\"confidence\", min_threshold=CONFIDENCE_THRESHOLD\n",
        ")\n",
        "\n",
        "y_pred_apriori = time_step(\n",
        "    \"Apriori Predictions\",\n",
        "    generate_predictions_batch, rules_apriori, test_df, BATCH_SIZE\n",
        ")\n",
        "\n",
        "# Calculate metrics for Apriori\n",
        "y_true = [set(row[row == 1].index) for _, row in test_df.iterrows()]\n",
        "accuracy_apriori, precision_apriori, recall_apriori, hit_rate_apriori, mrr_apriori = calculate_metrics(y_true, y_pred_apriori)\n",
        "\n",
        "# Time the FP-Growth process\n",
        "frequent_itemsets_fpgrowth = time_step(\n",
        "    \"FP-Growth Frequent Itemsets\",\n",
        "    fpgrowth, train_df, min_support=MIN_SUPPORT, use_colnames=True\n",
        ")\n",
        "\n",
        "rules_fpgrowth = time_step(\n",
        "    \"FP-Growth Association Rules\",\n",
        "    association_rules, frequent_itemsets_fpgrowth, metric=\"confidence\", min_threshold=CONFIDENCE_THRESHOLD\n",
        ")\n",
        "\n",
        "y_pred_fpgrowth = time_step(\n",
        "    \"FP-Growth Predictions\",\n",
        "    generate_predictions_batch, rules_fpgrowth, test_df, BATCH_SIZE\n",
        ")\n",
        "\n",
        "# Calculate metrics for FP-Growth\n",
        "accuracy_fpgrowth, precision_fpgrowth, recall_fpgrowth, hit_rate_fpgrowth, mrr_fpgrowth = calculate_metrics(y_true, y_pred_fpgrowth)\n",
        "\n",
        "# Save Results to File\n",
        "results = pd.DataFrame([\n",
        "    [\"Apriori\", accuracy_apriori, precision_apriori, recall_apriori, hit_rate_apriori, mrr_apriori],\n",
        "    [\"FP-Growth\", accuracy_fpgrowth, precision_fpgrowth, recall_fpgrowth, hit_rate_fpgrowth, mrr_fpgrowth]\n",
        "], columns=[\"Algorithm\", \"Accuracy\", \"Precision\", \"Recall\", \"Hit Rate\", \"MRR\"])\n",
        "\n",
        "time_step(\"Save Results\", results.to_csv, SAVE_PATH, index=False)\n",
        "\n",
        "print(\"\\n=== Final Results ===\")\n",
        "print(results)\n"
      ],
      "metadata": {
        "colab": {
          "base_uri": "https://localhost:8080/"
        },
        "id": "5QVoQtyQXakd",
        "outputId": "0ba2b85b-5696-4ee7-f184-bd89d79083fa"
      },
      "execution_count": null,
      "outputs": [
        {
          "output_type": "stream",
          "name": "stdout",
          "text": [
            "\n",
            "=== Starting Step: Apriori Frequent Itemsets ===\n"
          ]
        },
        {
          "output_type": "stream",
          "name": "stderr",
          "text": [
            "C:\\Users\\user\\AppData\\Local\\Programs\\Python\\Python310\\lib\\site-packages\\mlxtend\\frequent_patterns\\fpcommon.py:109: DeprecationWarning: DataFrames with non-bool types result in worse computationalperformance and their support might be discontinued in the future.Please use a DataFrame with bool type\n",
            "  warnings.warn(\n"
          ]
        },
        {
          "output_type": "stream",
          "name": "stdout",
          "text": [
            "=== Completed Step: Apriori Frequent Itemsets in 116.19 seconds ===\n",
            "\n",
            "=== Starting Step: Apriori Association Rules ===\n",
            "=== Completed Step: Apriori Association Rules in 0.01 seconds ===\n",
            "\n",
            "=== Starting Step: Apriori Predictions ===\n"
          ]
        },
        {
          "output_type": "stream",
          "name": "stderr",
          "text": [
            "Generating Predictions in Batches: 100%|██████████████████████████████| 8/8 [00:01<00:00,  6.95it/s]\n"
          ]
        },
        {
          "output_type": "stream",
          "name": "stdout",
          "text": [
            "=== Completed Step: Apriori Predictions in 1.16 seconds ===\n",
            "\n",
            "=== Starting Step: FP-Growth Frequent Itemsets ===\n"
          ]
        },
        {
          "output_type": "stream",
          "name": "stderr",
          "text": [
            "C:\\Users\\user\\AppData\\Local\\Programs\\Python\\Python310\\lib\\site-packages\\mlxtend\\frequent_patterns\\fpcommon.py:109: DeprecationWarning: DataFrames with non-bool types result in worse computationalperformance and their support might be discontinued in the future.Please use a DataFrame with bool type\n",
            "  warnings.warn(\n"
          ]
        },
        {
          "output_type": "stream",
          "name": "stdout",
          "text": [
            "=== Completed Step: FP-Growth Frequent Itemsets in 1.54 seconds ===\n",
            "\n",
            "=== Starting Step: FP-Growth Association Rules ===\n",
            "=== Completed Step: FP-Growth Association Rules in 0.00 seconds ===\n",
            "\n",
            "=== Starting Step: FP-Growth Predictions ===\n"
          ]
        },
        {
          "output_type": "stream",
          "name": "stderr",
          "text": [
            "Generating Predictions in Batches: 100%|██████████████████████████████| 8/8 [00:00<00:00,  8.46it/s]\n"
          ]
        },
        {
          "output_type": "stream",
          "name": "stdout",
          "text": [
            "=== Completed Step: FP-Growth Predictions in 0.95 seconds ===\n",
            "\n",
            "=== Starting Step: Save Results ===\n",
            "=== Completed Step: Save Results in 0.00 seconds ===\n",
            "\n",
            "=== Final Results ===\n",
            "   Algorithm  Accuracy  Precision    Recall  Hit Rate       MRR\n",
            "0    Apriori       0.0   0.326052  0.019000  0.326052  0.496509\n",
            "1  FP-Growth       0.0   0.326321  0.019016  0.326321  0.496920\n"
          ]
        }
      ]
    },
    {
      "cell_type": "code",
      "source": [
        "from mlxtend.frequent_patterns import apriori, association_rules, fpgrowth\n",
        "import numpy as np\n",
        "from tqdm import tqdm\n",
        "import time\n",
        "\n",
        "# Parameters for Fine-Tuning\n",
        "MIN_SUPPORT = 0.02  # Minimum support for frequent itemsets\n",
        "CONFIDENCE_THRESHOLD = 0.6  # Confidence threshold for rules\n",
        "SAVE_PATH = r\"C:\\Users\\user\\Desktop\\CW4\\online+retail\\results2.csv\"\n",
        "BATCH_SIZE = 500  # Number of transactions to process per batch for predictions\n",
        "\n",
        "# Function to time each step\n",
        "def time_step(step_name, func, *args, **kwargs):\n",
        "    print(f\"\\n=== Starting Step: {step_name} ===\")\n",
        "    start_time = time.time()\n",
        "    result = func(*args, **kwargs)\n",
        "    elapsed_time = time.time() - start_time\n",
        "    print(f\"=== Completed Step: {step_name} in {elapsed_time:.2f} seconds ===\")\n",
        "    return result\n",
        "\n",
        "# Function to generate predictions using NumPy and batching\n",
        "def generate_predictions_batch(rules, test_transactions, batch_size):\n",
        "    predictions = []\n",
        "    test_array = test_transactions.to_numpy()  # Convert to NumPy array for faster processing\n",
        "    column_names = np.array(test_transactions.columns)  # Keep track of item names\n",
        "\n",
        "    for start in tqdm(range(0, len(test_array), batch_size), desc=\"Generating Predictions in Batches\", ncols=100):\n",
        "        batch = test_array[start:start + batch_size]\n",
        "        for transaction in batch:\n",
        "            transaction_items = set(column_names[transaction == 1])  # Get the items in the transaction\n",
        "            matched_rules = rules[rules['antecedents'].apply(lambda x: x.issubset(transaction_items))]\n",
        "            if not matched_rules.empty:\n",
        "                predicted = matched_rules.sort_values(by='confidence', ascending=False).iloc[0]['consequents']\n",
        "                predictions.append(list(predicted))\n",
        "            else:\n",
        "                predictions.append([])\n",
        "    return predictions\n",
        "\n",
        "# Function to calculate metrics\n",
        "def calculate_metrics(y_true, y_pred):\n",
        "    # Ensure y_true and y_pred have the same number of transactions\n",
        "    assert len(y_true) == len(y_pred), f\"y_true ({len(y_true)}) and y_pred ({len(y_pred)}) must have the same number of transactions.\"\n",
        "\n",
        "    # Accuracy: Exact match ratio\n",
        "    accuracy = np.mean([1 if set(yt) == set(yp) else 0 for yt, yp in zip(y_true, y_pred)])\n",
        "\n",
        "    # Precision and Recall: Per-transaction average\n",
        "    precision_per_transaction = [\n",
        "        len(set(yt).intersection(set(yp))) / len(set(yp)) if len(set(yp)) > 0 else 0\n",
        "        for yt, yp in zip(y_true, y_pred)\n",
        "    ]\n",
        "    recall_per_transaction = [\n",
        "        len(set(yt).intersection(set(yp))) / len(set(yt)) if len(set(yt)) > 0 else 0\n",
        "        for yt, yp in zip(y_true, y_pred)\n",
        "    ]\n",
        "    precision = np.mean(precision_per_transaction)\n",
        "    recall = np.mean(recall_per_transaction)\n",
        "\n",
        "    # Hit Rate: At least one match per transaction\n",
        "    hit_rate = np.mean([1 if len(set(yt).intersection(set(yp))) > 0 else 0 for yt, yp in zip(y_true, y_pred)])\n",
        "\n",
        "    # Mean Reciprocal Rank (MRR)\n",
        "    mrr = np.mean([\n",
        "        1 / (yp.index(next(iter(set(yt).intersection(set(yp))), None)) + 1)\n",
        "        if set(yt).intersection(set(yp)) else 0\n",
        "        for yt, yp in zip(y_true, y_pred) if yp\n",
        "    ])\n",
        "\n",
        "    return accuracy, precision, recall, hit_rate, mrr\n",
        "\n",
        "# Create train and test DataFrame\n",
        "item_columns = df_grouped.columns\n",
        "train_df = pd.DataFrame(0, index=range(len(train_data)), columns=item_columns)\n",
        "for idx, transaction in enumerate(train_data):\n",
        "    train_df.loc[idx, list(transaction)] = 1\n",
        "\n",
        "test_df = pd.DataFrame(0, index=range(len(test_data)), columns=item_columns)\n",
        "for idx, transaction in enumerate(test_data):\n",
        "    test_df.loc[idx, list(transaction)] = 1\n",
        "\n",
        "# Time the Apriori process\n",
        "frequent_itemsets_apriori = time_step(\n",
        "    \"Apriori Frequent Itemsets\",\n",
        "    apriori, train_df, min_support=MIN_SUPPORT, use_colnames=True\n",
        ")\n",
        "\n",
        "rules_apriori = time_step(\n",
        "    \"Apriori Association Rules\",\n",
        "    association_rules, frequent_itemsets_apriori, metric=\"confidence\", min_threshold=CONFIDENCE_THRESHOLD\n",
        ")\n",
        "\n",
        "y_pred_apriori = time_step(\n",
        "    \"Apriori Predictions\",\n",
        "    generate_predictions_batch, rules_apriori, test_df, BATCH_SIZE\n",
        ")\n",
        "\n",
        "# Calculate metrics for Apriori\n",
        "y_true = [set(row[row == 1].index) for _, row in test_df.iterrows()]\n",
        "accuracy_apriori, precision_apriori, recall_apriori, hit_rate_apriori, mrr_apriori = calculate_metrics(y_true, y_pred_apriori)\n",
        "\n",
        "# Time the FP-Growth process\n",
        "frequent_itemsets_fpgrowth = time_step(\n",
        "    \"FP-Growth Frequent Itemsets\",\n",
        "    fpgrowth, train_df, min_support=MIN_SUPPORT, use_colnames=True\n",
        ")\n",
        "\n",
        "rules_fpgrowth = time_step(\n",
        "    \"FP-Growth Association Rules\",\n",
        "    association_rules, frequent_itemsets_fpgrowth, metric=\"confidence\", min_threshold=CONFIDENCE_THRESHOLD\n",
        ")\n",
        "\n",
        "y_pred_fpgrowth = time_step(\n",
        "    \"FP-Growth Predictions\",\n",
        "    generate_predictions_batch, rules_fpgrowth, test_df, BATCH_SIZE\n",
        ")\n",
        "\n",
        "# Calculate metrics for FP-Growth\n",
        "accuracy_fpgrowth, precision_fpgrowth, recall_fpgrowth, hit_rate_fpgrowth, mrr_fpgrowth = calculate_metrics(y_true, y_pred_fpgrowth)\n",
        "\n",
        "# Save Results to File\n",
        "results = pd.DataFrame([\n",
        "    [\"Apriori\", accuracy_apriori, precision_apriori, recall_apriori, hit_rate_apriori, mrr_apriori],\n",
        "    [\"FP-Growth\", accuracy_fpgrowth, precision_fpgrowth, recall_fpgrowth, hit_rate_fpgrowth, mrr_fpgrowth]\n",
        "], columns=[\"Algorithm\", \"Accuracy\", \"Precision\", \"Recall\", \"Hit Rate\", \"MRR\"])\n",
        "\n",
        "time_step(\"Save Results\", results.to_csv, SAVE_PATH, index=False)\n",
        "\n",
        "print(\"\\n=== Final Results ===\")\n",
        "print(results)\n"
      ],
      "metadata": {
        "colab": {
          "base_uri": "https://localhost:8080/"
        },
        "id": "TwhpxHBfoWfB",
        "outputId": "433a353f-8a95-49fa-f7ab-464b1c54b1ca"
      },
      "execution_count": null,
      "outputs": [
        {
          "output_type": "stream",
          "name": "stdout",
          "text": [
            "\n",
            "=== Starting Step: Apriori Frequent Itemsets ===\n"
          ]
        },
        {
          "output_type": "stream",
          "name": "stderr",
          "text": [
            "C:\\Users\\user\\AppData\\Local\\Programs\\Python\\Python310\\lib\\site-packages\\mlxtend\\frequent_patterns\\fpcommon.py:109: DeprecationWarning: DataFrames with non-bool types result in worse computationalperformance and their support might be discontinued in the future.Please use a DataFrame with bool type\n",
            "  warnings.warn(\n"
          ]
        },
        {
          "output_type": "stream",
          "name": "stdout",
          "text": [
            "=== Completed Step: Apriori Frequent Itemsets in 4.98 seconds ===\n",
            "\n",
            "=== Starting Step: Apriori Association Rules ===\n",
            "=== Completed Step: Apriori Association Rules in 0.00 seconds ===\n",
            "\n",
            "=== Starting Step: Apriori Predictions ===\n"
          ]
        },
        {
          "output_type": "stream",
          "name": "stderr",
          "text": [
            "Generating Predictions in Batches: 100%|██████████████████████████████| 8/8 [00:00<00:00, 11.97it/s]\n"
          ]
        },
        {
          "output_type": "stream",
          "name": "stdout",
          "text": [
            "=== Completed Step: Apriori Predictions in 0.67 seconds ===\n",
            "\n",
            "=== Starting Step: FP-Growth Frequent Itemsets ===\n"
          ]
        },
        {
          "output_type": "stream",
          "name": "stderr",
          "text": [
            "C:\\Users\\user\\AppData\\Local\\Programs\\Python\\Python310\\lib\\site-packages\\mlxtend\\frequent_patterns\\fpcommon.py:109: DeprecationWarning: DataFrames with non-bool types result in worse computationalperformance and their support might be discontinued in the future.Please use a DataFrame with bool type\n",
            "  warnings.warn(\n"
          ]
        },
        {
          "output_type": "stream",
          "name": "stdout",
          "text": [
            "=== Completed Step: FP-Growth Frequent Itemsets in 0.71 seconds ===\n",
            "\n",
            "=== Starting Step: FP-Growth Association Rules ===\n",
            "=== Completed Step: FP-Growth Association Rules in 0.00 seconds ===\n",
            "\n",
            "=== Starting Step: FP-Growth Predictions ===\n"
          ]
        },
        {
          "output_type": "stream",
          "name": "stderr",
          "text": [
            "Generating Predictions in Batches: 100%|██████████████████████████████| 8/8 [00:00<00:00, 11.76it/s]"
          ]
        },
        {
          "output_type": "stream",
          "name": "stdout",
          "text": [
            "=== Completed Step: FP-Growth Predictions in 0.68 seconds ===\n",
            "\n",
            "=== Starting Step: Save Results ===\n",
            "=== Completed Step: Save Results in 0.00 seconds ===\n",
            "\n",
            "=== Final Results ===\n",
            "   Algorithm  Accuracy  Precision    Recall  Hit Rate       MRR\n",
            "0    Apriori       0.0   0.144552  0.007254  0.144552  0.569002\n",
            "1  FP-Growth       0.0   0.144552  0.007254  0.144552  0.569002\n"
          ]
        },
        {
          "output_type": "stream",
          "name": "stderr",
          "text": [
            "\n"
          ]
        }
      ]
    },
    {
      "cell_type": "code",
      "source": [
        "from mlxtend.frequent_patterns import apriori, association_rules, fpgrowth\n",
        "import numpy as np\n",
        "from tqdm import tqdm\n",
        "import time\n",
        "\n",
        "# Parameters for Fine-Tuning\n",
        "MIN_SUPPORT = 0.01  # Minimum support for frequent itemsets\n",
        "CONFIDENCE_THRESHOLD = 0.2  # Confidence threshold for rules\n",
        "SAVE_PATH = r\"C:\\Users\\user\\Desktop\\CW4\\online+retail\\results3.csv\"\n",
        "BATCH_SIZE = 500  # Number of transactions to process per batch for predictions\n",
        "\n",
        "# Function to time each step\n",
        "def time_step(step_name, func, *args, **kwargs):\n",
        "    print(f\"\\n=== Starting Step: {step_name} ===\")\n",
        "    start_time = time.time()\n",
        "    result = func(*args, **kwargs)\n",
        "    elapsed_time = time.time() - start_time\n",
        "    print(f\"=== Completed Step: {step_name} in {elapsed_time:.2f} seconds ===\")\n",
        "    return result\n",
        "\n",
        "# Function to generate predictions using NumPy and batching\n",
        "def generate_predictions_batch(rules, test_transactions, batch_size):\n",
        "    predictions = []\n",
        "    test_array = test_transactions.to_numpy()  # Convert to NumPy array for faster processing\n",
        "    column_names = np.array(test_transactions.columns)  # Keep track of item names\n",
        "\n",
        "    for start in tqdm(range(0, len(test_array), batch_size), desc=\"Generating Predictions in Batches\", ncols=100):\n",
        "        batch = test_array[start:start + batch_size]\n",
        "        for transaction in batch:\n",
        "            transaction_items = set(column_names[transaction == 1])  # Get the items in the transaction\n",
        "            matched_rules = rules[rules['antecedents'].apply(lambda x: x.issubset(transaction_items))]\n",
        "            if not matched_rules.empty:\n",
        "                predicted = matched_rules.sort_values(by='confidence', ascending=False).iloc[0]['consequents']\n",
        "                predictions.append(list(predicted))\n",
        "            else:\n",
        "                predictions.append([])\n",
        "    return predictions\n",
        "\n",
        "# Function to calculate metrics\n",
        "def calculate_metrics(y_true, y_pred):\n",
        "    # Ensure y_true and y_pred have the same number of transactions\n",
        "    assert len(y_true) == len(y_pred), f\"y_true ({len(y_true)}) and y_pred ({len(y_pred)}) must have the same number of transactions.\"\n",
        "\n",
        "    # Accuracy: Exact match ratio\n",
        "    accuracy = np.mean([1 if set(yt) == set(yp) else 0 for yt, yp in zip(y_true, y_pred)])\n",
        "\n",
        "    # Precision and Recall: Per-transaction average\n",
        "    precision_per_transaction = [\n",
        "        len(set(yt).intersection(set(yp))) / len(set(yp)) if len(set(yp)) > 0 else 0\n",
        "        for yt, yp in zip(y_true, y_pred)\n",
        "    ]\n",
        "    recall_per_transaction = [\n",
        "        len(set(yt).intersection(set(yp))) / len(set(yt)) if len(set(yt)) > 0 else 0\n",
        "        for yt, yp in zip(y_true, y_pred)\n",
        "    ]\n",
        "    precision = np.mean(precision_per_transaction)\n",
        "    recall = np.mean(recall_per_transaction)\n",
        "\n",
        "    # Hit Rate: At least one match per transaction\n",
        "    hit_rate = np.mean([1 if len(set(yt).intersection(set(yp))) > 0 else 0 for yt, yp in zip(y_true, y_pred)])\n",
        "\n",
        "    # Mean Reciprocal Rank (MRR)\n",
        "    mrr = np.mean([\n",
        "        1 / (yp.index(next(iter(set(yt).intersection(set(yp))), None)) + 1)\n",
        "        if set(yt).intersection(set(yp)) else 0\n",
        "        for yt, yp in zip(y_true, y_pred) if yp\n",
        "    ])\n",
        "\n",
        "    return accuracy, precision, recall, hit_rate, mrr\n",
        "\n",
        "# Create train and test DataFrame\n",
        "item_columns = df_grouped.columns\n",
        "train_df = pd.DataFrame(0, index=range(len(train_data)), columns=item_columns)\n",
        "for idx, transaction in enumerate(train_data):\n",
        "    train_df.loc[idx, list(transaction)] = 1\n",
        "\n",
        "test_df = pd.DataFrame(0, index=range(len(test_data)), columns=item_columns)\n",
        "for idx, transaction in enumerate(test_data):\n",
        "    test_df.loc[idx, list(transaction)] = 1\n",
        "\n",
        "# Time the Apriori process\n",
        "frequent_itemsets_apriori = time_step(\n",
        "    \"Apriori Frequent Itemsets\",\n",
        "    apriori, train_df, min_support=MIN_SUPPORT, use_colnames=True\n",
        ")\n",
        "\n",
        "rules_apriori = time_step(\n",
        "    \"Apriori Association Rules\",\n",
        "    association_rules, frequent_itemsets_apriori, metric=\"confidence\", min_threshold=CONFIDENCE_THRESHOLD\n",
        ")\n",
        "\n",
        "y_pred_apriori = time_step(\n",
        "    \"Apriori Predictions\",\n",
        "    generate_predictions_batch, rules_apriori, test_df, BATCH_SIZE\n",
        ")\n",
        "\n",
        "# Calculate metrics for Apriori\n",
        "y_true = [set(row[row == 1].index) for _, row in test_df.iterrows()]\n",
        "accuracy_apriori, precision_apriori, recall_apriori, hit_rate_apriori, mrr_apriori = calculate_metrics(y_true, y_pred_apriori)\n",
        "\n",
        "# Time the FP-Growth process\n",
        "frequent_itemsets_fpgrowth = time_step(\n",
        "    \"FP-Growth Frequent Itemsets\",\n",
        "    fpgrowth, train_df, min_support=MIN_SUPPORT, use_colnames=True\n",
        ")\n",
        "\n",
        "rules_fpgrowth = time_step(\n",
        "    \"FP-Growth Association Rules\",\n",
        "    association_rules, frequent_itemsets_fpgrowth, metric=\"confidence\", min_threshold=CONFIDENCE_THRESHOLD\n",
        ")\n",
        "\n",
        "y_pred_fpgrowth = time_step(\n",
        "    \"FP-Growth Predictions\",\n",
        "    generate_predictions_batch, rules_fpgrowth, test_df, BATCH_SIZE\n",
        ")\n",
        "\n",
        "# Calculate metrics for FP-Growth\n",
        "accuracy_fpgrowth, precision_fpgrowth, recall_fpgrowth, hit_rate_fpgrowth, mrr_fpgrowth = calculate_metrics(y_true, y_pred_fpgrowth)\n",
        "\n",
        "# Save Results to File\n",
        "results = pd.DataFrame([\n",
        "    [\"Apriori\", accuracy_apriori, precision_apriori, recall_apriori, hit_rate_apriori, mrr_apriori],\n",
        "    [\"FP-Growth\", accuracy_fpgrowth, precision_fpgrowth, recall_fpgrowth, hit_rate_fpgrowth, mrr_fpgrowth]\n",
        "], columns=[\"Algorithm\", \"Accuracy\", \"Precision\", \"Recall\", \"Hit Rate\", \"MRR\"])\n",
        "\n",
        "time_step(\"Save Results\", results.to_csv, SAVE_PATH, index=False)\n",
        "\n",
        "print(\"\\n=== Final Results ===\")\n",
        "print(results)\n"
      ],
      "metadata": {
        "colab": {
          "base_uri": "https://localhost:8080/"
        },
        "id": "d1Ogdxgpohcd",
        "outputId": "3a823092-5bf0-4d88-d936-2e48c6612877"
      },
      "execution_count": null,
      "outputs": [
        {
          "output_type": "stream",
          "name": "stdout",
          "text": [
            "\n",
            "=== Starting Step: Apriori Frequent Itemsets ===\n"
          ]
        },
        {
          "output_type": "stream",
          "name": "stderr",
          "text": [
            "C:\\Users\\user\\AppData\\Local\\Programs\\Python\\Python310\\lib\\site-packages\\mlxtend\\frequent_patterns\\fpcommon.py:109: DeprecationWarning: DataFrames with non-bool types result in worse computationalperformance and their support might be discontinued in the future.Please use a DataFrame with bool type\n",
            "  warnings.warn(\n"
          ]
        },
        {
          "output_type": "stream",
          "name": "stdout",
          "text": [
            "=== Completed Step: Apriori Frequent Itemsets in 119.77 seconds ===\n",
            "\n",
            "=== Starting Step: Apriori Association Rules ===\n",
            "=== Completed Step: Apriori Association Rules in 0.02 seconds ===\n",
            "\n",
            "=== Starting Step: Apriori Predictions ===\n"
          ]
        },
        {
          "output_type": "stream",
          "name": "stderr",
          "text": [
            "Generating Predictions in Batches: 100%|██████████████████████████████| 8/8 [00:01<00:00,  4.65it/s]\n"
          ]
        },
        {
          "output_type": "stream",
          "name": "stdout",
          "text": [
            "=== Completed Step: Apriori Predictions in 1.74 seconds ===\n",
            "\n",
            "=== Starting Step: FP-Growth Frequent Itemsets ===\n"
          ]
        },
        {
          "output_type": "stream",
          "name": "stderr",
          "text": [
            "C:\\Users\\user\\AppData\\Local\\Programs\\Python\\Python310\\lib\\site-packages\\mlxtend\\frequent_patterns\\fpcommon.py:109: DeprecationWarning: DataFrames with non-bool types result in worse computationalperformance and their support might be discontinued in the future.Please use a DataFrame with bool type\n",
            "  warnings.warn(\n"
          ]
        },
        {
          "output_type": "stream",
          "name": "stdout",
          "text": [
            "=== Completed Step: FP-Growth Frequent Itemsets in 1.63 seconds ===\n",
            "\n",
            "=== Starting Step: FP-Growth Association Rules ===\n",
            "=== Completed Step: FP-Growth Association Rules in 0.00 seconds ===\n",
            "\n",
            "=== Starting Step: FP-Growth Predictions ===\n"
          ]
        },
        {
          "output_type": "stream",
          "name": "stderr",
          "text": [
            "Generating Predictions in Batches: 100%|██████████████████████████████| 8/8 [00:01<00:00,  5.19it/s]"
          ]
        },
        {
          "output_type": "stream",
          "name": "stdout",
          "text": [
            "=== Completed Step: FP-Growth Predictions in 1.54 seconds ===\n",
            "\n",
            "=== Starting Step: Save Results ===\n",
            "=== Completed Step: Save Results in 0.01 seconds ===\n",
            "\n",
            "=== Final Results ===\n",
            "   Algorithm  Accuracy  Precision    Recall  Hit Rate       MRR\n",
            "0    Apriori       0.0   0.334412  0.019807  0.334412  0.415132\n",
            "1  FP-Growth       0.0   0.334682  0.019823  0.334682  0.415467\n"
          ]
        },
        {
          "output_type": "stream",
          "name": "stderr",
          "text": [
            "\n"
          ]
        }
      ]
    },
    {
      "cell_type": "code",
      "source": [
        "# Parameters for Experiment 4\n",
        "MIN_SUPPORT = 0.01\n",
        "CONFIDENCE_THRESHOLD = 0.5\n",
        "MAX_ITEMSET_LENGTH = 3  # Restricting itemset length\n",
        "\n",
        "import numpy as np\n",
        "from tqdm import tqdm\n",
        "import time\n",
        "import pandas as pd\n",
        "from mlxtend.frequent_patterns import apriori, fpgrowth, association_rules\n",
        "\n",
        "# Function to time each step\n",
        "def time_step(step_name, func, *args, **kwargs):\n",
        "    print(f\"\\n=== Starting Step: {step_name} ===\")\n",
        "    start_time = time.time()\n",
        "    result = func(*args, **kwargs)\n",
        "    elapsed_time = time.time() - start_time\n",
        "    print(f\"=== Completed Step: {step_name} in {elapsed_time:.2f} seconds ===\")\n",
        "    return result\n",
        "\n",
        "# Function to generate predictions using NumPy and batching\n",
        "def generate_predictions_batch(rules, test_transactions, batch_size):\n",
        "    predictions = []\n",
        "    test_array = test_transactions.to_numpy()  # Convert to NumPy array for faster processing\n",
        "    column_names = np.array(test_transactions.columns)  # Keep track of item names\n",
        "\n",
        "    for start in tqdm(range(0, len(test_array), batch_size), desc=\"Generating Predictions in Batches\", ncols=100):\n",
        "        batch = test_array[start:start + batch_size]\n",
        "        for transaction in batch:\n",
        "            transaction_items = set(column_names[transaction == 1])  # Get the items in the transaction\n",
        "            matched_rules = rules[rules['antecedents'].apply(lambda x: x.issubset(transaction_items))]\n",
        "            if not matched_rules.empty:\n",
        "                predicted = matched_rules.sort_values(by='confidence', ascending=False).iloc[0]['consequents']\n",
        "                predictions.append(list(predicted))\n",
        "            else:\n",
        "                predictions.append([])\n",
        "    return predictions\n",
        "\n",
        "# Function to calculate metrics\n",
        "def calculate_metrics(y_true, y_pred):\n",
        "    # Ensure y_true and y_pred have the same number of transactions\n",
        "    assert len(y_true) == len(y_pred), f\"y_true ({len(y_true)}) and y_pred ({len(y_pred)}) must have the same number of transactions.\"\n",
        "\n",
        "    # Accuracy: Exact match ratio\n",
        "    accuracy = np.mean([1 if set(yt) == set(yp) else 0 for yt, yp in zip(y_true, y_pred)])\n",
        "\n",
        "    # Precision and Recall: Per-transaction average\n",
        "    precision_per_transaction = [\n",
        "        len(set(yt).intersection(set(yp))) / len(set(yp)) if len(set(yp)) > 0 else 0\n",
        "        for yt, yp in zip(y_true, y_pred)\n",
        "    ]\n",
        "    recall_per_transaction = [\n",
        "        len(set(yt).intersection(set(yp))) / len(set(yt)) if len(set(yt)) > 0 else 0\n",
        "        for yt, yp in zip(y_true, y_pred)\n",
        "    ]\n",
        "    precision = np.mean(precision_per_transaction)\n",
        "    recall = np.mean(recall_per_transaction)\n",
        "\n",
        "    # Hit Rate: At least one match per transaction\n",
        "    hit_rate = np.mean([1 if len(set(yt).intersection(set(yp))) > 0 else 0 for yt, yp in zip(y_true, y_pred)])\n",
        "\n",
        "    # Mean Reciprocal Rank (MRR)\n",
        "    mrr = np.mean([\n",
        "        1 / (yp.index(next(iter(set(yt).intersection(set(yp))), None)) + 1)\n",
        "        if set(yt).intersection(set(yp)) else 0\n",
        "        for yt, yp in zip(y_true, y_pred) if yp\n",
        "    ])\n",
        "\n",
        "    return accuracy, precision, recall, hit_rate, mrr\n",
        "\n",
        "# Create train and test DataFrame\n",
        "item_columns = df_grouped.columns\n",
        "train_df = pd.DataFrame(0, index=range(len(train_data)), columns=item_columns)\n",
        "for idx, transaction in enumerate(train_data):\n",
        "    train_df.loc[idx, list(transaction)] = 1\n",
        "\n",
        "test_df = pd.DataFrame(0, index=range(len(test_data)), columns=item_columns)\n",
        "for idx, transaction in enumerate(test_data):\n",
        "    test_df.loc[idx, list(transaction)] = 1\n",
        "\n",
        "# Time the Apriori process with max_len\n",
        "frequent_itemsets_apriori = time_step(\n",
        "    \"Apriori Frequent Itemsets with Max Length\",\n",
        "    apriori, train_df, min_support=MIN_SUPPORT, use_colnames=True, max_len=MAX_ITEMSET_LENGTH\n",
        ")\n",
        "\n",
        "rules_apriori = time_step(\n",
        "    \"Apriori Association Rules with Max Length\",\n",
        "    association_rules, frequent_itemsets_apriori, metric=\"confidence\", min_threshold=CONFIDENCE_THRESHOLD\n",
        ")\n",
        "\n",
        "y_pred_apriori = time_step(\n",
        "    \"Apriori Predictions with Max Length\",\n",
        "    generate_predictions_batch, rules_apriori, test_df, BATCH_SIZE\n",
        ")\n",
        "\n",
        "# Calculate metrics for Apriori\n",
        "y_true = [set(row[row == 1].index) for _, row in test_df.iterrows()]\n",
        "accuracy_apriori, precision_apriori, recall_apriori, hit_rate_apriori, mrr_apriori = calculate_metrics(y_true, y_pred_apriori)\n",
        "\n",
        "# Time the FP-Growth process with max_len\n",
        "frequent_itemsets_fpgrowth = time_step(\n",
        "    \"FP-Growth Frequent Itemsets with Max Length\",\n",
        "    fpgrowth, train_df, min_support=MIN_SUPPORT, use_colnames=True, max_len=MAX_ITEMSET_LENGTH\n",
        ")\n",
        "\n",
        "rules_fpgrowth = time_step(\n",
        "    \"FP-Growth Association Rules with Max Length\",\n",
        "    association_rules, frequent_itemsets_fpgrowth, metric=\"confidence\", min_threshold=CONFIDENCE_THRESHOLD\n",
        ")\n",
        "\n",
        "y_pred_fpgrowth = time_step(\n",
        "    \"FP-Growth Predictions with Max Length\",\n",
        "    generate_predictions_batch, rules_fpgrowth, test_df, BATCH_SIZE\n",
        ")\n",
        "\n",
        "# Calculate metrics for FP-Growth\n",
        "accuracy_fpgrowth, precision_fpgrowth, recall_fpgrowth, hit_rate_fpgrowth, mrr_fpgrowth = calculate_metrics(y_true, y_pred_fpgrowth)\n",
        "\n",
        "# Save Results for Experiment 4\n",
        "results_experiment_4 = pd.DataFrame([\n",
        "    [\"Apriori (Max Length)\", accuracy_apriori, precision_apriori, recall_apriori, hit_rate_apriori, mrr_apriori],\n",
        "    [\"FP-Growth (Max Length)\", accuracy_fpgrowth, precision_fpgrowth, recall_fpgrowth, hit_rate_fpgrowth, mrr_fpgrowth]\n",
        "], columns=[\"Algorithm\", \"Accuracy\", \"Precision\", \"Recall\", \"Hit Rate\", \"MRR\"])\n",
        "\n",
        "time_step(\"Save Experiment 4 Results\", results_experiment_4.to_csv, SAVE_PATH.replace(\".csv\", \"_experiment_4.csv\"), index=False)\n",
        "\n",
        "print(\"\\n=== Experiment 4 Results ===\")\n",
        "print(results_experiment_4)\n"
      ],
      "metadata": {
        "colab": {
          "base_uri": "https://localhost:8080/"
        },
        "id": "GGj313PWor08",
        "outputId": "57d432b5-46fd-4a97-8862-fd03b56bbb05"
      },
      "execution_count": null,
      "outputs": [
        {
          "output_type": "stream",
          "name": "stdout",
          "text": [
            "\n",
            "=== Starting Step: Apriori Frequent Itemsets with Max Length ===\n"
          ]
        },
        {
          "output_type": "stream",
          "name": "stderr",
          "text": [
            "C:\\Users\\user\\AppData\\Local\\Programs\\Python\\Python310\\lib\\site-packages\\mlxtend\\frequent_patterns\\fpcommon.py:109: DeprecationWarning: DataFrames with non-bool types result in worse computationalperformance and their support might be discontinued in the future.Please use a DataFrame with bool type\n",
            "  warnings.warn(\n"
          ]
        },
        {
          "output_type": "stream",
          "name": "stdout",
          "text": [
            "=== Completed Step: Apriori Frequent Itemsets with Max Length in 117.24 seconds ===\n",
            "\n",
            "=== Starting Step: Apriori Association Rules with Max Length ===\n",
            "=== Completed Step: Apriori Association Rules with Max Length in 0.02 seconds ===\n",
            "\n",
            "=== Starting Step: Apriori Predictions with Max Length ===\n"
          ]
        },
        {
          "output_type": "stream",
          "name": "stderr",
          "text": [
            "Generating Predictions in Batches: 100%|██████████████████████████████| 8/8 [00:01<00:00,  6.84it/s]\n"
          ]
        },
        {
          "output_type": "stream",
          "name": "stdout",
          "text": [
            "=== Completed Step: Apriori Predictions with Max Length in 1.19 seconds ===\n",
            "\n",
            "=== Starting Step: FP-Growth Frequent Itemsets with Max Length ===\n"
          ]
        },
        {
          "output_type": "stream",
          "name": "stderr",
          "text": [
            "C:\\Users\\user\\AppData\\Local\\Programs\\Python\\Python310\\lib\\site-packages\\mlxtend\\frequent_patterns\\fpcommon.py:109: DeprecationWarning: DataFrames with non-bool types result in worse computationalperformance and their support might be discontinued in the future.Please use a DataFrame with bool type\n",
            "  warnings.warn(\n"
          ]
        },
        {
          "output_type": "stream",
          "name": "stdout",
          "text": [
            "=== Completed Step: FP-Growth Frequent Itemsets with Max Length in 1.67 seconds ===\n",
            "\n",
            "=== Starting Step: FP-Growth Association Rules with Max Length ===\n",
            "=== Completed Step: FP-Growth Association Rules with Max Length in 0.00 seconds ===\n",
            "\n",
            "=== Starting Step: FP-Growth Predictions with Max Length ===\n"
          ]
        },
        {
          "output_type": "stream",
          "name": "stderr",
          "text": [
            "Generating Predictions in Batches: 100%|██████████████████████████████| 8/8 [00:01<00:00,  7.38it/s]"
          ]
        },
        {
          "output_type": "stream",
          "name": "stdout",
          "text": [
            "=== Completed Step: FP-Growth Predictions with Max Length in 1.09 seconds ===\n",
            "\n",
            "=== Starting Step: Save Experiment 4 Results ===\n",
            "=== Completed Step: Save Experiment 4 Results in 0.01 seconds ===\n",
            "\n",
            "=== Experiment 4 Results ===\n",
            "                Algorithm  Accuracy  Precision    Recall  Hit Rate       MRR\n",
            "0    Apriori (Max Length)       0.0   0.326861  0.019006  0.326861  0.497741\n",
            "1  FP-Growth (Max Length)       0.0   0.327131  0.019022  0.327131  0.498152\n"
          ]
        },
        {
          "output_type": "stream",
          "name": "stderr",
          "text": [
            "\n"
          ]
        }
      ]
    },
    {
      "cell_type": "code",
      "source": [
        "import numpy as np\n",
        "from tqdm import tqdm\n",
        "import time\n",
        "import pandas as pd\n",
        "from mlxtend.frequent_patterns import apriori, fpgrowth, association_rules\n",
        "\n",
        "# Shared Parameters\n",
        "MIN_SUPPORT = 0.01  # Minimum support for frequent itemsets\n",
        "CONFIDENCE_THRESHOLD = 0.5  # Confidence threshold for rules\n",
        "SAVE_PATH = r\"C:\\Users\\user\\Desktop\\CW4\\online+retail\\results_experiment_5.csv\"\n",
        "BATCH_SIZE = 500  # Number of transactions processed per batch\n",
        "TOP_K_ITEMS = 50  # Number of most frequent items to include\n",
        "\n",
        "# Function to time each step\n",
        "def time_step(step_name, func, *args, **kwargs):\n",
        "    print(f\"\\n=== Starting Step: {step_name} ===\")\n",
        "    start_time = time.time()\n",
        "    result = func(*args, **kwargs)\n",
        "    elapsed_time = time.time() - start_time\n",
        "    print(f\"=== Completed Step: {step_name} in {elapsed_time:.2f} seconds ===\")\n",
        "    return result\n",
        "\n",
        "# Function to generate predictions using NumPy and batching\n",
        "def generate_predictions_batch(rules, test_transactions, batch_size):\n",
        "    predictions = []\n",
        "    test_array = test_transactions.to_numpy()  # Convert to NumPy array for faster processing\n",
        "    column_names = np.array(test_transactions.columns)  # Keep track of item names\n",
        "\n",
        "    for start in tqdm(range(0, len(test_array), batch_size), desc=\"Generating Predictions in Batches\", ncols=100):\n",
        "        batch = test_array[start:start + batch_size]\n",
        "        for transaction in batch:\n",
        "            transaction_items = set(column_names[transaction == 1])  # Get the items in the transaction\n",
        "            matched_rules = rules[rules['antecedents'].apply(lambda x: x.issubset(transaction_items))]\n",
        "            if not matched_rules.empty:\n",
        "                predicted = matched_rules.sort_values(by='confidence', ascending=False).iloc[0]['consequents']\n",
        "                predictions.append(list(predicted))\n",
        "            else:\n",
        "                predictions.append([])\n",
        "    return predictions\n",
        "\n",
        "# Function to calculate metrics\n",
        "def calculate_metrics(y_true, y_pred):\n",
        "    # Ensure y_true and y_pred have the same number of transactions\n",
        "    assert len(y_true) == len(y_pred), f\"y_true ({len(y_true)}) and y_pred ({len(y_pred)}) must have the same number of transactions.\"\n",
        "\n",
        "    # Accuracy: Exact match ratio\n",
        "    accuracy = np.mean([1 if set(yt) == set(yp) else 0 for yt, yp in zip(y_true, y_pred)])\n",
        "\n",
        "    # Precision and Recall: Per-transaction average\n",
        "    precision_per_transaction = [\n",
        "        len(set(yt).intersection(set(yp))) / len(set(yp)) if len(set(yp)) > 0 else 0\n",
        "        for yt, yp in zip(y_true, y_pred)\n",
        "    ]\n",
        "    recall_per_transaction = [\n",
        "        len(set(yt).intersection(set(yp))) / len(set(yt)) if len(set(yt)) > 0 else 0\n",
        "        for yt, yp in zip(y_true, y_pred)\n",
        "    ]\n",
        "    precision = np.mean(precision_per_transaction)\n",
        "    recall = np.mean(recall_per_transaction)\n",
        "\n",
        "    # Hit Rate: At least one match per transaction\n",
        "    hit_rate = np.mean([1 if len(set(yt).intersection(set(yp))) > 0 else 0 for yt, yp in zip(y_true, y_pred)])\n",
        "\n",
        "    # Mean Reciprocal Rank (MRR)\n",
        "    mrr = np.mean([\n",
        "        1 / (yp.index(next(iter(set(yt).intersection(set(yp))), None)) + 1)\n",
        "        if set(yt).intersection(set(yp)) else 0\n",
        "        for yt, yp in zip(y_true, y_pred) if yp\n",
        "    ])\n",
        "\n",
        "    return accuracy, precision, recall, hit_rate, mrr\n",
        "\n",
        "# Filter DataFrame to Top-K Most Frequent Items\n",
        "def filter_top_k_items(df, k):\n",
        "    top_items = df.sum().nlargest(k).index  # Get top-k most frequent items\n",
        "    return df[top_items]\n",
        "\n",
        "# Prepare Train and Test DataFrames\n",
        "item_columns = df_grouped.columns\n",
        "train_df = pd.DataFrame(0, index=range(len(train_data)), columns=item_columns)\n",
        "for idx, transaction in enumerate(train_data):\n",
        "    train_df.loc[idx, list(transaction)] = 1\n",
        "\n",
        "test_df = pd.DataFrame(0, index=range(len(test_data)), columns=item_columns)\n",
        "for idx, transaction in enumerate(test_data):\n",
        "    test_df.loc[idx, list(transaction)] = 1\n",
        "\n",
        "# Filter to Top-K Items\n",
        "train_df_filtered = time_step(\"Filter Train Data to Top-K Items\", filter_top_k_items, train_df, TOP_K_ITEMS)\n",
        "test_df_filtered = time_step(\"Filter Test Data to Top-K Items\", filter_top_k_items, test_df, TOP_K_ITEMS)\n",
        "\n",
        "# Time the Apriori Process\n",
        "frequent_itemsets_apriori = time_step(\n",
        "    \"Apriori Frequent Itemsets with Top-K Items\",\n",
        "    apriori, train_df_filtered, min_support=MIN_SUPPORT, use_colnames=True\n",
        ")\n",
        "\n",
        "rules_apriori = time_step(\n",
        "    \"Apriori Association Rules with Top-K Items\",\n",
        "    association_rules, frequent_itemsets_apriori, metric=\"confidence\", min_threshold=CONFIDENCE_THRESHOLD\n",
        ")\n",
        "\n",
        "y_pred_apriori = time_step(\n",
        "    \"Apriori Predictions with Top-K Items\",\n",
        "    generate_predictions_batch, rules_apriori, test_df_filtered, BATCH_SIZE\n",
        ")\n",
        "\n",
        "# Calculate metrics for Apriori\n",
        "y_true = [set(row[row == 1].index) for _, row in test_df_filtered.iterrows()]\n",
        "accuracy_apriori, precision_apriori, recall_apriori, hit_rate_apriori, mrr_apriori = calculate_metrics(y_true, y_pred_apriori)\n",
        "\n",
        "# Time the FP-Growth Process\n",
        "frequent_itemsets_fpgrowth = time_step(\n",
        "    \"FP-Growth Frequent Itemsets with Top-K Items\",\n",
        "    fpgrowth, train_df_filtered, min_support=MIN_SUPPORT, use_colnames=True\n",
        ")\n",
        "\n",
        "rules_fpgrowth = time_step(\n",
        "    \"FP-Growth Association Rules with Top-K Items\",\n",
        "    association_rules, frequent_itemsets_fpgrowth, metric=\"confidence\", min_threshold=CONFIDENCE_THRESHOLD\n",
        ")\n",
        "\n",
        "y_pred_fpgrowth = time_step(\n",
        "    \"FP-Growth Predictions with Top-K Items\",\n",
        "    generate_predictions_batch, rules_fpgrowth, test_df_filtered, BATCH_SIZE\n",
        ")\n",
        "\n",
        "# Calculate metrics for FP-Growth\n",
        "accuracy_fpgrowth, precision_fpgrowth, recall_fpgrowth, hit_rate_fpgrowth, mrr_fpgrowth = calculate_metrics(y_true, y_pred_fpgrowth)\n",
        "\n",
        "# Save Results for Experiment 5\n",
        "results_experiment_5 = pd.DataFrame([\n",
        "    [\"Apriori (Top-K Items)\", accuracy_apriori, precision_apriori, recall_apriori, hit_rate_apriori, mrr_apriori],\n",
        "    [\"FP-Growth (Top-K Items)\", accuracy_fpgrowth, precision_fpgrowth, recall_fpgrowth, hit_rate_fpgrowth, mrr_fpgrowth]\n",
        "], columns=[\"Algorithm\", \"Accuracy\", \"Precision\", \"Recall\", \"Hit Rate\", \"MRR\"])\n",
        "\n",
        "time_step(\"Save Experiment 5 Results\", results_experiment_5.to_csv, SAVE_PATH, index=False)\n",
        "\n",
        "print(\"\\n=== Experiment 5 Results ===\")\n",
        "print(results_experiment_5)\n"
      ],
      "metadata": {
        "id": "e5T9qdNYqPDr",
        "colab": {
          "base_uri": "https://localhost:8080/"
        },
        "outputId": "ab0a9cda-be52-4a42-9318-5bf7a474fd91"
      },
      "execution_count": null,
      "outputs": [
        {
          "output_type": "stream",
          "name": "stdout",
          "text": [
            "\n",
            "=== Starting Step: Filter Train Data to Top-K Items ===\n",
            "=== Completed Step: Filter Train Data to Top-K Items in 0.05 seconds ===\n",
            "\n",
            "=== Starting Step: Filter Test Data to Top-K Items ===\n",
            "=== Completed Step: Filter Test Data to Top-K Items in 0.01 seconds ===\n",
            "\n",
            "=== Starting Step: Apriori Frequent Itemsets with Top-K Items ===\n"
          ]
        },
        {
          "output_type": "stream",
          "name": "stderr",
          "text": [
            "C:\\Users\\user\\AppData\\Local\\Programs\\Python\\Python310\\lib\\site-packages\\mlxtend\\frequent_patterns\\fpcommon.py:109: DeprecationWarning: DataFrames with non-bool types result in worse computationalperformance and their support might be discontinued in the future.Please use a DataFrame with bool type\n",
            "  warnings.warn(\n"
          ]
        },
        {
          "output_type": "stream",
          "name": "stdout",
          "text": [
            "=== Completed Step: Apriori Frequent Itemsets with Top-K Items in 0.60 seconds ===\n",
            "\n",
            "=== Starting Step: Apriori Association Rules with Top-K Items ===\n",
            "=== Completed Step: Apriori Association Rules with Top-K Items in 0.00 seconds ===\n",
            "\n",
            "=== Starting Step: Apriori Predictions with Top-K Items ===\n"
          ]
        },
        {
          "output_type": "stream",
          "name": "stderr",
          "text": [
            "Generating Predictions in Batches: 100%|██████████████████████████████| 8/8 [00:00<00:00,  8.96it/s]\n"
          ]
        },
        {
          "output_type": "stream",
          "name": "stdout",
          "text": [
            "=== Completed Step: Apriori Predictions with Top-K Items in 0.90 seconds ===\n"
          ]
        },
        {
          "output_type": "stream",
          "name": "stderr",
          "text": [
            "C:\\Users\\user\\AppData\\Local\\Programs\\Python\\Python310\\lib\\site-packages\\mlxtend\\frequent_patterns\\fpcommon.py:109: DeprecationWarning: DataFrames with non-bool types result in worse computationalperformance and their support might be discontinued in the future.Please use a DataFrame with bool type\n",
            "  warnings.warn(\n"
          ]
        },
        {
          "output_type": "stream",
          "name": "stdout",
          "text": [
            "\n",
            "=== Starting Step: FP-Growth Frequent Itemsets with Top-K Items ===\n",
            "=== Completed Step: FP-Growth Frequent Itemsets with Top-K Items in 0.17 seconds ===\n",
            "\n",
            "=== Starting Step: FP-Growth Association Rules with Top-K Items ===\n",
            "=== Completed Step: FP-Growth Association Rules with Top-K Items in 0.00 seconds ===\n",
            "\n",
            "=== Starting Step: FP-Growth Predictions with Top-K Items ===\n"
          ]
        },
        {
          "output_type": "stream",
          "name": "stderr",
          "text": [
            "Generating Predictions in Batches: 100%|██████████████████████████████| 8/8 [00:01<00:00,  7.80it/s]"
          ]
        },
        {
          "output_type": "stream",
          "name": "stdout",
          "text": [
            "=== Completed Step: FP-Growth Predictions with Top-K Items in 1.03 seconds ===\n",
            "\n",
            "=== Starting Step: Save Experiment 5 Results ===\n",
            "=== Completed Step: Save Experiment 5 Results in 0.01 seconds ===\n",
            "\n",
            "=== Experiment 5 Results ===\n",
            "                 Algorithm  Accuracy  Precision    Recall  Hit Rate       MRR\n",
            "0    Apriori (Top-K Items)  0.208738   0.039374  0.007761  0.039374  0.586345\n",
            "1  FP-Growth (Top-K Items)  0.208738   0.039374  0.007761  0.039374  0.586345\n"
          ]
        },
        {
          "output_type": "stream",
          "name": "stderr",
          "text": [
            "\n"
          ]
        }
      ]
    },
    {
      "cell_type": "code",
      "source": [
        "import numpy as np\n",
        "from tqdm import tqdm\n",
        "import time\n",
        "import pandas as pd\n",
        "from mlxtend.frequent_patterns import apriori, fpgrowth, association_rules\n",
        "\n",
        "# Shared Parameters\n",
        "MIN_SUPPORT = 0.005  # Minimum support for frequent itemsets\n",
        "CONFIDENCE_THRESHOLD = 0.2  # Confidence threshold for rules\n",
        "SAVE_PATH = r\"C:\\Users\\user\\Desktop\\CW4\\online+retail\\results_experiment_6.csv\"\n",
        "BATCH_SIZE = 500  # Number of transactions processed per batch\n",
        "\n",
        "\n",
        "# Function to time each step\n",
        "def time_step(step_name, func, *args, **kwargs):\n",
        "    print(f\"\\n=== Starting Step: {step_name} ===\")\n",
        "    start_time = time.time()\n",
        "    result = func(*args, **kwargs)\n",
        "    elapsed_time = time.time() - start_time\n",
        "    print(f\"=== Completed Step: {step_name} in {elapsed_time:.2f} seconds ===\")\n",
        "    return result\n",
        "\n",
        "# Function to generate predictions using NumPy and batching\n",
        "def generate_predictions_batch(rules, test_transactions, batch_size):\n",
        "    predictions = []\n",
        "    test_array = test_transactions.to_numpy()  # Convert to NumPy array for faster processing\n",
        "    column_names = np.array(test_transactions.columns)  # Keep track of item names\n",
        "\n",
        "    for start in tqdm(range(0, len(test_array), batch_size), desc=\"Generating Predictions in Batches\", ncols=100):\n",
        "        batch = test_array[start:start + batch_size]\n",
        "        for transaction in batch:\n",
        "            transaction_items = set(column_names[transaction == 1])  # Get the items in the transaction\n",
        "            matched_rules = rules[rules['antecedents'].apply(lambda x: x.issubset(transaction_items))]\n",
        "            if not matched_rules.empty:\n",
        "                predicted = matched_rules.sort_values(by='confidence', ascending=False).iloc[0]['consequents']\n",
        "                predictions.append(list(predicted))\n",
        "            else:\n",
        "                predictions.append([])\n",
        "    return predictions\n",
        "\n",
        "# Function to calculate metrics\n",
        "def calculate_metrics(y_true, y_pred):\n",
        "    # Ensure y_true and y_pred have the same number of transactions\n",
        "    assert len(y_true) == len(y_pred), f\"y_true ({len(y_true)}) and y_pred ({len(y_pred)}) must have the same number of transactions.\"\n",
        "\n",
        "    # Accuracy: Exact match ratio\n",
        "    accuracy = np.mean([1 if set(yt) == set(yp) else 0 for yt, yp in zip(y_true, y_pred)])\n",
        "\n",
        "    # Precision and Recall: Per-transaction average\n",
        "    precision_per_transaction = [\n",
        "        len(set(yt).intersection(set(yp))) / len(set(yp)) if len(set(yp)) > 0 else 0\n",
        "        for yt, yp in zip(y_true, y_pred)\n",
        "    ]\n",
        "    recall_per_transaction = [\n",
        "        len(set(yt).intersection(set(yp))) / len(set(yt)) if len(set(yt)) > 0 else 0\n",
        "        for yt, yp in zip(y_true, y_pred)\n",
        "    ]\n",
        "    precision = np.mean(precision_per_transaction)\n",
        "    recall = np.mean(recall_per_transaction)\n",
        "\n",
        "    # Hit Rate: At least one match per transaction\n",
        "    hit_rate = np.mean([1 if len(set(yt).intersection(set(yp))) > 0 else 0 for yt, yp in zip(y_true, y_pred)])\n",
        "\n",
        "    # Mean Reciprocal Rank (MRR)\n",
        "    mrr = np.mean([\n",
        "        1 / (yp.index(next(iter(set(yt).intersection(set(yp))), None)) + 1)\n",
        "        if set(yt).intersection(set(yp)) else 0\n",
        "        for yt, yp in zip(y_true, y_pred) if yp\n",
        "    ])\n",
        "\n",
        "    return accuracy, precision, recall, hit_rate, mrr\n",
        "\n",
        "# Filter DataFrame to Top-K Most Frequent Items\n",
        "def filter_top_k_items(df, k):\n",
        "    top_items = df.sum().nlargest(k).index  # Get top-k most frequent items\n",
        "    return df[top_items]\n",
        "\n",
        "# Prepare Train and Test DataFrames\n",
        "item_columns = df_grouped.columns\n",
        "train_df = pd.DataFrame(0, index=range(len(train_data)), columns=item_columns)\n",
        "for idx, transaction in enumerate(train_data):\n",
        "    train_df.loc[idx, list(transaction)] = 1\n",
        "\n",
        "test_df = pd.DataFrame(0, index=range(len(test_data)), columns=item_columns)\n",
        "for idx, transaction in enumerate(test_data):\n",
        "    test_df.loc[idx, list(transaction)] = 1\n",
        "\n",
        "# Filter to Top-K Items\n",
        "train_df_filtered = time_step(\"Filter Train Data to Top-K Items\", filter_top_k_items, train_df, TOP_K_ITEMS)\n",
        "test_df_filtered = time_step(\"Filter Test Data to Top-K Items\", filter_top_k_items, test_df, TOP_K_ITEMS)\n",
        "\n",
        "# Time the Apriori Process\n",
        "frequent_itemsets_apriori = time_step(\n",
        "    \"Apriori Frequent Itemsets with Top-K Items\",\n",
        "    apriori, train_df_filtered, min_support=MIN_SUPPORT, use_colnames=True\n",
        ")\n",
        "\n",
        "rules_apriori = time_step(\n",
        "    \"Apriori Association Rules with Top-K Items\",\n",
        "    association_rules, frequent_itemsets_apriori, metric=\"confidence\", min_threshold=CONFIDENCE_THRESHOLD\n",
        ")\n",
        "\n",
        "y_pred_apriori = time_step(\n",
        "    \"Apriori Predictions with Top-K Items\",\n",
        "    generate_predictions_batch, rules_apriori, test_df_filtered, BATCH_SIZE\n",
        ")\n",
        "\n",
        "# Calculate metrics for Apriori\n",
        "y_true = [set(row[row == 1].index) for _, row in test_df_filtered.iterrows()]\n",
        "accuracy_apriori, precision_apriori, recall_apriori, hit_rate_apriori, mrr_apriori = calculate_metrics(y_true, y_pred_apriori)\n",
        "\n",
        "# Time the FP-Growth Process\n",
        "frequent_itemsets_fpgrowth = time_step(\n",
        "    \"FP-Growth Frequent Itemsets with Top-K Items\",\n",
        "    fpgrowth, train_df_filtered, min_support=MIN_SUPPORT, use_colnames=True\n",
        ")\n",
        "\n",
        "rules_fpgrowth = time_step(\n",
        "    \"FP-Growth Association Rules with Top-K Items\",\n",
        "    association_rules, frequent_itemsets_fpgrowth, metric=\"confidence\", min_threshold=CONFIDENCE_THRESHOLD\n",
        ")\n",
        "\n",
        "y_pred_fpgrowth = time_step(\n",
        "    \"FP-Growth Predictions with Top-K Items\",\n",
        "    generate_predictions_batch, rules_fpgrowth, test_df_filtered, BATCH_SIZE\n",
        ")\n",
        "\n",
        "# Calculate metrics for FP-Growth\n",
        "accuracy_fpgrowth, precision_fpgrowth, recall_fpgrowth, hit_rate_fpgrowth, mrr_fpgrowth = calculate_metrics(y_true, y_pred_fpgrowth)\n",
        "\n",
        "# Save Results for Experiment 6\n",
        "results_experiment_6 = pd.DataFrame([\n",
        "    [\"Apriori (Top-K Items)\", accuracy_apriori, precision_apriori, recall_apriori, hit_rate_apriori, mrr_apriori],\n",
        "    [\"FP-Growth (Top-K Items)\", accuracy_fpgrowth, precision_fpgrowth, recall_fpgrowth, hit_rate_fpgrowth, mrr_fpgrowth]\n",
        "], columns=[\"Algorithm\", \"Accuracy\", \"Precision\", \"Recall\", \"Hit Rate\", \"MRR\"])\n",
        "\n",
        "time_step(\"Save Experiment 6 Results\", results_experiment_6.to_csv, SAVE_PATH, index=False)\n",
        "\n",
        "print(\"\\n=== Experiment 6 Results ===\")\n",
        "print(results_experiment_6)\n"
      ],
      "metadata": {
        "colab": {
          "base_uri": "https://localhost:8080/"
        },
        "id": "iT0V6I258bs2",
        "outputId": "e752175e-10cc-4581-e580-f6c67abd9ba0"
      },
      "execution_count": null,
      "outputs": [
        {
          "output_type": "stream",
          "name": "stdout",
          "text": [
            "\n",
            "=== Starting Step: Filter Train Data to Top-K Items ===\n",
            "=== Completed Step: Filter Train Data to Top-K Items in 0.05 seconds ===\n",
            "\n",
            "=== Starting Step: Filter Test Data to Top-K Items ===\n",
            "=== Completed Step: Filter Test Data to Top-K Items in 0.01 seconds ===\n",
            "\n",
            "=== Starting Step: Apriori Frequent Itemsets with Top-K Items ===\n"
          ]
        },
        {
          "output_type": "stream",
          "name": "stderr",
          "text": [
            "C:\\Users\\user\\AppData\\Local\\Programs\\Python\\Python310\\lib\\site-packages\\mlxtend\\frequent_patterns\\fpcommon.py:109: DeprecationWarning: DataFrames with non-bool types result in worse computationalperformance and their support might be discontinued in the future.Please use a DataFrame with bool type\n",
            "  warnings.warn(\n"
          ]
        },
        {
          "output_type": "stream",
          "name": "stdout",
          "text": [
            "=== Completed Step: Apriori Frequent Itemsets with Top-K Items in 2.07 seconds ===\n",
            "\n",
            "=== Starting Step: Apriori Association Rules with Top-K Items ===\n",
            "=== Completed Step: Apriori Association Rules with Top-K Items in 0.01 seconds ===\n",
            "\n",
            "=== Starting Step: Apriori Predictions with Top-K Items ===\n"
          ]
        },
        {
          "output_type": "stream",
          "name": "stderr",
          "text": [
            "Generating Predictions in Batches: 100%|██████████████████████████████| 8/8 [00:02<00:00,  2.76it/s]\n"
          ]
        },
        {
          "output_type": "stream",
          "name": "stdout",
          "text": [
            "=== Completed Step: Apriori Predictions with Top-K Items in 2.90 seconds ===\n"
          ]
        },
        {
          "output_type": "stream",
          "name": "stderr",
          "text": [
            "C:\\Users\\user\\AppData\\Local\\Programs\\Python\\Python310\\lib\\site-packages\\mlxtend\\frequent_patterns\\fpcommon.py:109: DeprecationWarning: DataFrames with non-bool types result in worse computationalperformance and their support might be discontinued in the future.Please use a DataFrame with bool type\n",
            "  warnings.warn(\n"
          ]
        },
        {
          "output_type": "stream",
          "name": "stdout",
          "text": [
            "\n",
            "=== Starting Step: FP-Growth Frequent Itemsets with Top-K Items ===\n",
            "=== Completed Step: FP-Growth Frequent Itemsets with Top-K Items in 0.17 seconds ===\n",
            "\n",
            "=== Starting Step: FP-Growth Association Rules with Top-K Items ===\n",
            "=== Completed Step: FP-Growth Association Rules with Top-K Items in 0.01 seconds ===\n",
            "\n",
            "=== Starting Step: FP-Growth Predictions with Top-K Items ===\n"
          ]
        },
        {
          "output_type": "stream",
          "name": "stderr",
          "text": [
            "Generating Predictions in Batches: 100%|██████████████████████████████| 8/8 [00:02<00:00,  2.85it/s]"
          ]
        },
        {
          "output_type": "stream",
          "name": "stdout",
          "text": [
            "=== Completed Step: FP-Growth Predictions with Top-K Items in 2.81 seconds ===\n",
            "\n",
            "=== Starting Step: Save Experiment 6 Results ===\n",
            "=== Completed Step: Save Experiment 6 Results in 0.00 seconds ===\n",
            "\n",
            "=== Experiment 6 Results ===\n",
            "                 Algorithm  Accuracy  Precision    Recall  Hit Rate      MRR\n",
            "0    Apriori (Top-K Items)  0.208738   0.062298  0.013619  0.062298  0.16886\n",
            "1  FP-Growth (Top-K Items)  0.208738   0.062298  0.013619  0.062298  0.16886\n"
          ]
        },
        {
          "output_type": "stream",
          "name": "stderr",
          "text": [
            "\n"
          ]
        }
      ]
    },
    {
      "cell_type": "code",
      "source": [
        "import numpy as np\n",
        "from tqdm import tqdm\n",
        "import time\n",
        "import pandas as pd\n",
        "from mlxtend.frequent_patterns import apriori, fpgrowth, association_rules\n",
        "\n",
        "# Shared Parameters\n",
        "MIN_SUPPORT = 0.01  # Minimum support for frequent itemsets\n",
        "CONFIDENCE_THRESHOLD = 0.7  # Confidence threshold for rules\n",
        "SAVE_PATH = r\"C:\\Users\\user\\Desktop\\CW4\\online+retail\\results_experiment_7.csv\"\n",
        "BATCH_SIZE = 500  # Number of transactions processed per batch\n",
        "TOP_K_ITEMS = 100  # Number of most frequent items to include\n",
        "\n",
        "# Function to time each step\n",
        "def time_step(step_name, func, *args, **kwargs):\n",
        "    print(f\"\\n=== Starting Step: {step_name} ===\")\n",
        "    start_time = time.time()\n",
        "    result = func(*args, **kwargs)\n",
        "    elapsed_time = time.time() - start_time\n",
        "    print(f\"=== Completed Step: {step_name} in {elapsed_time:.2f} seconds ===\")\n",
        "    return result\n",
        "\n",
        "# Function to generate predictions using NumPy and batching\n",
        "def generate_predictions_batch(rules, test_transactions, batch_size):\n",
        "    predictions = []\n",
        "    test_array = test_transactions.to_numpy()  # Convert to NumPy array for faster processing\n",
        "    column_names = np.array(test_transactions.columns)  # Keep track of item names\n",
        "\n",
        "    for start in tqdm(range(0, len(test_array), batch_size), desc=\"Generating Predictions in Batches\", ncols=100):\n",
        "        batch = test_array[start:start + batch_size]\n",
        "        for transaction in batch:\n",
        "            transaction_items = set(column_names[transaction == 1])  # Get the items in the transaction\n",
        "            matched_rules = rules[rules['antecedents'].apply(lambda x: x.issubset(transaction_items))]\n",
        "            if not matched_rules.empty:\n",
        "                predicted = matched_rules.sort_values(by='confidence', ascending=False).iloc[0]['consequents']\n",
        "                predictions.append(list(predicted))\n",
        "            else:\n",
        "                predictions.append([])\n",
        "    return predictions\n",
        "\n",
        "# Function to calculate metrics\n",
        "def calculate_metrics(y_true, y_pred):\n",
        "    # Ensure y_true and y_pred have the same number of transactions\n",
        "    assert len(y_true) == len(y_pred), f\"y_true ({len(y_true)}) and y_pred ({len(y_pred)}) must have the same number of transactions.\"\n",
        "\n",
        "    # Accuracy: Exact match ratio\n",
        "    accuracy = np.mean([1 if set(yt) == set(yp) else 0 for yt, yp in zip(y_true, y_pred)])\n",
        "\n",
        "    # Precision and Recall: Per-transaction average\n",
        "    precision_per_transaction = [\n",
        "        len(set(yt).intersection(set(yp))) / len(set(yp)) if len(set(yp)) > 0 else 0\n",
        "        for yt, yp in zip(y_true, y_pred)\n",
        "    ]\n",
        "    recall_per_transaction = [\n",
        "        len(set(yt).intersection(set(yp))) / len(set(yt)) if len(set(yt)) > 0 else 0\n",
        "        for yt, yp in zip(y_true, y_pred)\n",
        "    ]\n",
        "    precision = np.mean(precision_per_transaction)\n",
        "    recall = np.mean(recall_per_transaction)\n",
        "\n",
        "    # Hit Rate: At least one match per transaction\n",
        "    hit_rate = np.mean([1 if len(set(yt).intersection(set(yp))) > 0 else 0 for yt, yp in zip(y_true, y_pred)])\n",
        "\n",
        "    # Mean Reciprocal Rank (MRR)\n",
        "    mrr = np.mean([\n",
        "        1 / (yp.index(next(iter(set(yt).intersection(set(yp))), None)) + 1)\n",
        "        if set(yt).intersection(set(yp)) else 0\n",
        "        for yt, yp in zip(y_true, y_pred) if yp\n",
        "    ])\n",
        "\n",
        "    return accuracy, precision, recall, hit_rate, mrr\n",
        "\n",
        "# Filter DataFrame to Top-K Most Frequent Items\n",
        "def filter_top_k_items(df, k):\n",
        "    top_items = df.sum().nlargest(k).index  # Get top-k most frequent items\n",
        "    return df[top_items]\n",
        "\n",
        "# Prepare Train and Test DataFrames\n",
        "item_columns = df_grouped.columns\n",
        "train_df = pd.DataFrame(0, index=range(len(train_data)), columns=item_columns)\n",
        "for idx, transaction in enumerate(train_data):\n",
        "    train_df.loc[idx, list(transaction)] = 1\n",
        "\n",
        "test_df = pd.DataFrame(0, index=range(len(test_data)), columns=item_columns)\n",
        "for idx, transaction in enumerate(test_data):\n",
        "    test_df.loc[idx, list(transaction)] = 1\n",
        "\n",
        "# Filter to Top-K Items\n",
        "train_df_filtered = time_step(\"Filter Train Data to Top-K Items\", filter_top_k_items, train_df, TOP_K_ITEMS)\n",
        "test_df_filtered = time_step(\"Filter Test Data to Top-K Items\", filter_top_k_items, test_df, TOP_K_ITEMS)\n",
        "\n",
        "# Time the Apriori Process\n",
        "frequent_itemsets_apriori = time_step(\n",
        "    \"Apriori Frequent Itemsets with Top-K Items\",\n",
        "    apriori, train_df_filtered, min_support=MIN_SUPPORT, use_colnames=True\n",
        ")\n",
        "\n",
        "rules_apriori = time_step(\n",
        "    \"Apriori Association Rules with Top-K Items\",\n",
        "    association_rules, frequent_itemsets_apriori, metric=\"confidence\", min_threshold=CONFIDENCE_THRESHOLD\n",
        ")\n",
        "\n",
        "y_pred_apriori = time_step(\n",
        "    \"Apriori Predictions with Top-K Items\",\n",
        "    generate_predictions_batch, rules_apriori, test_df_filtered, BATCH_SIZE\n",
        ")\n",
        "\n",
        "# Calculate metrics for Apriori\n",
        "y_true = [set(row[row == 1].index) for _, row in test_df_filtered.iterrows()]\n",
        "accuracy_apriori, precision_apriori, recall_apriori, hit_rate_apriori, mrr_apriori = calculate_metrics(y_true, y_pred_apriori)\n",
        "\n",
        "# Time the FP-Growth Process\n",
        "frequent_itemsets_fpgrowth = time_step(\n",
        "    \"FP-Growth Frequent Itemsets with Top-K Items\",\n",
        "    fpgrowth, train_df_filtered, min_support=MIN_SUPPORT, use_colnames=True\n",
        ")\n",
        "\n",
        "rules_fpgrowth = time_step(\n",
        "    \"FP-Growth Association Rules with Top-K Items\",\n",
        "    association_rules, frequent_itemsets_fpgrowth, metric=\"confidence\", min_threshold=CONFIDENCE_THRESHOLD\n",
        ")\n",
        "\n",
        "y_pred_fpgrowth = time_step(\n",
        "    \"FP-Growth Predictions with Top-K Items\",\n",
        "    generate_predictions_batch, rules_fpgrowth, test_df_filtered, BATCH_SIZE\n",
        ")\n",
        "\n",
        "# Calculate metrics for FP-Growth\n",
        "accuracy_fpgrowth, precision_fpgrowth, recall_fpgrowth, hit_rate_fpgrowth, mrr_fpgrowth = calculate_metrics(y_true, y_pred_fpgrowth)\n",
        "\n",
        "# Save Results for Experiment 7\n",
        "results_experiment_7 = pd.DataFrame([\n",
        "    [\"Apriori (Top-K Items)\", accuracy_apriori, precision_apriori, recall_apriori, hit_rate_apriori, mrr_apriori],\n",
        "    [\"FP-Growth (Top-K Items)\", accuracy_fpgrowth, precision_fpgrowth, recall_fpgrowth, hit_rate_fpgrowth, mrr_fpgrowth]\n",
        "], columns=[\"Algorithm\", \"Accuracy\", \"Precision\", \"Recall\", \"Hit Rate\", \"MRR\"])\n",
        "\n",
        "time_step(\"Save Experiment 7 Results\", results_experiment_7.to_csv, SAVE_PATH, index=False)\n",
        "\n",
        "print(\"\\n=== Experiment 7 Results ===\")\n",
        "print(results_experiment_7)\n"
      ],
      "metadata": {
        "colab": {
          "base_uri": "https://localhost:8080/"
        },
        "id": "SNorIy1R_LaQ",
        "outputId": "193210a1-188b-4def-e004-20bafc37af18"
      },
      "execution_count": null,
      "outputs": [
        {
          "output_type": "stream",
          "name": "stdout",
          "text": [
            "\n",
            "=== Starting Step: Filter Train Data to Top-K Items ===\n",
            "=== Completed Step: Filter Train Data to Top-K Items in 0.05 seconds ===\n",
            "\n",
            "=== Starting Step: Filter Test Data to Top-K Items ===\n",
            "=== Completed Step: Filter Test Data to Top-K Items in 0.01 seconds ===\n",
            "\n",
            "=== Starting Step: Apriori Frequent Itemsets with Top-K Items ===\n"
          ]
        },
        {
          "output_type": "stream",
          "name": "stderr",
          "text": [
            "C:\\Users\\user\\AppData\\Local\\Programs\\Python\\Python310\\lib\\site-packages\\mlxtend\\frequent_patterns\\fpcommon.py:109: DeprecationWarning: DataFrames with non-bool types result in worse computationalperformance and their support might be discontinued in the future.Please use a DataFrame with bool type\n",
            "  warnings.warn(\n"
          ]
        },
        {
          "output_type": "stream",
          "name": "stdout",
          "text": [
            "=== Completed Step: Apriori Frequent Itemsets with Top-K Items in 1.82 seconds ===\n",
            "\n",
            "=== Starting Step: Apriori Association Rules with Top-K Items ===\n",
            "=== Completed Step: Apriori Association Rules with Top-K Items in 0.00 seconds ===\n",
            "\n",
            "=== Starting Step: Apriori Predictions with Top-K Items ===\n"
          ]
        },
        {
          "output_type": "stream",
          "name": "stderr",
          "text": [
            "Generating Predictions in Batches: 100%|██████████████████████████████| 8/8 [00:00<00:00,  8.47it/s]\n"
          ]
        },
        {
          "output_type": "stream",
          "name": "stdout",
          "text": [
            "=== Completed Step: Apriori Predictions with Top-K Items in 0.95 seconds ===\n",
            "\n",
            "=== Starting Step: FP-Growth Frequent Itemsets with Top-K Items ===\n"
          ]
        },
        {
          "output_type": "stream",
          "name": "stderr",
          "text": [
            "C:\\Users\\user\\AppData\\Local\\Programs\\Python\\Python310\\lib\\site-packages\\mlxtend\\frequent_patterns\\fpcommon.py:109: DeprecationWarning: DataFrames with non-bool types result in worse computationalperformance and their support might be discontinued in the future.Please use a DataFrame with bool type\n",
            "  warnings.warn(\n"
          ]
        },
        {
          "output_type": "stream",
          "name": "stdout",
          "text": [
            "=== Completed Step: FP-Growth Frequent Itemsets with Top-K Items in 0.23 seconds ===\n",
            "\n",
            "=== Starting Step: FP-Growth Association Rules with Top-K Items ===\n",
            "=== Completed Step: FP-Growth Association Rules with Top-K Items in 0.00 seconds ===\n",
            "\n",
            "=== Starting Step: FP-Growth Predictions with Top-K Items ===\n"
          ]
        },
        {
          "output_type": "stream",
          "name": "stderr",
          "text": [
            "Generating Predictions in Batches: 100%|██████████████████████████████| 8/8 [00:00<00:00,  8.11it/s]"
          ]
        },
        {
          "output_type": "stream",
          "name": "stdout",
          "text": [
            "=== Completed Step: FP-Growth Predictions with Top-K Items in 0.99 seconds ===\n",
            "\n",
            "=== Starting Step: Save Experiment 5 Results ===\n",
            "=== Completed Step: Save Experiment 5 Results in 0.00 seconds ===\n",
            "\n",
            "=== Experiment 7 Results ===\n",
            "                 Algorithm  Accuracy  Precision    Recall  Hit Rate       MRR\n",
            "0    Apriori (Top-K Items)  0.144822   0.026699  0.002773  0.026699  0.773438\n",
            "1  FP-Growth (Top-K Items)  0.144822   0.026699  0.002773  0.026699  0.773438\n"
          ]
        },
        {
          "output_type": "stream",
          "name": "stderr",
          "text": [
            "\n"
          ]
        }
      ]
    },
    {
      "cell_type": "code",
      "source": [
        "import pandas as pd\n",
        "import numpy as np\n",
        "from mlxtend.frequent_patterns import apriori, fpgrowth, association_rules\n",
        "from tqdm import tqdm\n",
        "import time\n",
        "\n",
        "# Parameters for Experiment 3\n",
        "MIN_SUPPORT = 0.01\n",
        "CONFIDENCE_THRESHOLD = 0.5\n",
        "MAX_ITEMSET_LENGTH = 2\n",
        "SAVE_PATH = r\"C:\\Users\\user\\Desktop\\CW4\\online+retail\\results_experiment_3_optimized.csv\"\n",
        "BATCH_SIZE = 500\n",
        "\n",
        "# Shared Functions\n",
        "def time_step(step_name, func, *args, **kwargs):\n",
        "    print(f\"\\n=== Starting Step: {step_name} ===\")\n",
        "    start_time = time.time()\n",
        "    result = func(*args, **kwargs)\n",
        "    elapsed_time = time.time() - start_time\n",
        "    print(f\"=== Completed Step: {step_name} in {elapsed_time:.2f} seconds ===\")\n",
        "    return result\n",
        "\n",
        "def generate_predictions_batch(rules, test_transactions, batch_size):\n",
        "    predictions = []\n",
        "    test_array = test_transactions.to_numpy()\n",
        "    column_names = np.array(test_transactions.columns)\n",
        "\n",
        "    for start in tqdm(range(0, len(test_array), batch_size), desc=\"Generating Predictions\", ncols=100):\n",
        "        batch = test_array[start:start + batch_size]\n",
        "        for transaction in batch:\n",
        "            transaction_items = set(column_names[transaction == 1])\n",
        "            matched_rules = rules[rules['antecedents'].apply(lambda x: x.issubset(transaction_items))]\n",
        "            if not matched_rules.empty:\n",
        "                predicted = matched_rules.sort_values(by='confidence', ascending=False).iloc[0]['consequents']\n",
        "                predictions.append(list(predicted))\n",
        "            else:\n",
        "                predictions.append([])\n",
        "    return predictions\n",
        "\n",
        "def calculate_metrics(y_true, y_pred):\n",
        "    assert len(y_true) == len(y_pred), \"y_true and y_pred lengths must match.\"\n",
        "    accuracy = np.mean([1 if set(yt) == set(yp) else 0 for yt, yp in zip(y_true, y_pred)])\n",
        "    precision = np.mean([len(set(yt).intersection(set(yp))) / len(set(yp)) if yp else 0 for yt, yp in zip(y_true, y_pred)])\n",
        "    recall = np.mean([len(set(yt).intersection(set(yp))) / len(set(yt)) if yt else 0 for yt, yp in zip(y_true, y_pred)])\n",
        "    hit_rate = np.mean([1 if set(yt).intersection(set(yp)) else 0 for yt, yp in zip(y_true, y_pred)])\n",
        "    mrr = np.mean([\n",
        "        1 / (yp.index(next(iter(set(yt).intersection(set(yp))), None)) + 1)\n",
        "        if set(yt).intersection(set(yp)) else 0\n",
        "        for yt, yp in zip(y_true, y_pred) if yp\n",
        "    ])\n",
        "    return accuracy, precision, recall, hit_rate, mrr\n",
        "\n",
        "# Prepare Train and Test DataFrames\n",
        "train_df = pd.DataFrame(0, index=range(len(train_data)), columns=df_grouped.columns)\n",
        "for idx, transaction in enumerate(train_data):\n",
        "    train_df.loc[idx, list(transaction)] = 1\n",
        "\n",
        "test_df = pd.DataFrame(0, index=range(len(test_data)), columns=df_grouped.columns)\n",
        "for idx, transaction in enumerate(test_data):\n",
        "    test_df.loc[idx, list(transaction)] = 1\n",
        "\n",
        "# Convert DataFrame to Boolean for Memory Efficiency\n",
        "train_df_bool = train_df.astype(bool)\n",
        "test_df_bool = test_df.astype(bool)\n",
        "\n",
        "# Apriori with Optimized Memory Usage\n",
        "try:\n",
        "    frequent_itemsets_apriori = time_step(\n",
        "        \"Apriori Frequent Itemsets (Optimized)\",\n",
        "        apriori, train_df_bool, min_support=MIN_SUPPORT, use_colnames=True, max_len=MAX_ITEMSET_LENGTH, low_memory=True\n",
        "    )\n",
        "    rules_apriori = time_step(\n",
        "        \"Apriori Association Rules\",\n",
        "        association_rules, frequent_itemsets_apriori, metric=\"confidence\", min_threshold=CONFIDENCE_THRESHOLD\n",
        "    )\n",
        "    y_pred_apriori = time_step(\"Apriori Predictions\", generate_predictions_batch, rules_apriori, test_df_bool, BATCH_SIZE)\n",
        "except MemoryError:\n",
        "    print(\"Apriori failed due to memory issues. Skipping Apriori execution.\")\n",
        "\n",
        "# FP-Growth with Item Length Restrictions\n",
        "frequent_itemsets_fpgrowth = time_step(\n",
        "    \"FP-Growth Frequent Itemsets (Optimized)\",\n",
        "    fpgrowth, train_df_bool, min_support=MIN_SUPPORT, use_colnames=True, max_len=MAX_ITEMSET_LENGTH\n",
        ")\n",
        "rules_fpgrowth = time_step(\n",
        "    \"FP-Growth Association Rules\",\n",
        "    association_rules, frequent_itemsets_fpgrowth, metric=\"confidence\", min_threshold=CONFIDENCE_THRESHOLD\n",
        ")\n",
        "y_pred_fpgrowth = time_step(\"FP-Growth Predictions\", generate_predictions_batch, rules_fpgrowth, test_df_bool, BATCH_SIZE)\n",
        "\n",
        "# Calculate Metrics\n",
        "y_true = [set(row[row == 1].index) for _, row in test_df_bool.iterrows()]\n",
        "try:\n",
        "    accuracy_apriori, precision_apriori, recall_apriori, hit_rate_apriori, mrr_apriori = calculate_metrics(y_true, y_pred_apriori)\n",
        "except NameError:\n",
        "    accuracy_apriori = precision_apriori = recall_apriori = hit_rate_apriori = mrr_apriori = None\n",
        "\n",
        "accuracy_fpgrowth, precision_fpgrowth, recall_fpgrowth, hit_rate_fpgrowth, mrr_fpgrowth = calculate_metrics(y_true, y_pred_fpgrowth)\n",
        "\n",
        "# Save Results\n",
        "results_experiment_8 = pd.DataFrame([\n",
        "    [\"Apriori (Optimized)\", accuracy_apriori, precision_apriori, recall_apriori, hit_rate_apriori, mrr_apriori],\n",
        "    [\"FP-Growth (Optimized)\", accuracy_fpgrowth, precision_fpgrowth, recall_fpgrowth, hit_rate_fpgrowth, mrr_fpgrowth]\n",
        "], columns=[\"Algorithm\", \"Accuracy\", \"Precision\", \"Recall\", \"Hit Rate\", \"MRR\"])\n",
        "\n",
        "time_step(\"Save Experiment 8 Results\", results_experiment_8.to_csv, SAVE_PATH, index=False)\n",
        "print(\"\\n=== Experiment 8 Results ===\")\n",
        "print(results_experiment_8)\n"
      ],
      "metadata": {
        "colab": {
          "base_uri": "https://localhost:8080/"
        },
        "id": "-ILGlqPxBH9A",
        "outputId": "d0453614-8b6b-4562-f196-726cdcbd4225"
      },
      "execution_count": null,
      "outputs": [
        {
          "output_type": "stream",
          "name": "stdout",
          "text": [
            "\n",
            "=== Starting Step: Apriori Frequent Itemsets (Optimized) ===\n",
            "=== Completed Step: Apriori Frequent Itemsets (Optimized) in 0.35 seconds ===\n",
            "\n",
            "=== Starting Step: Apriori Association Rules ===\n",
            "=== Completed Step: Apriori Association Rules in 0.00 seconds ===\n",
            "\n",
            "=== Starting Step: Apriori Predictions ===\n"
          ]
        },
        {
          "output_type": "stream",
          "name": "stderr",
          "text": [
            "Generating Predictions: 100%|█████████████████████████████████████████| 8/8 [00:01<00:00,  4.64it/s]\n"
          ]
        },
        {
          "output_type": "stream",
          "name": "stdout",
          "text": [
            "=== Completed Step: Apriori Predictions in 1.73 seconds ===\n",
            "\n",
            "=== Starting Step: FP-Growth Frequent Itemsets (Optimized) ===\n",
            "=== Completed Step: FP-Growth Frequent Itemsets (Optimized) in 1.57 seconds ===\n",
            "\n",
            "=== Starting Step: FP-Growth Association Rules ===\n",
            "=== Completed Step: FP-Growth Association Rules in 0.00 seconds ===\n",
            "\n",
            "=== Starting Step: FP-Growth Predictions ===\n"
          ]
        },
        {
          "output_type": "stream",
          "name": "stderr",
          "text": [
            "Generating Predictions: 100%|█████████████████████████████████████████| 8/8 [00:01<00:00,  4.68it/s]\n"
          ]
        },
        {
          "output_type": "stream",
          "name": "stdout",
          "text": [
            "=== Completed Step: FP-Growth Predictions in 1.71 seconds ===\n",
            "\n",
            "=== Starting Step: Save Experiment 8 Results ===\n",
            "=== Completed Step: Save Experiment 8 Results in 0.00 seconds ===\n",
            "\n",
            "=== Experiment 8 Results ===\n",
            "               Algorithm  Accuracy  Precision    Recall  Hit Rate       MRR\n",
            "0    Apriori (Optimized)       0.0   0.331176  0.019486  0.331176  0.504934\n",
            "1  FP-Growth (Optimized)       0.0   0.331446  0.019502  0.331446  0.505345\n"
          ]
        }
      ]
    },
    {
      "cell_type": "code",
      "source": [
        "import pandas as pd\n",
        "import numpy as np\n",
        "from mlxtend.frequent_patterns import apriori, fpgrowth, association_rules\n",
        "from tqdm import tqdm\n",
        "import time\n",
        "\n",
        "# Parameters for Experiment 9\n",
        "TOP_K_ITEMS = 50               # Number of most frequent items to include\n",
        "MIN_SUPPORT = 0.002            # Minimum support for frequent itemsets\n",
        "CONFIDENCE_THRESHOLD = 0.4     # Confidence threshold for association rules\n",
        "MAX_ITEMSET_LENGTH = 3         # Maximum length of itemsets\n",
        "SAVE_PATH = r\"C:\\Users\\user\\Desktop\\CW4\\online+retail\\results_experiment_9.csv\"\n",
        "BATCH_SIZE = 500               # Batch size for generating predictions\n",
        "\n",
        "# Function to time each step\n",
        "def time_step(step_name, func, *args, **kwargs):\n",
        "    print(f\"\\n=== Starting Step: {step_name} ===\")\n",
        "    start_time = time.time()\n",
        "    result = func(*args, **kwargs)\n",
        "    elapsed_time = time.time() - start_time\n",
        "    print(f\"=== Completed Step: {step_name} in {elapsed_time:.2f} seconds ===\")\n",
        "    return result\n",
        "\n",
        "# Function to generate predictions using NumPy and batching\n",
        "def generate_predictions_batch(rules, test_transactions, batch_size):\n",
        "    predictions = []\n",
        "    test_array = test_transactions.to_numpy()  # Convert to NumPy array for faster processing\n",
        "    column_names = np.array(test_transactions.columns)  # Keep track of item names\n",
        "\n",
        "    for start in tqdm(range(0, len(test_array), batch_size), desc=\"Generating Predictions\", ncols=100):\n",
        "        batch = test_array[start:start + batch_size]\n",
        "        for transaction in batch:\n",
        "            transaction_items = set(column_names[transaction == 1])  # Get the items in the transaction\n",
        "            matched_rules = rules[rules['antecedents'].apply(lambda x: x.issubset(transaction_items))]\n",
        "            if not matched_rules.empty:\n",
        "                predicted = matched_rules.sort_values(by='confidence', ascending=False).iloc[0]['consequents']\n",
        "                predictions.append(list(predicted))\n",
        "            else:\n",
        "                predictions.append([])\n",
        "    return predictions\n",
        "\n",
        "# Function to calculate metrics\n",
        "def calculate_metrics(y_true, y_pred):\n",
        "    assert len(y_true) == len(y_pred), \"y_true and y_pred lengths must match.\"\n",
        "\n",
        "    accuracy = np.mean([1 if set(yt) == set(yp) else 0 for yt, yp in zip(y_true, y_pred)])\n",
        "    precision = np.mean([len(set(yt).intersection(set(yp))) / len(set(yp)) if yp else 0 for yt, yp in zip(y_true, y_pred)])\n",
        "    recall = np.mean([len(set(yt).intersection(set(yp))) / len(set(yt)) if yt else 0 for yt, yp in zip(y_true, y_pred)])\n",
        "    hit_rate = np.mean([1 if set(yt).intersection(set(yp)) else 0 for yt, yp in zip(y_true, y_pred)])\n",
        "    mrr = np.mean([\n",
        "        1 / (yp.index(next(iter(set(yt).intersection(set(yp))), None)) + 1)\n",
        "        if set(yt).intersection(set(yp)) else 0\n",
        "        for yt, yp in zip(y_true, y_pred) if yp\n",
        "    ])\n",
        "    return accuracy, precision, recall, hit_rate, mrr\n",
        "\n",
        "# Filter DataFrame to Top-K Most Frequent Items\n",
        "def filter_top_k_items(df, k):\n",
        "    top_items = df.sum().nlargest(k).index  # Get top-k most frequent items\n",
        "    return df[top_items]\n",
        "\n",
        "# Prepare Train and Test DataFrames\n",
        "print(\"Preparing Train and Test DataFrames...\")\n",
        "train_df = pd.DataFrame(0, index=range(len(train_data)), columns=df_grouped.columns)\n",
        "for idx, transaction in enumerate(train_data):\n",
        "    train_df.loc[idx, list(transaction)] = 1\n",
        "\n",
        "test_df = pd.DataFrame(0, index=range(len(test_data)), columns=df_grouped.columns)\n",
        "for idx, transaction in enumerate(test_data):\n",
        "    test_df.loc[idx, list(transaction)] = 1\n",
        "\n",
        "# Filter to Top-K Items\n",
        "train_df_filtered = time_step(\"Filter Train Data to Top-K Items\", filter_top_k_items, train_df, TOP_K_ITEMS)\n",
        "test_df_filtered = time_step(\"Filter Test Data to Top-K Items\", filter_top_k_items, test_df, TOP_K_ITEMS)\n",
        "\n",
        "# Convert DataFrames to Boolean for Memory Efficiency\n",
        "train_df_filtered_bool = train_df_filtered.astype(bool)\n",
        "test_df_filtered_bool = test_df_filtered.astype(bool)\n",
        "\n",
        "# Apriori Process\n",
        "try:\n",
        "    frequent_itemsets_apriori = time_step(\n",
        "        \"Apriori Frequent Itemsets (Hybrid)\",\n",
        "        apriori, train_df_filtered_bool, min_support=MIN_SUPPORT, use_colnames=True, max_len=MAX_ITEMSET_LENGTH, low_memory=True\n",
        "    )\n",
        "    rules_apriori = time_step(\n",
        "        \"Apriori Association Rules (Hybrid)\",\n",
        "        association_rules, frequent_itemsets_apriori, metric=\"confidence\", min_threshold=CONFIDENCE_THRESHOLD\n",
        "    )\n",
        "    y_pred_apriori = time_step(\n",
        "        \"Apriori Predictions (Hybrid)\",\n",
        "        generate_predictions_batch, rules_apriori, test_df_filtered_bool, BATCH_SIZE\n",
        "    )\n",
        "except MemoryError:\n",
        "    print(\"Apriori failed due to memory issues. Skipping Apriori execution.\")\n",
        "    y_pred_apriori = None\n",
        "\n",
        "# FP-Growth Process\n",
        "frequent_itemsets_fpgrowth = time_step(\n",
        "    \"FP-Growth Frequent Itemsets (Hybrid)\",\n",
        "    fpgrowth, train_df_filtered_bool, min_support=MIN_SUPPORT, use_colnames=True, max_len=MAX_ITEMSET_LENGTH\n",
        ")\n",
        "rules_fpgrowth = time_step(\n",
        "    \"FP-Growth Association Rules (Hybrid)\",\n",
        "    association_rules, frequent_itemsets_fpgrowth, metric=\"confidence\", min_threshold=CONFIDENCE_THRESHOLD\n",
        ")\n",
        "y_pred_fpgrowth = time_step(\n",
        "    \"FP-Growth Predictions (Hybrid)\",\n",
        "    generate_predictions_batch, rules_fpgrowth, test_df_filtered_bool, BATCH_SIZE\n",
        ")\n",
        "\n",
        "# Calculate Metrics\n",
        "y_true = [set(row[row == 1].index) for _, row in test_df_filtered_bool.iterrows()]\n",
        "try:\n",
        "    accuracy_apriori, precision_apriori, recall_apriori, hit_rate_apriori, mrr_apriori = calculate_metrics(y_true, y_pred_apriori)\n",
        "except TypeError:\n",
        "    accuracy_apriori = precision_apriori = recall_apriori = hit_rate_apriori = mrr_apriori = None\n",
        "\n",
        "accuracy_fpgrowth, precision_fpgrowth, recall_fpgrowth, hit_rate_fpgrowth, mrr_fpgrowth = calculate_metrics(y_true, y_pred_fpgrowth)\n",
        "\n",
        "# Save Results\n",
        "results_experiment_9 = pd.DataFrame([\n",
        "    [\"Apriori (Hybrid)\", accuracy_apriori, precision_apriori, recall_apriori, hit_rate_apriori, mrr_apriori],\n",
        "    [\"FP-Growth (Hybrid)\", accuracy_fpgrowth, precision_fpgrowth, recall_fpgrowth, hit_rate_fpgrowth, mrr_fpgrowth]\n",
        "], columns=[\"Algorithm\", \"Accuracy\", \"Precision\", \"Recall\", \"Hit Rate\", \"MRR\"])\n",
        "\n",
        "time_step(\"Save Experiment 9 Results\", results_experiment_9.to_csv, SAVE_PATH, index=False)\n",
        "\n",
        "print(\"\\n=== Experiment 9 Results ===\")\n",
        "print(results_experiment_9)\n"
      ],
      "metadata": {
        "colab": {
          "base_uri": "https://localhost:8080/"
        },
        "id": "scbmjfNaBXOi",
        "outputId": "3b156aad-83ce-4092-8c97-6ac89762f0cd"
      },
      "execution_count": null,
      "outputs": [
        {
          "output_type": "stream",
          "name": "stdout",
          "text": [
            "Preparing Train and Test DataFrames...\n",
            "\n",
            "=== Starting Step: Filter Train Data to Top-K Items ===\n",
            "=== Completed Step: Filter Train Data to Top-K Items in 0.05 seconds ===\n",
            "\n",
            "=== Starting Step: Filter Test Data to Top-K Items ===\n",
            "=== Completed Step: Filter Test Data to Top-K Items in 0.01 seconds ===\n",
            "\n",
            "=== Starting Step: Apriori Frequent Itemsets (Hybrid) ===\n",
            "=== Completed Step: Apriori Frequent Itemsets (Hybrid) in 0.09 seconds ===\n",
            "\n",
            "=== Starting Step: Apriori Association Rules (Hybrid) ===\n",
            "=== Completed Step: Apriori Association Rules (Hybrid) in 0.01 seconds ===\n",
            "\n",
            "=== Starting Step: Apriori Predictions (Hybrid) ===\n"
          ]
        },
        {
          "output_type": "stream",
          "name": "stderr",
          "text": [
            "Generating Predictions: 100%|█████████████████████████████████████████| 8/8 [00:02<00:00,  3.74it/s]\n"
          ]
        },
        {
          "output_type": "stream",
          "name": "stdout",
          "text": [
            "=== Completed Step: Apriori Predictions (Hybrid) in 2.14 seconds ===\n",
            "\n",
            "=== Starting Step: FP-Growth Frequent Itemsets (Hybrid) ===\n",
            "=== Completed Step: FP-Growth Frequent Itemsets (Hybrid) in 0.60 seconds ===\n",
            "\n",
            "=== Starting Step: FP-Growth Association Rules (Hybrid) ===\n",
            "=== Completed Step: FP-Growth Association Rules (Hybrid) in 0.01 seconds ===\n",
            "\n",
            "=== Starting Step: FP-Growth Predictions (Hybrid) ===\n"
          ]
        },
        {
          "output_type": "stream",
          "name": "stderr",
          "text": [
            "Generating Predictions: 100%|█████████████████████████████████████████| 8/8 [00:02<00:00,  3.74it/s]\n"
          ]
        },
        {
          "output_type": "stream",
          "name": "stdout",
          "text": [
            "=== Completed Step: FP-Growth Predictions (Hybrid) in 2.14 seconds ===\n",
            "\n",
            "=== Starting Step: Save Experiment 9 Results ===\n",
            "=== Completed Step: Save Experiment 9 Results in 0.00 seconds ===\n",
            "\n",
            "=== Experiment 9 Results ===\n",
            "            Algorithm  Accuracy  Precision    Recall  Hit Rate       MRR\n",
            "0    Apriori (Hybrid)  0.208738   0.039374  0.007761  0.039374  0.357843\n",
            "1  FP-Growth (Hybrid)  0.208738   0.039374  0.007761  0.039374  0.357843\n"
          ]
        }
      ]
    },
    {
      "cell_type": "code",
      "source": [
        "import pandas as pd\n",
        "import numpy as np\n",
        "from mlxtend.frequent_patterns import apriori, fpgrowth, association_rules\n",
        "from tqdm import tqdm\n",
        "import itertools\n",
        "import time\n",
        "\n",
        "# Parameters for experiments\n",
        "MIN_SUPPORT_VALUES = [0.005, 0.01, 0.02, 0.03]\n",
        "CONFIDENCE_THRESHOLDS = [0.05, 0.1, 0.2, 0.3]\n",
        "MAX_ITEMSET_LENGTH_VALUES = [2, 4]\n",
        "BATCH_SIZE = 500\n",
        "TOP_K_ITEMS = 500  # Limit the number of items to Top-K\n",
        "SAVE_PATH = r\"C:\\Users\\user\\Desktop\\CW4\\online+retail\\experiment_results_grouped.csv\"\n",
        "\n",
        "# Function to time steps\n",
        "def time_step(step_name, func, *args, **kwargs):\n",
        "    print(f\"\\n=== Starting Step: {step_name} ===\")\n",
        "    start_time = time.time()\n",
        "    result = func(*args, **kwargs)\n",
        "    elapsed_time = time.time() - start_time\n",
        "    print(f\"=== Completed Step: {step_name} in {elapsed_time:.2f} seconds ===\")\n",
        "    return result\n",
        "\n",
        "# Function to generate predictions\n",
        "def generate_predictions_batch(rules, test_transactions, batch_size):\n",
        "    predictions = []\n",
        "    test_array = test_transactions.to_numpy()\n",
        "    column_names = np.array(test_transactions.columns)\n",
        "    for start in tqdm(range(0, len(test_array), batch_size), desc=\"Generating Predictions\", ncols=100):\n",
        "        batch = test_array[start:start + batch_size]\n",
        "        for transaction in batch:\n",
        "            transaction_items = set(column_names[transaction == 1])\n",
        "            matched_rules = rules[rules['antecedents'].apply(lambda x: x.issubset(transaction_items))]\n",
        "            if not matched_rules.empty:\n",
        "                predicted = matched_rules.sort_values(by='confidence', ascending=False).iloc[0]['consequents']\n",
        "                predictions.append(list(predicted))\n",
        "            else:\n",
        "                predictions.append([])\n",
        "    return predictions\n",
        "\n",
        "# Function to calculate metrics\n",
        "def calculate_metrics(y_true, y_pred):\n",
        "    accuracy = np.mean([1 if set(yt) == set(yp) else 0 for yt, yp in zip(y_true, y_pred)])\n",
        "    precision = np.mean([\n",
        "        len(set(yt).intersection(set(yp))) / len(set(yp)) if len(yp) > 0 else 0\n",
        "        for yt, yp in zip(y_true, y_pred)\n",
        "    ])\n",
        "    recall = np.mean([\n",
        "        len(set(yt).intersection(set(yp))) / len(set(yt)) if len(yt) > 0 else 0\n",
        "        for yt, yp in zip(y_true, y_pred)\n",
        "    ])\n",
        "    hit_rate = np.mean([1 if len(set(yt).intersection(set(yp))) > 0 else 0 for yt, yp in zip(y_true, y_pred)])\n",
        "    mrr = np.mean([\n",
        "        1 / (yp.index(next(iter(set(yt).intersection(set(yp))), None)) + 1)\n",
        "        if set(yt).intersection(set(yp)) else 0\n",
        "        for yt, yp in zip(y_true, y_pred) if yp\n",
        "    ])\n",
        "    return accuracy, precision, recall, hit_rate, mrr\n",
        "\n",
        "# Load and preprocess the dataset\n",
        "file_path = r\"C:\\Users\\user\\Desktop\\CW4\\online+retail\\Online Retail.xlsx\"\n",
        "df = pd.read_excel(file_path, sheet_name='Online Retail')\n",
        "\n",
        "df_cleaned = df.dropna(subset=['CustomerID', 'Description'])\n",
        "df_cleaned = df_cleaned[df_cleaned['Quantity'] > 0]\n",
        "df_cleaned['Description'] = df_cleaned['Description'].str.strip()\n",
        "\n",
        "df_grouped = df_cleaned.groupby(['InvoiceNo', 'Description'])['Quantity'].sum().unstack().fillna(0).astype(int)\n",
        "df_grouped = df_grouped.applymap(lambda x: 1 if x > 0 else 0)\n",
        "\n",
        "# Filter to Top-K Items\n",
        "def filter_top_k_items(df, k):\n",
        "    top_items = df.sum().nlargest(k).index\n",
        "    return df[top_items]\n",
        "\n",
        "train_df_filtered = filter_top_k_items(df_grouped, TOP_K_ITEMS)\n",
        "test_df_filtered = filter_top_k_items(df_grouped, TOP_K_ITEMS)\n",
        "\n",
        "# Split data into training and testing\n",
        "transaction_list = [set(row[row == 1].index) for _, row in df_grouped.iterrows()]\n",
        "train_size = int(len(transaction_list) * 0.8)\n",
        "train_data = transaction_list[:train_size]\n",
        "test_data = transaction_list[train_size:]\n",
        "\n",
        "# Prepare DataFrames for metrics\n",
        "train_df = pd.DataFrame(0, index=range(len(train_data)), columns=df_grouped.columns)\n",
        "for idx, transaction in enumerate(train_data):\n",
        "    train_df.loc[idx, list(transaction)] = 1\n",
        "\n",
        "test_df = pd.DataFrame(0, index=range(len(test_data)), columns=df_grouped.columns)\n",
        "for idx, transaction in enumerate(test_data):\n",
        "    test_df.loc[idx, list(transaction)] = 1\n",
        "\n",
        "# Experimentation\n",
        "results = []\n",
        "y_true = [set(row[row == 1].index) for _, row in test_df.iterrows()]\n",
        "\n",
        "experiment_number = 1\n",
        "for min_support, confidence_threshold, max_itemset_length in itertools.product(\n",
        "    MIN_SUPPORT_VALUES, CONFIDENCE_THRESHOLDS, MAX_ITEMSET_LENGTH_VALUES\n",
        "):\n",
        "    print(f\"\\n=== Running Experiment {experiment_number} ===\")\n",
        "    for algorithm in [\"Apriori\", \"FP-Growth\"]:\n",
        "        print(f\"\\nRunning {algorithm} for Experiment {experiment_number}...\")\n",
        "        if algorithm == \"Apriori\":\n",
        "            frequent_itemsets = time_step(\n",
        "                \"Apriori Frequent Itemsets\",\n",
        "                apriori, train_df_filtered, min_support=min_support, use_colnames=True, max_len=max_itemset_length, low_memory=True\n",
        "            )\n",
        "        else:  # FP-Growth\n",
        "            frequent_itemsets = time_step(\n",
        "                \"FP-Growth Frequent Itemsets\",\n",
        "                fpgrowth, train_df_filtered, min_support=min_support, use_colnames=True, max_len=max_itemset_length\n",
        "            )\n",
        "\n",
        "        rules = time_step(\n",
        "            f\"{algorithm} Association Rules\",\n",
        "            association_rules, frequent_itemsets, metric=\"confidence\", min_threshold=confidence_threshold\n",
        "        )\n",
        "\n",
        "        y_pred = time_step(\n",
        "            f\"{algorithm} Predictions\",\n",
        "            generate_predictions_batch, rules, test_df_filtered, BATCH_SIZE\n",
        "        )\n",
        "\n",
        "        accuracy, precision, recall, hit_rate, mrr = calculate_metrics(y_true, y_pred)\n",
        "        results.append({\n",
        "            \"Experiment\": experiment_number,\n",
        "            \"Algorithm\": algorithm,\n",
        "            \"Min Support\": min_support,\n",
        "            \"Confidence Threshold\": confidence_threshold,\n",
        "            \"Max Itemset Length\": max_itemset_length,\n",
        "            \"Accuracy\": accuracy,\n",
        "            \"Precision\": precision,\n",
        "            \"Recall\": recall,\n",
        "            \"Hit Rate\": hit_rate,\n",
        "            \"MRR\": mrr\n",
        "        })\n",
        "\n",
        "    experiment_number += 1\n",
        "\n",
        "# Save Results\n",
        "results_df = pd.DataFrame(results)\n",
        "results_df.to_csv(SAVE_PATH, index=False)\n",
        "print(\"All experiments completed. Results saved to:\", SAVE_PATH)\n"
      ],
      "metadata": {
        "id": "2Q74DMVUFIsu",
        "colab": {
          "base_uri": "https://localhost:8080/"
        },
        "outputId": "85802d29-7609-4844-dca8-24a9e33e0a2a"
      },
      "execution_count": null,
      "outputs": [
        {
          "output_type": "stream",
          "name": "stderr",
          "text": [
            "C:\\Users\\user\\AppData\\Local\\Temp\\ipykernel_19532\\2413650182.py:70: FutureWarning: DataFrame.applymap has been deprecated. Use DataFrame.map instead.\n",
            "  df_grouped = df_grouped.applymap(lambda x: 1 if x > 0 else 0)\n"
          ]
        },
        {
          "output_type": "stream",
          "name": "stdout",
          "text": [
            "\n",
            "=== Running Experiment 1 ===\n",
            "\n",
            "Running Apriori for Experiment 1...\n",
            "\n",
            "=== Starting Step: Apriori Frequent Itemsets ===\n"
          ]
        },
        {
          "output_type": "stream",
          "name": "stderr",
          "text": [
            "C:\\Users\\user\\AppData\\Local\\Programs\\Python\\Python310\\lib\\site-packages\\mlxtend\\frequent_patterns\\fpcommon.py:109: DeprecationWarning: DataFrames with non-bool types result in worse computationalperformance and their support might be discontinued in the future.Please use a DataFrame with bool type\n",
            "  warnings.warn(\n"
          ]
        },
        {
          "output_type": "stream",
          "name": "stdout",
          "text": [
            "=== Completed Step: Apriori Frequent Itemsets in 0.92 seconds ===\n",
            "\n",
            "=== Starting Step: Apriori Association Rules ===\n",
            "=== Completed Step: Apriori Association Rules in 0.01 seconds ===\n",
            "\n",
            "=== Starting Step: Apriori Predictions ===\n"
          ]
        },
        {
          "output_type": "stream",
          "name": "stderr",
          "text": [
            "Generating Predictions: 100%|███████████████████████████████████████| 38/38 [00:19<00:00,  1.92it/s]\n",
            "C:\\Users\\user\\AppData\\Local\\Programs\\Python\\Python310\\lib\\site-packages\\mlxtend\\frequent_patterns\\fpcommon.py:109: DeprecationWarning: DataFrames with non-bool types result in worse computationalperformance and their support might be discontinued in the future.Please use a DataFrame with bool type\n",
            "  warnings.warn(\n"
          ]
        },
        {
          "output_type": "stream",
          "name": "stdout",
          "text": [
            "=== Completed Step: Apriori Predictions in 19.82 seconds ===\n",
            "\n",
            "Running FP-Growth for Experiment 1...\n",
            "\n",
            "=== Starting Step: FP-Growth Frequent Itemsets ===\n",
            "=== Completed Step: FP-Growth Frequent Itemsets in 2.08 seconds ===\n",
            "\n",
            "=== Starting Step: FP-Growth Association Rules ===\n",
            "=== Completed Step: FP-Growth Association Rules in 0.01 seconds ===\n",
            "\n",
            "=== Starting Step: FP-Growth Predictions ===\n"
          ]
        },
        {
          "output_type": "stream",
          "name": "stderr",
          "text": [
            "Generating Predictions: 100%|███████████████████████████████████████| 38/38 [00:19<00:00,  1.93it/s]\n",
            "C:\\Users\\user\\AppData\\Local\\Programs\\Python\\Python310\\lib\\site-packages\\mlxtend\\frequent_patterns\\fpcommon.py:109: DeprecationWarning: DataFrames with non-bool types result in worse computationalperformance and their support might be discontinued in the future.Please use a DataFrame with bool type\n",
            "  warnings.warn(\n"
          ]
        },
        {
          "output_type": "stream",
          "name": "stdout",
          "text": [
            "=== Completed Step: FP-Growth Predictions in 19.66 seconds ===\n",
            "\n",
            "=== Running Experiment 2 ===\n",
            "\n",
            "Running Apriori for Experiment 2...\n",
            "\n",
            "=== Starting Step: Apriori Frequent Itemsets ===\n",
            "=== Completed Step: Apriori Frequent Itemsets in 1.94 seconds ===\n",
            "\n",
            "=== Starting Step: Apriori Association Rules ===\n",
            "=== Completed Step: Apriori Association Rules in 0.02 seconds ===\n",
            "\n",
            "=== Starting Step: Apriori Predictions ===\n"
          ]
        },
        {
          "output_type": "stream",
          "name": "stderr",
          "text": [
            "Generating Predictions: 100%|███████████████████████████████████████| 38/38 [00:43<00:00,  1.14s/it]\n",
            "C:\\Users\\user\\AppData\\Local\\Programs\\Python\\Python310\\lib\\site-packages\\mlxtend\\frequent_patterns\\fpcommon.py:109: DeprecationWarning: DataFrames with non-bool types result in worse computationalperformance and their support might be discontinued in the future.Please use a DataFrame with bool type\n",
            "  warnings.warn(\n"
          ]
        },
        {
          "output_type": "stream",
          "name": "stdout",
          "text": [
            "=== Completed Step: Apriori Predictions in 43.50 seconds ===\n",
            "\n",
            "Running FP-Growth for Experiment 2...\n",
            "\n",
            "=== Starting Step: FP-Growth Frequent Itemsets ===\n",
            "=== Completed Step: FP-Growth Frequent Itemsets in 2.08 seconds ===\n",
            "\n",
            "=== Starting Step: FP-Growth Association Rules ===\n",
            "=== Completed Step: FP-Growth Association Rules in 0.02 seconds ===\n",
            "\n",
            "=== Starting Step: FP-Growth Predictions ===\n"
          ]
        },
        {
          "output_type": "stream",
          "name": "stderr",
          "text": [
            "Generating Predictions: 100%|███████████████████████████████████████| 38/38 [00:43<00:00,  1.14s/it]\n",
            "C:\\Users\\user\\AppData\\Local\\Programs\\Python\\Python310\\lib\\site-packages\\mlxtend\\frequent_patterns\\fpcommon.py:109: DeprecationWarning: DataFrames with non-bool types result in worse computationalperformance and their support might be discontinued in the future.Please use a DataFrame with bool type\n",
            "  warnings.warn(\n"
          ]
        },
        {
          "output_type": "stream",
          "name": "stdout",
          "text": [
            "=== Completed Step: FP-Growth Predictions in 43.32 seconds ===\n",
            "\n",
            "=== Running Experiment 3 ===\n",
            "\n",
            "Running Apriori for Experiment 3...\n",
            "\n",
            "=== Starting Step: Apriori Frequent Itemsets ===\n",
            "=== Completed Step: Apriori Frequent Itemsets in 0.88 seconds ===\n",
            "\n",
            "=== Starting Step: Apriori Association Rules ===\n",
            "=== Completed Step: Apriori Association Rules in 0.01 seconds ===\n",
            "\n",
            "=== Starting Step: Apriori Predictions ===\n"
          ]
        },
        {
          "output_type": "stream",
          "name": "stderr",
          "text": [
            "Generating Predictions: 100%|███████████████████████████████████████| 38/38 [00:18<00:00,  2.02it/s]\n",
            "C:\\Users\\user\\AppData\\Local\\Programs\\Python\\Python310\\lib\\site-packages\\mlxtend\\frequent_patterns\\fpcommon.py:109: DeprecationWarning: DataFrames with non-bool types result in worse computationalperformance and their support might be discontinued in the future.Please use a DataFrame with bool type\n",
            "  warnings.warn(\n"
          ]
        },
        {
          "output_type": "stream",
          "name": "stdout",
          "text": [
            "=== Completed Step: Apriori Predictions in 18.78 seconds ===\n",
            "\n",
            "Running FP-Growth for Experiment 3...\n",
            "\n",
            "=== Starting Step: FP-Growth Frequent Itemsets ===\n",
            "=== Completed Step: FP-Growth Frequent Itemsets in 2.24 seconds ===\n",
            "\n",
            "=== Starting Step: FP-Growth Association Rules ===\n",
            "=== Completed Step: FP-Growth Association Rules in 0.01 seconds ===\n",
            "\n",
            "=== Starting Step: FP-Growth Predictions ===\n"
          ]
        },
        {
          "output_type": "stream",
          "name": "stderr",
          "text": [
            "Generating Predictions: 100%|███████████████████████████████████████| 38/38 [00:18<00:00,  2.04it/s]\n",
            "C:\\Users\\user\\AppData\\Local\\Programs\\Python\\Python310\\lib\\site-packages\\mlxtend\\frequent_patterns\\fpcommon.py:109: DeprecationWarning: DataFrames with non-bool types result in worse computationalperformance and their support might be discontinued in the future.Please use a DataFrame with bool type\n",
            "  warnings.warn(\n"
          ]
        },
        {
          "output_type": "stream",
          "name": "stdout",
          "text": [
            "=== Completed Step: FP-Growth Predictions in 18.65 seconds ===\n",
            "\n",
            "=== Running Experiment 4 ===\n",
            "\n",
            "Running Apriori for Experiment 4...\n",
            "\n",
            "=== Starting Step: Apriori Frequent Itemsets ===\n",
            "=== Completed Step: Apriori Frequent Itemsets in 1.97 seconds ===\n",
            "\n",
            "=== Starting Step: Apriori Association Rules ===\n",
            "=== Completed Step: Apriori Association Rules in 0.02 seconds ===\n",
            "\n",
            "=== Starting Step: Apriori Predictions ===\n"
          ]
        },
        {
          "output_type": "stream",
          "name": "stderr",
          "text": [
            "Generating Predictions: 100%|███████████████████████████████████████| 38/38 [00:42<00:00,  1.12s/it]\n",
            "C:\\Users\\user\\AppData\\Local\\Programs\\Python\\Python310\\lib\\site-packages\\mlxtend\\frequent_patterns\\fpcommon.py:109: DeprecationWarning: DataFrames with non-bool types result in worse computationalperformance and their support might be discontinued in the future.Please use a DataFrame with bool type\n",
            "  warnings.warn(\n"
          ]
        },
        {
          "output_type": "stream",
          "name": "stdout",
          "text": [
            "=== Completed Step: Apriori Predictions in 42.75 seconds ===\n",
            "\n",
            "Running FP-Growth for Experiment 4...\n",
            "\n",
            "=== Starting Step: FP-Growth Frequent Itemsets ===\n",
            "=== Completed Step: FP-Growth Frequent Itemsets in 2.34 seconds ===\n",
            "\n",
            "=== Starting Step: FP-Growth Association Rules ===\n",
            "=== Completed Step: FP-Growth Association Rules in 0.02 seconds ===\n",
            "\n",
            "=== Starting Step: FP-Growth Predictions ===\n"
          ]
        },
        {
          "output_type": "stream",
          "name": "stderr",
          "text": [
            "Generating Predictions: 100%|███████████████████████████████████████| 38/38 [00:40<00:00,  1.07s/it]\n",
            "C:\\Users\\user\\AppData\\Local\\Programs\\Python\\Python310\\lib\\site-packages\\mlxtend\\frequent_patterns\\fpcommon.py:109: DeprecationWarning: DataFrames with non-bool types result in worse computationalperformance and their support might be discontinued in the future.Please use a DataFrame with bool type\n",
            "  warnings.warn(\n"
          ]
        },
        {
          "output_type": "stream",
          "name": "stdout",
          "text": [
            "=== Completed Step: FP-Growth Predictions in 40.66 seconds ===\n",
            "\n",
            "=== Running Experiment 5 ===\n",
            "\n",
            "Running Apriori for Experiment 5...\n",
            "\n",
            "=== Starting Step: Apriori Frequent Itemsets ===\n",
            "=== Completed Step: Apriori Frequent Itemsets in 0.85 seconds ===\n",
            "\n",
            "=== Starting Step: Apriori Association Rules ===\n",
            "=== Completed Step: Apriori Association Rules in 0.01 seconds ===\n",
            "\n",
            "=== Starting Step: Apriori Predictions ===\n"
          ]
        },
        {
          "output_type": "stream",
          "name": "stderr",
          "text": [
            "Generating Predictions: 100%|███████████████████████████████████████| 38/38 [00:14<00:00,  2.54it/s]\n",
            "C:\\Users\\user\\AppData\\Local\\Programs\\Python\\Python310\\lib\\site-packages\\mlxtend\\frequent_patterns\\fpcommon.py:109: DeprecationWarning: DataFrames with non-bool types result in worse computationalperformance and their support might be discontinued in the future.Please use a DataFrame with bool type\n",
            "  warnings.warn(\n"
          ]
        },
        {
          "output_type": "stream",
          "name": "stdout",
          "text": [
            "=== Completed Step: Apriori Predictions in 14.96 seconds ===\n",
            "\n",
            "Running FP-Growth for Experiment 5...\n",
            "\n",
            "=== Starting Step: FP-Growth Frequent Itemsets ===\n",
            "=== Completed Step: FP-Growth Frequent Itemsets in 2.07 seconds ===\n",
            "\n",
            "=== Starting Step: FP-Growth Association Rules ===\n",
            "=== Completed Step: FP-Growth Association Rules in 0.01 seconds ===\n",
            "\n",
            "=== Starting Step: FP-Growth Predictions ===\n"
          ]
        },
        {
          "output_type": "stream",
          "name": "stderr",
          "text": [
            "Generating Predictions: 100%|███████████████████████████████████████| 38/38 [00:14<00:00,  2.59it/s]\n",
            "C:\\Users\\user\\AppData\\Local\\Programs\\Python\\Python310\\lib\\site-packages\\mlxtend\\frequent_patterns\\fpcommon.py:109: DeprecationWarning: DataFrames with non-bool types result in worse computationalperformance and their support might be discontinued in the future.Please use a DataFrame with bool type\n",
            "  warnings.warn(\n"
          ]
        },
        {
          "output_type": "stream",
          "name": "stdout",
          "text": [
            "=== Completed Step: FP-Growth Predictions in 14.66 seconds ===\n",
            "\n",
            "=== Running Experiment 6 ===\n",
            "\n",
            "Running Apriori for Experiment 6...\n",
            "\n",
            "=== Starting Step: Apriori Frequent Itemsets ===\n",
            "=== Completed Step: Apriori Frequent Itemsets in 1.96 seconds ===\n",
            "\n",
            "=== Starting Step: Apriori Association Rules ===\n",
            "=== Completed Step: Apriori Association Rules in 0.02 seconds ===\n",
            "\n",
            "=== Starting Step: Apriori Predictions ===\n"
          ]
        },
        {
          "output_type": "stream",
          "name": "stderr",
          "text": [
            "Generating Predictions: 100%|███████████████████████████████████████| 38/38 [00:31<00:00,  1.22it/s]\n",
            "C:\\Users\\user\\AppData\\Local\\Programs\\Python\\Python310\\lib\\site-packages\\mlxtend\\frequent_patterns\\fpcommon.py:109: DeprecationWarning: DataFrames with non-bool types result in worse computationalperformance and their support might be discontinued in the future.Please use a DataFrame with bool type\n",
            "  warnings.warn(\n"
          ]
        },
        {
          "output_type": "stream",
          "name": "stdout",
          "text": [
            "=== Completed Step: Apriori Predictions in 31.10 seconds ===\n",
            "\n",
            "Running FP-Growth for Experiment 6...\n",
            "\n",
            "=== Starting Step: FP-Growth Frequent Itemsets ===\n",
            "=== Completed Step: FP-Growth Frequent Itemsets in 2.16 seconds ===\n",
            "\n",
            "=== Starting Step: FP-Growth Association Rules ===\n",
            "=== Completed Step: FP-Growth Association Rules in 0.02 seconds ===\n",
            "\n",
            "=== Starting Step: FP-Growth Predictions ===\n"
          ]
        },
        {
          "output_type": "stream",
          "name": "stderr",
          "text": [
            "Generating Predictions: 100%|███████████████████████████████████████| 38/38 [00:31<00:00,  1.22it/s]\n",
            "C:\\Users\\user\\AppData\\Local\\Programs\\Python\\Python310\\lib\\site-packages\\mlxtend\\frequent_patterns\\fpcommon.py:109: DeprecationWarning: DataFrames with non-bool types result in worse computationalperformance and their support might be discontinued in the future.Please use a DataFrame with bool type\n",
            "  warnings.warn(\n"
          ]
        },
        {
          "output_type": "stream",
          "name": "stdout",
          "text": [
            "=== Completed Step: FP-Growth Predictions in 31.20 seconds ===\n",
            "\n",
            "=== Running Experiment 7 ===\n",
            "\n",
            "Running Apriori for Experiment 7...\n",
            "\n",
            "=== Starting Step: Apriori Frequent Itemsets ===\n",
            "=== Completed Step: Apriori Frequent Itemsets in 0.93 seconds ===\n",
            "\n",
            "=== Starting Step: Apriori Association Rules ===\n",
            "=== Completed Step: Apriori Association Rules in 0.01 seconds ===\n",
            "\n",
            "=== Starting Step: Apriori Predictions ===\n"
          ]
        },
        {
          "output_type": "stream",
          "name": "stderr",
          "text": [
            "Generating Predictions: 100%|███████████████████████████████████████| 38/38 [00:12<00:00,  3.13it/s]\n",
            "C:\\Users\\user\\AppData\\Local\\Programs\\Python\\Python310\\lib\\site-packages\\mlxtend\\frequent_patterns\\fpcommon.py:109: DeprecationWarning: DataFrames with non-bool types result in worse computationalperformance and their support might be discontinued in the future.Please use a DataFrame with bool type\n",
            "  warnings.warn(\n"
          ]
        },
        {
          "output_type": "stream",
          "name": "stdout",
          "text": [
            "=== Completed Step: Apriori Predictions in 12.12 seconds ===\n",
            "\n",
            "Running FP-Growth for Experiment 7...\n",
            "\n",
            "=== Starting Step: FP-Growth Frequent Itemsets ===\n",
            "=== Completed Step: FP-Growth Frequent Itemsets in 1.92 seconds ===\n",
            "\n",
            "=== Starting Step: FP-Growth Association Rules ===\n",
            "=== Completed Step: FP-Growth Association Rules in 0.01 seconds ===\n",
            "\n",
            "=== Starting Step: FP-Growth Predictions ===\n"
          ]
        },
        {
          "output_type": "stream",
          "name": "stderr",
          "text": [
            "Generating Predictions: 100%|███████████████████████████████████████| 38/38 [00:12<00:00,  3.05it/s]\n",
            "C:\\Users\\user\\AppData\\Local\\Programs\\Python\\Python310\\lib\\site-packages\\mlxtend\\frequent_patterns\\fpcommon.py:109: DeprecationWarning: DataFrames with non-bool types result in worse computationalperformance and their support might be discontinued in the future.Please use a DataFrame with bool type\n",
            "  warnings.warn(\n"
          ]
        },
        {
          "output_type": "stream",
          "name": "stdout",
          "text": [
            "=== Completed Step: FP-Growth Predictions in 12.45 seconds ===\n",
            "\n",
            "=== Running Experiment 8 ===\n",
            "\n",
            "Running Apriori for Experiment 8...\n",
            "\n",
            "=== Starting Step: Apriori Frequent Itemsets ===\n",
            "=== Completed Step: Apriori Frequent Itemsets in 2.06 seconds ===\n",
            "\n",
            "=== Starting Step: Apriori Association Rules ===\n",
            "=== Completed Step: Apriori Association Rules in 0.02 seconds ===\n",
            "\n",
            "=== Starting Step: Apriori Predictions ===\n"
          ]
        },
        {
          "output_type": "stream",
          "name": "stderr",
          "text": [
            "Generating Predictions: 100%|███████████████████████████████████████| 38/38 [00:24<00:00,  1.52it/s]\n",
            "C:\\Users\\user\\AppData\\Local\\Programs\\Python\\Python310\\lib\\site-packages\\mlxtend\\frequent_patterns\\fpcommon.py:109: DeprecationWarning: DataFrames with non-bool types result in worse computationalperformance and their support might be discontinued in the future.Please use a DataFrame with bool type\n",
            "  warnings.warn(\n"
          ]
        },
        {
          "output_type": "stream",
          "name": "stdout",
          "text": [
            "=== Completed Step: Apriori Predictions in 24.97 seconds ===\n",
            "\n",
            "Running FP-Growth for Experiment 8...\n",
            "\n",
            "=== Starting Step: FP-Growth Frequent Itemsets ===\n",
            "=== Completed Step: FP-Growth Frequent Itemsets in 1.93 seconds ===\n",
            "\n",
            "=== Starting Step: FP-Growth Association Rules ===\n",
            "=== Completed Step: FP-Growth Association Rules in 0.27 seconds ===\n",
            "\n",
            "=== Starting Step: FP-Growth Predictions ===\n"
          ]
        },
        {
          "output_type": "stream",
          "name": "stderr",
          "text": [
            "Generating Predictions: 100%|███████████████████████████████████████| 38/38 [00:24<00:00,  1.53it/s]\n",
            "C:\\Users\\user\\AppData\\Local\\Programs\\Python\\Python310\\lib\\site-packages\\mlxtend\\frequent_patterns\\fpcommon.py:109: DeprecationWarning: DataFrames with non-bool types result in worse computationalperformance and their support might be discontinued in the future.Please use a DataFrame with bool type\n",
            "  warnings.warn(\n"
          ]
        },
        {
          "output_type": "stream",
          "name": "stdout",
          "text": [
            "=== Completed Step: FP-Growth Predictions in 24.81 seconds ===\n",
            "\n",
            "=== Running Experiment 9 ===\n",
            "\n",
            "Running Apriori for Experiment 9...\n",
            "\n",
            "=== Starting Step: Apriori Frequent Itemsets ===\n",
            "=== Completed Step: Apriori Frequent Itemsets in 0.90 seconds ===\n",
            "\n",
            "=== Starting Step: Apriori Association Rules ===\n",
            "=== Completed Step: Apriori Association Rules in 0.00 seconds ===\n",
            "\n",
            "=== Starting Step: Apriori Predictions ===\n"
          ]
        },
        {
          "output_type": "stream",
          "name": "stderr",
          "text": [
            "Generating Predictions: 100%|███████████████████████████████████████| 38/38 [00:10<00:00,  3.48it/s]\n",
            "C:\\Users\\user\\AppData\\Local\\Programs\\Python\\Python310\\lib\\site-packages\\mlxtend\\frequent_patterns\\fpcommon.py:109: DeprecationWarning: DataFrames with non-bool types result in worse computationalperformance and their support might be discontinued in the future.Please use a DataFrame with bool type\n",
            "  warnings.warn(\n"
          ]
        },
        {
          "output_type": "stream",
          "name": "stdout",
          "text": [
            "=== Completed Step: Apriori Predictions in 10.91 seconds ===\n",
            "\n",
            "Running FP-Growth for Experiment 9...\n",
            "\n",
            "=== Starting Step: FP-Growth Frequent Itemsets ===\n",
            "=== Completed Step: FP-Growth Frequent Itemsets in 1.75 seconds ===\n",
            "\n",
            "=== Starting Step: FP-Growth Association Rules ===\n",
            "=== Completed Step: FP-Growth Association Rules in 0.00 seconds ===\n",
            "\n",
            "=== Starting Step: FP-Growth Predictions ===\n"
          ]
        },
        {
          "output_type": "stream",
          "name": "stderr",
          "text": [
            "Generating Predictions: 100%|███████████████████████████████████████| 38/38 [00:10<00:00,  3.48it/s]\n",
            "C:\\Users\\user\\AppData\\Local\\Programs\\Python\\Python310\\lib\\site-packages\\mlxtend\\frequent_patterns\\fpcommon.py:109: DeprecationWarning: DataFrames with non-bool types result in worse computationalperformance and their support might be discontinued in the future.Please use a DataFrame with bool type\n",
            "  warnings.warn(\n"
          ]
        },
        {
          "output_type": "stream",
          "name": "stdout",
          "text": [
            "=== Completed Step: FP-Growth Predictions in 10.91 seconds ===\n",
            "\n",
            "=== Running Experiment 10 ===\n",
            "\n",
            "Running Apriori for Experiment 10...\n",
            "\n",
            "=== Starting Step: Apriori Frequent Itemsets ===\n",
            "=== Completed Step: Apriori Frequent Itemsets in 1.15 seconds ===\n",
            "\n",
            "=== Starting Step: Apriori Association Rules ===\n",
            "=== Completed Step: Apriori Association Rules in 0.00 seconds ===\n",
            "\n",
            "=== Starting Step: Apriori Predictions ===\n"
          ]
        },
        {
          "output_type": "stream",
          "name": "stderr",
          "text": [
            "Generating Predictions: 100%|███████████████████████████████████████| 38/38 [00:12<00:00,  3.10it/s]\n",
            "C:\\Users\\user\\AppData\\Local\\Programs\\Python\\Python310\\lib\\site-packages\\mlxtend\\frequent_patterns\\fpcommon.py:109: DeprecationWarning: DataFrames with non-bool types result in worse computationalperformance and their support might be discontinued in the future.Please use a DataFrame with bool type\n",
            "  warnings.warn(\n"
          ]
        },
        {
          "output_type": "stream",
          "name": "stdout",
          "text": [
            "=== Completed Step: Apriori Predictions in 12.25 seconds ===\n",
            "\n",
            "Running FP-Growth for Experiment 10...\n",
            "\n",
            "=== Starting Step: FP-Growth Frequent Itemsets ===\n",
            "=== Completed Step: FP-Growth Frequent Itemsets in 1.83 seconds ===\n",
            "\n",
            "=== Starting Step: FP-Growth Association Rules ===\n",
            "=== Completed Step: FP-Growth Association Rules in 0.00 seconds ===\n",
            "\n",
            "=== Starting Step: FP-Growth Predictions ===\n"
          ]
        },
        {
          "output_type": "stream",
          "name": "stderr",
          "text": [
            "Generating Predictions: 100%|███████████████████████████████████████| 38/38 [00:11<00:00,  3.17it/s]\n",
            "C:\\Users\\user\\AppData\\Local\\Programs\\Python\\Python310\\lib\\site-packages\\mlxtend\\frequent_patterns\\fpcommon.py:109: DeprecationWarning: DataFrames with non-bool types result in worse computationalperformance and their support might be discontinued in the future.Please use a DataFrame with bool type\n",
            "  warnings.warn(\n"
          ]
        },
        {
          "output_type": "stream",
          "name": "stdout",
          "text": [
            "=== Completed Step: FP-Growth Predictions in 11.98 seconds ===\n",
            "\n",
            "=== Running Experiment 11 ===\n",
            "\n",
            "Running Apriori for Experiment 11...\n",
            "\n",
            "=== Starting Step: Apriori Frequent Itemsets ===\n",
            "=== Completed Step: Apriori Frequent Itemsets in 0.88 seconds ===\n",
            "\n",
            "=== Starting Step: Apriori Association Rules ===\n",
            "=== Completed Step: Apriori Association Rules in 0.00 seconds ===\n",
            "\n",
            "=== Starting Step: Apriori Predictions ===\n"
          ]
        },
        {
          "output_type": "stream",
          "name": "stderr",
          "text": [
            "Generating Predictions: 100%|███████████████████████████████████████| 38/38 [00:10<00:00,  3.47it/s]\n",
            "C:\\Users\\user\\AppData\\Local\\Programs\\Python\\Python310\\lib\\site-packages\\mlxtend\\frequent_patterns\\fpcommon.py:109: DeprecationWarning: DataFrames with non-bool types result in worse computationalperformance and their support might be discontinued in the future.Please use a DataFrame with bool type\n",
            "  warnings.warn(\n"
          ]
        },
        {
          "output_type": "stream",
          "name": "stdout",
          "text": [
            "=== Completed Step: Apriori Predictions in 10.95 seconds ===\n",
            "\n",
            "Running FP-Growth for Experiment 11...\n",
            "\n",
            "=== Starting Step: FP-Growth Frequent Itemsets ===\n",
            "=== Completed Step: FP-Growth Frequent Itemsets in 1.87 seconds ===\n",
            "\n",
            "=== Starting Step: FP-Growth Association Rules ===\n",
            "=== Completed Step: FP-Growth Association Rules in 0.00 seconds ===\n",
            "\n",
            "=== Starting Step: FP-Growth Predictions ===\n"
          ]
        },
        {
          "output_type": "stream",
          "name": "stderr",
          "text": [
            "Generating Predictions: 100%|███████████████████████████████████████| 38/38 [00:10<00:00,  3.49it/s]\n",
            "C:\\Users\\user\\AppData\\Local\\Programs\\Python\\Python310\\lib\\site-packages\\mlxtend\\frequent_patterns\\fpcommon.py:109: DeprecationWarning: DataFrames with non-bool types result in worse computationalperformance and their support might be discontinued in the future.Please use a DataFrame with bool type\n",
            "  warnings.warn(\n"
          ]
        },
        {
          "output_type": "stream",
          "name": "stdout",
          "text": [
            "=== Completed Step: FP-Growth Predictions in 10.89 seconds ===\n",
            "\n",
            "=== Running Experiment 12 ===\n",
            "\n",
            "Running Apriori for Experiment 12...\n",
            "\n",
            "=== Starting Step: Apriori Frequent Itemsets ===\n",
            "=== Completed Step: Apriori Frequent Itemsets in 1.16 seconds ===\n",
            "\n",
            "=== Starting Step: Apriori Association Rules ===\n",
            "=== Completed Step: Apriori Association Rules in 0.00 seconds ===\n",
            "\n",
            "=== Starting Step: Apriori Predictions ===\n"
          ]
        },
        {
          "output_type": "stream",
          "name": "stderr",
          "text": [
            "Generating Predictions: 100%|███████████████████████████████████████| 38/38 [00:12<00:00,  3.08it/s]\n",
            "C:\\Users\\user\\AppData\\Local\\Programs\\Python\\Python310\\lib\\site-packages\\mlxtend\\frequent_patterns\\fpcommon.py:109: DeprecationWarning: DataFrames with non-bool types result in worse computationalperformance and their support might be discontinued in the future.Please use a DataFrame with bool type\n",
            "  warnings.warn(\n"
          ]
        },
        {
          "output_type": "stream",
          "name": "stdout",
          "text": [
            "=== Completed Step: Apriori Predictions in 12.33 seconds ===\n",
            "\n",
            "Running FP-Growth for Experiment 12...\n",
            "\n",
            "=== Starting Step: FP-Growth Frequent Itemsets ===\n",
            "=== Completed Step: FP-Growth Frequent Itemsets in 1.78 seconds ===\n",
            "\n",
            "=== Starting Step: FP-Growth Association Rules ===\n",
            "=== Completed Step: FP-Growth Association Rules in 0.00 seconds ===\n",
            "\n",
            "=== Starting Step: FP-Growth Predictions ===\n"
          ]
        },
        {
          "output_type": "stream",
          "name": "stderr",
          "text": [
            "Generating Predictions: 100%|███████████████████████████████████████| 38/38 [00:12<00:00,  3.13it/s]\n",
            "C:\\Users\\user\\AppData\\Local\\Programs\\Python\\Python310\\lib\\site-packages\\mlxtend\\frequent_patterns\\fpcommon.py:109: DeprecationWarning: DataFrames with non-bool types result in worse computationalperformance and their support might be discontinued in the future.Please use a DataFrame with bool type\n",
            "  warnings.warn(\n"
          ]
        },
        {
          "output_type": "stream",
          "name": "stdout",
          "text": [
            "=== Completed Step: FP-Growth Predictions in 12.13 seconds ===\n",
            "\n",
            "=== Running Experiment 13 ===\n",
            "\n",
            "Running Apriori for Experiment 13...\n",
            "\n",
            "=== Starting Step: Apriori Frequent Itemsets ===\n",
            "=== Completed Step: Apriori Frequent Itemsets in 0.91 seconds ===\n",
            "\n",
            "=== Starting Step: Apriori Association Rules ===\n",
            "=== Completed Step: Apriori Association Rules in 0.00 seconds ===\n",
            "\n",
            "=== Starting Step: Apriori Predictions ===\n"
          ]
        },
        {
          "output_type": "stream",
          "name": "stderr",
          "text": [
            "Generating Predictions: 100%|███████████████████████████████████████| 38/38 [00:10<00:00,  3.52it/s]\n",
            "C:\\Users\\user\\AppData\\Local\\Programs\\Python\\Python310\\lib\\site-packages\\mlxtend\\frequent_patterns\\fpcommon.py:109: DeprecationWarning: DataFrames with non-bool types result in worse computationalperformance and their support might be discontinued in the future.Please use a DataFrame with bool type\n",
            "  warnings.warn(\n"
          ]
        },
        {
          "output_type": "stream",
          "name": "stdout",
          "text": [
            "=== Completed Step: Apriori Predictions in 10.80 seconds ===\n",
            "\n",
            "Running FP-Growth for Experiment 13...\n",
            "\n",
            "=== Starting Step: FP-Growth Frequent Itemsets ===\n",
            "=== Completed Step: FP-Growth Frequent Itemsets in 1.90 seconds ===\n",
            "\n",
            "=== Starting Step: FP-Growth Association Rules ===\n",
            "=== Completed Step: FP-Growth Association Rules in 0.00 seconds ===\n",
            "\n",
            "=== Starting Step: FP-Growth Predictions ===\n"
          ]
        },
        {
          "output_type": "stream",
          "name": "stderr",
          "text": [
            "Generating Predictions: 100%|███████████████████████████████████████| 38/38 [00:10<00:00,  3.55it/s]\n",
            "C:\\Users\\user\\AppData\\Local\\Programs\\Python\\Python310\\lib\\site-packages\\mlxtend\\frequent_patterns\\fpcommon.py:109: DeprecationWarning: DataFrames with non-bool types result in worse computationalperformance and their support might be discontinued in the future.Please use a DataFrame with bool type\n",
            "  warnings.warn(\n"
          ]
        },
        {
          "output_type": "stream",
          "name": "stdout",
          "text": [
            "=== Completed Step: FP-Growth Predictions in 10.71 seconds ===\n",
            "\n",
            "=== Running Experiment 14 ===\n",
            "\n",
            "Running Apriori for Experiment 14...\n",
            "\n",
            "=== Starting Step: Apriori Frequent Itemsets ===\n",
            "=== Completed Step: Apriori Frequent Itemsets in 1.19 seconds ===\n",
            "\n",
            "=== Starting Step: Apriori Association Rules ===\n",
            "=== Completed Step: Apriori Association Rules in 0.00 seconds ===\n",
            "\n",
            "=== Starting Step: Apriori Predictions ===\n"
          ]
        },
        {
          "output_type": "stream",
          "name": "stderr",
          "text": [
            "Generating Predictions: 100%|███████████████████████████████████████| 38/38 [00:11<00:00,  3.19it/s]\n",
            "C:\\Users\\user\\AppData\\Local\\Programs\\Python\\Python310\\lib\\site-packages\\mlxtend\\frequent_patterns\\fpcommon.py:109: DeprecationWarning: DataFrames with non-bool types result in worse computationalperformance and their support might be discontinued in the future.Please use a DataFrame with bool type\n",
            "  warnings.warn(\n"
          ]
        },
        {
          "output_type": "stream",
          "name": "stdout",
          "text": [
            "=== Completed Step: Apriori Predictions in 11.92 seconds ===\n",
            "\n",
            "Running FP-Growth for Experiment 14...\n",
            "\n",
            "=== Starting Step: FP-Growth Frequent Itemsets ===\n",
            "=== Completed Step: FP-Growth Frequent Itemsets in 1.78 seconds ===\n",
            "\n",
            "=== Starting Step: FP-Growth Association Rules ===\n",
            "=== Completed Step: FP-Growth Association Rules in 0.00 seconds ===\n",
            "\n",
            "=== Starting Step: FP-Growth Predictions ===\n"
          ]
        },
        {
          "output_type": "stream",
          "name": "stderr",
          "text": [
            "Generating Predictions: 100%|███████████████████████████████████████| 38/38 [00:11<00:00,  3.28it/s]\n",
            "C:\\Users\\user\\AppData\\Local\\Programs\\Python\\Python310\\lib\\site-packages\\mlxtend\\frequent_patterns\\fpcommon.py:109: DeprecationWarning: DataFrames with non-bool types result in worse computationalperformance and their support might be discontinued in the future.Please use a DataFrame with bool type\n",
            "  warnings.warn(\n"
          ]
        },
        {
          "output_type": "stream",
          "name": "stdout",
          "text": [
            "=== Completed Step: FP-Growth Predictions in 11.59 seconds ===\n",
            "\n",
            "=== Running Experiment 15 ===\n",
            "\n",
            "Running Apriori for Experiment 15...\n",
            "\n",
            "=== Starting Step: Apriori Frequent Itemsets ===\n",
            "=== Completed Step: Apriori Frequent Itemsets in 0.88 seconds ===\n",
            "\n",
            "=== Starting Step: Apriori Association Rules ===\n",
            "=== Completed Step: Apriori Association Rules in 0.00 seconds ===\n",
            "\n",
            "=== Starting Step: Apriori Predictions ===\n"
          ]
        },
        {
          "output_type": "stream",
          "name": "stderr",
          "text": [
            "Generating Predictions: 100%|███████████████████████████████████████| 38/38 [00:10<00:00,  3.73it/s]\n",
            "C:\\Users\\user\\AppData\\Local\\Programs\\Python\\Python310\\lib\\site-packages\\mlxtend\\frequent_patterns\\fpcommon.py:109: DeprecationWarning: DataFrames with non-bool types result in worse computationalperformance and their support might be discontinued in the future.Please use a DataFrame with bool type\n",
            "  warnings.warn(\n"
          ]
        },
        {
          "output_type": "stream",
          "name": "stdout",
          "text": [
            "=== Completed Step: Apriori Predictions in 10.20 seconds ===\n",
            "\n",
            "Running FP-Growth for Experiment 15...\n",
            "\n",
            "=== Starting Step: FP-Growth Frequent Itemsets ===\n",
            "=== Completed Step: FP-Growth Frequent Itemsets in 1.87 seconds ===\n",
            "\n",
            "=== Starting Step: FP-Growth Association Rules ===\n",
            "=== Completed Step: FP-Growth Association Rules in 0.00 seconds ===\n",
            "\n",
            "=== Starting Step: FP-Growth Predictions ===\n"
          ]
        },
        {
          "output_type": "stream",
          "name": "stderr",
          "text": [
            "Generating Predictions: 100%|███████████████████████████████████████| 38/38 [00:10<00:00,  3.75it/s]\n",
            "C:\\Users\\user\\AppData\\Local\\Programs\\Python\\Python310\\lib\\site-packages\\mlxtend\\frequent_patterns\\fpcommon.py:109: DeprecationWarning: DataFrames with non-bool types result in worse computationalperformance and their support might be discontinued in the future.Please use a DataFrame with bool type\n",
            "  warnings.warn(\n"
          ]
        },
        {
          "output_type": "stream",
          "name": "stdout",
          "text": [
            "=== Completed Step: FP-Growth Predictions in 10.13 seconds ===\n",
            "\n",
            "=== Running Experiment 16 ===\n",
            "\n",
            "Running Apriori for Experiment 16...\n",
            "\n",
            "=== Starting Step: Apriori Frequent Itemsets ===\n",
            "=== Completed Step: Apriori Frequent Itemsets in 1.41 seconds ===\n",
            "\n",
            "=== Starting Step: Apriori Association Rules ===\n",
            "=== Completed Step: Apriori Association Rules in 0.00 seconds ===\n",
            "\n",
            "=== Starting Step: Apriori Predictions ===\n"
          ]
        },
        {
          "output_type": "stream",
          "name": "stderr",
          "text": [
            "Generating Predictions: 100%|███████████████████████████████████████| 38/38 [00:10<00:00,  3.56it/s]\n",
            "C:\\Users\\user\\AppData\\Local\\Programs\\Python\\Python310\\lib\\site-packages\\mlxtend\\frequent_patterns\\fpcommon.py:109: DeprecationWarning: DataFrames with non-bool types result in worse computationalperformance and their support might be discontinued in the future.Please use a DataFrame with bool type\n",
            "  warnings.warn(\n"
          ]
        },
        {
          "output_type": "stream",
          "name": "stdout",
          "text": [
            "=== Completed Step: Apriori Predictions in 10.67 seconds ===\n",
            "\n",
            "Running FP-Growth for Experiment 16...\n",
            "\n",
            "=== Starting Step: FP-Growth Frequent Itemsets ===\n",
            "=== Completed Step: FP-Growth Frequent Itemsets in 1.80 seconds ===\n",
            "\n",
            "=== Starting Step: FP-Growth Association Rules ===\n",
            "=== Completed Step: FP-Growth Association Rules in 0.00 seconds ===\n",
            "\n",
            "=== Starting Step: FP-Growth Predictions ===\n"
          ]
        },
        {
          "output_type": "stream",
          "name": "stderr",
          "text": [
            "Generating Predictions: 100%|███████████████████████████████████████| 38/38 [00:10<00:00,  3.60it/s]\n",
            "C:\\Users\\user\\AppData\\Local\\Programs\\Python\\Python310\\lib\\site-packages\\mlxtend\\frequent_patterns\\fpcommon.py:109: DeprecationWarning: DataFrames with non-bool types result in worse computationalperformance and their support might be discontinued in the future.Please use a DataFrame with bool type\n",
            "  warnings.warn(\n"
          ]
        },
        {
          "output_type": "stream",
          "name": "stdout",
          "text": [
            "=== Completed Step: FP-Growth Predictions in 10.56 seconds ===\n",
            "\n",
            "=== Running Experiment 17 ===\n",
            "\n",
            "Running Apriori for Experiment 17...\n",
            "\n",
            "=== Starting Step: Apriori Frequent Itemsets ===\n",
            "=== Completed Step: Apriori Frequent Itemsets in 0.50 seconds ===\n",
            "\n",
            "=== Starting Step: Apriori Association Rules ===\n",
            "=== Completed Step: Apriori Association Rules in 0.00 seconds ===\n",
            "\n",
            "=== Starting Step: Apriori Predictions ===\n"
          ]
        },
        {
          "output_type": "stream",
          "name": "stderr",
          "text": [
            "Generating Predictions: 100%|███████████████████████████████████████| 38/38 [00:07<00:00,  4.82it/s]\n",
            "C:\\Users\\user\\AppData\\Local\\Programs\\Python\\Python310\\lib\\site-packages\\mlxtend\\frequent_patterns\\fpcommon.py:109: DeprecationWarning: DataFrames with non-bool types result in worse computationalperformance and their support might be discontinued in the future.Please use a DataFrame with bool type\n",
            "  warnings.warn(\n"
          ]
        },
        {
          "output_type": "stream",
          "name": "stdout",
          "text": [
            "=== Completed Step: Apriori Predictions in 7.88 seconds ===\n",
            "\n",
            "Running FP-Growth for Experiment 17...\n",
            "\n",
            "=== Starting Step: FP-Growth Frequent Itemsets ===\n",
            "=== Completed Step: FP-Growth Frequent Itemsets in 1.03 seconds ===\n",
            "\n",
            "=== Starting Step: FP-Growth Association Rules ===\n",
            "=== Completed Step: FP-Growth Association Rules in 0.00 seconds ===\n",
            "\n",
            "=== Starting Step: FP-Growth Predictions ===\n"
          ]
        },
        {
          "output_type": "stream",
          "name": "stderr",
          "text": [
            "Generating Predictions: 100%|███████████████████████████████████████| 38/38 [00:07<00:00,  4.84it/s]\n",
            "C:\\Users\\user\\AppData\\Local\\Programs\\Python\\Python310\\lib\\site-packages\\mlxtend\\frequent_patterns\\fpcommon.py:109: DeprecationWarning: DataFrames with non-bool types result in worse computationalperformance and their support might be discontinued in the future.Please use a DataFrame with bool type\n",
            "  warnings.warn(\n"
          ]
        },
        {
          "output_type": "stream",
          "name": "stdout",
          "text": [
            "=== Completed Step: FP-Growth Predictions in 7.85 seconds ===\n",
            "\n",
            "=== Running Experiment 18 ===\n",
            "\n",
            "Running Apriori for Experiment 18...\n",
            "\n",
            "=== Starting Step: Apriori Frequent Itemsets ===\n",
            "=== Completed Step: Apriori Frequent Itemsets in 0.55 seconds ===\n",
            "\n",
            "=== Starting Step: Apriori Association Rules ===\n",
            "=== Completed Step: Apriori Association Rules in 0.00 seconds ===\n",
            "\n",
            "=== Starting Step: Apriori Predictions ===\n"
          ]
        },
        {
          "output_type": "stream",
          "name": "stderr",
          "text": [
            "Generating Predictions: 100%|███████████████████████████████████████| 38/38 [00:07<00:00,  4.79it/s]\n",
            "C:\\Users\\user\\AppData\\Local\\Programs\\Python\\Python310\\lib\\site-packages\\mlxtend\\frequent_patterns\\fpcommon.py:109: DeprecationWarning: DataFrames with non-bool types result in worse computationalperformance and their support might be discontinued in the future.Please use a DataFrame with bool type\n",
            "  warnings.warn(\n"
          ]
        },
        {
          "output_type": "stream",
          "name": "stdout",
          "text": [
            "=== Completed Step: Apriori Predictions in 7.94 seconds ===\n",
            "\n",
            "Running FP-Growth for Experiment 18...\n",
            "\n",
            "=== Starting Step: FP-Growth Frequent Itemsets ===\n",
            "=== Completed Step: FP-Growth Frequent Itemsets in 0.96 seconds ===\n",
            "\n",
            "=== Starting Step: FP-Growth Association Rules ===\n",
            "=== Completed Step: FP-Growth Association Rules in 0.00 seconds ===\n",
            "\n",
            "=== Starting Step: FP-Growth Predictions ===\n"
          ]
        },
        {
          "output_type": "stream",
          "name": "stderr",
          "text": [
            "Generating Predictions: 100%|███████████████████████████████████████| 38/38 [00:08<00:00,  4.75it/s]\n",
            "C:\\Users\\user\\AppData\\Local\\Programs\\Python\\Python310\\lib\\site-packages\\mlxtend\\frequent_patterns\\fpcommon.py:109: DeprecationWarning: DataFrames with non-bool types result in worse computationalperformance and their support might be discontinued in the future.Please use a DataFrame with bool type\n",
            "  warnings.warn(\n"
          ]
        },
        {
          "output_type": "stream",
          "name": "stdout",
          "text": [
            "=== Completed Step: FP-Growth Predictions in 8.00 seconds ===\n",
            "\n",
            "=== Running Experiment 19 ===\n",
            "\n",
            "Running Apriori for Experiment 19...\n",
            "\n",
            "=== Starting Step: Apriori Frequent Itemsets ===\n",
            "=== Completed Step: Apriori Frequent Itemsets in 0.47 seconds ===\n",
            "\n",
            "=== Starting Step: Apriori Association Rules ===\n",
            "=== Completed Step: Apriori Association Rules in 0.00 seconds ===\n",
            "\n",
            "=== Starting Step: Apriori Predictions ===\n"
          ]
        },
        {
          "output_type": "stream",
          "name": "stderr",
          "text": [
            "Generating Predictions: 100%|███████████████████████████████████████| 38/38 [00:07<00:00,  4.78it/s]\n",
            "C:\\Users\\user\\AppData\\Local\\Programs\\Python\\Python310\\lib\\site-packages\\mlxtend\\frequent_patterns\\fpcommon.py:109: DeprecationWarning: DataFrames with non-bool types result in worse computationalperformance and their support might be discontinued in the future.Please use a DataFrame with bool type\n",
            "  warnings.warn(\n"
          ]
        },
        {
          "output_type": "stream",
          "name": "stdout",
          "text": [
            "=== Completed Step: Apriori Predictions in 7.95 seconds ===\n",
            "\n",
            "Running FP-Growth for Experiment 19...\n",
            "\n",
            "=== Starting Step: FP-Growth Frequent Itemsets ===\n",
            "=== Completed Step: FP-Growth Frequent Itemsets in 0.94 seconds ===\n",
            "\n",
            "=== Starting Step: FP-Growth Association Rules ===\n",
            "=== Completed Step: FP-Growth Association Rules in 0.00 seconds ===\n",
            "\n",
            "=== Starting Step: FP-Growth Predictions ===\n"
          ]
        },
        {
          "output_type": "stream",
          "name": "stderr",
          "text": [
            "Generating Predictions: 100%|███████████████████████████████████████| 38/38 [00:07<00:00,  4.78it/s]\n",
            "C:\\Users\\user\\AppData\\Local\\Programs\\Python\\Python310\\lib\\site-packages\\mlxtend\\frequent_patterns\\fpcommon.py:109: DeprecationWarning: DataFrames with non-bool types result in worse computationalperformance and their support might be discontinued in the future.Please use a DataFrame with bool type\n",
            "  warnings.warn(\n"
          ]
        },
        {
          "output_type": "stream",
          "name": "stdout",
          "text": [
            "=== Completed Step: FP-Growth Predictions in 7.95 seconds ===\n",
            "\n",
            "=== Running Experiment 20 ===\n",
            "\n",
            "Running Apriori for Experiment 20...\n",
            "\n",
            "=== Starting Step: Apriori Frequent Itemsets ===\n",
            "=== Completed Step: Apriori Frequent Itemsets in 0.56 seconds ===\n",
            "\n",
            "=== Starting Step: Apriori Association Rules ===\n",
            "=== Completed Step: Apriori Association Rules in 0.00 seconds ===\n",
            "\n",
            "=== Starting Step: Apriori Predictions ===\n"
          ]
        },
        {
          "output_type": "stream",
          "name": "stderr",
          "text": [
            "Generating Predictions: 100%|███████████████████████████████████████| 38/38 [00:07<00:00,  4.80it/s]\n",
            "C:\\Users\\user\\AppData\\Local\\Programs\\Python\\Python310\\lib\\site-packages\\mlxtend\\frequent_patterns\\fpcommon.py:109: DeprecationWarning: DataFrames with non-bool types result in worse computationalperformance and their support might be discontinued in the future.Please use a DataFrame with bool type\n",
            "  warnings.warn(\n"
          ]
        },
        {
          "output_type": "stream",
          "name": "stdout",
          "text": [
            "=== Completed Step: Apriori Predictions in 7.92 seconds ===\n",
            "\n",
            "Running FP-Growth for Experiment 20...\n",
            "\n",
            "=== Starting Step: FP-Growth Frequent Itemsets ===\n",
            "=== Completed Step: FP-Growth Frequent Itemsets in 0.96 seconds ===\n",
            "\n",
            "=== Starting Step: FP-Growth Association Rules ===\n",
            "=== Completed Step: FP-Growth Association Rules in 0.00 seconds ===\n",
            "\n",
            "=== Starting Step: FP-Growth Predictions ===\n"
          ]
        },
        {
          "output_type": "stream",
          "name": "stderr",
          "text": [
            "Generating Predictions: 100%|███████████████████████████████████████| 38/38 [00:07<00:00,  4.82it/s]\n",
            "C:\\Users\\user\\AppData\\Local\\Programs\\Python\\Python310\\lib\\site-packages\\mlxtend\\frequent_patterns\\fpcommon.py:109: DeprecationWarning: DataFrames with non-bool types result in worse computationalperformance and their support might be discontinued in the future.Please use a DataFrame with bool type\n",
            "  warnings.warn(\n"
          ]
        },
        {
          "output_type": "stream",
          "name": "stdout",
          "text": [
            "=== Completed Step: FP-Growth Predictions in 7.88 seconds ===\n",
            "\n",
            "=== Running Experiment 21 ===\n",
            "\n",
            "Running Apriori for Experiment 21...\n",
            "\n",
            "=== Starting Step: Apriori Frequent Itemsets ===\n",
            "=== Completed Step: Apriori Frequent Itemsets in 0.49 seconds ===\n",
            "\n",
            "=== Starting Step: Apriori Association Rules ===\n",
            "=== Completed Step: Apriori Association Rules in 0.00 seconds ===\n",
            "\n",
            "=== Starting Step: Apriori Predictions ===\n"
          ]
        },
        {
          "output_type": "stream",
          "name": "stderr",
          "text": [
            "Generating Predictions: 100%|███████████████████████████████████████| 38/38 [00:08<00:00,  4.72it/s]\n",
            "C:\\Users\\user\\AppData\\Local\\Programs\\Python\\Python310\\lib\\site-packages\\mlxtend\\frequent_patterns\\fpcommon.py:109: DeprecationWarning: DataFrames with non-bool types result in worse computationalperformance and their support might be discontinued in the future.Please use a DataFrame with bool type\n",
            "  warnings.warn(\n"
          ]
        },
        {
          "output_type": "stream",
          "name": "stdout",
          "text": [
            "=== Completed Step: Apriori Predictions in 8.06 seconds ===\n",
            "\n",
            "Running FP-Growth for Experiment 21...\n",
            "\n",
            "=== Starting Step: FP-Growth Frequent Itemsets ===\n",
            "=== Completed Step: FP-Growth Frequent Itemsets in 1.04 seconds ===\n",
            "\n",
            "=== Starting Step: FP-Growth Association Rules ===\n",
            "=== Completed Step: FP-Growth Association Rules in 0.00 seconds ===\n",
            "\n",
            "=== Starting Step: FP-Growth Predictions ===\n"
          ]
        },
        {
          "output_type": "stream",
          "name": "stderr",
          "text": [
            "Generating Predictions: 100%|███████████████████████████████████████| 38/38 [00:08<00:00,  4.73it/s]\n",
            "C:\\Users\\user\\AppData\\Local\\Programs\\Python\\Python310\\lib\\site-packages\\mlxtend\\frequent_patterns\\fpcommon.py:109: DeprecationWarning: DataFrames with non-bool types result in worse computationalperformance and their support might be discontinued in the future.Please use a DataFrame with bool type\n",
            "  warnings.warn(\n"
          ]
        },
        {
          "output_type": "stream",
          "name": "stdout",
          "text": [
            "=== Completed Step: FP-Growth Predictions in 8.04 seconds ===\n",
            "\n",
            "=== Running Experiment 22 ===\n",
            "\n",
            "Running Apriori for Experiment 22...\n",
            "\n",
            "=== Starting Step: Apriori Frequent Itemsets ===\n",
            "=== Completed Step: Apriori Frequent Itemsets in 0.60 seconds ===\n",
            "\n",
            "=== Starting Step: Apriori Association Rules ===\n",
            "=== Completed Step: Apriori Association Rules in 0.00 seconds ===\n",
            "\n",
            "=== Starting Step: Apriori Predictions ===\n"
          ]
        },
        {
          "output_type": "stream",
          "name": "stderr",
          "text": [
            "Generating Predictions: 100%|███████████████████████████████████████| 38/38 [00:08<00:00,  4.71it/s]\n",
            "C:\\Users\\user\\AppData\\Local\\Programs\\Python\\Python310\\lib\\site-packages\\mlxtend\\frequent_patterns\\fpcommon.py:109: DeprecationWarning: DataFrames with non-bool types result in worse computationalperformance and their support might be discontinued in the future.Please use a DataFrame with bool type\n",
            "  warnings.warn(\n"
          ]
        },
        {
          "output_type": "stream",
          "name": "stdout",
          "text": [
            "=== Completed Step: Apriori Predictions in 8.07 seconds ===\n",
            "\n",
            "Running FP-Growth for Experiment 22...\n",
            "\n",
            "=== Starting Step: FP-Growth Frequent Itemsets ===\n",
            "=== Completed Step: FP-Growth Frequent Itemsets in 1.02 seconds ===\n",
            "\n",
            "=== Starting Step: FP-Growth Association Rules ===\n",
            "=== Completed Step: FP-Growth Association Rules in 0.00 seconds ===\n",
            "\n",
            "=== Starting Step: FP-Growth Predictions ===\n"
          ]
        },
        {
          "output_type": "stream",
          "name": "stderr",
          "text": [
            "Generating Predictions: 100%|███████████████████████████████████████| 38/38 [00:07<00:00,  4.82it/s]\n",
            "C:\\Users\\user\\AppData\\Local\\Programs\\Python\\Python310\\lib\\site-packages\\mlxtend\\frequent_patterns\\fpcommon.py:109: DeprecationWarning: DataFrames with non-bool types result in worse computationalperformance and their support might be discontinued in the future.Please use a DataFrame with bool type\n",
            "  warnings.warn(\n"
          ]
        },
        {
          "output_type": "stream",
          "name": "stdout",
          "text": [
            "=== Completed Step: FP-Growth Predictions in 7.88 seconds ===\n",
            "\n",
            "=== Running Experiment 23 ===\n",
            "\n",
            "Running Apriori for Experiment 23...\n",
            "\n",
            "=== Starting Step: Apriori Frequent Itemsets ===\n",
            "=== Completed Step: Apriori Frequent Itemsets in 0.48 seconds ===\n",
            "\n",
            "=== Starting Step: Apriori Association Rules ===\n",
            "=== Completed Step: Apriori Association Rules in 0.00 seconds ===\n",
            "\n",
            "=== Starting Step: Apriori Predictions ===\n"
          ]
        },
        {
          "output_type": "stream",
          "name": "stderr",
          "text": [
            "Generating Predictions: 100%|███████████████████████████████████████| 38/38 [00:07<00:00,  5.04it/s]\n",
            "C:\\Users\\user\\AppData\\Local\\Programs\\Python\\Python310\\lib\\site-packages\\mlxtend\\frequent_patterns\\fpcommon.py:109: DeprecationWarning: DataFrames with non-bool types result in worse computationalperformance and their support might be discontinued in the future.Please use a DataFrame with bool type\n",
            "  warnings.warn(\n"
          ]
        },
        {
          "output_type": "stream",
          "name": "stdout",
          "text": [
            "=== Completed Step: Apriori Predictions in 7.54 seconds ===\n",
            "\n",
            "Running FP-Growth for Experiment 23...\n",
            "\n",
            "=== Starting Step: FP-Growth Frequent Itemsets ===\n",
            "=== Completed Step: FP-Growth Frequent Itemsets in 0.96 seconds ===\n",
            "\n",
            "=== Starting Step: FP-Growth Association Rules ===\n",
            "=== Completed Step: FP-Growth Association Rules in 0.00 seconds ===\n",
            "\n",
            "=== Starting Step: FP-Growth Predictions ===\n"
          ]
        },
        {
          "output_type": "stream",
          "name": "stderr",
          "text": [
            "Generating Predictions: 100%|███████████████████████████████████████| 38/38 [00:07<00:00,  5.08it/s]\n",
            "C:\\Users\\user\\AppData\\Local\\Programs\\Python\\Python310\\lib\\site-packages\\mlxtend\\frequent_patterns\\fpcommon.py:109: DeprecationWarning: DataFrames with non-bool types result in worse computationalperformance and their support might be discontinued in the future.Please use a DataFrame with bool type\n",
            "  warnings.warn(\n"
          ]
        },
        {
          "output_type": "stream",
          "name": "stdout",
          "text": [
            "=== Completed Step: FP-Growth Predictions in 7.49 seconds ===\n",
            "\n",
            "=== Running Experiment 24 ===\n",
            "\n",
            "Running Apriori for Experiment 24...\n",
            "\n",
            "=== Starting Step: Apriori Frequent Itemsets ===\n",
            "=== Completed Step: Apriori Frequent Itemsets in 0.53 seconds ===\n",
            "\n",
            "=== Starting Step: Apriori Association Rules ===\n",
            "=== Completed Step: Apriori Association Rules in 0.00 seconds ===\n",
            "\n",
            "=== Starting Step: Apriori Predictions ===\n"
          ]
        },
        {
          "output_type": "stream",
          "name": "stderr",
          "text": [
            "Generating Predictions: 100%|███████████████████████████████████████| 38/38 [00:07<00:00,  5.02it/s]\n",
            "C:\\Users\\user\\AppData\\Local\\Programs\\Python\\Python310\\lib\\site-packages\\mlxtend\\frequent_patterns\\fpcommon.py:109: DeprecationWarning: DataFrames with non-bool types result in worse computationalperformance and their support might be discontinued in the future.Please use a DataFrame with bool type\n",
            "  warnings.warn(\n"
          ]
        },
        {
          "output_type": "stream",
          "name": "stdout",
          "text": [
            "=== Completed Step: Apriori Predictions in 7.57 seconds ===\n",
            "\n",
            "Running FP-Growth for Experiment 24...\n",
            "\n",
            "=== Starting Step: FP-Growth Frequent Itemsets ===\n",
            "=== Completed Step: FP-Growth Frequent Itemsets in 0.97 seconds ===\n",
            "\n",
            "=== Starting Step: FP-Growth Association Rules ===\n",
            "=== Completed Step: FP-Growth Association Rules in 0.00 seconds ===\n",
            "\n",
            "=== Starting Step: FP-Growth Predictions ===\n"
          ]
        },
        {
          "output_type": "stream",
          "name": "stderr",
          "text": [
            "Generating Predictions: 100%|███████████████████████████████████████| 38/38 [00:07<00:00,  4.91it/s]\n",
            "C:\\Users\\user\\AppData\\Local\\Programs\\Python\\Python310\\lib\\site-packages\\mlxtend\\frequent_patterns\\fpcommon.py:109: DeprecationWarning: DataFrames with non-bool types result in worse computationalperformance and their support might be discontinued in the future.Please use a DataFrame with bool type\n",
            "  warnings.warn(\n"
          ]
        },
        {
          "output_type": "stream",
          "name": "stdout",
          "text": [
            "=== Completed Step: FP-Growth Predictions in 7.75 seconds ===\n",
            "\n",
            "=== Running Experiment 25 ===\n",
            "\n",
            "Running Apriori for Experiment 25...\n",
            "\n",
            "=== Starting Step: Apriori Frequent Itemsets ===\n",
            "=== Completed Step: Apriori Frequent Itemsets in 0.30 seconds ===\n",
            "\n",
            "=== Starting Step: Apriori Association Rules ===\n",
            "=== Completed Step: Apriori Association Rules in 0.00 seconds ===\n",
            "\n",
            "=== Starting Step: Apriori Predictions ===\n"
          ]
        },
        {
          "output_type": "stream",
          "name": "stderr",
          "text": [
            "Generating Predictions: 100%|███████████████████████████████████████| 38/38 [00:03<00:00, 11.13it/s]\n",
            "C:\\Users\\user\\AppData\\Local\\Programs\\Python\\Python310\\lib\\site-packages\\numpy\\core\\fromnumeric.py:3504: RuntimeWarning: Mean of empty slice.\n",
            "  return _methods._mean(a, axis=axis, dtype=dtype,\n",
            "C:\\Users\\user\\AppData\\Local\\Programs\\Python\\Python310\\lib\\site-packages\\numpy\\core\\_methods.py:129: RuntimeWarning: invalid value encountered in scalar divide\n",
            "  ret = ret.dtype.type(ret / rcount)\n",
            "C:\\Users\\user\\AppData\\Local\\Programs\\Python\\Python310\\lib\\site-packages\\mlxtend\\frequent_patterns\\fpcommon.py:109: DeprecationWarning: DataFrames with non-bool types result in worse computationalperformance and their support might be discontinued in the future.Please use a DataFrame with bool type\n",
            "  warnings.warn(\n"
          ]
        },
        {
          "output_type": "stream",
          "name": "stdout",
          "text": [
            "=== Completed Step: Apriori Predictions in 3.42 seconds ===\n",
            "\n",
            "Running FP-Growth for Experiment 25...\n",
            "\n",
            "=== Starting Step: FP-Growth Frequent Itemsets ===\n",
            "=== Completed Step: FP-Growth Frequent Itemsets in 0.48 seconds ===\n",
            "\n",
            "=== Starting Step: FP-Growth Association Rules ===\n",
            "=== Completed Step: FP-Growth Association Rules in 0.00 seconds ===\n",
            "\n",
            "=== Starting Step: FP-Growth Predictions ===\n"
          ]
        },
        {
          "output_type": "stream",
          "name": "stderr",
          "text": [
            "Generating Predictions: 100%|███████████████████████████████████████| 38/38 [00:03<00:00, 11.24it/s]\n",
            "C:\\Users\\user\\AppData\\Local\\Programs\\Python\\Python310\\lib\\site-packages\\numpy\\core\\fromnumeric.py:3504: RuntimeWarning: Mean of empty slice.\n",
            "  return _methods._mean(a, axis=axis, dtype=dtype,\n",
            "C:\\Users\\user\\AppData\\Local\\Programs\\Python\\Python310\\lib\\site-packages\\numpy\\core\\_methods.py:129: RuntimeWarning: invalid value encountered in scalar divide\n",
            "  ret = ret.dtype.type(ret / rcount)\n",
            "C:\\Users\\user\\AppData\\Local\\Programs\\Python\\Python310\\lib\\site-packages\\mlxtend\\frequent_patterns\\fpcommon.py:109: DeprecationWarning: DataFrames with non-bool types result in worse computationalperformance and their support might be discontinued in the future.Please use a DataFrame with bool type\n",
            "  warnings.warn(\n"
          ]
        },
        {
          "output_type": "stream",
          "name": "stdout",
          "text": [
            "=== Completed Step: FP-Growth Predictions in 3.38 seconds ===\n",
            "\n",
            "=== Running Experiment 26 ===\n",
            "\n",
            "Running Apriori for Experiment 26...\n",
            "\n",
            "=== Starting Step: Apriori Frequent Itemsets ===\n",
            "=== Completed Step: Apriori Frequent Itemsets in 0.27 seconds ===\n",
            "\n",
            "=== Starting Step: Apriori Association Rules ===\n",
            "=== Completed Step: Apriori Association Rules in 0.00 seconds ===\n",
            "\n",
            "=== Starting Step: Apriori Predictions ===\n"
          ]
        },
        {
          "output_type": "stream",
          "name": "stderr",
          "text": [
            "Generating Predictions: 100%|███████████████████████████████████████| 38/38 [00:03<00:00, 11.31it/s]\n",
            "C:\\Users\\user\\AppData\\Local\\Programs\\Python\\Python310\\lib\\site-packages\\numpy\\core\\fromnumeric.py:3504: RuntimeWarning: Mean of empty slice.\n",
            "  return _methods._mean(a, axis=axis, dtype=dtype,\n",
            "C:\\Users\\user\\AppData\\Local\\Programs\\Python\\Python310\\lib\\site-packages\\numpy\\core\\_methods.py:129: RuntimeWarning: invalid value encountered in scalar divide\n",
            "  ret = ret.dtype.type(ret / rcount)\n",
            "C:\\Users\\user\\AppData\\Local\\Programs\\Python\\Python310\\lib\\site-packages\\mlxtend\\frequent_patterns\\fpcommon.py:109: DeprecationWarning: DataFrames with non-bool types result in worse computationalperformance and their support might be discontinued in the future.Please use a DataFrame with bool type\n",
            "  warnings.warn(\n"
          ]
        },
        {
          "output_type": "stream",
          "name": "stdout",
          "text": [
            "=== Completed Step: Apriori Predictions in 3.36 seconds ===\n",
            "\n",
            "Running FP-Growth for Experiment 26...\n",
            "\n",
            "=== Starting Step: FP-Growth Frequent Itemsets ===\n",
            "=== Completed Step: FP-Growth Frequent Itemsets in 0.49 seconds ===\n",
            "\n",
            "=== Starting Step: FP-Growth Association Rules ===\n",
            "=== Completed Step: FP-Growth Association Rules in 0.00 seconds ===\n",
            "\n",
            "=== Starting Step: FP-Growth Predictions ===\n"
          ]
        },
        {
          "output_type": "stream",
          "name": "stderr",
          "text": [
            "Generating Predictions: 100%|███████████████████████████████████████| 38/38 [00:03<00:00, 11.17it/s]\n",
            "C:\\Users\\user\\AppData\\Local\\Programs\\Python\\Python310\\lib\\site-packages\\numpy\\core\\fromnumeric.py:3504: RuntimeWarning: Mean of empty slice.\n",
            "  return _methods._mean(a, axis=axis, dtype=dtype,\n",
            "C:\\Users\\user\\AppData\\Local\\Programs\\Python\\Python310\\lib\\site-packages\\numpy\\core\\_methods.py:129: RuntimeWarning: invalid value encountered in scalar divide\n",
            "  ret = ret.dtype.type(ret / rcount)\n",
            "C:\\Users\\user\\AppData\\Local\\Programs\\Python\\Python310\\lib\\site-packages\\mlxtend\\frequent_patterns\\fpcommon.py:109: DeprecationWarning: DataFrames with non-bool types result in worse computationalperformance and their support might be discontinued in the future.Please use a DataFrame with bool type\n",
            "  warnings.warn(\n"
          ]
        },
        {
          "output_type": "stream",
          "name": "stdout",
          "text": [
            "=== Completed Step: FP-Growth Predictions in 3.41 seconds ===\n",
            "\n",
            "=== Running Experiment 27 ===\n",
            "\n",
            "Running Apriori for Experiment 27...\n",
            "\n",
            "=== Starting Step: Apriori Frequent Itemsets ===\n",
            "=== Completed Step: Apriori Frequent Itemsets in 0.28 seconds ===\n",
            "\n",
            "=== Starting Step: Apriori Association Rules ===\n",
            "=== Completed Step: Apriori Association Rules in 0.00 seconds ===\n",
            "\n",
            "=== Starting Step: Apriori Predictions ===\n"
          ]
        },
        {
          "output_type": "stream",
          "name": "stderr",
          "text": [
            "Generating Predictions: 100%|███████████████████████████████████████| 38/38 [00:03<00:00, 11.28it/s]\n",
            "C:\\Users\\user\\AppData\\Local\\Programs\\Python\\Python310\\lib\\site-packages\\numpy\\core\\fromnumeric.py:3504: RuntimeWarning: Mean of empty slice.\n",
            "  return _methods._mean(a, axis=axis, dtype=dtype,\n",
            "C:\\Users\\user\\AppData\\Local\\Programs\\Python\\Python310\\lib\\site-packages\\numpy\\core\\_methods.py:129: RuntimeWarning: invalid value encountered in scalar divide\n",
            "  ret = ret.dtype.type(ret / rcount)\n",
            "C:\\Users\\user\\AppData\\Local\\Programs\\Python\\Python310\\lib\\site-packages\\mlxtend\\frequent_patterns\\fpcommon.py:109: DeprecationWarning: DataFrames with non-bool types result in worse computationalperformance and their support might be discontinued in the future.Please use a DataFrame with bool type\n",
            "  warnings.warn(\n"
          ]
        },
        {
          "output_type": "stream",
          "name": "stdout",
          "text": [
            "=== Completed Step: Apriori Predictions in 3.37 seconds ===\n",
            "\n",
            "Running FP-Growth for Experiment 27...\n",
            "\n",
            "=== Starting Step: FP-Growth Frequent Itemsets ===\n",
            "=== Completed Step: FP-Growth Frequent Itemsets in 0.48 seconds ===\n",
            "\n",
            "=== Starting Step: FP-Growth Association Rules ===\n",
            "=== Completed Step: FP-Growth Association Rules in 0.00 seconds ===\n",
            "\n",
            "=== Starting Step: FP-Growth Predictions ===\n"
          ]
        },
        {
          "output_type": "stream",
          "name": "stderr",
          "text": [
            "Generating Predictions: 100%|███████████████████████████████████████| 38/38 [00:03<00:00, 11.15it/s]\n",
            "C:\\Users\\user\\AppData\\Local\\Programs\\Python\\Python310\\lib\\site-packages\\numpy\\core\\fromnumeric.py:3504: RuntimeWarning: Mean of empty slice.\n",
            "  return _methods._mean(a, axis=axis, dtype=dtype,\n",
            "C:\\Users\\user\\AppData\\Local\\Programs\\Python\\Python310\\lib\\site-packages\\numpy\\core\\_methods.py:129: RuntimeWarning: invalid value encountered in scalar divide\n",
            "  ret = ret.dtype.type(ret / rcount)\n",
            "C:\\Users\\user\\AppData\\Local\\Programs\\Python\\Python310\\lib\\site-packages\\mlxtend\\frequent_patterns\\fpcommon.py:109: DeprecationWarning: DataFrames with non-bool types result in worse computationalperformance and their support might be discontinued in the future.Please use a DataFrame with bool type\n",
            "  warnings.warn(\n"
          ]
        },
        {
          "output_type": "stream",
          "name": "stdout",
          "text": [
            "=== Completed Step: FP-Growth Predictions in 3.41 seconds ===\n",
            "\n",
            "=== Running Experiment 28 ===\n",
            "\n",
            "Running Apriori for Experiment 28...\n",
            "\n",
            "=== Starting Step: Apriori Frequent Itemsets ===\n",
            "=== Completed Step: Apriori Frequent Itemsets in 0.28 seconds ===\n",
            "\n",
            "=== Starting Step: Apriori Association Rules ===\n",
            "=== Completed Step: Apriori Association Rules in 0.00 seconds ===\n",
            "\n",
            "=== Starting Step: Apriori Predictions ===\n"
          ]
        },
        {
          "output_type": "stream",
          "name": "stderr",
          "text": [
            "Generating Predictions: 100%|███████████████████████████████████████| 38/38 [00:03<00:00, 10.81it/s]\n",
            "C:\\Users\\user\\AppData\\Local\\Programs\\Python\\Python310\\lib\\site-packages\\numpy\\core\\fromnumeric.py:3504: RuntimeWarning: Mean of empty slice.\n",
            "  return _methods._mean(a, axis=axis, dtype=dtype,\n",
            "C:\\Users\\user\\AppData\\Local\\Programs\\Python\\Python310\\lib\\site-packages\\numpy\\core\\_methods.py:129: RuntimeWarning: invalid value encountered in scalar divide\n",
            "  ret = ret.dtype.type(ret / rcount)\n",
            "C:\\Users\\user\\AppData\\Local\\Programs\\Python\\Python310\\lib\\site-packages\\mlxtend\\frequent_patterns\\fpcommon.py:109: DeprecationWarning: DataFrames with non-bool types result in worse computationalperformance and their support might be discontinued in the future.Please use a DataFrame with bool type\n",
            "  warnings.warn(\n"
          ]
        },
        {
          "output_type": "stream",
          "name": "stdout",
          "text": [
            "=== Completed Step: Apriori Predictions in 3.52 seconds ===\n",
            "\n",
            "Running FP-Growth for Experiment 28...\n",
            "\n",
            "=== Starting Step: FP-Growth Frequent Itemsets ===\n",
            "=== Completed Step: FP-Growth Frequent Itemsets in 0.48 seconds ===\n",
            "\n",
            "=== Starting Step: FP-Growth Association Rules ===\n",
            "=== Completed Step: FP-Growth Association Rules in 0.00 seconds ===\n",
            "\n",
            "=== Starting Step: FP-Growth Predictions ===\n"
          ]
        },
        {
          "output_type": "stream",
          "name": "stderr",
          "text": [
            "Generating Predictions: 100%|███████████████████████████████████████| 38/38 [00:03<00:00, 11.30it/s]\n",
            "C:\\Users\\user\\AppData\\Local\\Programs\\Python\\Python310\\lib\\site-packages\\numpy\\core\\fromnumeric.py:3504: RuntimeWarning: Mean of empty slice.\n",
            "  return _methods._mean(a, axis=axis, dtype=dtype,\n",
            "C:\\Users\\user\\AppData\\Local\\Programs\\Python\\Python310\\lib\\site-packages\\numpy\\core\\_methods.py:129: RuntimeWarning: invalid value encountered in scalar divide\n",
            "  ret = ret.dtype.type(ret / rcount)\n",
            "C:\\Users\\user\\AppData\\Local\\Programs\\Python\\Python310\\lib\\site-packages\\mlxtend\\frequent_patterns\\fpcommon.py:109: DeprecationWarning: DataFrames with non-bool types result in worse computationalperformance and their support might be discontinued in the future.Please use a DataFrame with bool type\n",
            "  warnings.warn(\n"
          ]
        },
        {
          "output_type": "stream",
          "name": "stdout",
          "text": [
            "=== Completed Step: FP-Growth Predictions in 3.37 seconds ===\n",
            "\n",
            "=== Running Experiment 29 ===\n",
            "\n",
            "Running Apriori for Experiment 29...\n",
            "\n",
            "=== Starting Step: Apriori Frequent Itemsets ===\n",
            "=== Completed Step: Apriori Frequent Itemsets in 0.29 seconds ===\n",
            "\n",
            "=== Starting Step: Apriori Association Rules ===\n",
            "=== Completed Step: Apriori Association Rules in 0.00 seconds ===\n",
            "\n",
            "=== Starting Step: Apriori Predictions ===\n"
          ]
        },
        {
          "output_type": "stream",
          "name": "stderr",
          "text": [
            "Generating Predictions: 100%|███████████████████████████████████████| 38/38 [00:03<00:00, 11.34it/s]\n",
            "C:\\Users\\user\\AppData\\Local\\Programs\\Python\\Python310\\lib\\site-packages\\numpy\\core\\fromnumeric.py:3504: RuntimeWarning: Mean of empty slice.\n",
            "  return _methods._mean(a, axis=axis, dtype=dtype,\n",
            "C:\\Users\\user\\AppData\\Local\\Programs\\Python\\Python310\\lib\\site-packages\\numpy\\core\\_methods.py:129: RuntimeWarning: invalid value encountered in scalar divide\n",
            "  ret = ret.dtype.type(ret / rcount)\n",
            "C:\\Users\\user\\AppData\\Local\\Programs\\Python\\Python310\\lib\\site-packages\\mlxtend\\frequent_patterns\\fpcommon.py:109: DeprecationWarning: DataFrames with non-bool types result in worse computationalperformance and their support might be discontinued in the future.Please use a DataFrame with bool type\n",
            "  warnings.warn(\n"
          ]
        },
        {
          "output_type": "stream",
          "name": "stdout",
          "text": [
            "=== Completed Step: Apriori Predictions in 3.35 seconds ===\n",
            "\n",
            "Running FP-Growth for Experiment 29...\n",
            "\n",
            "=== Starting Step: FP-Growth Frequent Itemsets ===\n",
            "=== Completed Step: FP-Growth Frequent Itemsets in 0.50 seconds ===\n",
            "\n",
            "=== Starting Step: FP-Growth Association Rules ===\n",
            "=== Completed Step: FP-Growth Association Rules in 0.00 seconds ===\n",
            "\n",
            "=== Starting Step: FP-Growth Predictions ===\n"
          ]
        },
        {
          "output_type": "stream",
          "name": "stderr",
          "text": [
            "Generating Predictions: 100%|███████████████████████████████████████| 38/38 [00:03<00:00, 11.17it/s]\n",
            "C:\\Users\\user\\AppData\\Local\\Programs\\Python\\Python310\\lib\\site-packages\\numpy\\core\\fromnumeric.py:3504: RuntimeWarning: Mean of empty slice.\n",
            "  return _methods._mean(a, axis=axis, dtype=dtype,\n",
            "C:\\Users\\user\\AppData\\Local\\Programs\\Python\\Python310\\lib\\site-packages\\numpy\\core\\_methods.py:129: RuntimeWarning: invalid value encountered in scalar divide\n",
            "  ret = ret.dtype.type(ret / rcount)\n",
            "C:\\Users\\user\\AppData\\Local\\Programs\\Python\\Python310\\lib\\site-packages\\mlxtend\\frequent_patterns\\fpcommon.py:109: DeprecationWarning: DataFrames with non-bool types result in worse computationalperformance and their support might be discontinued in the future.Please use a DataFrame with bool type\n",
            "  warnings.warn(\n"
          ]
        },
        {
          "output_type": "stream",
          "name": "stdout",
          "text": [
            "=== Completed Step: FP-Growth Predictions in 3.40 seconds ===\n",
            "\n",
            "=== Running Experiment 30 ===\n",
            "\n",
            "Running Apriori for Experiment 30...\n",
            "\n",
            "=== Starting Step: Apriori Frequent Itemsets ===\n",
            "=== Completed Step: Apriori Frequent Itemsets in 0.29 seconds ===\n",
            "\n",
            "=== Starting Step: Apriori Association Rules ===\n",
            "=== Completed Step: Apriori Association Rules in 0.00 seconds ===\n",
            "\n",
            "=== Starting Step: Apriori Predictions ===\n"
          ]
        },
        {
          "output_type": "stream",
          "name": "stderr",
          "text": [
            "Generating Predictions: 100%|███████████████████████████████████████| 38/38 [00:03<00:00, 11.19it/s]\n",
            "C:\\Users\\user\\AppData\\Local\\Programs\\Python\\Python310\\lib\\site-packages\\numpy\\core\\fromnumeric.py:3504: RuntimeWarning: Mean of empty slice.\n",
            "  return _methods._mean(a, axis=axis, dtype=dtype,\n",
            "C:\\Users\\user\\AppData\\Local\\Programs\\Python\\Python310\\lib\\site-packages\\numpy\\core\\_methods.py:129: RuntimeWarning: invalid value encountered in scalar divide\n",
            "  ret = ret.dtype.type(ret / rcount)\n",
            "C:\\Users\\user\\AppData\\Local\\Programs\\Python\\Python310\\lib\\site-packages\\mlxtend\\frequent_patterns\\fpcommon.py:109: DeprecationWarning: DataFrames with non-bool types result in worse computationalperformance and their support might be discontinued in the future.Please use a DataFrame with bool type\n",
            "  warnings.warn(\n"
          ]
        },
        {
          "output_type": "stream",
          "name": "stdout",
          "text": [
            "=== Completed Step: Apriori Predictions in 3.40 seconds ===\n",
            "\n",
            "Running FP-Growth for Experiment 30...\n",
            "\n",
            "=== Starting Step: FP-Growth Frequent Itemsets ===\n",
            "=== Completed Step: FP-Growth Frequent Itemsets in 0.49 seconds ===\n",
            "\n",
            "=== Starting Step: FP-Growth Association Rules ===\n",
            "=== Completed Step: FP-Growth Association Rules in 0.00 seconds ===\n",
            "\n",
            "=== Starting Step: FP-Growth Predictions ===\n"
          ]
        },
        {
          "output_type": "stream",
          "name": "stderr",
          "text": [
            "Generating Predictions: 100%|███████████████████████████████████████| 38/38 [00:03<00:00, 11.11it/s]\n",
            "C:\\Users\\user\\AppData\\Local\\Programs\\Python\\Python310\\lib\\site-packages\\numpy\\core\\fromnumeric.py:3504: RuntimeWarning: Mean of empty slice.\n",
            "  return _methods._mean(a, axis=axis, dtype=dtype,\n",
            "C:\\Users\\user\\AppData\\Local\\Programs\\Python\\Python310\\lib\\site-packages\\numpy\\core\\_methods.py:129: RuntimeWarning: invalid value encountered in scalar divide\n",
            "  ret = ret.dtype.type(ret / rcount)\n",
            "C:\\Users\\user\\AppData\\Local\\Programs\\Python\\Python310\\lib\\site-packages\\mlxtend\\frequent_patterns\\fpcommon.py:109: DeprecationWarning: DataFrames with non-bool types result in worse computationalperformance and their support might be discontinued in the future.Please use a DataFrame with bool type\n",
            "  warnings.warn(\n"
          ]
        },
        {
          "output_type": "stream",
          "name": "stdout",
          "text": [
            "=== Completed Step: FP-Growth Predictions in 3.42 seconds ===\n",
            "\n",
            "=== Running Experiment 31 ===\n",
            "\n",
            "Running Apriori for Experiment 31...\n",
            "\n",
            "=== Starting Step: Apriori Frequent Itemsets ===\n",
            "=== Completed Step: Apriori Frequent Itemsets in 0.28 seconds ===\n",
            "\n",
            "=== Starting Step: Apriori Association Rules ===\n",
            "=== Completed Step: Apriori Association Rules in 0.00 seconds ===\n",
            "\n",
            "=== Starting Step: Apriori Predictions ===\n"
          ]
        },
        {
          "output_type": "stream",
          "name": "stderr",
          "text": [
            "Generating Predictions: 100%|███████████████████████████████████████| 38/38 [00:03<00:00, 11.21it/s]\n",
            "C:\\Users\\user\\AppData\\Local\\Programs\\Python\\Python310\\lib\\site-packages\\numpy\\core\\fromnumeric.py:3504: RuntimeWarning: Mean of empty slice.\n",
            "  return _methods._mean(a, axis=axis, dtype=dtype,\n",
            "C:\\Users\\user\\AppData\\Local\\Programs\\Python\\Python310\\lib\\site-packages\\numpy\\core\\_methods.py:129: RuntimeWarning: invalid value encountered in scalar divide\n",
            "  ret = ret.dtype.type(ret / rcount)\n",
            "C:\\Users\\user\\AppData\\Local\\Programs\\Python\\Python310\\lib\\site-packages\\mlxtend\\frequent_patterns\\fpcommon.py:109: DeprecationWarning: DataFrames with non-bool types result in worse computationalperformance and their support might be discontinued in the future.Please use a DataFrame with bool type\n",
            "  warnings.warn(\n"
          ]
        },
        {
          "output_type": "stream",
          "name": "stdout",
          "text": [
            "=== Completed Step: Apriori Predictions in 3.39 seconds ===\n",
            "\n",
            "Running FP-Growth for Experiment 31...\n",
            "\n",
            "=== Starting Step: FP-Growth Frequent Itemsets ===\n",
            "=== Completed Step: FP-Growth Frequent Itemsets in 0.48 seconds ===\n",
            "\n",
            "=== Starting Step: FP-Growth Association Rules ===\n",
            "=== Completed Step: FP-Growth Association Rules in 0.00 seconds ===\n",
            "\n",
            "=== Starting Step: FP-Growth Predictions ===\n"
          ]
        },
        {
          "output_type": "stream",
          "name": "stderr",
          "text": [
            "Generating Predictions: 100%|███████████████████████████████████████| 38/38 [00:03<00:00, 11.16it/s]\n",
            "C:\\Users\\user\\AppData\\Local\\Programs\\Python\\Python310\\lib\\site-packages\\numpy\\core\\fromnumeric.py:3504: RuntimeWarning: Mean of empty slice.\n",
            "  return _methods._mean(a, axis=axis, dtype=dtype,\n",
            "C:\\Users\\user\\AppData\\Local\\Programs\\Python\\Python310\\lib\\site-packages\\numpy\\core\\_methods.py:129: RuntimeWarning: invalid value encountered in scalar divide\n",
            "  ret = ret.dtype.type(ret / rcount)\n",
            "C:\\Users\\user\\AppData\\Local\\Programs\\Python\\Python310\\lib\\site-packages\\mlxtend\\frequent_patterns\\fpcommon.py:109: DeprecationWarning: DataFrames with non-bool types result in worse computationalperformance and their support might be discontinued in the future.Please use a DataFrame with bool type\n",
            "  warnings.warn(\n"
          ]
        },
        {
          "output_type": "stream",
          "name": "stdout",
          "text": [
            "=== Completed Step: FP-Growth Predictions in 3.40 seconds ===\n",
            "\n",
            "=== Running Experiment 32 ===\n",
            "\n",
            "Running Apriori for Experiment 32...\n",
            "\n",
            "=== Starting Step: Apriori Frequent Itemsets ===\n",
            "=== Completed Step: Apriori Frequent Itemsets in 0.28 seconds ===\n",
            "\n",
            "=== Starting Step: Apriori Association Rules ===\n",
            "=== Completed Step: Apriori Association Rules in 0.00 seconds ===\n",
            "\n",
            "=== Starting Step: Apriori Predictions ===\n"
          ]
        },
        {
          "output_type": "stream",
          "name": "stderr",
          "text": [
            "Generating Predictions: 100%|███████████████████████████████████████| 38/38 [00:03<00:00, 10.76it/s]\n",
            "C:\\Users\\user\\AppData\\Local\\Programs\\Python\\Python310\\lib\\site-packages\\numpy\\core\\fromnumeric.py:3504: RuntimeWarning: Mean of empty slice.\n",
            "  return _methods._mean(a, axis=axis, dtype=dtype,\n",
            "C:\\Users\\user\\AppData\\Local\\Programs\\Python\\Python310\\lib\\site-packages\\numpy\\core\\_methods.py:129: RuntimeWarning: invalid value encountered in scalar divide\n",
            "  ret = ret.dtype.type(ret / rcount)\n",
            "C:\\Users\\user\\AppData\\Local\\Programs\\Python\\Python310\\lib\\site-packages\\mlxtend\\frequent_patterns\\fpcommon.py:109: DeprecationWarning: DataFrames with non-bool types result in worse computationalperformance and their support might be discontinued in the future.Please use a DataFrame with bool type\n",
            "  warnings.warn(\n"
          ]
        },
        {
          "output_type": "stream",
          "name": "stdout",
          "text": [
            "=== Completed Step: Apriori Predictions in 3.53 seconds ===\n",
            "\n",
            "Running FP-Growth for Experiment 32...\n",
            "\n",
            "=== Starting Step: FP-Growth Frequent Itemsets ===\n",
            "=== Completed Step: FP-Growth Frequent Itemsets in 0.48 seconds ===\n",
            "\n",
            "=== Starting Step: FP-Growth Association Rules ===\n",
            "=== Completed Step: FP-Growth Association Rules in 0.00 seconds ===\n",
            "\n",
            "=== Starting Step: FP-Growth Predictions ===\n"
          ]
        },
        {
          "output_type": "stream",
          "name": "stderr",
          "text": [
            "Generating Predictions: 100%|███████████████████████████████████████| 38/38 [00:03<00:00, 11.17it/s]"
          ]
        },
        {
          "output_type": "stream",
          "name": "stdout",
          "text": [
            "=== Completed Step: FP-Growth Predictions in 3.41 seconds ===\n",
            "All experiments completed. Results saved to: C:\\Users\\user\\Desktop\\CW4\\online+retail\\experiment_results_grouped.csv\n"
          ]
        },
        {
          "output_type": "stream",
          "name": "stderr",
          "text": [
            "\n",
            "C:\\Users\\user\\AppData\\Local\\Programs\\Python\\Python310\\lib\\site-packages\\numpy\\core\\fromnumeric.py:3504: RuntimeWarning: Mean of empty slice.\n",
            "  return _methods._mean(a, axis=axis, dtype=dtype,\n",
            "C:\\Users\\user\\AppData\\Local\\Programs\\Python\\Python310\\lib\\site-packages\\numpy\\core\\_methods.py:129: RuntimeWarning: invalid value encountered in scalar divide\n",
            "  ret = ret.dtype.type(ret / rcount)\n"
          ]
        }
      ]
    },
    {
      "cell_type": "code",
      "source": [
        "import pandas as pd\n",
        "import numpy as np\n",
        "from mlxtend.frequent_patterns import apriori, fpgrowth, association_rules\n",
        "from tqdm import tqdm\n",
        "import itertools\n",
        "import time\n",
        "\n",
        "# Parameters for experiments\n",
        "MIN_SUPPORT_VALUES = [0.005, 0.01, 0.02, 0.03]\n",
        "CONFIDENCE_THRESHOLDS = [0.05, 0.1, 0.2, 0.3]\n",
        "MAX_ITEMSET_LENGTH_VALUES = [2, 4]\n",
        "BATCH_SIZE = 500\n",
        "TOP_K_ITEMS = 50  # Limit the number of items to Top-K\n",
        "SAVE_PATH = r\"C:\\Users\\user\\Desktop\\CW4\\online+retail\\experiment_results_50.csv\"\n",
        "\n",
        "# Function to time steps\n",
        "def time_step(step_name, func, *args, **kwargs):\n",
        "    print(f\"\\n=== Starting Step: {step_name} ===\")\n",
        "    start_time = time.time()\n",
        "    result = func(*args, **kwargs)\n",
        "    elapsed_time = time.time() - start_time\n",
        "    print(f\"=== Completed Step: {step_name} in {elapsed_time:.2f} seconds ===\")\n",
        "    return result\n",
        "\n",
        "# Function to generate predictions\n",
        "def generate_predictions_batch(rules, test_transactions, batch_size):\n",
        "    predictions = []\n",
        "    test_array = test_transactions.to_numpy()\n",
        "    column_names = np.array(test_transactions.columns)\n",
        "    for start in tqdm(range(0, len(test_array), batch_size), desc=\"Generating Predictions\", ncols=100):\n",
        "        batch = test_array[start:start + batch_size]\n",
        "        for transaction in batch:\n",
        "            transaction_items = set(column_names[transaction == 1])\n",
        "            matched_rules = rules[rules['antecedents'].apply(lambda x: x.issubset(transaction_items))]\n",
        "            if not matched_rules.empty:\n",
        "                predicted = matched_rules.sort_values(by='confidence', ascending=False).iloc[0]['consequents']\n",
        "                predictions.append(list(predicted))\n",
        "            else:\n",
        "                predictions.append([])\n",
        "    return predictions\n",
        "\n",
        "# Function to calculate metrics\n",
        "def calculate_metrics(y_true, y_pred):\n",
        "    accuracy = np.mean([1 if set(yt) == set(yp) else 0 for yt, yp in zip(y_true, y_pred)])\n",
        "    precision = np.mean([\n",
        "        len(set(yt).intersection(set(yp))) / len(set(yp)) if len(yp) > 0 else 0\n",
        "        for yt, yp in zip(y_true, y_pred)\n",
        "    ])\n",
        "    recall = np.mean([\n",
        "        len(set(yt).intersection(set(yp))) / len(set(yt)) if len(yt) > 0 else 0\n",
        "        for yt, yp in zip(y_true, y_pred)\n",
        "    ])\n",
        "    hit_rate = np.mean([1 if len(set(yt).intersection(set(yp))) > 0 else 0 for yt, yp in zip(y_true, y_pred)])\n",
        "    mrr = np.mean([\n",
        "        1 / (yp.index(next(iter(set(yt).intersection(set(yp))), None)) + 1)\n",
        "        if set(yt).intersection(set(yp)) else 0\n",
        "        for yt, yp in zip(y_true, y_pred) if yp\n",
        "    ])\n",
        "    return accuracy, precision, recall, hit_rate, mrr\n",
        "\n",
        "# Load and preprocess the dataset\n",
        "file_path = r\"C:\\Users\\user\\Desktop\\CW4\\online+retail\\Online Retail.xlsx\"\n",
        "df = pd.read_excel(file_path, sheet_name='Online Retail')\n",
        "\n",
        "df_cleaned = df.dropna(subset=['CustomerID', 'Description'])\n",
        "df_cleaned = df_cleaned[df_cleaned['Quantity'] > 0]\n",
        "df_cleaned['Description'] = df_cleaned['Description'].str.strip()\n",
        "\n",
        "df_grouped = df_cleaned.groupby(['InvoiceNo', 'Description'])['Quantity'].sum().unstack().fillna(0).astype(int)\n",
        "df_grouped = df_grouped.applymap(lambda x: 1 if x > 0 else 0)\n",
        "\n",
        "# Filter to Top-K Items\n",
        "def filter_top_k_items(df, k):\n",
        "    top_items = df.sum().nlargest(k).index\n",
        "    return df[top_items]\n",
        "\n",
        "train_df_filtered = filter_top_k_items(df_grouped, TOP_K_ITEMS)\n",
        "test_df_filtered = filter_top_k_items(df_grouped, TOP_K_ITEMS)\n",
        "\n",
        "# Split data into training and testing\n",
        "transaction_list = [set(row[row == 1].index) for _, row in df_grouped.iterrows()]\n",
        "train_size = int(len(transaction_list) * 0.8)\n",
        "train_data = transaction_list[:train_size]\n",
        "test_data = transaction_list[train_size:]\n",
        "\n",
        "# Prepare DataFrames for metrics\n",
        "train_df = pd.DataFrame(0, index=range(len(train_data)), columns=df_grouped.columns)\n",
        "for idx, transaction in enumerate(train_data):\n",
        "    train_df.loc[idx, list(transaction)] = 1\n",
        "\n",
        "test_df = pd.DataFrame(0, index=range(len(test_data)), columns=df_grouped.columns)\n",
        "for idx, transaction in enumerate(test_data):\n",
        "    test_df.loc[idx, list(transaction)] = 1\n",
        "\n",
        "# Experimentation\n",
        "results = []\n",
        "y_true = [set(row[row == 1].index) for _, row in test_df.iterrows()]\n",
        "\n",
        "experiment_number = 1\n",
        "for min_support, confidence_threshold, max_itemset_length in itertools.product(\n",
        "    MIN_SUPPORT_VALUES, CONFIDENCE_THRESHOLDS, MAX_ITEMSET_LENGTH_VALUES\n",
        "):\n",
        "    print(f\"\\n=== Running Experiment {experiment_number} ===\")\n",
        "    for algorithm in [\"Apriori\", \"FP-Growth\"]:\n",
        "        print(f\"\\nRunning {algorithm} for Experiment {experiment_number}...\")\n",
        "        if algorithm == \"Apriori\":\n",
        "            frequent_itemsets = time_step(\n",
        "                \"Apriori Frequent Itemsets\",\n",
        "                apriori, train_df_filtered, min_support=min_support, use_colnames=True, max_len=max_itemset_length, low_memory=True\n",
        "            )\n",
        "        else:  # FP-Growth\n",
        "            frequent_itemsets = time_step(\n",
        "                \"FP-Growth Frequent Itemsets\",\n",
        "                fpgrowth, train_df_filtered, min_support=min_support, use_colnames=True, max_len=max_itemset_length\n",
        "            )\n",
        "\n",
        "        rules = time_step(\n",
        "            f\"{algorithm} Association Rules\",\n",
        "            association_rules, frequent_itemsets, metric=\"confidence\", min_threshold=confidence_threshold\n",
        "        )\n",
        "\n",
        "        y_pred = time_step(\n",
        "            f\"{algorithm} Predictions\",\n",
        "            generate_predictions_batch, rules, test_df_filtered, BATCH_SIZE\n",
        "        )\n",
        "\n",
        "        accuracy, precision, recall, hit_rate, mrr = calculate_metrics(y_true, y_pred)\n",
        "        results.append({\n",
        "            \"Experiment\": experiment_number,\n",
        "            \"Algorithm\": algorithm,\n",
        "            \"Min Support\": min_support,\n",
        "            \"Confidence Threshold\": confidence_threshold,\n",
        "            \"Max Itemset Length\": max_itemset_length,\n",
        "            \"Accuracy\": accuracy,\n",
        "            \"Precision\": precision,\n",
        "            \"Recall\": recall,\n",
        "            \"Hit Rate\": hit_rate,\n",
        "            \"MRR\": mrr\n",
        "        })\n",
        "\n",
        "    experiment_number += 1\n",
        "\n",
        "# Save Results\n",
        "results_df = pd.DataFrame(results)\n",
        "results_df.to_csv(SAVE_PATH, index=False)\n",
        "print(\"All experiments completed. Results saved to:\", SAVE_PATH)\n"
      ],
      "metadata": {
        "colab": {
          "base_uri": "https://localhost:8080/"
        },
        "id": "NMQpsyEyvUfd",
        "outputId": "b30a93bf-48d9-4d0d-c8c5-4bffd1dc7275"
      },
      "execution_count": null,
      "outputs": [
        {
          "output_type": "stream",
          "name": "stderr",
          "text": [
            "C:\\Users\\user\\AppData\\Local\\Temp\\ipykernel_19532\\3741694207.py:70: FutureWarning: DataFrame.applymap has been deprecated. Use DataFrame.map instead.\n",
            "  df_grouped = df_grouped.applymap(lambda x: 1 if x > 0 else 0)\n",
            "C:\\Users\\user\\AppData\\Local\\Programs\\Python\\Python310\\lib\\site-packages\\mlxtend\\frequent_patterns\\fpcommon.py:109: DeprecationWarning: DataFrames with non-bool types result in worse computationalperformance and their support might be discontinued in the future.Please use a DataFrame with bool type\n",
            "  warnings.warn(\n"
          ]
        },
        {
          "output_type": "stream",
          "name": "stdout",
          "text": [
            "\n",
            "=== Running Experiment 1 ===\n",
            "\n",
            "Running Apriori for Experiment 1...\n",
            "\n",
            "=== Starting Step: Apriori Frequent Itemsets ===\n",
            "=== Completed Step: Apriori Frequent Itemsets in 0.02 seconds ===\n",
            "\n",
            "=== Starting Step: Apriori Association Rules ===\n",
            "=== Completed Step: Apriori Association Rules in 0.00 seconds ===\n",
            "\n",
            "=== Starting Step: Apriori Predictions ===\n"
          ]
        },
        {
          "output_type": "stream",
          "name": "stderr",
          "text": [
            "Generating Predictions: 100%|███████████████████████████████████████| 38/38 [00:10<00:00,  3.50it/s]\n",
            "C:\\Users\\user\\AppData\\Local\\Programs\\Python\\Python310\\lib\\site-packages\\mlxtend\\frequent_patterns\\fpcommon.py:109: DeprecationWarning: DataFrames with non-bool types result in worse computationalperformance and their support might be discontinued in the future.Please use a DataFrame with bool type\n",
            "  warnings.warn(\n"
          ]
        },
        {
          "output_type": "stream",
          "name": "stdout",
          "text": [
            "=== Completed Step: Apriori Predictions in 10.87 seconds ===\n",
            "\n",
            "Running FP-Growth for Experiment 1...\n",
            "\n",
            "=== Starting Step: FP-Growth Frequent Itemsets ===\n",
            "=== Completed Step: FP-Growth Frequent Itemsets in 0.19 seconds ===\n",
            "\n",
            "=== Starting Step: FP-Growth Association Rules ===\n",
            "=== Completed Step: FP-Growth Association Rules in 0.01 seconds ===\n",
            "\n",
            "=== Starting Step: FP-Growth Predictions ===\n"
          ]
        },
        {
          "output_type": "stream",
          "name": "stderr",
          "text": [
            "Generating Predictions: 100%|███████████████████████████████████████| 38/38 [00:10<00:00,  3.46it/s]\n",
            "C:\\Users\\user\\AppData\\Local\\Programs\\Python\\Python310\\lib\\site-packages\\mlxtend\\frequent_patterns\\fpcommon.py:109: DeprecationWarning: DataFrames with non-bool types result in worse computationalperformance and their support might be discontinued in the future.Please use a DataFrame with bool type\n",
            "  warnings.warn(\n"
          ]
        },
        {
          "output_type": "stream",
          "name": "stdout",
          "text": [
            "=== Completed Step: FP-Growth Predictions in 10.97 seconds ===\n",
            "\n",
            "=== Running Experiment 2 ===\n",
            "\n",
            "Running Apriori for Experiment 2...\n",
            "\n",
            "=== Starting Step: Apriori Frequent Itemsets ===\n",
            "=== Completed Step: Apriori Frequent Itemsets in 0.09 seconds ===\n",
            "\n",
            "=== Starting Step: Apriori Association Rules ===\n",
            "=== Completed Step: Apriori Association Rules in 0.01 seconds ===\n",
            "\n",
            "=== Starting Step: Apriori Predictions ===\n"
          ]
        },
        {
          "output_type": "stream",
          "name": "stderr",
          "text": [
            "Generating Predictions: 100%|███████████████████████████████████████| 38/38 [00:17<00:00,  2.14it/s]\n",
            "C:\\Users\\user\\AppData\\Local\\Programs\\Python\\Python310\\lib\\site-packages\\mlxtend\\frequent_patterns\\fpcommon.py:109: DeprecationWarning: DataFrames with non-bool types result in worse computationalperformance and their support might be discontinued in the future.Please use a DataFrame with bool type\n",
            "  warnings.warn(\n"
          ]
        },
        {
          "output_type": "stream",
          "name": "stdout",
          "text": [
            "=== Completed Step: Apriori Predictions in 17.76 seconds ===\n",
            "\n",
            "Running FP-Growth for Experiment 2...\n",
            "\n",
            "=== Starting Step: FP-Growth Frequent Itemsets ===\n",
            "=== Completed Step: FP-Growth Frequent Itemsets in 0.19 seconds ===\n",
            "\n",
            "=== Starting Step: FP-Growth Association Rules ===\n",
            "=== Completed Step: FP-Growth Association Rules in 0.01 seconds ===\n",
            "\n",
            "=== Starting Step: FP-Growth Predictions ===\n"
          ]
        },
        {
          "output_type": "stream",
          "name": "stderr",
          "text": [
            "Generating Predictions: 100%|███████████████████████████████████████| 38/38 [00:17<00:00,  2.12it/s]\n",
            "C:\\Users\\user\\AppData\\Local\\Programs\\Python\\Python310\\lib\\site-packages\\mlxtend\\frequent_patterns\\fpcommon.py:109: DeprecationWarning: DataFrames with non-bool types result in worse computationalperformance and their support might be discontinued in the future.Please use a DataFrame with bool type\n",
            "  warnings.warn(\n"
          ]
        },
        {
          "output_type": "stream",
          "name": "stdout",
          "text": [
            "=== Completed Step: FP-Growth Predictions in 17.89 seconds ===\n",
            "\n",
            "=== Running Experiment 3 ===\n",
            "\n",
            "Running Apriori for Experiment 3...\n",
            "\n",
            "=== Starting Step: Apriori Frequent Itemsets ===\n",
            "=== Completed Step: Apriori Frequent Itemsets in 0.02 seconds ===\n",
            "\n",
            "=== Starting Step: Apriori Association Rules ===\n",
            "=== Completed Step: Apriori Association Rules in 0.00 seconds ===\n",
            "\n",
            "=== Starting Step: Apriori Predictions ===\n"
          ]
        },
        {
          "output_type": "stream",
          "name": "stderr",
          "text": [
            "Generating Predictions: 100%|███████████████████████████████████████| 38/38 [00:10<00:00,  3.62it/s]\n",
            "C:\\Users\\user\\AppData\\Local\\Programs\\Python\\Python310\\lib\\site-packages\\mlxtend\\frequent_patterns\\fpcommon.py:109: DeprecationWarning: DataFrames with non-bool types result in worse computationalperformance and their support might be discontinued in the future.Please use a DataFrame with bool type\n",
            "  warnings.warn(\n"
          ]
        },
        {
          "output_type": "stream",
          "name": "stdout",
          "text": [
            "=== Completed Step: Apriori Predictions in 10.51 seconds ===\n",
            "\n",
            "Running FP-Growth for Experiment 3...\n",
            "\n",
            "=== Starting Step: FP-Growth Frequent Itemsets ===\n",
            "=== Completed Step: FP-Growth Frequent Itemsets in 0.19 seconds ===\n",
            "\n",
            "=== Starting Step: FP-Growth Association Rules ===\n",
            "=== Completed Step: FP-Growth Association Rules in 0.00 seconds ===\n",
            "\n",
            "=== Starting Step: FP-Growth Predictions ===\n"
          ]
        },
        {
          "output_type": "stream",
          "name": "stderr",
          "text": [
            "Generating Predictions: 100%|███████████████████████████████████████| 38/38 [00:10<00:00,  3.52it/s]\n",
            "C:\\Users\\user\\AppData\\Local\\Programs\\Python\\Python310\\lib\\site-packages\\mlxtend\\frequent_patterns\\fpcommon.py:109: DeprecationWarning: DataFrames with non-bool types result in worse computationalperformance and their support might be discontinued in the future.Please use a DataFrame with bool type\n",
            "  warnings.warn(\n"
          ]
        },
        {
          "output_type": "stream",
          "name": "stdout",
          "text": [
            "=== Completed Step: FP-Growth Predictions in 10.80 seconds ===\n",
            "\n",
            "=== Running Experiment 4 ===\n",
            "\n",
            "Running Apriori for Experiment 4...\n",
            "\n",
            "=== Starting Step: Apriori Frequent Itemsets ===\n",
            "=== Completed Step: Apriori Frequent Itemsets in 0.08 seconds ===\n",
            "\n",
            "=== Starting Step: Apriori Association Rules ===\n",
            "=== Completed Step: Apriori Association Rules in 0.01 seconds ===\n",
            "\n",
            "=== Starting Step: Apriori Predictions ===\n"
          ]
        },
        {
          "output_type": "stream",
          "name": "stderr",
          "text": [
            "Generating Predictions: 100%|███████████████████████████████████████| 38/38 [00:17<00:00,  2.23it/s]\n",
            "C:\\Users\\user\\AppData\\Local\\Programs\\Python\\Python310\\lib\\site-packages\\mlxtend\\frequent_patterns\\fpcommon.py:109: DeprecationWarning: DataFrames with non-bool types result in worse computationalperformance and their support might be discontinued in the future.Please use a DataFrame with bool type\n",
            "  warnings.warn(\n"
          ]
        },
        {
          "output_type": "stream",
          "name": "stdout",
          "text": [
            "=== Completed Step: Apriori Predictions in 17.06 seconds ===\n",
            "\n",
            "Running FP-Growth for Experiment 4...\n",
            "\n",
            "=== Starting Step: FP-Growth Frequent Itemsets ===\n",
            "=== Completed Step: FP-Growth Frequent Itemsets in 0.34 seconds ===\n",
            "\n",
            "=== Starting Step: FP-Growth Association Rules ===\n",
            "=== Completed Step: FP-Growth Association Rules in 0.01 seconds ===\n",
            "\n",
            "=== Starting Step: FP-Growth Predictions ===\n"
          ]
        },
        {
          "output_type": "stream",
          "name": "stderr",
          "text": [
            "Generating Predictions: 100%|███████████████████████████████████████| 38/38 [00:16<00:00,  2.24it/s]\n",
            "C:\\Users\\user\\AppData\\Local\\Programs\\Python\\Python310\\lib\\site-packages\\mlxtend\\frequent_patterns\\fpcommon.py:109: DeprecationWarning: DataFrames with non-bool types result in worse computationalperformance and their support might be discontinued in the future.Please use a DataFrame with bool type\n",
            "  warnings.warn(\n"
          ]
        },
        {
          "output_type": "stream",
          "name": "stdout",
          "text": [
            "=== Completed Step: FP-Growth Predictions in 16.97 seconds ===\n",
            "\n",
            "=== Running Experiment 5 ===\n",
            "\n",
            "Running Apriori for Experiment 5...\n",
            "\n",
            "=== Starting Step: Apriori Frequent Itemsets ===\n",
            "=== Completed Step: Apriori Frequent Itemsets in 0.01 seconds ===\n",
            "\n",
            "=== Starting Step: Apriori Association Rules ===\n",
            "=== Completed Step: Apriori Association Rules in 0.00 seconds ===\n",
            "\n",
            "=== Starting Step: Apriori Predictions ===\n"
          ]
        },
        {
          "output_type": "stream",
          "name": "stderr",
          "text": [
            "Generating Predictions: 100%|███████████████████████████████████████| 38/38 [00:08<00:00,  4.50it/s]\n",
            "C:\\Users\\user\\AppData\\Local\\Programs\\Python\\Python310\\lib\\site-packages\\mlxtend\\frequent_patterns\\fpcommon.py:109: DeprecationWarning: DataFrames with non-bool types result in worse computationalperformance and their support might be discontinued in the future.Please use a DataFrame with bool type\n",
            "  warnings.warn(\n"
          ]
        },
        {
          "output_type": "stream",
          "name": "stdout",
          "text": [
            "=== Completed Step: Apriori Predictions in 8.45 seconds ===\n",
            "\n",
            "Running FP-Growth for Experiment 5...\n",
            "\n",
            "=== Starting Step: FP-Growth Frequent Itemsets ===\n",
            "=== Completed Step: FP-Growth Frequent Itemsets in 0.33 seconds ===\n",
            "\n",
            "=== Starting Step: FP-Growth Association Rules ===\n",
            "=== Completed Step: FP-Growth Association Rules in 0.00 seconds ===\n",
            "\n",
            "=== Starting Step: FP-Growth Predictions ===\n"
          ]
        },
        {
          "output_type": "stream",
          "name": "stderr",
          "text": [
            "Generating Predictions: 100%|███████████████████████████████████████| 38/38 [00:08<00:00,  4.44it/s]\n",
            "C:\\Users\\user\\AppData\\Local\\Programs\\Python\\Python310\\lib\\site-packages\\mlxtend\\frequent_patterns\\fpcommon.py:109: DeprecationWarning: DataFrames with non-bool types result in worse computationalperformance and their support might be discontinued in the future.Please use a DataFrame with bool type\n",
            "  warnings.warn(\n"
          ]
        },
        {
          "output_type": "stream",
          "name": "stdout",
          "text": [
            "=== Completed Step: FP-Growth Predictions in 8.55 seconds ===\n",
            "\n",
            "=== Running Experiment 6 ===\n",
            "\n",
            "Running Apriori for Experiment 6...\n",
            "\n",
            "=== Starting Step: Apriori Frequent Itemsets ===\n",
            "=== Completed Step: Apriori Frequent Itemsets in 0.08 seconds ===\n",
            "\n",
            "=== Starting Step: Apriori Association Rules ===\n",
            "=== Completed Step: Apriori Association Rules in 0.01 seconds ===\n",
            "\n",
            "=== Starting Step: Apriori Predictions ===\n"
          ]
        },
        {
          "output_type": "stream",
          "name": "stderr",
          "text": [
            "Generating Predictions: 100%|███████████████████████████████████████| 38/38 [00:13<00:00,  2.91it/s]\n",
            "C:\\Users\\user\\AppData\\Local\\Programs\\Python\\Python310\\lib\\site-packages\\mlxtend\\frequent_patterns\\fpcommon.py:109: DeprecationWarning: DataFrames with non-bool types result in worse computationalperformance and their support might be discontinued in the future.Please use a DataFrame with bool type\n",
            "  warnings.warn(\n"
          ]
        },
        {
          "output_type": "stream",
          "name": "stdout",
          "text": [
            "=== Completed Step: Apriori Predictions in 13.08 seconds ===\n",
            "\n",
            "Running FP-Growth for Experiment 6...\n",
            "\n",
            "=== Starting Step: FP-Growth Frequent Itemsets ===\n",
            "=== Completed Step: FP-Growth Frequent Itemsets in 0.20 seconds ===\n",
            "\n",
            "=== Starting Step: FP-Growth Association Rules ===\n",
            "=== Completed Step: FP-Growth Association Rules in 0.01 seconds ===\n",
            "\n",
            "=== Starting Step: FP-Growth Predictions ===\n"
          ]
        },
        {
          "output_type": "stream",
          "name": "stderr",
          "text": [
            "Generating Predictions: 100%|███████████████████████████████████████| 38/38 [00:13<00:00,  2.89it/s]\n",
            "C:\\Users\\user\\AppData\\Local\\Programs\\Python\\Python310\\lib\\site-packages\\mlxtend\\frequent_patterns\\fpcommon.py:109: DeprecationWarning: DataFrames with non-bool types result in worse computationalperformance and their support might be discontinued in the future.Please use a DataFrame with bool type\n",
            "  warnings.warn(\n"
          ]
        },
        {
          "output_type": "stream",
          "name": "stdout",
          "text": [
            "=== Completed Step: FP-Growth Predictions in 13.16 seconds ===\n",
            "\n",
            "=== Running Experiment 7 ===\n",
            "\n",
            "Running Apriori for Experiment 7...\n",
            "\n",
            "=== Starting Step: Apriori Frequent Itemsets ===\n",
            "=== Completed Step: Apriori Frequent Itemsets in 0.01 seconds ===\n",
            "\n",
            "=== Starting Step: Apriori Association Rules ===\n",
            "=== Completed Step: Apriori Association Rules in 0.00 seconds ===\n",
            "\n",
            "=== Starting Step: Apriori Predictions ===\n"
          ]
        },
        {
          "output_type": "stream",
          "name": "stderr",
          "text": [
            "Generating Predictions: 100%|███████████████████████████████████████| 38/38 [00:07<00:00,  5.00it/s]\n",
            "C:\\Users\\user\\AppData\\Local\\Programs\\Python\\Python310\\lib\\site-packages\\mlxtend\\frequent_patterns\\fpcommon.py:109: DeprecationWarning: DataFrames with non-bool types result in worse computationalperformance and their support might be discontinued in the future.Please use a DataFrame with bool type\n",
            "  warnings.warn(\n"
          ]
        },
        {
          "output_type": "stream",
          "name": "stdout",
          "text": [
            "=== Completed Step: Apriori Predictions in 7.60 seconds ===\n",
            "\n",
            "Running FP-Growth for Experiment 7...\n",
            "\n",
            "=== Starting Step: FP-Growth Frequent Itemsets ===\n",
            "=== Completed Step: FP-Growth Frequent Itemsets in 0.23 seconds ===\n",
            "\n",
            "=== Starting Step: FP-Growth Association Rules ===\n",
            "=== Completed Step: FP-Growth Association Rules in 0.00 seconds ===\n",
            "\n",
            "=== Starting Step: FP-Growth Predictions ===\n"
          ]
        },
        {
          "output_type": "stream",
          "name": "stderr",
          "text": [
            "Generating Predictions: 100%|███████████████████████████████████████| 38/38 [00:07<00:00,  4.94it/s]\n",
            "C:\\Users\\user\\AppData\\Local\\Programs\\Python\\Python310\\lib\\site-packages\\mlxtend\\frequent_patterns\\fpcommon.py:109: DeprecationWarning: DataFrames with non-bool types result in worse computationalperformance and their support might be discontinued in the future.Please use a DataFrame with bool type\n",
            "  warnings.warn(\n"
          ]
        },
        {
          "output_type": "stream",
          "name": "stdout",
          "text": [
            "=== Completed Step: FP-Growth Predictions in 7.70 seconds ===\n",
            "\n",
            "=== Running Experiment 8 ===\n",
            "\n",
            "Running Apriori for Experiment 8...\n",
            "\n",
            "=== Starting Step: Apriori Frequent Itemsets ===\n",
            "=== Completed Step: Apriori Frequent Itemsets in 0.09 seconds ===\n",
            "\n",
            "=== Starting Step: Apriori Association Rules ===\n",
            "=== Completed Step: Apriori Association Rules in 0.00 seconds ===\n",
            "\n",
            "=== Starting Step: Apriori Predictions ===\n"
          ]
        },
        {
          "output_type": "stream",
          "name": "stderr",
          "text": [
            "Generating Predictions: 100%|███████████████████████████████████████| 38/38 [00:11<00:00,  3.43it/s]\n",
            "C:\\Users\\user\\AppData\\Local\\Programs\\Python\\Python310\\lib\\site-packages\\mlxtend\\frequent_patterns\\fpcommon.py:109: DeprecationWarning: DataFrames with non-bool types result in worse computationalperformance and their support might be discontinued in the future.Please use a DataFrame with bool type\n",
            "  warnings.warn(\n"
          ]
        },
        {
          "output_type": "stream",
          "name": "stdout",
          "text": [
            "=== Completed Step: Apriori Predictions in 11.07 seconds ===\n",
            "\n",
            "Running FP-Growth for Experiment 8...\n",
            "\n",
            "=== Starting Step: FP-Growth Frequent Itemsets ===\n",
            "=== Completed Step: FP-Growth Frequent Itemsets in 0.35 seconds ===\n",
            "\n",
            "=== Starting Step: FP-Growth Association Rules ===\n",
            "=== Completed Step: FP-Growth Association Rules in 0.01 seconds ===\n",
            "\n",
            "=== Starting Step: FP-Growth Predictions ===\n"
          ]
        },
        {
          "output_type": "stream",
          "name": "stderr",
          "text": [
            "Generating Predictions: 100%|███████████████████████████████████████| 38/38 [00:10<00:00,  3.48it/s]\n",
            "C:\\Users\\user\\AppData\\Local\\Programs\\Python\\Python310\\lib\\site-packages\\mlxtend\\frequent_patterns\\fpcommon.py:109: DeprecationWarning: DataFrames with non-bool types result in worse computationalperformance and their support might be discontinued in the future.Please use a DataFrame with bool type\n",
            "  warnings.warn(\n"
          ]
        },
        {
          "output_type": "stream",
          "name": "stdout",
          "text": [
            "=== Completed Step: FP-Growth Predictions in 10.92 seconds ===\n",
            "\n",
            "=== Running Experiment 9 ===\n",
            "\n",
            "Running Apriori for Experiment 9...\n",
            "\n",
            "=== Starting Step: Apriori Frequent Itemsets ===\n",
            "=== Completed Step: Apriori Frequent Itemsets in 0.01 seconds ===\n",
            "\n",
            "=== Starting Step: Apriori Association Rules ===\n",
            "=== Completed Step: Apriori Association Rules in 0.00 seconds ===\n",
            "\n",
            "=== Starting Step: Apriori Predictions ===\n"
          ]
        },
        {
          "output_type": "stream",
          "name": "stderr",
          "text": [
            "Generating Predictions: 100%|███████████████████████████████████████| 38/38 [00:08<00:00,  4.35it/s]\n",
            "C:\\Users\\user\\AppData\\Local\\Programs\\Python\\Python310\\lib\\site-packages\\mlxtend\\frequent_patterns\\fpcommon.py:109: DeprecationWarning: DataFrames with non-bool types result in worse computationalperformance and their support might be discontinued in the future.Please use a DataFrame with bool type\n",
            "  warnings.warn(\n"
          ]
        },
        {
          "output_type": "stream",
          "name": "stdout",
          "text": [
            "=== Completed Step: Apriori Predictions in 8.74 seconds ===\n",
            "\n",
            "Running FP-Growth for Experiment 9...\n",
            "\n",
            "=== Starting Step: FP-Growth Frequent Itemsets ===\n",
            "=== Completed Step: FP-Growth Frequent Itemsets in 0.14 seconds ===\n",
            "\n",
            "=== Starting Step: FP-Growth Association Rules ===\n",
            "=== Completed Step: FP-Growth Association Rules in 0.00 seconds ===\n",
            "\n",
            "=== Starting Step: FP-Growth Predictions ===\n"
          ]
        },
        {
          "output_type": "stream",
          "name": "stderr",
          "text": [
            "Generating Predictions: 100%|███████████████████████████████████████| 38/38 [00:08<00:00,  4.48it/s]\n",
            "C:\\Users\\user\\AppData\\Local\\Programs\\Python\\Python310\\lib\\site-packages\\mlxtend\\frequent_patterns\\fpcommon.py:109: DeprecationWarning: DataFrames with non-bool types result in worse computationalperformance and their support might be discontinued in the future.Please use a DataFrame with bool type\n",
            "  warnings.warn(\n"
          ]
        },
        {
          "output_type": "stream",
          "name": "stdout",
          "text": [
            "=== Completed Step: FP-Growth Predictions in 8.48 seconds ===\n",
            "\n",
            "=== Running Experiment 10 ===\n",
            "\n",
            "Running Apriori for Experiment 10...\n",
            "\n",
            "=== Starting Step: Apriori Frequent Itemsets ===\n",
            "=== Completed Step: Apriori Frequent Itemsets in 0.03 seconds ===\n",
            "\n",
            "=== Starting Step: Apriori Association Rules ===\n",
            "=== Completed Step: Apriori Association Rules in 0.00 seconds ===\n",
            "\n",
            "=== Starting Step: Apriori Predictions ===\n"
          ]
        },
        {
          "output_type": "stream",
          "name": "stderr",
          "text": [
            "Generating Predictions: 100%|███████████████████████████████████████| 38/38 [00:09<00:00,  3.93it/s]\n",
            "C:\\Users\\user\\AppData\\Local\\Programs\\Python\\Python310\\lib\\site-packages\\mlxtend\\frequent_patterns\\fpcommon.py:109: DeprecationWarning: DataFrames with non-bool types result in worse computationalperformance and their support might be discontinued in the future.Please use a DataFrame with bool type\n",
            "  warnings.warn(\n"
          ]
        },
        {
          "output_type": "stream",
          "name": "stdout",
          "text": [
            "=== Completed Step: Apriori Predictions in 9.68 seconds ===\n",
            "\n",
            "Running FP-Growth for Experiment 10...\n",
            "\n",
            "=== Starting Step: FP-Growth Frequent Itemsets ===\n",
            "=== Completed Step: FP-Growth Frequent Itemsets in 0.14 seconds ===\n",
            "\n",
            "=== Starting Step: FP-Growth Association Rules ===\n",
            "=== Completed Step: FP-Growth Association Rules in 0.00 seconds ===\n",
            "\n",
            "=== Starting Step: FP-Growth Predictions ===\n"
          ]
        },
        {
          "output_type": "stream",
          "name": "stderr",
          "text": [
            "Generating Predictions: 100%|███████████████████████████████████████| 38/38 [00:09<00:00,  4.01it/s]\n",
            "C:\\Users\\user\\AppData\\Local\\Programs\\Python\\Python310\\lib\\site-packages\\mlxtend\\frequent_patterns\\fpcommon.py:109: DeprecationWarning: DataFrames with non-bool types result in worse computationalperformance and their support might be discontinued in the future.Please use a DataFrame with bool type\n",
            "  warnings.warn(\n"
          ]
        },
        {
          "output_type": "stream",
          "name": "stdout",
          "text": [
            "=== Completed Step: FP-Growth Predictions in 9.48 seconds ===\n",
            "\n",
            "=== Running Experiment 11 ===\n",
            "\n",
            "Running Apriori for Experiment 11...\n",
            "\n",
            "=== Starting Step: Apriori Frequent Itemsets ===\n",
            "=== Completed Step: Apriori Frequent Itemsets in 0.01 seconds ===\n",
            "\n",
            "=== Starting Step: Apriori Association Rules ===\n",
            "=== Completed Step: Apriori Association Rules in 0.00 seconds ===\n",
            "\n",
            "=== Starting Step: Apriori Predictions ===\n"
          ]
        },
        {
          "output_type": "stream",
          "name": "stderr",
          "text": [
            "Generating Predictions: 100%|███████████████████████████████████████| 38/38 [00:08<00:00,  4.42it/s]\n",
            "C:\\Users\\user\\AppData\\Local\\Programs\\Python\\Python310\\lib\\site-packages\\mlxtend\\frequent_patterns\\fpcommon.py:109: DeprecationWarning: DataFrames with non-bool types result in worse computationalperformance and their support might be discontinued in the future.Please use a DataFrame with bool type\n",
            "  warnings.warn(\n"
          ]
        },
        {
          "output_type": "stream",
          "name": "stdout",
          "text": [
            "=== Completed Step: Apriori Predictions in 8.60 seconds ===\n",
            "\n",
            "Running FP-Growth for Experiment 11...\n",
            "\n",
            "=== Starting Step: FP-Growth Frequent Itemsets ===\n",
            "=== Completed Step: FP-Growth Frequent Itemsets in 0.27 seconds ===\n",
            "\n",
            "=== Starting Step: FP-Growth Association Rules ===\n",
            "=== Completed Step: FP-Growth Association Rules in 0.00 seconds ===\n",
            "\n",
            "=== Starting Step: FP-Growth Predictions ===\n"
          ]
        },
        {
          "output_type": "stream",
          "name": "stderr",
          "text": [
            "Generating Predictions: 100%|███████████████████████████████████████| 38/38 [00:08<00:00,  4.36it/s]\n",
            "C:\\Users\\user\\AppData\\Local\\Programs\\Python\\Python310\\lib\\site-packages\\mlxtend\\frequent_patterns\\fpcommon.py:109: DeprecationWarning: DataFrames with non-bool types result in worse computationalperformance and their support might be discontinued in the future.Please use a DataFrame with bool type\n",
            "  warnings.warn(\n"
          ]
        },
        {
          "output_type": "stream",
          "name": "stdout",
          "text": [
            "=== Completed Step: FP-Growth Predictions in 8.72 seconds ===\n",
            "\n",
            "=== Running Experiment 12 ===\n",
            "\n",
            "Running Apriori for Experiment 12...\n",
            "\n",
            "=== Starting Step: Apriori Frequent Itemsets ===\n",
            "=== Completed Step: Apriori Frequent Itemsets in 0.03 seconds ===\n",
            "\n",
            "=== Starting Step: Apriori Association Rules ===\n",
            "=== Completed Step: Apriori Association Rules in 0.00 seconds ===\n",
            "\n",
            "=== Starting Step: Apriori Predictions ===\n"
          ]
        },
        {
          "output_type": "stream",
          "name": "stderr",
          "text": [
            "Generating Predictions: 100%|███████████████████████████████████████| 38/38 [00:09<00:00,  3.98it/s]\n",
            "C:\\Users\\user\\AppData\\Local\\Programs\\Python\\Python310\\lib\\site-packages\\mlxtend\\frequent_patterns\\fpcommon.py:109: DeprecationWarning: DataFrames with non-bool types result in worse computationalperformance and their support might be discontinued in the future.Please use a DataFrame with bool type\n",
            "  warnings.warn(\n"
          ]
        },
        {
          "output_type": "stream",
          "name": "stdout",
          "text": [
            "=== Completed Step: Apriori Predictions in 9.55 seconds ===\n",
            "\n",
            "Running FP-Growth for Experiment 12...\n",
            "\n",
            "=== Starting Step: FP-Growth Frequent Itemsets ===\n",
            "=== Completed Step: FP-Growth Frequent Itemsets in 0.27 seconds ===\n",
            "\n",
            "=== Starting Step: FP-Growth Association Rules ===\n",
            "=== Completed Step: FP-Growth Association Rules in 0.00 seconds ===\n",
            "\n",
            "=== Starting Step: FP-Growth Predictions ===\n"
          ]
        },
        {
          "output_type": "stream",
          "name": "stderr",
          "text": [
            "Generating Predictions: 100%|███████████████████████████████████████| 38/38 [00:09<00:00,  3.99it/s]\n",
            "C:\\Users\\user\\AppData\\Local\\Programs\\Python\\Python310\\lib\\site-packages\\mlxtend\\frequent_patterns\\fpcommon.py:109: DeprecationWarning: DataFrames with non-bool types result in worse computationalperformance and their support might be discontinued in the future.Please use a DataFrame with bool type\n",
            "  warnings.warn(\n"
          ]
        },
        {
          "output_type": "stream",
          "name": "stdout",
          "text": [
            "=== Completed Step: FP-Growth Predictions in 9.53 seconds ===\n",
            "\n",
            "=== Running Experiment 13 ===\n",
            "\n",
            "Running Apriori for Experiment 13...\n",
            "\n",
            "=== Starting Step: Apriori Frequent Itemsets ===\n",
            "=== Completed Step: Apriori Frequent Itemsets in 0.01 seconds ===\n",
            "\n",
            "=== Starting Step: Apriori Association Rules ===\n",
            "=== Completed Step: Apriori Association Rules in 0.00 seconds ===\n",
            "\n",
            "=== Starting Step: Apriori Predictions ===\n"
          ]
        },
        {
          "output_type": "stream",
          "name": "stderr",
          "text": [
            "Generating Predictions: 100%|███████████████████████████████████████| 38/38 [00:08<00:00,  4.54it/s]\n",
            "C:\\Users\\user\\AppData\\Local\\Programs\\Python\\Python310\\lib\\site-packages\\mlxtend\\frequent_patterns\\fpcommon.py:109: DeprecationWarning: DataFrames with non-bool types result in worse computationalperformance and their support might be discontinued in the future.Please use a DataFrame with bool type\n",
            "  warnings.warn(\n"
          ]
        },
        {
          "output_type": "stream",
          "name": "stdout",
          "text": [
            "=== Completed Step: Apriori Predictions in 8.37 seconds ===\n",
            "\n",
            "Running FP-Growth for Experiment 13...\n",
            "\n",
            "=== Starting Step: FP-Growth Frequent Itemsets ===\n",
            "=== Completed Step: FP-Growth Frequent Itemsets in 0.28 seconds ===\n",
            "\n",
            "=== Starting Step: FP-Growth Association Rules ===\n",
            "=== Completed Step: FP-Growth Association Rules in 0.00 seconds ===\n",
            "\n",
            "=== Starting Step: FP-Growth Predictions ===\n"
          ]
        },
        {
          "output_type": "stream",
          "name": "stderr",
          "text": [
            "Generating Predictions: 100%|███████████████████████████████████████| 38/38 [00:08<00:00,  4.55it/s]\n",
            "C:\\Users\\user\\AppData\\Local\\Programs\\Python\\Python310\\lib\\site-packages\\mlxtend\\frequent_patterns\\fpcommon.py:109: DeprecationWarning: DataFrames with non-bool types result in worse computationalperformance and their support might be discontinued in the future.Please use a DataFrame with bool type\n",
            "  warnings.warn(\n"
          ]
        },
        {
          "output_type": "stream",
          "name": "stdout",
          "text": [
            "=== Completed Step: FP-Growth Predictions in 8.35 seconds ===\n",
            "\n",
            "=== Running Experiment 14 ===\n",
            "\n",
            "Running Apriori for Experiment 14...\n",
            "\n",
            "=== Starting Step: Apriori Frequent Itemsets ===\n",
            "=== Completed Step: Apriori Frequent Itemsets in 0.03 seconds ===\n",
            "\n",
            "=== Starting Step: Apriori Association Rules ===\n",
            "=== Completed Step: Apriori Association Rules in 0.00 seconds ===\n",
            "\n",
            "=== Starting Step: Apriori Predictions ===\n"
          ]
        },
        {
          "output_type": "stream",
          "name": "stderr",
          "text": [
            "Generating Predictions: 100%|███████████████████████████████████████| 38/38 [00:09<00:00,  4.20it/s]\n",
            "C:\\Users\\user\\AppData\\Local\\Programs\\Python\\Python310\\lib\\site-packages\\mlxtend\\frequent_patterns\\fpcommon.py:109: DeprecationWarning: DataFrames with non-bool types result in worse computationalperformance and their support might be discontinued in the future.Please use a DataFrame with bool type\n",
            "  warnings.warn(\n"
          ]
        },
        {
          "output_type": "stream",
          "name": "stdout",
          "text": [
            "=== Completed Step: Apriori Predictions in 9.05 seconds ===\n",
            "\n",
            "Running FP-Growth for Experiment 14...\n",
            "\n",
            "=== Starting Step: FP-Growth Frequent Itemsets ===\n",
            "=== Completed Step: FP-Growth Frequent Itemsets in 0.29 seconds ===\n",
            "\n",
            "=== Starting Step: FP-Growth Association Rules ===\n",
            "=== Completed Step: FP-Growth Association Rules in 0.00 seconds ===\n",
            "\n",
            "=== Starting Step: FP-Growth Predictions ===\n"
          ]
        },
        {
          "output_type": "stream",
          "name": "stderr",
          "text": [
            "Generating Predictions: 100%|███████████████████████████████████████| 38/38 [00:09<00:00,  4.18it/s]\n",
            "C:\\Users\\user\\AppData\\Local\\Programs\\Python\\Python310\\lib\\site-packages\\mlxtend\\frequent_patterns\\fpcommon.py:109: DeprecationWarning: DataFrames with non-bool types result in worse computationalperformance and their support might be discontinued in the future.Please use a DataFrame with bool type\n",
            "  warnings.warn(\n"
          ]
        },
        {
          "output_type": "stream",
          "name": "stdout",
          "text": [
            "=== Completed Step: FP-Growth Predictions in 9.09 seconds ===\n",
            "\n",
            "=== Running Experiment 15 ===\n",
            "\n",
            "Running Apriori for Experiment 15...\n",
            "\n",
            "=== Starting Step: Apriori Frequent Itemsets ===\n",
            "=== Completed Step: Apriori Frequent Itemsets in 0.01 seconds ===\n",
            "\n",
            "=== Starting Step: Apriori Association Rules ===\n",
            "=== Completed Step: Apriori Association Rules in 0.00 seconds ===\n",
            "\n",
            "=== Starting Step: Apriori Predictions ===\n"
          ]
        },
        {
          "output_type": "stream",
          "name": "stderr",
          "text": [
            "Generating Predictions: 100%|███████████████████████████████████████| 38/38 [00:07<00:00,  5.03it/s]\n",
            "C:\\Users\\user\\AppData\\Local\\Programs\\Python\\Python310\\lib\\site-packages\\mlxtend\\frequent_patterns\\fpcommon.py:109: DeprecationWarning: DataFrames with non-bool types result in worse computationalperformance and their support might be discontinued in the future.Please use a DataFrame with bool type\n",
            "  warnings.warn(\n"
          ]
        },
        {
          "output_type": "stream",
          "name": "stdout",
          "text": [
            "=== Completed Step: Apriori Predictions in 7.55 seconds ===\n",
            "\n",
            "Running FP-Growth for Experiment 15...\n",
            "\n",
            "=== Starting Step: FP-Growth Frequent Itemsets ===\n",
            "=== Completed Step: FP-Growth Frequent Itemsets in 0.14 seconds ===\n",
            "\n",
            "=== Starting Step: FP-Growth Association Rules ===\n",
            "=== Completed Step: FP-Growth Association Rules in 0.00 seconds ===\n",
            "\n",
            "=== Starting Step: FP-Growth Predictions ===\n"
          ]
        },
        {
          "output_type": "stream",
          "name": "stderr",
          "text": [
            "Generating Predictions: 100%|███████████████████████████████████████| 38/38 [00:07<00:00,  4.94it/s]\n",
            "C:\\Users\\user\\AppData\\Local\\Programs\\Python\\Python310\\lib\\site-packages\\mlxtend\\frequent_patterns\\fpcommon.py:109: DeprecationWarning: DataFrames with non-bool types result in worse computationalperformance and their support might be discontinued in the future.Please use a DataFrame with bool type\n",
            "  warnings.warn(\n"
          ]
        },
        {
          "output_type": "stream",
          "name": "stdout",
          "text": [
            "=== Completed Step: FP-Growth Predictions in 7.69 seconds ===\n",
            "\n",
            "=== Running Experiment 16 ===\n",
            "\n",
            "Running Apriori for Experiment 16...\n",
            "\n",
            "=== Starting Step: Apriori Frequent Itemsets ===\n",
            "=== Completed Step: Apriori Frequent Itemsets in 0.03 seconds ===\n",
            "\n",
            "=== Starting Step: Apriori Association Rules ===\n",
            "=== Completed Step: Apriori Association Rules in 0.00 seconds ===\n",
            "\n",
            "=== Starting Step: Apriori Predictions ===\n"
          ]
        },
        {
          "output_type": "stream",
          "name": "stderr",
          "text": [
            "Generating Predictions: 100%|███████████████████████████████████████| 38/38 [00:07<00:00,  4.78it/s]\n",
            "C:\\Users\\user\\AppData\\Local\\Programs\\Python\\Python310\\lib\\site-packages\\mlxtend\\frequent_patterns\\fpcommon.py:109: DeprecationWarning: DataFrames with non-bool types result in worse computationalperformance and their support might be discontinued in the future.Please use a DataFrame with bool type\n",
            "  warnings.warn(\n"
          ]
        },
        {
          "output_type": "stream",
          "name": "stdout",
          "text": [
            "=== Completed Step: Apriori Predictions in 7.96 seconds ===\n",
            "\n",
            "Running FP-Growth for Experiment 16...\n",
            "\n",
            "=== Starting Step: FP-Growth Frequent Itemsets ===\n",
            "=== Completed Step: FP-Growth Frequent Itemsets in 0.14 seconds ===\n",
            "\n",
            "=== Starting Step: FP-Growth Association Rules ===\n",
            "=== Completed Step: FP-Growth Association Rules in 0.00 seconds ===\n",
            "\n",
            "=== Starting Step: FP-Growth Predictions ===\n"
          ]
        },
        {
          "output_type": "stream",
          "name": "stderr",
          "text": [
            "Generating Predictions: 100%|███████████████████████████████████████| 38/38 [00:07<00:00,  4.82it/s]\n",
            "C:\\Users\\user\\AppData\\Local\\Programs\\Python\\Python310\\lib\\site-packages\\mlxtend\\frequent_patterns\\fpcommon.py:109: DeprecationWarning: DataFrames with non-bool types result in worse computationalperformance and their support might be discontinued in the future.Please use a DataFrame with bool type\n",
            "  warnings.warn(\n"
          ]
        },
        {
          "output_type": "stream",
          "name": "stdout",
          "text": [
            "=== Completed Step: FP-Growth Predictions in 7.88 seconds ===\n",
            "\n",
            "=== Running Experiment 17 ===\n",
            "\n",
            "Running Apriori for Experiment 17...\n",
            "\n",
            "=== Starting Step: Apriori Frequent Itemsets ===\n",
            "=== Completed Step: Apriori Frequent Itemsets in 0.01 seconds ===\n",
            "\n",
            "=== Starting Step: Apriori Association Rules ===\n",
            "=== Completed Step: Apriori Association Rules in 0.00 seconds ===\n",
            "\n",
            "=== Starting Step: Apriori Predictions ===\n"
          ]
        },
        {
          "output_type": "stream",
          "name": "stderr",
          "text": [
            "Generating Predictions: 100%|███████████████████████████████████████| 38/38 [00:07<00:00,  5.11it/s]\n",
            "C:\\Users\\user\\AppData\\Local\\Programs\\Python\\Python310\\lib\\site-packages\\mlxtend\\frequent_patterns\\fpcommon.py:109: DeprecationWarning: DataFrames with non-bool types result in worse computationalperformance and their support might be discontinued in the future.Please use a DataFrame with bool type\n",
            "  warnings.warn(\n"
          ]
        },
        {
          "output_type": "stream",
          "name": "stdout",
          "text": [
            "=== Completed Step: Apriori Predictions in 7.43 seconds ===\n",
            "\n",
            "Running FP-Growth for Experiment 17...\n",
            "\n",
            "=== Starting Step: FP-Growth Frequent Itemsets ===\n",
            "=== Completed Step: FP-Growth Frequent Itemsets in 0.13 seconds ===\n",
            "\n",
            "=== Starting Step: FP-Growth Association Rules ===\n",
            "=== Completed Step: FP-Growth Association Rules in 0.00 seconds ===\n",
            "\n",
            "=== Starting Step: FP-Growth Predictions ===\n"
          ]
        },
        {
          "output_type": "stream",
          "name": "stderr",
          "text": [
            "Generating Predictions: 100%|███████████████████████████████████████| 38/38 [00:07<00:00,  5.25it/s]\n",
            "C:\\Users\\user\\AppData\\Local\\Programs\\Python\\Python310\\lib\\site-packages\\mlxtend\\frequent_patterns\\fpcommon.py:109: DeprecationWarning: DataFrames with non-bool types result in worse computationalperformance and their support might be discontinued in the future.Please use a DataFrame with bool type\n",
            "  warnings.warn(\n"
          ]
        },
        {
          "output_type": "stream",
          "name": "stdout",
          "text": [
            "=== Completed Step: FP-Growth Predictions in 7.24 seconds ===\n",
            "\n",
            "=== Running Experiment 18 ===\n",
            "\n",
            "Running Apriori for Experiment 18...\n",
            "\n",
            "=== Starting Step: Apriori Frequent Itemsets ===\n",
            "=== Completed Step: Apriori Frequent Itemsets in 0.02 seconds ===\n",
            "\n",
            "=== Starting Step: Apriori Association Rules ===\n",
            "=== Completed Step: Apriori Association Rules in 0.00 seconds ===\n",
            "\n",
            "=== Starting Step: Apriori Predictions ===\n"
          ]
        },
        {
          "output_type": "stream",
          "name": "stderr",
          "text": [
            "Generating Predictions: 100%|███████████████████████████████████████| 38/38 [00:07<00:00,  5.23it/s]\n",
            "C:\\Users\\user\\AppData\\Local\\Programs\\Python\\Python310\\lib\\site-packages\\mlxtend\\frequent_patterns\\fpcommon.py:109: DeprecationWarning: DataFrames with non-bool types result in worse computationalperformance and their support might be discontinued in the future.Please use a DataFrame with bool type\n",
            "  warnings.warn(\n"
          ]
        },
        {
          "output_type": "stream",
          "name": "stdout",
          "text": [
            "=== Completed Step: Apriori Predictions in 7.27 seconds ===\n",
            "\n",
            "Running FP-Growth for Experiment 18...\n",
            "\n",
            "=== Starting Step: FP-Growth Frequent Itemsets ===\n",
            "=== Completed Step: FP-Growth Frequent Itemsets in 0.26 seconds ===\n",
            "\n",
            "=== Starting Step: FP-Growth Association Rules ===\n",
            "=== Completed Step: FP-Growth Association Rules in 0.00 seconds ===\n",
            "\n",
            "=== Starting Step: FP-Growth Predictions ===\n"
          ]
        },
        {
          "output_type": "stream",
          "name": "stderr",
          "text": [
            "Generating Predictions: 100%|███████████████████████████████████████| 38/38 [00:07<00:00,  5.22it/s]\n",
            "C:\\Users\\user\\AppData\\Local\\Programs\\Python\\Python310\\lib\\site-packages\\mlxtend\\frequent_patterns\\fpcommon.py:109: DeprecationWarning: DataFrames with non-bool types result in worse computationalperformance and their support might be discontinued in the future.Please use a DataFrame with bool type\n",
            "  warnings.warn(\n"
          ]
        },
        {
          "output_type": "stream",
          "name": "stdout",
          "text": [
            "=== Completed Step: FP-Growth Predictions in 7.29 seconds ===\n",
            "\n",
            "=== Running Experiment 19 ===\n",
            "\n",
            "Running Apriori for Experiment 19...\n",
            "\n",
            "=== Starting Step: Apriori Frequent Itemsets ===\n",
            "=== Completed Step: Apriori Frequent Itemsets in 0.01 seconds ===\n",
            "\n",
            "=== Starting Step: Apriori Association Rules ===\n",
            "=== Completed Step: Apriori Association Rules in 0.00 seconds ===\n",
            "\n",
            "=== Starting Step: Apriori Predictions ===\n"
          ]
        },
        {
          "output_type": "stream",
          "name": "stderr",
          "text": [
            "Generating Predictions: 100%|███████████████████████████████████████| 38/38 [00:07<00:00,  5.23it/s]\n",
            "C:\\Users\\user\\AppData\\Local\\Programs\\Python\\Python310\\lib\\site-packages\\mlxtend\\frequent_patterns\\fpcommon.py:109: DeprecationWarning: DataFrames with non-bool types result in worse computationalperformance and their support might be discontinued in the future.Please use a DataFrame with bool type\n",
            "  warnings.warn(\n"
          ]
        },
        {
          "output_type": "stream",
          "name": "stdout",
          "text": [
            "=== Completed Step: Apriori Predictions in 7.27 seconds ===\n",
            "\n",
            "Running FP-Growth for Experiment 19...\n",
            "\n",
            "=== Starting Step: FP-Growth Frequent Itemsets ===\n",
            "=== Completed Step: FP-Growth Frequent Itemsets in 0.30 seconds ===\n",
            "\n",
            "=== Starting Step: FP-Growth Association Rules ===\n",
            "=== Completed Step: FP-Growth Association Rules in 0.00 seconds ===\n",
            "\n",
            "=== Starting Step: FP-Growth Predictions ===\n"
          ]
        },
        {
          "output_type": "stream",
          "name": "stderr",
          "text": [
            "Generating Predictions: 100%|███████████████████████████████████████| 38/38 [00:07<00:00,  5.17it/s]\n",
            "C:\\Users\\user\\AppData\\Local\\Programs\\Python\\Python310\\lib\\site-packages\\mlxtend\\frequent_patterns\\fpcommon.py:109: DeprecationWarning: DataFrames with non-bool types result in worse computationalperformance and their support might be discontinued in the future.Please use a DataFrame with bool type\n",
            "  warnings.warn(\n"
          ]
        },
        {
          "output_type": "stream",
          "name": "stdout",
          "text": [
            "=== Completed Step: FP-Growth Predictions in 7.36 seconds ===\n",
            "\n",
            "=== Running Experiment 20 ===\n",
            "\n",
            "Running Apriori for Experiment 20...\n",
            "\n",
            "=== Starting Step: Apriori Frequent Itemsets ===\n",
            "=== Completed Step: Apriori Frequent Itemsets in 0.02 seconds ===\n",
            "\n",
            "=== Starting Step: Apriori Association Rules ===\n",
            "=== Completed Step: Apriori Association Rules in 0.00 seconds ===\n",
            "\n",
            "=== Starting Step: Apriori Predictions ===\n"
          ]
        },
        {
          "output_type": "stream",
          "name": "stderr",
          "text": [
            "Generating Predictions: 100%|███████████████████████████████████████| 38/38 [00:07<00:00,  5.16it/s]\n",
            "C:\\Users\\user\\AppData\\Local\\Programs\\Python\\Python310\\lib\\site-packages\\mlxtend\\frequent_patterns\\fpcommon.py:109: DeprecationWarning: DataFrames with non-bool types result in worse computationalperformance and their support might be discontinued in the future.Please use a DataFrame with bool type\n",
            "  warnings.warn(\n"
          ]
        },
        {
          "output_type": "stream",
          "name": "stdout",
          "text": [
            "=== Completed Step: Apriori Predictions in 7.37 seconds ===\n",
            "\n",
            "Running FP-Growth for Experiment 20...\n",
            "\n",
            "=== Starting Step: FP-Growth Frequent Itemsets ===\n",
            "=== Completed Step: FP-Growth Frequent Itemsets in 0.27 seconds ===\n",
            "\n",
            "=== Starting Step: FP-Growth Association Rules ===\n",
            "=== Completed Step: FP-Growth Association Rules in 0.00 seconds ===\n",
            "\n",
            "=== Starting Step: FP-Growth Predictions ===\n"
          ]
        },
        {
          "output_type": "stream",
          "name": "stderr",
          "text": [
            "Generating Predictions: 100%|███████████████████████████████████████| 38/38 [00:07<00:00,  5.19it/s]\n",
            "C:\\Users\\user\\AppData\\Local\\Programs\\Python\\Python310\\lib\\site-packages\\mlxtend\\frequent_patterns\\fpcommon.py:109: DeprecationWarning: DataFrames with non-bool types result in worse computationalperformance and their support might be discontinued in the future.Please use a DataFrame with bool type\n",
            "  warnings.warn(\n"
          ]
        },
        {
          "output_type": "stream",
          "name": "stdout",
          "text": [
            "=== Completed Step: FP-Growth Predictions in 7.32 seconds ===\n",
            "\n",
            "=== Running Experiment 21 ===\n",
            "\n",
            "Running Apriori for Experiment 21...\n",
            "\n",
            "=== Starting Step: Apriori Frequent Itemsets ===\n",
            "=== Completed Step: Apriori Frequent Itemsets in 0.01 seconds ===\n",
            "\n",
            "=== Starting Step: Apriori Association Rules ===\n",
            "=== Completed Step: Apriori Association Rules in 0.00 seconds ===\n",
            "\n",
            "=== Starting Step: Apriori Predictions ===\n"
          ]
        },
        {
          "output_type": "stream",
          "name": "stderr",
          "text": [
            "Generating Predictions: 100%|███████████████████████████████████████| 38/38 [00:07<00:00,  5.23it/s]\n",
            "C:\\Users\\user\\AppData\\Local\\Programs\\Python\\Python310\\lib\\site-packages\\mlxtend\\frequent_patterns\\fpcommon.py:109: DeprecationWarning: DataFrames with non-bool types result in worse computationalperformance and their support might be discontinued in the future.Please use a DataFrame with bool type\n",
            "  warnings.warn(\n"
          ]
        },
        {
          "output_type": "stream",
          "name": "stdout",
          "text": [
            "=== Completed Step: Apriori Predictions in 7.27 seconds ===\n",
            "\n",
            "Running FP-Growth for Experiment 21...\n",
            "\n",
            "=== Starting Step: FP-Growth Frequent Itemsets ===\n",
            "=== Completed Step: FP-Growth Frequent Itemsets in 0.14 seconds ===\n",
            "\n",
            "=== Starting Step: FP-Growth Association Rules ===\n",
            "=== Completed Step: FP-Growth Association Rules in 0.00 seconds ===\n",
            "\n",
            "=== Starting Step: FP-Growth Predictions ===\n"
          ]
        },
        {
          "output_type": "stream",
          "name": "stderr",
          "text": [
            "Generating Predictions: 100%|███████████████████████████████████████| 38/38 [00:07<00:00,  5.13it/s]\n",
            "C:\\Users\\user\\AppData\\Local\\Programs\\Python\\Python310\\lib\\site-packages\\mlxtend\\frequent_patterns\\fpcommon.py:109: DeprecationWarning: DataFrames with non-bool types result in worse computationalperformance and their support might be discontinued in the future.Please use a DataFrame with bool type\n",
            "  warnings.warn(\n"
          ]
        },
        {
          "output_type": "stream",
          "name": "stdout",
          "text": [
            "=== Completed Step: FP-Growth Predictions in 7.42 seconds ===\n",
            "\n",
            "=== Running Experiment 22 ===\n",
            "\n",
            "Running Apriori for Experiment 22...\n",
            "\n",
            "=== Starting Step: Apriori Frequent Itemsets ===\n",
            "=== Completed Step: Apriori Frequent Itemsets in 0.02 seconds ===\n",
            "\n",
            "=== Starting Step: Apriori Association Rules ===\n",
            "=== Completed Step: Apriori Association Rules in 0.00 seconds ===\n",
            "\n",
            "=== Starting Step: Apriori Predictions ===\n"
          ]
        },
        {
          "output_type": "stream",
          "name": "stderr",
          "text": [
            "Generating Predictions: 100%|███████████████████████████████████████| 38/38 [00:07<00:00,  5.24it/s]\n",
            "C:\\Users\\user\\AppData\\Local\\Programs\\Python\\Python310\\lib\\site-packages\\mlxtend\\frequent_patterns\\fpcommon.py:109: DeprecationWarning: DataFrames with non-bool types result in worse computationalperformance and their support might be discontinued in the future.Please use a DataFrame with bool type\n",
            "  warnings.warn(\n"
          ]
        },
        {
          "output_type": "stream",
          "name": "stdout",
          "text": [
            "=== Completed Step: Apriori Predictions in 7.26 seconds ===\n",
            "\n",
            "Running FP-Growth for Experiment 22...\n",
            "\n",
            "=== Starting Step: FP-Growth Frequent Itemsets ===\n",
            "=== Completed Step: FP-Growth Frequent Itemsets in 0.14 seconds ===\n",
            "\n",
            "=== Starting Step: FP-Growth Association Rules ===\n",
            "=== Completed Step: FP-Growth Association Rules in 0.00 seconds ===\n",
            "\n",
            "=== Starting Step: FP-Growth Predictions ===\n"
          ]
        },
        {
          "output_type": "stream",
          "name": "stderr",
          "text": [
            "Generating Predictions: 100%|███████████████████████████████████████| 38/38 [00:07<00:00,  5.18it/s]\n",
            "C:\\Users\\user\\AppData\\Local\\Programs\\Python\\Python310\\lib\\site-packages\\mlxtend\\frequent_patterns\\fpcommon.py:109: DeprecationWarning: DataFrames with non-bool types result in worse computationalperformance and their support might be discontinued in the future.Please use a DataFrame with bool type\n",
            "  warnings.warn(\n"
          ]
        },
        {
          "output_type": "stream",
          "name": "stdout",
          "text": [
            "=== Completed Step: FP-Growth Predictions in 7.34 seconds ===\n",
            "\n",
            "=== Running Experiment 23 ===\n",
            "\n",
            "Running Apriori for Experiment 23...\n",
            "\n",
            "=== Starting Step: Apriori Frequent Itemsets ===\n",
            "=== Completed Step: Apriori Frequent Itemsets in 0.01 seconds ===\n",
            "\n",
            "=== Starting Step: Apriori Association Rules ===\n",
            "=== Completed Step: Apriori Association Rules in 0.00 seconds ===\n",
            "\n",
            "=== Starting Step: Apriori Predictions ===\n"
          ]
        },
        {
          "output_type": "stream",
          "name": "stderr",
          "text": [
            "Generating Predictions: 100%|███████████████████████████████████████| 38/38 [00:07<00:00,  5.35it/s]\n",
            "C:\\Users\\user\\AppData\\Local\\Programs\\Python\\Python310\\lib\\site-packages\\mlxtend\\frequent_patterns\\fpcommon.py:109: DeprecationWarning: DataFrames with non-bool types result in worse computationalperformance and their support might be discontinued in the future.Please use a DataFrame with bool type\n",
            "  warnings.warn(\n"
          ]
        },
        {
          "output_type": "stream",
          "name": "stdout",
          "text": [
            "=== Completed Step: Apriori Predictions in 7.10 seconds ===\n",
            "\n",
            "Running FP-Growth for Experiment 23...\n",
            "\n",
            "=== Starting Step: FP-Growth Frequent Itemsets ===\n",
            "=== Completed Step: FP-Growth Frequent Itemsets in 0.14 seconds ===\n",
            "\n",
            "=== Starting Step: FP-Growth Association Rules ===\n",
            "=== Completed Step: FP-Growth Association Rules in 0.00 seconds ===\n",
            "\n",
            "=== Starting Step: FP-Growth Predictions ===\n"
          ]
        },
        {
          "output_type": "stream",
          "name": "stderr",
          "text": [
            "Generating Predictions: 100%|███████████████████████████████████████| 38/38 [00:06<00:00,  5.45it/s]\n",
            "C:\\Users\\user\\AppData\\Local\\Programs\\Python\\Python310\\lib\\site-packages\\mlxtend\\frequent_patterns\\fpcommon.py:109: DeprecationWarning: DataFrames with non-bool types result in worse computationalperformance and their support might be discontinued in the future.Please use a DataFrame with bool type\n",
            "  warnings.warn(\n"
          ]
        },
        {
          "output_type": "stream",
          "name": "stdout",
          "text": [
            "=== Completed Step: FP-Growth Predictions in 6.97 seconds ===\n",
            "\n",
            "=== Running Experiment 24 ===\n",
            "\n",
            "Running Apriori for Experiment 24...\n",
            "\n",
            "=== Starting Step: Apriori Frequent Itemsets ===\n",
            "=== Completed Step: Apriori Frequent Itemsets in 0.02 seconds ===\n",
            "\n",
            "=== Starting Step: Apriori Association Rules ===\n",
            "=== Completed Step: Apriori Association Rules in 0.00 seconds ===\n",
            "\n",
            "=== Starting Step: Apriori Predictions ===\n"
          ]
        },
        {
          "output_type": "stream",
          "name": "stderr",
          "text": [
            "Generating Predictions: 100%|███████████████████████████████████████| 38/38 [00:06<00:00,  5.47it/s]\n",
            "C:\\Users\\user\\AppData\\Local\\Programs\\Python\\Python310\\lib\\site-packages\\mlxtend\\frequent_patterns\\fpcommon.py:109: DeprecationWarning: DataFrames with non-bool types result in worse computationalperformance and their support might be discontinued in the future.Please use a DataFrame with bool type\n",
            "  warnings.warn(\n"
          ]
        },
        {
          "output_type": "stream",
          "name": "stdout",
          "text": [
            "=== Completed Step: Apriori Predictions in 6.95 seconds ===\n",
            "\n",
            "Running FP-Growth for Experiment 24...\n",
            "\n",
            "=== Starting Step: FP-Growth Frequent Itemsets ===\n",
            "=== Completed Step: FP-Growth Frequent Itemsets in 0.27 seconds ===\n",
            "\n",
            "=== Starting Step: FP-Growth Association Rules ===\n",
            "=== Completed Step: FP-Growth Association Rules in 0.00 seconds ===\n",
            "\n",
            "=== Starting Step: FP-Growth Predictions ===\n"
          ]
        },
        {
          "output_type": "stream",
          "name": "stderr",
          "text": [
            "Generating Predictions: 100%|███████████████████████████████████████| 38/38 [00:06<00:00,  5.49it/s]\n",
            "C:\\Users\\user\\AppData\\Local\\Programs\\Python\\Python310\\lib\\site-packages\\mlxtend\\frequent_patterns\\fpcommon.py:109: DeprecationWarning: DataFrames with non-bool types result in worse computationalperformance and their support might be discontinued in the future.Please use a DataFrame with bool type\n",
            "  warnings.warn(\n"
          ]
        },
        {
          "output_type": "stream",
          "name": "stdout",
          "text": [
            "=== Completed Step: FP-Growth Predictions in 6.93 seconds ===\n",
            "\n",
            "=== Running Experiment 25 ===\n",
            "\n",
            "Running Apriori for Experiment 25...\n",
            "\n",
            "=== Starting Step: Apriori Frequent Itemsets ===\n",
            "=== Completed Step: Apriori Frequent Itemsets in 0.01 seconds ===\n",
            "\n",
            "=== Starting Step: Apriori Association Rules ===\n",
            "=== Completed Step: Apriori Association Rules in 0.00 seconds ===\n",
            "\n",
            "=== Starting Step: Apriori Predictions ===\n"
          ]
        },
        {
          "output_type": "stream",
          "name": "stderr",
          "text": [
            "Generating Predictions: 100%|███████████████████████████████████████| 38/38 [00:03<00:00, 11.42it/s]\n",
            "C:\\Users\\user\\AppData\\Local\\Programs\\Python\\Python310\\lib\\site-packages\\numpy\\core\\fromnumeric.py:3504: RuntimeWarning: Mean of empty slice.\n",
            "  return _methods._mean(a, axis=axis, dtype=dtype,\n",
            "C:\\Users\\user\\AppData\\Local\\Programs\\Python\\Python310\\lib\\site-packages\\numpy\\core\\_methods.py:129: RuntimeWarning: invalid value encountered in scalar divide\n",
            "  ret = ret.dtype.type(ret / rcount)\n",
            "C:\\Users\\user\\AppData\\Local\\Programs\\Python\\Python310\\lib\\site-packages\\mlxtend\\frequent_patterns\\fpcommon.py:109: DeprecationWarning: DataFrames with non-bool types result in worse computationalperformance and their support might be discontinued in the future.Please use a DataFrame with bool type\n",
            "  warnings.warn(\n"
          ]
        },
        {
          "output_type": "stream",
          "name": "stdout",
          "text": [
            "=== Completed Step: Apriori Predictions in 3.33 seconds ===\n",
            "\n",
            "Running FP-Growth for Experiment 25...\n",
            "\n",
            "=== Starting Step: FP-Growth Frequent Itemsets ===\n",
            "=== Completed Step: FP-Growth Frequent Itemsets in 0.26 seconds ===\n",
            "\n",
            "=== Starting Step: FP-Growth Association Rules ===\n",
            "=== Completed Step: FP-Growth Association Rules in 0.00 seconds ===\n",
            "\n",
            "=== Starting Step: FP-Growth Predictions ===\n"
          ]
        },
        {
          "output_type": "stream",
          "name": "stderr",
          "text": [
            "Generating Predictions: 100%|███████████████████████████████████████| 38/38 [00:03<00:00, 11.48it/s]\n",
            "C:\\Users\\user\\AppData\\Local\\Programs\\Python\\Python310\\lib\\site-packages\\numpy\\core\\fromnumeric.py:3504: RuntimeWarning: Mean of empty slice.\n",
            "  return _methods._mean(a, axis=axis, dtype=dtype,\n",
            "C:\\Users\\user\\AppData\\Local\\Programs\\Python\\Python310\\lib\\site-packages\\numpy\\core\\_methods.py:129: RuntimeWarning: invalid value encountered in scalar divide\n",
            "  ret = ret.dtype.type(ret / rcount)\n",
            "C:\\Users\\user\\AppData\\Local\\Programs\\Python\\Python310\\lib\\site-packages\\mlxtend\\frequent_patterns\\fpcommon.py:109: DeprecationWarning: DataFrames with non-bool types result in worse computationalperformance and their support might be discontinued in the future.Please use a DataFrame with bool type\n",
            "  warnings.warn(\n"
          ]
        },
        {
          "output_type": "stream",
          "name": "stdout",
          "text": [
            "=== Completed Step: FP-Growth Predictions in 3.31 seconds ===\n",
            "\n",
            "=== Running Experiment 26 ===\n",
            "\n",
            "Running Apriori for Experiment 26...\n",
            "\n",
            "=== Starting Step: Apriori Frequent Itemsets ===\n",
            "=== Completed Step: Apriori Frequent Itemsets in 0.02 seconds ===\n",
            "\n",
            "=== Starting Step: Apriori Association Rules ===\n",
            "=== Completed Step: Apriori Association Rules in 0.00 seconds ===\n",
            "\n",
            "=== Starting Step: Apriori Predictions ===\n"
          ]
        },
        {
          "output_type": "stream",
          "name": "stderr",
          "text": [
            "Generating Predictions: 100%|███████████████████████████████████████| 38/38 [00:03<00:00, 11.30it/s]\n",
            "C:\\Users\\user\\AppData\\Local\\Programs\\Python\\Python310\\lib\\site-packages\\numpy\\core\\fromnumeric.py:3504: RuntimeWarning: Mean of empty slice.\n",
            "  return _methods._mean(a, axis=axis, dtype=dtype,\n",
            "C:\\Users\\user\\AppData\\Local\\Programs\\Python\\Python310\\lib\\site-packages\\numpy\\core\\_methods.py:129: RuntimeWarning: invalid value encountered in scalar divide\n",
            "  ret = ret.dtype.type(ret / rcount)\n",
            "C:\\Users\\user\\AppData\\Local\\Programs\\Python\\Python310\\lib\\site-packages\\mlxtend\\frequent_patterns\\fpcommon.py:109: DeprecationWarning: DataFrames with non-bool types result in worse computationalperformance and their support might be discontinued in the future.Please use a DataFrame with bool type\n",
            "  warnings.warn(\n"
          ]
        },
        {
          "output_type": "stream",
          "name": "stdout",
          "text": [
            "=== Completed Step: Apriori Predictions in 3.37 seconds ===\n",
            "\n",
            "Running FP-Growth for Experiment 26...\n",
            "\n",
            "=== Starting Step: FP-Growth Frequent Itemsets ===\n",
            "=== Completed Step: FP-Growth Frequent Itemsets in 0.27 seconds ===\n",
            "\n",
            "=== Starting Step: FP-Growth Association Rules ===\n",
            "=== Completed Step: FP-Growth Association Rules in 0.00 seconds ===\n",
            "\n",
            "=== Starting Step: FP-Growth Predictions ===\n"
          ]
        },
        {
          "output_type": "stream",
          "name": "stderr",
          "text": [
            "Generating Predictions: 100%|███████████████████████████████████████| 38/38 [00:03<00:00, 11.33it/s]\n",
            "C:\\Users\\user\\AppData\\Local\\Programs\\Python\\Python310\\lib\\site-packages\\numpy\\core\\fromnumeric.py:3504: RuntimeWarning: Mean of empty slice.\n",
            "  return _methods._mean(a, axis=axis, dtype=dtype,\n",
            "C:\\Users\\user\\AppData\\Local\\Programs\\Python\\Python310\\lib\\site-packages\\numpy\\core\\_methods.py:129: RuntimeWarning: invalid value encountered in scalar divide\n",
            "  ret = ret.dtype.type(ret / rcount)\n",
            "C:\\Users\\user\\AppData\\Local\\Programs\\Python\\Python310\\lib\\site-packages\\mlxtend\\frequent_patterns\\fpcommon.py:109: DeprecationWarning: DataFrames with non-bool types result in worse computationalperformance and their support might be discontinued in the future.Please use a DataFrame with bool type\n",
            "  warnings.warn(\n"
          ]
        },
        {
          "output_type": "stream",
          "name": "stdout",
          "text": [
            "=== Completed Step: FP-Growth Predictions in 3.36 seconds ===\n",
            "\n",
            "=== Running Experiment 27 ===\n",
            "\n",
            "Running Apriori for Experiment 27...\n",
            "\n",
            "=== Starting Step: Apriori Frequent Itemsets ===\n",
            "=== Completed Step: Apriori Frequent Itemsets in 0.01 seconds ===\n",
            "\n",
            "=== Starting Step: Apriori Association Rules ===\n",
            "=== Completed Step: Apriori Association Rules in 0.00 seconds ===\n",
            "\n",
            "=== Starting Step: Apriori Predictions ===\n"
          ]
        },
        {
          "output_type": "stream",
          "name": "stderr",
          "text": [
            "Generating Predictions: 100%|███████████████████████████████████████| 38/38 [00:03<00:00, 11.36it/s]\n",
            "C:\\Users\\user\\AppData\\Local\\Programs\\Python\\Python310\\lib\\site-packages\\numpy\\core\\fromnumeric.py:3504: RuntimeWarning: Mean of empty slice.\n",
            "  return _methods._mean(a, axis=axis, dtype=dtype,\n",
            "C:\\Users\\user\\AppData\\Local\\Programs\\Python\\Python310\\lib\\site-packages\\numpy\\core\\_methods.py:129: RuntimeWarning: invalid value encountered in scalar divide\n",
            "  ret = ret.dtype.type(ret / rcount)\n",
            "C:\\Users\\user\\AppData\\Local\\Programs\\Python\\Python310\\lib\\site-packages\\mlxtend\\frequent_patterns\\fpcommon.py:109: DeprecationWarning: DataFrames with non-bool types result in worse computationalperformance and their support might be discontinued in the future.Please use a DataFrame with bool type\n",
            "  warnings.warn(\n"
          ]
        },
        {
          "output_type": "stream",
          "name": "stdout",
          "text": [
            "=== Completed Step: Apriori Predictions in 3.35 seconds ===\n",
            "\n",
            "Running FP-Growth for Experiment 27...\n",
            "\n",
            "=== Starting Step: FP-Growth Frequent Itemsets ===\n",
            "=== Completed Step: FP-Growth Frequent Itemsets in 0.13 seconds ===\n",
            "\n",
            "=== Starting Step: FP-Growth Association Rules ===\n",
            "=== Completed Step: FP-Growth Association Rules in 0.00 seconds ===\n",
            "\n",
            "=== Starting Step: FP-Growth Predictions ===\n"
          ]
        },
        {
          "output_type": "stream",
          "name": "stderr",
          "text": [
            "Generating Predictions: 100%|███████████████████████████████████████| 38/38 [00:03<00:00, 11.47it/s]\n",
            "C:\\Users\\user\\AppData\\Local\\Programs\\Python\\Python310\\lib\\site-packages\\numpy\\core\\fromnumeric.py:3504: RuntimeWarning: Mean of empty slice.\n",
            "  return _methods._mean(a, axis=axis, dtype=dtype,\n",
            "C:\\Users\\user\\AppData\\Local\\Programs\\Python\\Python310\\lib\\site-packages\\numpy\\core\\_methods.py:129: RuntimeWarning: invalid value encountered in scalar divide\n",
            "  ret = ret.dtype.type(ret / rcount)\n",
            "C:\\Users\\user\\AppData\\Local\\Programs\\Python\\Python310\\lib\\site-packages\\mlxtend\\frequent_patterns\\fpcommon.py:109: DeprecationWarning: DataFrames with non-bool types result in worse computationalperformance and their support might be discontinued in the future.Please use a DataFrame with bool type\n",
            "  warnings.warn(\n"
          ]
        },
        {
          "output_type": "stream",
          "name": "stdout",
          "text": [
            "=== Completed Step: FP-Growth Predictions in 3.32 seconds ===\n",
            "\n",
            "=== Running Experiment 28 ===\n",
            "\n",
            "Running Apriori for Experiment 28...\n",
            "\n",
            "=== Starting Step: Apriori Frequent Itemsets ===\n",
            "=== Completed Step: Apriori Frequent Itemsets in 0.01 seconds ===\n",
            "\n",
            "=== Starting Step: Apriori Association Rules ===\n",
            "=== Completed Step: Apriori Association Rules in 0.00 seconds ===\n",
            "\n",
            "=== Starting Step: Apriori Predictions ===\n"
          ]
        },
        {
          "output_type": "stream",
          "name": "stderr",
          "text": [
            "Generating Predictions: 100%|███████████████████████████████████████| 38/38 [00:03<00:00, 10.95it/s]\n",
            "C:\\Users\\user\\AppData\\Local\\Programs\\Python\\Python310\\lib\\site-packages\\numpy\\core\\fromnumeric.py:3504: RuntimeWarning: Mean of empty slice.\n",
            "  return _methods._mean(a, axis=axis, dtype=dtype,\n",
            "C:\\Users\\user\\AppData\\Local\\Programs\\Python\\Python310\\lib\\site-packages\\numpy\\core\\_methods.py:129: RuntimeWarning: invalid value encountered in scalar divide\n",
            "  ret = ret.dtype.type(ret / rcount)\n",
            "C:\\Users\\user\\AppData\\Local\\Programs\\Python\\Python310\\lib\\site-packages\\mlxtend\\frequent_patterns\\fpcommon.py:109: DeprecationWarning: DataFrames with non-bool types result in worse computationalperformance and their support might be discontinued in the future.Please use a DataFrame with bool type\n",
            "  warnings.warn(\n"
          ]
        },
        {
          "output_type": "stream",
          "name": "stdout",
          "text": [
            "=== Completed Step: Apriori Predictions in 3.47 seconds ===\n",
            "\n",
            "Running FP-Growth for Experiment 28...\n",
            "\n",
            "=== Starting Step: FP-Growth Frequent Itemsets ===\n",
            "=== Completed Step: FP-Growth Frequent Itemsets in 0.14 seconds ===\n",
            "\n",
            "=== Starting Step: FP-Growth Association Rules ===\n",
            "=== Completed Step: FP-Growth Association Rules in 0.00 seconds ===\n",
            "\n",
            "=== Starting Step: FP-Growth Predictions ===\n"
          ]
        },
        {
          "output_type": "stream",
          "name": "stderr",
          "text": [
            "Generating Predictions: 100%|███████████████████████████████████████| 38/38 [00:03<00:00, 11.40it/s]\n",
            "C:\\Users\\user\\AppData\\Local\\Programs\\Python\\Python310\\lib\\site-packages\\numpy\\core\\fromnumeric.py:3504: RuntimeWarning: Mean of empty slice.\n",
            "  return _methods._mean(a, axis=axis, dtype=dtype,\n",
            "C:\\Users\\user\\AppData\\Local\\Programs\\Python\\Python310\\lib\\site-packages\\numpy\\core\\_methods.py:129: RuntimeWarning: invalid value encountered in scalar divide\n",
            "  ret = ret.dtype.type(ret / rcount)\n",
            "C:\\Users\\user\\AppData\\Local\\Programs\\Python\\Python310\\lib\\site-packages\\mlxtend\\frequent_patterns\\fpcommon.py:109: DeprecationWarning: DataFrames with non-bool types result in worse computationalperformance and their support might be discontinued in the future.Please use a DataFrame with bool type\n",
            "  warnings.warn(\n"
          ]
        },
        {
          "output_type": "stream",
          "name": "stdout",
          "text": [
            "=== Completed Step: FP-Growth Predictions in 3.34 seconds ===\n",
            "\n",
            "=== Running Experiment 29 ===\n",
            "\n",
            "Running Apriori for Experiment 29...\n",
            "\n",
            "=== Starting Step: Apriori Frequent Itemsets ===\n",
            "=== Completed Step: Apriori Frequent Itemsets in 0.01 seconds ===\n",
            "\n",
            "=== Starting Step: Apriori Association Rules ===\n",
            "=== Completed Step: Apriori Association Rules in 0.00 seconds ===\n",
            "\n",
            "=== Starting Step: Apriori Predictions ===\n"
          ]
        },
        {
          "output_type": "stream",
          "name": "stderr",
          "text": [
            "Generating Predictions: 100%|███████████████████████████████████████| 38/38 [00:03<00:00, 11.27it/s]\n",
            "C:\\Users\\user\\AppData\\Local\\Programs\\Python\\Python310\\lib\\site-packages\\numpy\\core\\fromnumeric.py:3504: RuntimeWarning: Mean of empty slice.\n",
            "  return _methods._mean(a, axis=axis, dtype=dtype,\n",
            "C:\\Users\\user\\AppData\\Local\\Programs\\Python\\Python310\\lib\\site-packages\\numpy\\core\\_methods.py:129: RuntimeWarning: invalid value encountered in scalar divide\n",
            "  ret = ret.dtype.type(ret / rcount)\n",
            "C:\\Users\\user\\AppData\\Local\\Programs\\Python\\Python310\\lib\\site-packages\\mlxtend\\frequent_patterns\\fpcommon.py:109: DeprecationWarning: DataFrames with non-bool types result in worse computationalperformance and their support might be discontinued in the future.Please use a DataFrame with bool type\n",
            "  warnings.warn(\n"
          ]
        },
        {
          "output_type": "stream",
          "name": "stdout",
          "text": [
            "=== Completed Step: Apriori Predictions in 3.38 seconds ===\n",
            "\n",
            "Running FP-Growth for Experiment 29...\n",
            "\n",
            "=== Starting Step: FP-Growth Frequent Itemsets ===\n",
            "=== Completed Step: FP-Growth Frequent Itemsets in 0.14 seconds ===\n",
            "\n",
            "=== Starting Step: FP-Growth Association Rules ===\n",
            "=== Completed Step: FP-Growth Association Rules in 0.00 seconds ===\n",
            "\n",
            "=== Starting Step: FP-Growth Predictions ===\n"
          ]
        },
        {
          "output_type": "stream",
          "name": "stderr",
          "text": [
            "Generating Predictions: 100%|███████████████████████████████████████| 38/38 [00:03<00:00, 11.47it/s]\n",
            "C:\\Users\\user\\AppData\\Local\\Programs\\Python\\Python310\\lib\\site-packages\\numpy\\core\\fromnumeric.py:3504: RuntimeWarning: Mean of empty slice.\n",
            "  return _methods._mean(a, axis=axis, dtype=dtype,\n",
            "C:\\Users\\user\\AppData\\Local\\Programs\\Python\\Python310\\lib\\site-packages\\numpy\\core\\_methods.py:129: RuntimeWarning: invalid value encountered in scalar divide\n",
            "  ret = ret.dtype.type(ret / rcount)\n",
            "C:\\Users\\user\\AppData\\Local\\Programs\\Python\\Python310\\lib\\site-packages\\mlxtend\\frequent_patterns\\fpcommon.py:109: DeprecationWarning: DataFrames with non-bool types result in worse computationalperformance and their support might be discontinued in the future.Please use a DataFrame with bool type\n",
            "  warnings.warn(\n"
          ]
        },
        {
          "output_type": "stream",
          "name": "stdout",
          "text": [
            "=== Completed Step: FP-Growth Predictions in 3.31 seconds ===\n",
            "\n",
            "=== Running Experiment 30 ===\n",
            "\n",
            "Running Apriori for Experiment 30...\n",
            "\n",
            "=== Starting Step: Apriori Frequent Itemsets ===\n",
            "=== Completed Step: Apriori Frequent Itemsets in 0.01 seconds ===\n",
            "\n",
            "=== Starting Step: Apriori Association Rules ===\n",
            "=== Completed Step: Apriori Association Rules in 0.00 seconds ===\n",
            "\n",
            "=== Starting Step: Apriori Predictions ===\n"
          ]
        },
        {
          "output_type": "stream",
          "name": "stderr",
          "text": [
            "Generating Predictions: 100%|███████████████████████████████████████| 38/38 [00:03<00:00, 11.47it/s]\n",
            "C:\\Users\\user\\AppData\\Local\\Programs\\Python\\Python310\\lib\\site-packages\\numpy\\core\\fromnumeric.py:3504: RuntimeWarning: Mean of empty slice.\n",
            "  return _methods._mean(a, axis=axis, dtype=dtype,\n",
            "C:\\Users\\user\\AppData\\Local\\Programs\\Python\\Python310\\lib\\site-packages\\numpy\\core\\_methods.py:129: RuntimeWarning: invalid value encountered in scalar divide\n",
            "  ret = ret.dtype.type(ret / rcount)\n",
            "C:\\Users\\user\\AppData\\Local\\Programs\\Python\\Python310\\lib\\site-packages\\mlxtend\\frequent_patterns\\fpcommon.py:109: DeprecationWarning: DataFrames with non-bool types result in worse computationalperformance and their support might be discontinued in the future.Please use a DataFrame with bool type\n",
            "  warnings.warn(\n"
          ]
        },
        {
          "output_type": "stream",
          "name": "stdout",
          "text": [
            "=== Completed Step: Apriori Predictions in 3.32 seconds ===\n",
            "\n",
            "Running FP-Growth for Experiment 30...\n",
            "\n",
            "=== Starting Step: FP-Growth Frequent Itemsets ===\n",
            "=== Completed Step: FP-Growth Frequent Itemsets in 0.27 seconds ===\n",
            "\n",
            "=== Starting Step: FP-Growth Association Rules ===\n",
            "=== Completed Step: FP-Growth Association Rules in 0.00 seconds ===\n",
            "\n",
            "=== Starting Step: FP-Growth Predictions ===\n"
          ]
        },
        {
          "output_type": "stream",
          "name": "stderr",
          "text": [
            "Generating Predictions: 100%|███████████████████████████████████████| 38/38 [00:03<00:00, 11.37it/s]\n",
            "C:\\Users\\user\\AppData\\Local\\Programs\\Python\\Python310\\lib\\site-packages\\numpy\\core\\fromnumeric.py:3504: RuntimeWarning: Mean of empty slice.\n",
            "  return _methods._mean(a, axis=axis, dtype=dtype,\n",
            "C:\\Users\\user\\AppData\\Local\\Programs\\Python\\Python310\\lib\\site-packages\\numpy\\core\\_methods.py:129: RuntimeWarning: invalid value encountered in scalar divide\n",
            "  ret = ret.dtype.type(ret / rcount)\n",
            "C:\\Users\\user\\AppData\\Local\\Programs\\Python\\Python310\\lib\\site-packages\\mlxtend\\frequent_patterns\\fpcommon.py:109: DeprecationWarning: DataFrames with non-bool types result in worse computationalperformance and their support might be discontinued in the future.Please use a DataFrame with bool type\n",
            "  warnings.warn(\n"
          ]
        },
        {
          "output_type": "stream",
          "name": "stdout",
          "text": [
            "=== Completed Step: FP-Growth Predictions in 3.35 seconds ===\n",
            "\n",
            "=== Running Experiment 31 ===\n",
            "\n",
            "Running Apriori for Experiment 31...\n",
            "\n",
            "=== Starting Step: Apriori Frequent Itemsets ===\n",
            "=== Completed Step: Apriori Frequent Itemsets in 0.01 seconds ===\n",
            "\n",
            "=== Starting Step: Apriori Association Rules ===\n",
            "=== Completed Step: Apriori Association Rules in 0.00 seconds ===\n",
            "\n",
            "=== Starting Step: Apriori Predictions ===\n"
          ]
        },
        {
          "output_type": "stream",
          "name": "stderr",
          "text": [
            "Generating Predictions: 100%|███████████████████████████████████████| 38/38 [00:03<00:00, 11.30it/s]\n",
            "C:\\Users\\user\\AppData\\Local\\Programs\\Python\\Python310\\lib\\site-packages\\numpy\\core\\fromnumeric.py:3504: RuntimeWarning: Mean of empty slice.\n",
            "  return _methods._mean(a, axis=axis, dtype=dtype,\n",
            "C:\\Users\\user\\AppData\\Local\\Programs\\Python\\Python310\\lib\\site-packages\\numpy\\core\\_methods.py:129: RuntimeWarning: invalid value encountered in scalar divide\n",
            "  ret = ret.dtype.type(ret / rcount)\n",
            "C:\\Users\\user\\AppData\\Local\\Programs\\Python\\Python310\\lib\\site-packages\\mlxtend\\frequent_patterns\\fpcommon.py:109: DeprecationWarning: DataFrames with non-bool types result in worse computationalperformance and their support might be discontinued in the future.Please use a DataFrame with bool type\n",
            "  warnings.warn(\n"
          ]
        },
        {
          "output_type": "stream",
          "name": "stdout",
          "text": [
            "=== Completed Step: Apriori Predictions in 3.37 seconds ===\n",
            "\n",
            "Running FP-Growth for Experiment 31...\n",
            "\n",
            "=== Starting Step: FP-Growth Frequent Itemsets ===\n",
            "=== Completed Step: FP-Growth Frequent Itemsets in 0.26 seconds ===\n",
            "\n",
            "=== Starting Step: FP-Growth Association Rules ===\n",
            "=== Completed Step: FP-Growth Association Rules in 0.00 seconds ===\n",
            "\n",
            "=== Starting Step: FP-Growth Predictions ===\n"
          ]
        },
        {
          "output_type": "stream",
          "name": "stderr",
          "text": [
            "Generating Predictions: 100%|███████████████████████████████████████| 38/38 [00:03<00:00, 11.51it/s]\n",
            "C:\\Users\\user\\AppData\\Local\\Programs\\Python\\Python310\\lib\\site-packages\\numpy\\core\\fromnumeric.py:3504: RuntimeWarning: Mean of empty slice.\n",
            "  return _methods._mean(a, axis=axis, dtype=dtype,\n",
            "C:\\Users\\user\\AppData\\Local\\Programs\\Python\\Python310\\lib\\site-packages\\numpy\\core\\_methods.py:129: RuntimeWarning: invalid value encountered in scalar divide\n",
            "  ret = ret.dtype.type(ret / rcount)\n",
            "C:\\Users\\user\\AppData\\Local\\Programs\\Python\\Python310\\lib\\site-packages\\mlxtend\\frequent_patterns\\fpcommon.py:109: DeprecationWarning: DataFrames with non-bool types result in worse computationalperformance and their support might be discontinued in the future.Please use a DataFrame with bool type\n",
            "  warnings.warn(\n"
          ]
        },
        {
          "output_type": "stream",
          "name": "stdout",
          "text": [
            "=== Completed Step: FP-Growth Predictions in 3.30 seconds ===\n",
            "\n",
            "=== Running Experiment 32 ===\n",
            "\n",
            "Running Apriori for Experiment 32...\n",
            "\n",
            "=== Starting Step: Apriori Frequent Itemsets ===\n",
            "=== Completed Step: Apriori Frequent Itemsets in 0.01 seconds ===\n",
            "\n",
            "=== Starting Step: Apriori Association Rules ===\n",
            "=== Completed Step: Apriori Association Rules in 0.00 seconds ===\n",
            "\n",
            "=== Starting Step: Apriori Predictions ===\n"
          ]
        },
        {
          "output_type": "stream",
          "name": "stderr",
          "text": [
            "Generating Predictions: 100%|███████████████████████████████████████| 38/38 [00:03<00:00, 11.53it/s]\n",
            "C:\\Users\\user\\AppData\\Local\\Programs\\Python\\Python310\\lib\\site-packages\\numpy\\core\\fromnumeric.py:3504: RuntimeWarning: Mean of empty slice.\n",
            "  return _methods._mean(a, axis=axis, dtype=dtype,\n",
            "C:\\Users\\user\\AppData\\Local\\Programs\\Python\\Python310\\lib\\site-packages\\numpy\\core\\_methods.py:129: RuntimeWarning: invalid value encountered in scalar divide\n",
            "  ret = ret.dtype.type(ret / rcount)\n",
            "C:\\Users\\user\\AppData\\Local\\Programs\\Python\\Python310\\lib\\site-packages\\mlxtend\\frequent_patterns\\fpcommon.py:109: DeprecationWarning: DataFrames with non-bool types result in worse computationalperformance and their support might be discontinued in the future.Please use a DataFrame with bool type\n",
            "  warnings.warn(\n"
          ]
        },
        {
          "output_type": "stream",
          "name": "stdout",
          "text": [
            "=== Completed Step: Apriori Predictions in 3.30 seconds ===\n",
            "\n",
            "Running FP-Growth for Experiment 32...\n",
            "\n",
            "=== Starting Step: FP-Growth Frequent Itemsets ===\n",
            "=== Completed Step: FP-Growth Frequent Itemsets in 0.27 seconds ===\n",
            "\n",
            "=== Starting Step: FP-Growth Association Rules ===\n",
            "=== Completed Step: FP-Growth Association Rules in 0.00 seconds ===\n",
            "\n",
            "=== Starting Step: FP-Growth Predictions ===\n"
          ]
        },
        {
          "output_type": "stream",
          "name": "stderr",
          "text": [
            "Generating Predictions: 100%|███████████████████████████████████████| 38/38 [00:03<00:00, 11.50it/s]"
          ]
        },
        {
          "output_type": "stream",
          "name": "stdout",
          "text": [
            "=== Completed Step: FP-Growth Predictions in 3.31 seconds ===\n",
            "All experiments completed. Results saved to: C:\\Users\\user\\Desktop\\CW4\\online+retail\\experiment_results_50.csv\n"
          ]
        },
        {
          "output_type": "stream",
          "name": "stderr",
          "text": [
            "\n",
            "C:\\Users\\user\\AppData\\Local\\Programs\\Python\\Python310\\lib\\site-packages\\numpy\\core\\fromnumeric.py:3504: RuntimeWarning: Mean of empty slice.\n",
            "  return _methods._mean(a, axis=axis, dtype=dtype,\n",
            "C:\\Users\\user\\AppData\\Local\\Programs\\Python\\Python310\\lib\\site-packages\\numpy\\core\\_methods.py:129: RuntimeWarning: invalid value encountered in scalar divide\n",
            "  ret = ret.dtype.type(ret / rcount)\n"
          ]
        }
      ]
    },
    {
      "cell_type": "code",
      "source": [
        "import pandas as pd\n",
        "import numpy as np\n",
        "from mlxtend.frequent_patterns import apriori, fpgrowth, association_rules\n",
        "from tqdm import tqdm\n",
        "import itertools\n",
        "import time\n",
        "\n",
        "# Parameters for experiments\n",
        "MIN_SUPPORT_VALUES = [0.005, 0.01, 0.02, 0.03]\n",
        "CONFIDENCE_THRESHOLDS = [0.05, 0.1, 0.2, 0.3]\n",
        "MAX_ITEMSET_LENGTH_VALUES = [2, 4]\n",
        "BATCH_SIZE = 500\n",
        "TOP_K_ITEMS = 75 # Limit the number of items to Top-K\n",
        "SAVE_PATH = r\"C:\\Users\\user\\Desktop\\CW4\\online+retail\\experiment_results75.csv\"\n",
        "\n",
        "# Function to time steps\n",
        "def time_step(step_name, func, *args, **kwargs):\n",
        "    print(f\"\\n=== Starting Step: {step_name} ===\")\n",
        "    start_time = time.time()\n",
        "    result = func(*args, **kwargs)\n",
        "    elapsed_time = time.time() - start_time\n",
        "    print(f\"=== Completed Step: {step_name} in {elapsed_time:.2f} seconds ===\")\n",
        "    return result\n",
        "\n",
        "# Function to generate predictions\n",
        "def generate_predictions_batch(rules, test_transactions, batch_size):\n",
        "    predictions = []\n",
        "    test_array = test_transactions.to_numpy()\n",
        "    column_names = np.array(test_transactions.columns)\n",
        "    for start in tqdm(range(0, len(test_array), batch_size), desc=\"Generating Predictions\", ncols=100):\n",
        "        batch = test_array[start:start + batch_size]\n",
        "        for transaction in batch:\n",
        "            transaction_items = set(column_names[transaction == 1])\n",
        "            matched_rules = rules[rules['antecedents'].apply(lambda x: x.issubset(transaction_items))]\n",
        "            if not matched_rules.empty:\n",
        "                predicted = matched_rules.sort_values(by='confidence', ascending=False).iloc[0]['consequents']\n",
        "                predictions.append(list(predicted))\n",
        "            else:\n",
        "                predictions.append([])\n",
        "    return predictions\n",
        "\n",
        "# Function to calculate metrics\n",
        "def calculate_metrics(y_true, y_pred):\n",
        "    accuracy = np.mean([1 if set(yt) == set(yp) else 0 for yt, yp in zip(y_true, y_pred)])\n",
        "    precision = np.mean([\n",
        "        len(set(yt).intersection(set(yp))) / len(set(yp)) if len(yp) > 0 else 0\n",
        "        for yt, yp in zip(y_true, y_pred)\n",
        "    ])\n",
        "    recall = np.mean([\n",
        "        len(set(yt).intersection(set(yp))) / len(set(yt)) if len(yt) > 0 else 0\n",
        "        for yt, yp in zip(y_true, y_pred)\n",
        "    ])\n",
        "    hit_rate = np.mean([1 if len(set(yt).intersection(set(yp))) > 0 else 0 for yt, yp in zip(y_true, y_pred)])\n",
        "    mrr = np.mean([\n",
        "        1 / (yp.index(next(iter(set(yt).intersection(set(yp))), None)) + 1)\n",
        "        if set(yt).intersection(set(yp)) else 0\n",
        "        for yt, yp in zip(y_true, y_pred) if yp\n",
        "    ])\n",
        "    return accuracy, precision, recall, hit_rate, mrr\n",
        "\n",
        "# Load and preprocess the dataset\n",
        "file_path = r\"C:\\Users\\user\\Desktop\\CW4\\online+retail\\Online Retail.xlsx\"\n",
        "df = pd.read_excel(file_path, sheet_name='Online Retail')\n",
        "\n",
        "df_cleaned = df.dropna(subset=['CustomerID', 'Description'])\n",
        "df_cleaned = df_cleaned[df_cleaned['Quantity'] > 0]\n",
        "df_cleaned['Description'] = df_cleaned['Description'].str.strip()\n",
        "\n",
        "df_grouped = df_cleaned.groupby(['InvoiceNo', 'Description'])['Quantity'].sum().unstack().fillna(0).astype(int)\n",
        "df_grouped = df_grouped.applymap(lambda x: 1 if x > 0 else 0)\n",
        "\n",
        "# Filter to Top-K Items\n",
        "def filter_top_k_items(df, k):\n",
        "    top_items = df.sum().nlargest(k).index\n",
        "    return df[top_items]\n",
        "\n",
        "train_df_filtered = filter_top_k_items(df_grouped, TOP_K_ITEMS)\n",
        "test_df_filtered = filter_top_k_items(df_grouped, TOP_K_ITEMS)\n",
        "\n",
        "# Split data into training and testing\n",
        "transaction_list = [set(row[row == 1].index) for _, row in df_grouped.iterrows()]\n",
        "train_size = int(len(transaction_list) * 0.8)\n",
        "train_data = transaction_list[:train_size]\n",
        "test_data = transaction_list[train_size:]\n",
        "\n",
        "# Prepare DataFrames for metrics\n",
        "train_df = pd.DataFrame(0, index=range(len(train_data)), columns=df_grouped.columns)\n",
        "for idx, transaction in enumerate(train_data):\n",
        "    train_df.loc[idx, list(transaction)] = 1\n",
        "\n",
        "test_df = pd.DataFrame(0, index=range(len(test_data)), columns=df_grouped.columns)\n",
        "for idx, transaction in enumerate(test_data):\n",
        "    test_df.loc[idx, list(transaction)] = 1\n",
        "\n",
        "# Experimentation\n",
        "results = []\n",
        "y_true = [set(row[row == 1].index) for _, row in test_df.iterrows()]\n",
        "\n",
        "experiment_number = 1\n",
        "for min_support, confidence_threshold, max_itemset_length in itertools.product(\n",
        "    MIN_SUPPORT_VALUES, CONFIDENCE_THRESHOLDS, MAX_ITEMSET_LENGTH_VALUES\n",
        "):\n",
        "    print(f\"\\n=== Running Experiment {experiment_number} ===\")\n",
        "    for algorithm in [\"Apriori\", \"FP-Growth\"]:\n",
        "        print(f\"\\nRunning {algorithm} for Experiment {experiment_number}...\")\n",
        "        if algorithm == \"Apriori\":\n",
        "            frequent_itemsets = time_step(\n",
        "                \"Apriori Frequent Itemsets\",\n",
        "                apriori, train_df_filtered, min_support=min_support, use_colnames=True, max_len=max_itemset_length, low_memory=True\n",
        "            )\n",
        "        else:  # FP-Growth\n",
        "            frequent_itemsets = time_step(\n",
        "                \"FP-Growth Frequent Itemsets\",\n",
        "                fpgrowth, train_df_filtered, min_support=min_support, use_colnames=True, max_len=max_itemset_length\n",
        "            )\n",
        "\n",
        "        rules = time_step(\n",
        "            f\"{algorithm} Association Rules\",\n",
        "            association_rules, frequent_itemsets, metric=\"confidence\", min_threshold=confidence_threshold\n",
        "        )\n",
        "\n",
        "        y_pred = time_step(\n",
        "            f\"{algorithm} Predictions\",\n",
        "            generate_predictions_batch, rules, test_df_filtered, BATCH_SIZE\n",
        "        )\n",
        "\n",
        "        accuracy, precision, recall, hit_rate, mrr = calculate_metrics(y_true, y_pred)\n",
        "        results.append({\n",
        "            \"Experiment\": experiment_number,\n",
        "            \"Algorithm\": algorithm,\n",
        "            \"Min Support\": min_support,\n",
        "            \"Confidence Threshold\": confidence_threshold,\n",
        "            \"Max Itemset Length\": max_itemset_length,\n",
        "            \"Accuracy\": accuracy,\n",
        "            \"Precision\": precision,\n",
        "            \"Recall\": recall,\n",
        "            \"Hit Rate\": hit_rate,\n",
        "            \"MRR\": mrr\n",
        "        })\n",
        "\n",
        "    experiment_number += 1\n",
        "\n",
        "# Save Results\n",
        "results_df = pd.DataFrame(results)\n",
        "results_df.to_csv(SAVE_PATH, index=False)\n",
        "print(\"All experiments completed. Results saved to:\", SAVE_PATH)\n"
      ],
      "metadata": {
        "colab": {
          "base_uri": "https://localhost:8080/"
        },
        "id": "0hk8S-Re9zjA",
        "outputId": "9a3f0ea5-8e62-40cd-e088-5f0582e12d05"
      },
      "execution_count": null,
      "outputs": [
        {
          "output_type": "stream",
          "name": "stderr",
          "text": [
            "C:\\Users\\user\\AppData\\Local\\Temp\\ipykernel_19532\\1523274845.py:70: FutureWarning: DataFrame.applymap has been deprecated. Use DataFrame.map instead.\n",
            "  df_grouped = df_grouped.applymap(lambda x: 1 if x > 0 else 0)\n",
            "C:\\Users\\user\\AppData\\Local\\Programs\\Python\\Python310\\lib\\site-packages\\mlxtend\\frequent_patterns\\fpcommon.py:109: DeprecationWarning: DataFrames with non-bool types result in worse computationalperformance and their support might be discontinued in the future.Please use a DataFrame with bool type\n",
            "  warnings.warn(\n"
          ]
        },
        {
          "output_type": "stream",
          "name": "stdout",
          "text": [
            "\n",
            "=== Running Experiment 1 ===\n",
            "\n",
            "Running Apriori for Experiment 1...\n",
            "\n",
            "=== Starting Step: Apriori Frequent Itemsets ===\n",
            "=== Completed Step: Apriori Frequent Itemsets in 0.03 seconds ===\n",
            "\n",
            "=== Starting Step: Apriori Association Rules ===\n",
            "=== Completed Step: Apriori Association Rules in 0.01 seconds ===\n",
            "\n",
            "=== Starting Step: Apriori Predictions ===\n"
          ]
        },
        {
          "output_type": "stream",
          "name": "stderr",
          "text": [
            "Generating Predictions: 100%|███████████████████████████████████████| 38/38 [00:12<00:00,  3.03it/s]\n",
            "C:\\Users\\user\\AppData\\Local\\Programs\\Python\\Python310\\lib\\site-packages\\mlxtend\\frequent_patterns\\fpcommon.py:109: DeprecationWarning: DataFrames with non-bool types result in worse computationalperformance and their support might be discontinued in the future.Please use a DataFrame with bool type\n",
            "  warnings.warn(\n"
          ]
        },
        {
          "output_type": "stream",
          "name": "stdout",
          "text": [
            "=== Completed Step: Apriori Predictions in 12.56 seconds ===\n",
            "\n",
            "Running FP-Growth for Experiment 1...\n",
            "\n",
            "=== Starting Step: FP-Growth Frequent Itemsets ===\n",
            "=== Completed Step: FP-Growth Frequent Itemsets in 0.29 seconds ===\n",
            "\n",
            "=== Starting Step: FP-Growth Association Rules ===\n",
            "=== Completed Step: FP-Growth Association Rules in 0.00 seconds ===\n",
            "\n",
            "=== Starting Step: FP-Growth Predictions ===\n"
          ]
        },
        {
          "output_type": "stream",
          "name": "stderr",
          "text": [
            "Generating Predictions: 100%|███████████████████████████████████████| 38/38 [00:12<00:00,  3.03it/s]\n",
            "C:\\Users\\user\\AppData\\Local\\Programs\\Python\\Python310\\lib\\site-packages\\mlxtend\\frequent_patterns\\fpcommon.py:109: DeprecationWarning: DataFrames with non-bool types result in worse computationalperformance and their support might be discontinued in the future.Please use a DataFrame with bool type\n",
            "  warnings.warn(\n"
          ]
        },
        {
          "output_type": "stream",
          "name": "stdout",
          "text": [
            "=== Completed Step: FP-Growth Predictions in 12.56 seconds ===\n",
            "\n",
            "=== Running Experiment 2 ===\n",
            "\n",
            "Running Apriori for Experiment 2...\n",
            "\n",
            "=== Starting Step: Apriori Frequent Itemsets ===\n",
            "=== Completed Step: Apriori Frequent Itemsets in 0.14 seconds ===\n",
            "\n",
            "=== Starting Step: Apriori Association Rules ===\n",
            "=== Completed Step: Apriori Association Rules in 0.01 seconds ===\n",
            "\n",
            "=== Starting Step: Apriori Predictions ===\n"
          ]
        },
        {
          "output_type": "stream",
          "name": "stderr",
          "text": [
            "Generating Predictions: 100%|███████████████████████████████████████| 38/38 [00:22<00:00,  1.68it/s]\n",
            "C:\\Users\\user\\AppData\\Local\\Programs\\Python\\Python310\\lib\\site-packages\\mlxtend\\frequent_patterns\\fpcommon.py:109: DeprecationWarning: DataFrames with non-bool types result in worse computationalperformance and their support might be discontinued in the future.Please use a DataFrame with bool type\n",
            "  warnings.warn(\n"
          ]
        },
        {
          "output_type": "stream",
          "name": "stdout",
          "text": [
            "=== Completed Step: Apriori Predictions in 22.59 seconds ===\n",
            "\n",
            "Running FP-Growth for Experiment 2...\n",
            "\n",
            "=== Starting Step: FP-Growth Frequent Itemsets ===\n",
            "=== Completed Step: FP-Growth Frequent Itemsets in 0.45 seconds ===\n",
            "\n",
            "=== Starting Step: FP-Growth Association Rules ===\n",
            "=== Completed Step: FP-Growth Association Rules in 0.01 seconds ===\n",
            "\n",
            "=== Starting Step: FP-Growth Predictions ===\n"
          ]
        },
        {
          "output_type": "stream",
          "name": "stderr",
          "text": [
            "Generating Predictions: 100%|███████████████████████████████████████| 38/38 [00:22<00:00,  1.68it/s]\n",
            "C:\\Users\\user\\AppData\\Local\\Programs\\Python\\Python310\\lib\\site-packages\\mlxtend\\frequent_patterns\\fpcommon.py:109: DeprecationWarning: DataFrames with non-bool types result in worse computationalperformance and their support might be discontinued in the future.Please use a DataFrame with bool type\n",
            "  warnings.warn(\n"
          ]
        },
        {
          "output_type": "stream",
          "name": "stdout",
          "text": [
            "=== Completed Step: FP-Growth Predictions in 22.66 seconds ===\n",
            "\n",
            "=== Running Experiment 3 ===\n",
            "\n",
            "Running Apriori for Experiment 3...\n",
            "\n",
            "=== Starting Step: Apriori Frequent Itemsets ===\n",
            "=== Completed Step: Apriori Frequent Itemsets in 0.03 seconds ===\n",
            "\n",
            "=== Starting Step: Apriori Association Rules ===\n",
            "=== Completed Step: Apriori Association Rules in 0.00 seconds ===\n",
            "\n",
            "=== Starting Step: Apriori Predictions ===\n"
          ]
        },
        {
          "output_type": "stream",
          "name": "stderr",
          "text": [
            "Generating Predictions: 100%|███████████████████████████████████████| 38/38 [00:11<00:00,  3.18it/s]\n",
            "C:\\Users\\user\\AppData\\Local\\Programs\\Python\\Python310\\lib\\site-packages\\mlxtend\\frequent_patterns\\fpcommon.py:109: DeprecationWarning: DataFrames with non-bool types result in worse computationalperformance and their support might be discontinued in the future.Please use a DataFrame with bool type\n",
            "  warnings.warn(\n"
          ]
        },
        {
          "output_type": "stream",
          "name": "stdout",
          "text": [
            "=== Completed Step: Apriori Predictions in 11.95 seconds ===\n",
            "\n",
            "Running FP-Growth for Experiment 3...\n",
            "\n",
            "=== Starting Step: FP-Growth Frequent Itemsets ===\n",
            "=== Completed Step: FP-Growth Frequent Itemsets in 0.44 seconds ===\n",
            "\n",
            "=== Starting Step: FP-Growth Association Rules ===\n",
            "=== Completed Step: FP-Growth Association Rules in 0.01 seconds ===\n",
            "\n",
            "=== Starting Step: FP-Growth Predictions ===\n"
          ]
        },
        {
          "output_type": "stream",
          "name": "stderr",
          "text": [
            "Generating Predictions: 100%|███████████████████████████████████████| 38/38 [00:11<00:00,  3.22it/s]\n",
            "C:\\Users\\user\\AppData\\Local\\Programs\\Python\\Python310\\lib\\site-packages\\mlxtend\\frequent_patterns\\fpcommon.py:109: DeprecationWarning: DataFrames with non-bool types result in worse computationalperformance and their support might be discontinued in the future.Please use a DataFrame with bool type\n",
            "  warnings.warn(\n"
          ]
        },
        {
          "output_type": "stream",
          "name": "stdout",
          "text": [
            "=== Completed Step: FP-Growth Predictions in 11.81 seconds ===\n",
            "\n",
            "=== Running Experiment 4 ===\n",
            "\n",
            "Running Apriori for Experiment 4...\n",
            "\n",
            "=== Starting Step: Apriori Frequent Itemsets ===\n",
            "=== Completed Step: Apriori Frequent Itemsets in 0.13 seconds ===\n",
            "\n",
            "=== Starting Step: Apriori Association Rules ===\n",
            "=== Completed Step: Apriori Association Rules in 0.01 seconds ===\n",
            "\n",
            "=== Starting Step: Apriori Predictions ===\n"
          ]
        },
        {
          "output_type": "stream",
          "name": "stderr",
          "text": [
            "Generating Predictions: 100%|███████████████████████████████████████| 38/38 [00:21<00:00,  1.76it/s]\n",
            "C:\\Users\\user\\AppData\\Local\\Programs\\Python\\Python310\\lib\\site-packages\\mlxtend\\frequent_patterns\\fpcommon.py:109: DeprecationWarning: DataFrames with non-bool types result in worse computationalperformance and their support might be discontinued in the future.Please use a DataFrame with bool type\n",
            "  warnings.warn(\n"
          ]
        },
        {
          "output_type": "stream",
          "name": "stdout",
          "text": [
            "=== Completed Step: Apriori Predictions in 21.58 seconds ===\n",
            "\n",
            "Running FP-Growth for Experiment 4...\n",
            "\n",
            "=== Starting Step: FP-Growth Frequent Itemsets ===\n",
            "=== Completed Step: FP-Growth Frequent Itemsets in 0.58 seconds ===\n",
            "\n",
            "=== Starting Step: FP-Growth Association Rules ===\n",
            "=== Completed Step: FP-Growth Association Rules in 0.01 seconds ===\n",
            "\n",
            "=== Starting Step: FP-Growth Predictions ===\n"
          ]
        },
        {
          "output_type": "stream",
          "name": "stderr",
          "text": [
            "Generating Predictions: 100%|███████████████████████████████████████| 38/38 [00:21<00:00,  1.77it/s]\n",
            "C:\\Users\\user\\AppData\\Local\\Programs\\Python\\Python310\\lib\\site-packages\\mlxtend\\frequent_patterns\\fpcommon.py:109: DeprecationWarning: DataFrames with non-bool types result in worse computationalperformance and their support might be discontinued in the future.Please use a DataFrame with bool type\n",
            "  warnings.warn(\n"
          ]
        },
        {
          "output_type": "stream",
          "name": "stdout",
          "text": [
            "=== Completed Step: FP-Growth Predictions in 21.43 seconds ===\n",
            "\n",
            "=== Running Experiment 5 ===\n",
            "\n",
            "Running Apriori for Experiment 5...\n",
            "\n",
            "=== Starting Step: Apriori Frequent Itemsets ===\n",
            "=== Completed Step: Apriori Frequent Itemsets in 0.03 seconds ===\n",
            "\n",
            "=== Starting Step: Apriori Association Rules ===\n",
            "=== Completed Step: Apriori Association Rules in 0.00 seconds ===\n",
            "\n",
            "=== Starting Step: Apriori Predictions ===\n"
          ]
        },
        {
          "output_type": "stream",
          "name": "stderr",
          "text": [
            "Generating Predictions: 100%|███████████████████████████████████████| 38/38 [00:09<00:00,  3.93it/s]\n",
            "C:\\Users\\user\\AppData\\Local\\Programs\\Python\\Python310\\lib\\site-packages\\mlxtend\\frequent_patterns\\fpcommon.py:109: DeprecationWarning: DataFrames with non-bool types result in worse computationalperformance and their support might be discontinued in the future.Please use a DataFrame with bool type\n",
            "  warnings.warn(\n"
          ]
        },
        {
          "output_type": "stream",
          "name": "stdout",
          "text": [
            "=== Completed Step: Apriori Predictions in 9.67 seconds ===\n",
            "\n",
            "Running FP-Growth for Experiment 5...\n",
            "\n",
            "=== Starting Step: FP-Growth Frequent Itemsets ===\n",
            "=== Completed Step: FP-Growth Frequent Itemsets in 0.44 seconds ===\n",
            "\n",
            "=== Starting Step: FP-Growth Association Rules ===\n",
            "=== Completed Step: FP-Growth Association Rules in 0.00 seconds ===\n",
            "\n",
            "=== Starting Step: FP-Growth Predictions ===\n"
          ]
        },
        {
          "output_type": "stream",
          "name": "stderr",
          "text": [
            "Generating Predictions: 100%|███████████████████████████████████████| 38/38 [00:09<00:00,  3.94it/s]\n",
            "C:\\Users\\user\\AppData\\Local\\Programs\\Python\\Python310\\lib\\site-packages\\mlxtend\\frequent_patterns\\fpcommon.py:109: DeprecationWarning: DataFrames with non-bool types result in worse computationalperformance and their support might be discontinued in the future.Please use a DataFrame with bool type\n",
            "  warnings.warn(\n"
          ]
        },
        {
          "output_type": "stream",
          "name": "stdout",
          "text": [
            "=== Completed Step: FP-Growth Predictions in 9.65 seconds ===\n",
            "\n",
            "=== Running Experiment 6 ===\n",
            "\n",
            "Running Apriori for Experiment 6...\n",
            "\n",
            "=== Starting Step: Apriori Frequent Itemsets ===\n",
            "=== Completed Step: Apriori Frequent Itemsets in 0.13 seconds ===\n",
            "\n",
            "=== Starting Step: Apriori Association Rules ===\n",
            "=== Completed Step: Apriori Association Rules in 0.01 seconds ===\n",
            "\n",
            "=== Starting Step: Apriori Predictions ===\n"
          ]
        },
        {
          "output_type": "stream",
          "name": "stderr",
          "text": [
            "Generating Predictions: 100%|███████████████████████████████████████| 38/38 [00:16<00:00,  2.35it/s]\n",
            "C:\\Users\\user\\AppData\\Local\\Programs\\Python\\Python310\\lib\\site-packages\\mlxtend\\frequent_patterns\\fpcommon.py:109: DeprecationWarning: DataFrames with non-bool types result in worse computationalperformance and their support might be discontinued in the future.Please use a DataFrame with bool type\n",
            "  warnings.warn(\n"
          ]
        },
        {
          "output_type": "stream",
          "name": "stdout",
          "text": [
            "=== Completed Step: Apriori Predictions in 16.16 seconds ===\n",
            "\n",
            "Running FP-Growth for Experiment 6...\n",
            "\n",
            "=== Starting Step: FP-Growth Frequent Itemsets ===\n",
            "=== Completed Step: FP-Growth Frequent Itemsets in 0.45 seconds ===\n",
            "\n",
            "=== Starting Step: FP-Growth Association Rules ===\n",
            "=== Completed Step: FP-Growth Association Rules in 0.01 seconds ===\n",
            "\n",
            "=== Starting Step: FP-Growth Predictions ===\n"
          ]
        },
        {
          "output_type": "stream",
          "name": "stderr",
          "text": [
            "Generating Predictions: 100%|███████████████████████████████████████| 38/38 [00:16<00:00,  2.37it/s]\n",
            "C:\\Users\\user\\AppData\\Local\\Programs\\Python\\Python310\\lib\\site-packages\\mlxtend\\frequent_patterns\\fpcommon.py:109: DeprecationWarning: DataFrames with non-bool types result in worse computationalperformance and their support might be discontinued in the future.Please use a DataFrame with bool type\n",
            "  warnings.warn(\n"
          ]
        },
        {
          "output_type": "stream",
          "name": "stdout",
          "text": [
            "=== Completed Step: FP-Growth Predictions in 16.06 seconds ===\n",
            "\n",
            "=== Running Experiment 7 ===\n",
            "\n",
            "Running Apriori for Experiment 7...\n",
            "\n",
            "=== Starting Step: Apriori Frequent Itemsets ===\n",
            "=== Completed Step: Apriori Frequent Itemsets in 0.03 seconds ===\n",
            "\n",
            "=== Starting Step: Apriori Association Rules ===\n",
            "=== Completed Step: Apriori Association Rules in 0.00 seconds ===\n",
            "\n",
            "=== Starting Step: Apriori Predictions ===\n"
          ]
        },
        {
          "output_type": "stream",
          "name": "stderr",
          "text": [
            "Generating Predictions: 100%|███████████████████████████████████████| 38/38 [00:08<00:00,  4.38it/s]\n",
            "C:\\Users\\user\\AppData\\Local\\Programs\\Python\\Python310\\lib\\site-packages\\mlxtend\\frequent_patterns\\fpcommon.py:109: DeprecationWarning: DataFrames with non-bool types result in worse computationalperformance and their support might be discontinued in the future.Please use a DataFrame with bool type\n",
            "  warnings.warn(\n"
          ]
        },
        {
          "output_type": "stream",
          "name": "stdout",
          "text": [
            "=== Completed Step: Apriori Predictions in 8.69 seconds ===\n",
            "\n",
            "Running FP-Growth for Experiment 7...\n",
            "\n",
            "=== Starting Step: FP-Growth Frequent Itemsets ===\n",
            "=== Completed Step: FP-Growth Frequent Itemsets in 0.42 seconds ===\n",
            "\n",
            "=== Starting Step: FP-Growth Association Rules ===\n",
            "=== Completed Step: FP-Growth Association Rules in 0.00 seconds ===\n",
            "\n",
            "=== Starting Step: FP-Growth Predictions ===\n"
          ]
        },
        {
          "output_type": "stream",
          "name": "stderr",
          "text": [
            "Generating Predictions: 100%|███████████████████████████████████████| 38/38 [00:08<00:00,  4.42it/s]\n",
            "C:\\Users\\user\\AppData\\Local\\Programs\\Python\\Python310\\lib\\site-packages\\mlxtend\\frequent_patterns\\fpcommon.py:109: DeprecationWarning: DataFrames with non-bool types result in worse computationalperformance and their support might be discontinued in the future.Please use a DataFrame with bool type\n",
            "  warnings.warn(\n"
          ]
        },
        {
          "output_type": "stream",
          "name": "stdout",
          "text": [
            "=== Completed Step: FP-Growth Predictions in 8.59 seconds ===\n",
            "\n",
            "=== Running Experiment 8 ===\n",
            "\n",
            "Running Apriori for Experiment 8...\n",
            "\n",
            "=== Starting Step: Apriori Frequent Itemsets ===\n",
            "=== Completed Step: Apriori Frequent Itemsets in 0.14 seconds ===\n",
            "\n",
            "=== Starting Step: Apriori Association Rules ===\n",
            "=== Completed Step: Apriori Association Rules in 0.01 seconds ===\n",
            "\n",
            "=== Starting Step: Apriori Predictions ===\n"
          ]
        },
        {
          "output_type": "stream",
          "name": "stderr",
          "text": [
            "Generating Predictions: 100%|███████████████████████████████████████| 38/38 [00:13<00:00,  2.79it/s]\n",
            "C:\\Users\\user\\AppData\\Local\\Programs\\Python\\Python310\\lib\\site-packages\\mlxtend\\frequent_patterns\\fpcommon.py:109: DeprecationWarning: DataFrames with non-bool types result in worse computationalperformance and their support might be discontinued in the future.Please use a DataFrame with bool type\n",
            "  warnings.warn(\n"
          ]
        },
        {
          "output_type": "stream",
          "name": "stdout",
          "text": [
            "=== Completed Step: Apriori Predictions in 13.60 seconds ===\n",
            "\n",
            "Running FP-Growth for Experiment 8...\n",
            "\n",
            "=== Starting Step: FP-Growth Frequent Itemsets ===\n",
            "=== Completed Step: FP-Growth Frequent Itemsets in 0.45 seconds ===\n",
            "\n",
            "=== Starting Step: FP-Growth Association Rules ===\n",
            "=== Completed Step: FP-Growth Association Rules in 0.01 seconds ===\n",
            "\n",
            "=== Starting Step: FP-Growth Predictions ===\n"
          ]
        },
        {
          "output_type": "stream",
          "name": "stderr",
          "text": [
            "Generating Predictions: 100%|███████████████████████████████████████| 38/38 [00:13<00:00,  2.82it/s]\n",
            "C:\\Users\\user\\AppData\\Local\\Programs\\Python\\Python310\\lib\\site-packages\\mlxtend\\frequent_patterns\\fpcommon.py:109: DeprecationWarning: DataFrames with non-bool types result in worse computationalperformance and their support might be discontinued in the future.Please use a DataFrame with bool type\n",
            "  warnings.warn(\n"
          ]
        },
        {
          "output_type": "stream",
          "name": "stdout",
          "text": [
            "=== Completed Step: FP-Growth Predictions in 13.46 seconds ===\n",
            "\n",
            "=== Running Experiment 9 ===\n",
            "\n",
            "Running Apriori for Experiment 9...\n",
            "\n",
            "=== Starting Step: Apriori Frequent Itemsets ===\n",
            "=== Completed Step: Apriori Frequent Itemsets in 0.03 seconds ===\n",
            "\n",
            "=== Starting Step: Apriori Association Rules ===\n",
            "=== Completed Step: Apriori Association Rules in 0.00 seconds ===\n",
            "\n",
            "=== Starting Step: Apriori Predictions ===\n"
          ]
        },
        {
          "output_type": "stream",
          "name": "stderr",
          "text": [
            "Generating Predictions: 100%|███████████████████████████████████████| 38/38 [00:09<00:00,  4.01it/s]\n",
            "C:\\Users\\user\\AppData\\Local\\Programs\\Python\\Python310\\lib\\site-packages\\mlxtend\\frequent_patterns\\fpcommon.py:109: DeprecationWarning: DataFrames with non-bool types result in worse computationalperformance and their support might be discontinued in the future.Please use a DataFrame with bool type\n",
            "  warnings.warn(\n"
          ]
        },
        {
          "output_type": "stream",
          "name": "stdout",
          "text": [
            "=== Completed Step: Apriori Predictions in 9.47 seconds ===\n",
            "\n",
            "Running FP-Growth for Experiment 9...\n",
            "\n",
            "=== Starting Step: FP-Growth Frequent Itemsets ===\n",
            "=== Completed Step: FP-Growth Frequent Itemsets in 0.36 seconds ===\n",
            "\n",
            "=== Starting Step: FP-Growth Association Rules ===\n",
            "=== Completed Step: FP-Growth Association Rules in 0.00 seconds ===\n",
            "\n",
            "=== Starting Step: FP-Growth Predictions ===\n"
          ]
        },
        {
          "output_type": "stream",
          "name": "stderr",
          "text": [
            "Generating Predictions: 100%|███████████████████████████████████████| 38/38 [00:09<00:00,  4.04it/s]\n",
            "C:\\Users\\user\\AppData\\Local\\Programs\\Python\\Python310\\lib\\site-packages\\mlxtend\\frequent_patterns\\fpcommon.py:109: DeprecationWarning: DataFrames with non-bool types result in worse computationalperformance and their support might be discontinued in the future.Please use a DataFrame with bool type\n",
            "  warnings.warn(\n"
          ]
        },
        {
          "output_type": "stream",
          "name": "stdout",
          "text": [
            "=== Completed Step: FP-Growth Predictions in 9.42 seconds ===\n",
            "\n",
            "=== Running Experiment 10 ===\n",
            "\n",
            "Running Apriori for Experiment 10...\n",
            "\n",
            "=== Starting Step: Apriori Frequent Itemsets ===\n",
            "=== Completed Step: Apriori Frequent Itemsets in 0.06 seconds ===\n",
            "\n",
            "=== Starting Step: Apriori Association Rules ===\n",
            "=== Completed Step: Apriori Association Rules in 0.00 seconds ===\n",
            "\n",
            "=== Starting Step: Apriori Predictions ===\n"
          ]
        },
        {
          "output_type": "stream",
          "name": "stderr",
          "text": [
            "Generating Predictions: 100%|███████████████████████████████████████| 38/38 [00:10<00:00,  3.66it/s]\n",
            "C:\\Users\\user\\AppData\\Local\\Programs\\Python\\Python310\\lib\\site-packages\\mlxtend\\frequent_patterns\\fpcommon.py:109: DeprecationWarning: DataFrames with non-bool types result in worse computationalperformance and their support might be discontinued in the future.Please use a DataFrame with bool type\n",
            "  warnings.warn(\n"
          ]
        },
        {
          "output_type": "stream",
          "name": "stdout",
          "text": [
            "=== Completed Step: Apriori Predictions in 10.39 seconds ===\n",
            "\n",
            "Running FP-Growth for Experiment 10...\n",
            "\n",
            "=== Starting Step: FP-Growth Frequent Itemsets ===\n",
            "=== Completed Step: FP-Growth Frequent Itemsets in 0.23 seconds ===\n",
            "\n",
            "=== Starting Step: FP-Growth Association Rules ===\n",
            "=== Completed Step: FP-Growth Association Rules in 0.00 seconds ===\n",
            "\n",
            "=== Starting Step: FP-Growth Predictions ===\n"
          ]
        },
        {
          "output_type": "stream",
          "name": "stderr",
          "text": [
            "Generating Predictions: 100%|███████████████████████████████████████| 38/38 [00:10<00:00,  3.67it/s]\n",
            "C:\\Users\\user\\AppData\\Local\\Programs\\Python\\Python310\\lib\\site-packages\\mlxtend\\frequent_patterns\\fpcommon.py:109: DeprecationWarning: DataFrames with non-bool types result in worse computationalperformance and their support might be discontinued in the future.Please use a DataFrame with bool type\n",
            "  warnings.warn(\n"
          ]
        },
        {
          "output_type": "stream",
          "name": "stdout",
          "text": [
            "=== Completed Step: FP-Growth Predictions in 10.37 seconds ===\n",
            "\n",
            "=== Running Experiment 11 ===\n",
            "\n",
            "Running Apriori for Experiment 11...\n",
            "\n",
            "=== Starting Step: Apriori Frequent Itemsets ===\n",
            "=== Completed Step: Apriori Frequent Itemsets in 0.02 seconds ===\n",
            "\n",
            "=== Starting Step: Apriori Association Rules ===\n",
            "=== Completed Step: Apriori Association Rules in 0.00 seconds ===\n",
            "\n",
            "=== Starting Step: Apriori Predictions ===\n"
          ]
        },
        {
          "output_type": "stream",
          "name": "stderr",
          "text": [
            "Generating Predictions: 100%|███████████████████████████████████████| 38/38 [00:09<00:00,  4.05it/s]\n",
            "C:\\Users\\user\\AppData\\Local\\Programs\\Python\\Python310\\lib\\site-packages\\mlxtend\\frequent_patterns\\fpcommon.py:109: DeprecationWarning: DataFrames with non-bool types result in worse computationalperformance and their support might be discontinued in the future.Please use a DataFrame with bool type\n",
            "  warnings.warn(\n"
          ]
        },
        {
          "output_type": "stream",
          "name": "stdout",
          "text": [
            "=== Completed Step: Apriori Predictions in 9.38 seconds ===\n",
            "\n",
            "Running FP-Growth for Experiment 11...\n",
            "\n",
            "=== Starting Step: FP-Growth Frequent Itemsets ===\n",
            "=== Completed Step: FP-Growth Frequent Itemsets in 0.36 seconds ===\n",
            "\n",
            "=== Starting Step: FP-Growth Association Rules ===\n",
            "=== Completed Step: FP-Growth Association Rules in 0.00 seconds ===\n",
            "\n",
            "=== Starting Step: FP-Growth Predictions ===\n"
          ]
        },
        {
          "output_type": "stream",
          "name": "stderr",
          "text": [
            "Generating Predictions: 100%|███████████████████████████████████████| 38/38 [00:09<00:00,  4.06it/s]\n",
            "C:\\Users\\user\\AppData\\Local\\Programs\\Python\\Python310\\lib\\site-packages\\mlxtend\\frequent_patterns\\fpcommon.py:109: DeprecationWarning: DataFrames with non-bool types result in worse computationalperformance and their support might be discontinued in the future.Please use a DataFrame with bool type\n",
            "  warnings.warn(\n"
          ]
        },
        {
          "output_type": "stream",
          "name": "stdout",
          "text": [
            "=== Completed Step: FP-Growth Predictions in 9.37 seconds ===\n",
            "\n",
            "=== Running Experiment 12 ===\n",
            "\n",
            "Running Apriori for Experiment 12...\n",
            "\n",
            "=== Starting Step: Apriori Frequent Itemsets ===\n",
            "=== Completed Step: Apriori Frequent Itemsets in 0.05 seconds ===\n",
            "\n",
            "=== Starting Step: Apriori Association Rules ===\n",
            "=== Completed Step: Apriori Association Rules in 0.00 seconds ===\n",
            "\n",
            "=== Starting Step: Apriori Predictions ===\n"
          ]
        },
        {
          "output_type": "stream",
          "name": "stderr",
          "text": [
            "Generating Predictions: 100%|███████████████████████████████████████| 38/38 [00:10<00:00,  3.72it/s]\n",
            "C:\\Users\\user\\AppData\\Local\\Programs\\Python\\Python310\\lib\\site-packages\\mlxtend\\frequent_patterns\\fpcommon.py:109: DeprecationWarning: DataFrames with non-bool types result in worse computationalperformance and their support might be discontinued in the future.Please use a DataFrame with bool type\n",
            "  warnings.warn(\n"
          ]
        },
        {
          "output_type": "stream",
          "name": "stdout",
          "text": [
            "=== Completed Step: Apriori Predictions in 10.21 seconds ===\n",
            "\n",
            "Running FP-Growth for Experiment 12...\n",
            "\n",
            "=== Starting Step: FP-Growth Frequent Itemsets ===\n",
            "=== Completed Step: FP-Growth Frequent Itemsets in 0.41 seconds ===\n",
            "\n",
            "=== Starting Step: FP-Growth Association Rules ===\n",
            "=== Completed Step: FP-Growth Association Rules in 0.00 seconds ===\n",
            "\n",
            "=== Starting Step: FP-Growth Predictions ===\n"
          ]
        },
        {
          "output_type": "stream",
          "name": "stderr",
          "text": [
            "Generating Predictions: 100%|███████████████████████████████████████| 38/38 [00:10<00:00,  3.71it/s]\n",
            "C:\\Users\\user\\AppData\\Local\\Programs\\Python\\Python310\\lib\\site-packages\\mlxtend\\frequent_patterns\\fpcommon.py:109: DeprecationWarning: DataFrames with non-bool types result in worse computationalperformance and their support might be discontinued in the future.Please use a DataFrame with bool type\n",
            "  warnings.warn(\n"
          ]
        },
        {
          "output_type": "stream",
          "name": "stdout",
          "text": [
            "=== Completed Step: FP-Growth Predictions in 10.24 seconds ===\n",
            "\n",
            "=== Running Experiment 13 ===\n",
            "\n",
            "Running Apriori for Experiment 13...\n",
            "\n",
            "=== Starting Step: Apriori Frequent Itemsets ===\n",
            "=== Completed Step: Apriori Frequent Itemsets in 0.03 seconds ===\n",
            "\n",
            "=== Starting Step: Apriori Association Rules ===\n",
            "=== Completed Step: Apriori Association Rules in 0.00 seconds ===\n",
            "\n",
            "=== Starting Step: Apriori Predictions ===\n"
          ]
        },
        {
          "output_type": "stream",
          "name": "stderr",
          "text": [
            "Generating Predictions: 100%|███████████████████████████████████████| 38/38 [00:09<00:00,  4.11it/s]\n",
            "C:\\Users\\user\\AppData\\Local\\Programs\\Python\\Python310\\lib\\site-packages\\mlxtend\\frequent_patterns\\fpcommon.py:109: DeprecationWarning: DataFrames with non-bool types result in worse computationalperformance and their support might be discontinued in the future.Please use a DataFrame with bool type\n",
            "  warnings.warn(\n"
          ]
        },
        {
          "output_type": "stream",
          "name": "stdout",
          "text": [
            "=== Completed Step: Apriori Predictions in 9.25 seconds ===\n",
            "\n",
            "Running FP-Growth for Experiment 13...\n",
            "\n",
            "=== Starting Step: FP-Growth Frequent Itemsets ===\n",
            "=== Completed Step: FP-Growth Frequent Itemsets in 0.37 seconds ===\n",
            "\n",
            "=== Starting Step: FP-Growth Association Rules ===\n",
            "=== Completed Step: FP-Growth Association Rules in 0.00 seconds ===\n",
            "\n",
            "=== Starting Step: FP-Growth Predictions ===\n"
          ]
        },
        {
          "output_type": "stream",
          "name": "stderr",
          "text": [
            "Generating Predictions: 100%|███████████████████████████████████████| 38/38 [00:09<00:00,  4.12it/s]\n",
            "C:\\Users\\user\\AppData\\Local\\Programs\\Python\\Python310\\lib\\site-packages\\mlxtend\\frequent_patterns\\fpcommon.py:109: DeprecationWarning: DataFrames with non-bool types result in worse computationalperformance and their support might be discontinued in the future.Please use a DataFrame with bool type\n",
            "  warnings.warn(\n"
          ]
        },
        {
          "output_type": "stream",
          "name": "stdout",
          "text": [
            "=== Completed Step: FP-Growth Predictions in 9.22 seconds ===\n",
            "\n",
            "=== Running Experiment 14 ===\n",
            "\n",
            "Running Apriori for Experiment 14...\n",
            "\n",
            "=== Starting Step: Apriori Frequent Itemsets ===\n",
            "=== Completed Step: Apriori Frequent Itemsets in 0.05 seconds ===\n",
            "\n",
            "=== Starting Step: Apriori Association Rules ===\n",
            "=== Completed Step: Apriori Association Rules in 0.00 seconds ===\n",
            "\n",
            "=== Starting Step: Apriori Predictions ===\n"
          ]
        },
        {
          "output_type": "stream",
          "name": "stderr",
          "text": [
            "Generating Predictions: 100%|███████████████████████████████████████| 38/38 [00:10<00:00,  3.78it/s]\n",
            "C:\\Users\\user\\AppData\\Local\\Programs\\Python\\Python310\\lib\\site-packages\\mlxtend\\frequent_patterns\\fpcommon.py:109: DeprecationWarning: DataFrames with non-bool types result in worse computationalperformance and their support might be discontinued in the future.Please use a DataFrame with bool type\n",
            "  warnings.warn(\n"
          ]
        },
        {
          "output_type": "stream",
          "name": "stdout",
          "text": [
            "=== Completed Step: Apriori Predictions in 10.04 seconds ===\n",
            "\n",
            "Running FP-Growth for Experiment 14...\n",
            "\n",
            "=== Starting Step: FP-Growth Frequent Itemsets ===\n",
            "=== Completed Step: FP-Growth Frequent Itemsets in 0.33 seconds ===\n",
            "\n",
            "=== Starting Step: FP-Growth Association Rules ===\n",
            "=== Completed Step: FP-Growth Association Rules in 0.00 seconds ===\n",
            "\n",
            "=== Starting Step: FP-Growth Predictions ===\n"
          ]
        },
        {
          "output_type": "stream",
          "name": "stderr",
          "text": [
            "Generating Predictions: 100%|███████████████████████████████████████| 38/38 [00:09<00:00,  3.82it/s]\n",
            "C:\\Users\\user\\AppData\\Local\\Programs\\Python\\Python310\\lib\\site-packages\\mlxtend\\frequent_patterns\\fpcommon.py:109: DeprecationWarning: DataFrames with non-bool types result in worse computationalperformance and their support might be discontinued in the future.Please use a DataFrame with bool type\n",
            "  warnings.warn(\n"
          ]
        },
        {
          "output_type": "stream",
          "name": "stdout",
          "text": [
            "=== Completed Step: FP-Growth Predictions in 9.94 seconds ===\n",
            "\n",
            "=== Running Experiment 15 ===\n",
            "\n",
            "Running Apriori for Experiment 15...\n",
            "\n",
            "=== Starting Step: Apriori Frequent Itemsets ===\n",
            "=== Completed Step: Apriori Frequent Itemsets in 0.03 seconds ===\n",
            "\n",
            "=== Starting Step: Apriori Association Rules ===\n",
            "=== Completed Step: Apriori Association Rules in 0.00 seconds ===\n",
            "\n",
            "=== Starting Step: Apriori Predictions ===\n"
          ]
        },
        {
          "output_type": "stream",
          "name": "stderr",
          "text": [
            "Generating Predictions: 100%|███████████████████████████████████████| 38/38 [00:08<00:00,  4.44it/s]\n",
            "C:\\Users\\user\\AppData\\Local\\Programs\\Python\\Python310\\lib\\site-packages\\mlxtend\\frequent_patterns\\fpcommon.py:109: DeprecationWarning: DataFrames with non-bool types result in worse computationalperformance and their support might be discontinued in the future.Please use a DataFrame with bool type\n",
            "  warnings.warn(\n"
          ]
        },
        {
          "output_type": "stream",
          "name": "stdout",
          "text": [
            "=== Completed Step: Apriori Predictions in 8.56 seconds ===\n",
            "\n",
            "Running FP-Growth for Experiment 15...\n",
            "\n",
            "=== Starting Step: FP-Growth Frequent Itemsets ===\n",
            "=== Completed Step: FP-Growth Frequent Itemsets in 0.37 seconds ===\n",
            "\n",
            "=== Starting Step: FP-Growth Association Rules ===\n",
            "=== Completed Step: FP-Growth Association Rules in 0.00 seconds ===\n",
            "\n",
            "=== Starting Step: FP-Growth Predictions ===\n"
          ]
        },
        {
          "output_type": "stream",
          "name": "stderr",
          "text": [
            "Generating Predictions: 100%|███████████████████████████████████████| 38/38 [00:08<00:00,  4.46it/s]\n",
            "C:\\Users\\user\\AppData\\Local\\Programs\\Python\\Python310\\lib\\site-packages\\mlxtend\\frequent_patterns\\fpcommon.py:109: DeprecationWarning: DataFrames with non-bool types result in worse computationalperformance and their support might be discontinued in the future.Please use a DataFrame with bool type\n",
            "  warnings.warn(\n"
          ]
        },
        {
          "output_type": "stream",
          "name": "stdout",
          "text": [
            "=== Completed Step: FP-Growth Predictions in 8.52 seconds ===\n",
            "\n",
            "=== Running Experiment 16 ===\n",
            "\n",
            "Running Apriori for Experiment 16...\n",
            "\n",
            "=== Starting Step: Apriori Frequent Itemsets ===\n",
            "=== Completed Step: Apriori Frequent Itemsets in 0.05 seconds ===\n",
            "\n",
            "=== Starting Step: Apriori Association Rules ===\n",
            "=== Completed Step: Apriori Association Rules in 0.00 seconds ===\n",
            "\n",
            "=== Starting Step: Apriori Predictions ===\n"
          ]
        },
        {
          "output_type": "stream",
          "name": "stderr",
          "text": [
            "Generating Predictions: 100%|███████████████████████████████████████| 38/38 [00:08<00:00,  4.24it/s]\n",
            "C:\\Users\\user\\AppData\\Local\\Programs\\Python\\Python310\\lib\\site-packages\\mlxtend\\frequent_patterns\\fpcommon.py:109: DeprecationWarning: DataFrames with non-bool types result in worse computationalperformance and their support might be discontinued in the future.Please use a DataFrame with bool type\n",
            "  warnings.warn(\n"
          ]
        },
        {
          "output_type": "stream",
          "name": "stdout",
          "text": [
            "=== Completed Step: Apriori Predictions in 8.96 seconds ===\n",
            "\n",
            "Running FP-Growth for Experiment 16...\n",
            "\n",
            "=== Starting Step: FP-Growth Frequent Itemsets ===\n",
            "=== Completed Step: FP-Growth Frequent Itemsets in 0.36 seconds ===\n",
            "\n",
            "=== Starting Step: FP-Growth Association Rules ===\n",
            "=== Completed Step: FP-Growth Association Rules in 0.00 seconds ===\n",
            "\n",
            "=== Starting Step: FP-Growth Predictions ===\n"
          ]
        },
        {
          "output_type": "stream",
          "name": "stderr",
          "text": [
            "Generating Predictions: 100%|███████████████████████████████████████| 38/38 [00:08<00:00,  4.22it/s]\n",
            "C:\\Users\\user\\AppData\\Local\\Programs\\Python\\Python310\\lib\\site-packages\\mlxtend\\frequent_patterns\\fpcommon.py:109: DeprecationWarning: DataFrames with non-bool types result in worse computationalperformance and their support might be discontinued in the future.Please use a DataFrame with bool type\n",
            "  warnings.warn(\n"
          ]
        },
        {
          "output_type": "stream",
          "name": "stdout",
          "text": [
            "=== Completed Step: FP-Growth Predictions in 9.00 seconds ===\n",
            "\n",
            "=== Running Experiment 17 ===\n",
            "\n",
            "Running Apriori for Experiment 17...\n",
            "\n",
            "=== Starting Step: Apriori Frequent Itemsets ===\n",
            "=== Completed Step: Apriori Frequent Itemsets in 0.02 seconds ===\n",
            "\n",
            "=== Starting Step: Apriori Association Rules ===\n",
            "=== Completed Step: Apriori Association Rules in 0.00 seconds ===\n",
            "\n",
            "=== Starting Step: Apriori Predictions ===\n"
          ]
        },
        {
          "output_type": "stream",
          "name": "stderr",
          "text": [
            "Generating Predictions: 100%|███████████████████████████████████████| 38/38 [00:07<00:00,  4.82it/s]\n",
            "C:\\Users\\user\\AppData\\Local\\Programs\\Python\\Python310\\lib\\site-packages\\mlxtend\\frequent_patterns\\fpcommon.py:109: DeprecationWarning: DataFrames with non-bool types result in worse computationalperformance and their support might be discontinued in the future.Please use a DataFrame with bool type\n",
            "  warnings.warn(\n"
          ]
        },
        {
          "output_type": "stream",
          "name": "stdout",
          "text": [
            "=== Completed Step: Apriori Predictions in 7.89 seconds ===\n",
            "\n",
            "Running FP-Growth for Experiment 17...\n",
            "\n",
            "=== Starting Step: FP-Growth Frequent Itemsets ===\n",
            "=== Completed Step: FP-Growth Frequent Itemsets in 0.34 seconds ===\n",
            "\n",
            "=== Starting Step: FP-Growth Association Rules ===\n",
            "=== Completed Step: FP-Growth Association Rules in 0.00 seconds ===\n",
            "\n",
            "=== Starting Step: FP-Growth Predictions ===\n"
          ]
        },
        {
          "output_type": "stream",
          "name": "stderr",
          "text": [
            "Generating Predictions: 100%|███████████████████████████████████████| 38/38 [00:07<00:00,  4.80it/s]\n",
            "C:\\Users\\user\\AppData\\Local\\Programs\\Python\\Python310\\lib\\site-packages\\mlxtend\\frequent_patterns\\fpcommon.py:109: DeprecationWarning: DataFrames with non-bool types result in worse computationalperformance and their support might be discontinued in the future.Please use a DataFrame with bool type\n",
            "  warnings.warn(\n"
          ]
        },
        {
          "output_type": "stream",
          "name": "stdout",
          "text": [
            "=== Completed Step: FP-Growth Predictions in 7.91 seconds ===\n",
            "\n",
            "=== Running Experiment 18 ===\n",
            "\n",
            "Running Apriori for Experiment 18...\n",
            "\n",
            "=== Starting Step: Apriori Frequent Itemsets ===\n",
            "=== Completed Step: Apriori Frequent Itemsets in 0.03 seconds ===\n",
            "\n",
            "=== Starting Step: Apriori Association Rules ===\n",
            "=== Completed Step: Apriori Association Rules in 0.00 seconds ===\n",
            "\n",
            "=== Starting Step: Apriori Predictions ===\n"
          ]
        },
        {
          "output_type": "stream",
          "name": "stderr",
          "text": [
            "Generating Predictions: 100%|███████████████████████████████████████| 38/38 [00:08<00:00,  4.70it/s]\n",
            "C:\\Users\\user\\AppData\\Local\\Programs\\Python\\Python310\\lib\\site-packages\\mlxtend\\frequent_patterns\\fpcommon.py:109: DeprecationWarning: DataFrames with non-bool types result in worse computationalperformance and their support might be discontinued in the future.Please use a DataFrame with bool type\n",
            "  warnings.warn(\n"
          ]
        },
        {
          "output_type": "stream",
          "name": "stdout",
          "text": [
            "=== Completed Step: Apriori Predictions in 8.08 seconds ===\n",
            "\n",
            "Running FP-Growth for Experiment 18...\n",
            "\n",
            "=== Starting Step: FP-Growth Frequent Itemsets ===\n",
            "=== Completed Step: FP-Growth Frequent Itemsets in 0.21 seconds ===\n",
            "\n",
            "=== Starting Step: FP-Growth Association Rules ===\n",
            "=== Completed Step: FP-Growth Association Rules in 0.00 seconds ===\n",
            "\n",
            "=== Starting Step: FP-Growth Predictions ===\n"
          ]
        },
        {
          "output_type": "stream",
          "name": "stderr",
          "text": [
            "Generating Predictions: 100%|███████████████████████████████████████| 38/38 [00:08<00:00,  4.75it/s]\n",
            "C:\\Users\\user\\AppData\\Local\\Programs\\Python\\Python310\\lib\\site-packages\\mlxtend\\frequent_patterns\\fpcommon.py:109: DeprecationWarning: DataFrames with non-bool types result in worse computationalperformance and their support might be discontinued in the future.Please use a DataFrame with bool type\n",
            "  warnings.warn(\n"
          ]
        },
        {
          "output_type": "stream",
          "name": "stdout",
          "text": [
            "=== Completed Step: FP-Growth Predictions in 8.00 seconds ===\n",
            "\n",
            "=== Running Experiment 19 ===\n",
            "\n",
            "Running Apriori for Experiment 19...\n",
            "\n",
            "=== Starting Step: Apriori Frequent Itemsets ===\n",
            "=== Completed Step: Apriori Frequent Itemsets in 0.03 seconds ===\n",
            "\n",
            "=== Starting Step: Apriori Association Rules ===\n",
            "=== Completed Step: Apriori Association Rules in 0.00 seconds ===\n",
            "\n",
            "=== Starting Step: Apriori Predictions ===\n"
          ]
        },
        {
          "output_type": "stream",
          "name": "stderr",
          "text": [
            "Generating Predictions: 100%|███████████████████████████████████████| 38/38 [00:07<00:00,  4.81it/s]\n",
            "C:\\Users\\user\\AppData\\Local\\Programs\\Python\\Python310\\lib\\site-packages\\mlxtend\\frequent_patterns\\fpcommon.py:109: DeprecationWarning: DataFrames with non-bool types result in worse computationalperformance and their support might be discontinued in the future.Please use a DataFrame with bool type\n",
            "  warnings.warn(\n"
          ]
        },
        {
          "output_type": "stream",
          "name": "stdout",
          "text": [
            "=== Completed Step: Apriori Predictions in 7.91 seconds ===\n",
            "\n",
            "Running FP-Growth for Experiment 19...\n",
            "\n",
            "=== Starting Step: FP-Growth Frequent Itemsets ===\n",
            "=== Completed Step: FP-Growth Frequent Itemsets in 0.33 seconds ===\n",
            "\n",
            "=== Starting Step: FP-Growth Association Rules ===\n",
            "=== Completed Step: FP-Growth Association Rules in 0.00 seconds ===\n",
            "\n",
            "=== Starting Step: FP-Growth Predictions ===\n"
          ]
        },
        {
          "output_type": "stream",
          "name": "stderr",
          "text": [
            "Generating Predictions: 100%|███████████████████████████████████████| 38/38 [00:07<00:00,  4.88it/s]\n",
            "C:\\Users\\user\\AppData\\Local\\Programs\\Python\\Python310\\lib\\site-packages\\mlxtend\\frequent_patterns\\fpcommon.py:109: DeprecationWarning: DataFrames with non-bool types result in worse computationalperformance and their support might be discontinued in the future.Please use a DataFrame with bool type\n",
            "  warnings.warn(\n"
          ]
        },
        {
          "output_type": "stream",
          "name": "stdout",
          "text": [
            "=== Completed Step: FP-Growth Predictions in 7.79 seconds ===\n",
            "\n",
            "=== Running Experiment 20 ===\n",
            "\n",
            "Running Apriori for Experiment 20...\n",
            "\n",
            "=== Starting Step: Apriori Frequent Itemsets ===\n",
            "=== Completed Step: Apriori Frequent Itemsets in 0.03 seconds ===\n",
            "\n",
            "=== Starting Step: Apriori Association Rules ===\n",
            "=== Completed Step: Apriori Association Rules in 0.00 seconds ===\n",
            "\n",
            "=== Starting Step: Apriori Predictions ===\n"
          ]
        },
        {
          "output_type": "stream",
          "name": "stderr",
          "text": [
            "Generating Predictions: 100%|███████████████████████████████████████| 38/38 [00:07<00:00,  4.82it/s]\n",
            "C:\\Users\\user\\AppData\\Local\\Programs\\Python\\Python310\\lib\\site-packages\\mlxtend\\frequent_patterns\\fpcommon.py:109: DeprecationWarning: DataFrames with non-bool types result in worse computationalperformance and their support might be discontinued in the future.Please use a DataFrame with bool type\n",
            "  warnings.warn(\n"
          ]
        },
        {
          "output_type": "stream",
          "name": "stdout",
          "text": [
            "=== Completed Step: Apriori Predictions in 7.89 seconds ===\n",
            "\n",
            "Running FP-Growth for Experiment 20...\n",
            "\n",
            "=== Starting Step: FP-Growth Frequent Itemsets ===\n",
            "=== Completed Step: FP-Growth Frequent Itemsets in 0.35 seconds ===\n",
            "\n",
            "=== Starting Step: FP-Growth Association Rules ===\n",
            "=== Completed Step: FP-Growth Association Rules in 0.00 seconds ===\n",
            "\n",
            "=== Starting Step: FP-Growth Predictions ===\n"
          ]
        },
        {
          "output_type": "stream",
          "name": "stderr",
          "text": [
            "Generating Predictions: 100%|███████████████████████████████████████| 38/38 [00:07<00:00,  4.90it/s]\n",
            "C:\\Users\\user\\AppData\\Local\\Programs\\Python\\Python310\\lib\\site-packages\\mlxtend\\frequent_patterns\\fpcommon.py:109: DeprecationWarning: DataFrames with non-bool types result in worse computationalperformance and their support might be discontinued in the future.Please use a DataFrame with bool type\n",
            "  warnings.warn(\n"
          ]
        },
        {
          "output_type": "stream",
          "name": "stdout",
          "text": [
            "=== Completed Step: FP-Growth Predictions in 7.77 seconds ===\n",
            "\n",
            "=== Running Experiment 21 ===\n",
            "\n",
            "Running Apriori for Experiment 21...\n",
            "\n",
            "=== Starting Step: Apriori Frequent Itemsets ===\n",
            "=== Completed Step: Apriori Frequent Itemsets in 0.02 seconds ===\n",
            "\n",
            "=== Starting Step: Apriori Association Rules ===\n",
            "=== Completed Step: Apriori Association Rules in 0.00 seconds ===\n",
            "\n",
            "=== Starting Step: Apriori Predictions ===\n"
          ]
        },
        {
          "output_type": "stream",
          "name": "stderr",
          "text": [
            "Generating Predictions: 100%|███████████████████████████████████████| 38/38 [00:07<00:00,  4.82it/s]\n",
            "C:\\Users\\user\\AppData\\Local\\Programs\\Python\\Python310\\lib\\site-packages\\mlxtend\\frequent_patterns\\fpcommon.py:109: DeprecationWarning: DataFrames with non-bool types result in worse computationalperformance and their support might be discontinued in the future.Please use a DataFrame with bool type\n",
            "  warnings.warn(\n"
          ]
        },
        {
          "output_type": "stream",
          "name": "stdout",
          "text": [
            "=== Completed Step: Apriori Predictions in 7.88 seconds ===\n",
            "\n",
            "Running FP-Growth for Experiment 21...\n",
            "\n",
            "=== Starting Step: FP-Growth Frequent Itemsets ===\n",
            "=== Completed Step: FP-Growth Frequent Itemsets in 0.31 seconds ===\n",
            "\n",
            "=== Starting Step: FP-Growth Association Rules ===\n",
            "=== Completed Step: FP-Growth Association Rules in 0.00 seconds ===\n",
            "\n",
            "=== Starting Step: FP-Growth Predictions ===\n"
          ]
        },
        {
          "output_type": "stream",
          "name": "stderr",
          "text": [
            "Generating Predictions: 100%|███████████████████████████████████████| 38/38 [00:07<00:00,  4.81it/s]\n",
            "C:\\Users\\user\\AppData\\Local\\Programs\\Python\\Python310\\lib\\site-packages\\mlxtend\\frequent_patterns\\fpcommon.py:109: DeprecationWarning: DataFrames with non-bool types result in worse computationalperformance and their support might be discontinued in the future.Please use a DataFrame with bool type\n",
            "  warnings.warn(\n"
          ]
        },
        {
          "output_type": "stream",
          "name": "stdout",
          "text": [
            "=== Completed Step: FP-Growth Predictions in 7.91 seconds ===\n",
            "\n",
            "=== Running Experiment 22 ===\n",
            "\n",
            "Running Apriori for Experiment 22...\n",
            "\n",
            "=== Starting Step: Apriori Frequent Itemsets ===\n",
            "=== Completed Step: Apriori Frequent Itemsets in 0.03 seconds ===\n",
            "\n",
            "=== Starting Step: Apriori Association Rules ===\n",
            "=== Completed Step: Apriori Association Rules in 0.00 seconds ===\n",
            "\n",
            "=== Starting Step: Apriori Predictions ===\n"
          ]
        },
        {
          "output_type": "stream",
          "name": "stderr",
          "text": [
            "Generating Predictions: 100%|███████████████████████████████████████| 38/38 [00:07<00:00,  4.82it/s]\n",
            "C:\\Users\\user\\AppData\\Local\\Programs\\Python\\Python310\\lib\\site-packages\\mlxtend\\frequent_patterns\\fpcommon.py:109: DeprecationWarning: DataFrames with non-bool types result in worse computationalperformance and their support might be discontinued in the future.Please use a DataFrame with bool type\n",
            "  warnings.warn(\n"
          ]
        },
        {
          "output_type": "stream",
          "name": "stdout",
          "text": [
            "=== Completed Step: Apriori Predictions in 7.89 seconds ===\n",
            "\n",
            "Running FP-Growth for Experiment 22...\n",
            "\n",
            "=== Starting Step: FP-Growth Frequent Itemsets ===\n",
            "=== Completed Step: FP-Growth Frequent Itemsets in 0.35 seconds ===\n",
            "\n",
            "=== Starting Step: FP-Growth Association Rules ===\n",
            "=== Completed Step: FP-Growth Association Rules in 0.00 seconds ===\n",
            "\n",
            "=== Starting Step: FP-Growth Predictions ===\n"
          ]
        },
        {
          "output_type": "stream",
          "name": "stderr",
          "text": [
            "Generating Predictions: 100%|███████████████████████████████████████| 38/38 [00:07<00:00,  4.81it/s]\n",
            "C:\\Users\\user\\AppData\\Local\\Programs\\Python\\Python310\\lib\\site-packages\\mlxtend\\frequent_patterns\\fpcommon.py:109: DeprecationWarning: DataFrames with non-bool types result in worse computationalperformance and their support might be discontinued in the future.Please use a DataFrame with bool type\n",
            "  warnings.warn(\n"
          ]
        },
        {
          "output_type": "stream",
          "name": "stdout",
          "text": [
            "=== Completed Step: FP-Growth Predictions in 7.90 seconds ===\n",
            "\n",
            "=== Running Experiment 23 ===\n",
            "\n",
            "Running Apriori for Experiment 23...\n",
            "\n",
            "=== Starting Step: Apriori Frequent Itemsets ===\n",
            "=== Completed Step: Apriori Frequent Itemsets in 0.03 seconds ===\n",
            "\n",
            "=== Starting Step: Apriori Association Rules ===\n",
            "=== Completed Step: Apriori Association Rules in 0.00 seconds ===\n",
            "\n",
            "=== Starting Step: Apriori Predictions ===\n"
          ]
        },
        {
          "output_type": "stream",
          "name": "stderr",
          "text": [
            "Generating Predictions: 100%|███████████████████████████████████████| 38/38 [00:07<00:00,  5.08it/s]\n",
            "C:\\Users\\user\\AppData\\Local\\Programs\\Python\\Python310\\lib\\site-packages\\mlxtend\\frequent_patterns\\fpcommon.py:109: DeprecationWarning: DataFrames with non-bool types result in worse computationalperformance and their support might be discontinued in the future.Please use a DataFrame with bool type\n",
            "  warnings.warn(\n"
          ]
        },
        {
          "output_type": "stream",
          "name": "stdout",
          "text": [
            "=== Completed Step: Apriori Predictions in 7.48 seconds ===\n",
            "\n",
            "Running FP-Growth for Experiment 23...\n",
            "\n",
            "=== Starting Step: FP-Growth Frequent Itemsets ===\n",
            "=== Completed Step: FP-Growth Frequent Itemsets in 0.34 seconds ===\n",
            "\n",
            "=== Starting Step: FP-Growth Association Rules ===\n",
            "=== Completed Step: FP-Growth Association Rules in 0.00 seconds ===\n",
            "\n",
            "=== Starting Step: FP-Growth Predictions ===\n"
          ]
        },
        {
          "output_type": "stream",
          "name": "stderr",
          "text": [
            "Generating Predictions: 100%|███████████████████████████████████████| 38/38 [00:07<00:00,  5.12it/s]\n",
            "C:\\Users\\user\\AppData\\Local\\Programs\\Python\\Python310\\lib\\site-packages\\mlxtend\\frequent_patterns\\fpcommon.py:109: DeprecationWarning: DataFrames with non-bool types result in worse computationalperformance and their support might be discontinued in the future.Please use a DataFrame with bool type\n",
            "  warnings.warn(\n"
          ]
        },
        {
          "output_type": "stream",
          "name": "stdout",
          "text": [
            "=== Completed Step: FP-Growth Predictions in 7.43 seconds ===\n",
            "\n",
            "=== Running Experiment 24 ===\n",
            "\n",
            "Running Apriori for Experiment 24...\n",
            "\n",
            "=== Starting Step: Apriori Frequent Itemsets ===\n",
            "=== Completed Step: Apriori Frequent Itemsets in 0.03 seconds ===\n",
            "\n",
            "=== Starting Step: Apriori Association Rules ===\n",
            "=== Completed Step: Apriori Association Rules in 0.00 seconds ===\n",
            "\n",
            "=== Starting Step: Apriori Predictions ===\n"
          ]
        },
        {
          "output_type": "stream",
          "name": "stderr",
          "text": [
            "Generating Predictions: 100%|███████████████████████████████████████| 38/38 [00:07<00:00,  5.12it/s]\n",
            "C:\\Users\\user\\AppData\\Local\\Programs\\Python\\Python310\\lib\\site-packages\\mlxtend\\frequent_patterns\\fpcommon.py:109: DeprecationWarning: DataFrames with non-bool types result in worse computationalperformance and their support might be discontinued in the future.Please use a DataFrame with bool type\n",
            "  warnings.warn(\n"
          ]
        },
        {
          "output_type": "stream",
          "name": "stdout",
          "text": [
            "=== Completed Step: Apriori Predictions in 7.42 seconds ===\n",
            "\n",
            "Running FP-Growth for Experiment 24...\n",
            "\n",
            "=== Starting Step: FP-Growth Frequent Itemsets ===\n",
            "=== Completed Step: FP-Growth Frequent Itemsets in 0.34 seconds ===\n",
            "\n",
            "=== Starting Step: FP-Growth Association Rules ===\n",
            "=== Completed Step: FP-Growth Association Rules in 0.00 seconds ===\n",
            "\n",
            "=== Starting Step: FP-Growth Predictions ===\n"
          ]
        },
        {
          "output_type": "stream",
          "name": "stderr",
          "text": [
            "Generating Predictions: 100%|███████████████████████████████████████| 38/38 [00:07<00:00,  5.09it/s]\n",
            "C:\\Users\\user\\AppData\\Local\\Programs\\Python\\Python310\\lib\\site-packages\\mlxtend\\frequent_patterns\\fpcommon.py:109: DeprecationWarning: DataFrames with non-bool types result in worse computationalperformance and their support might be discontinued in the future.Please use a DataFrame with bool type\n",
            "  warnings.warn(\n"
          ]
        },
        {
          "output_type": "stream",
          "name": "stdout",
          "text": [
            "=== Completed Step: FP-Growth Predictions in 7.47 seconds ===\n",
            "\n",
            "=== Running Experiment 25 ===\n",
            "\n",
            "Running Apriori for Experiment 25...\n",
            "\n",
            "=== Starting Step: Apriori Frequent Itemsets ===\n",
            "=== Completed Step: Apriori Frequent Itemsets in 0.02 seconds ===\n",
            "\n",
            "=== Starting Step: Apriori Association Rules ===\n",
            "=== Completed Step: Apriori Association Rules in 0.00 seconds ===\n",
            "\n",
            "=== Starting Step: Apriori Predictions ===\n"
          ]
        },
        {
          "output_type": "stream",
          "name": "stderr",
          "text": [
            "Generating Predictions: 100%|███████████████████████████████████████| 38/38 [00:03<00:00, 11.41it/s]\n",
            "C:\\Users\\user\\AppData\\Local\\Programs\\Python\\Python310\\lib\\site-packages\\numpy\\core\\fromnumeric.py:3504: RuntimeWarning: Mean of empty slice.\n",
            "  return _methods._mean(a, axis=axis, dtype=dtype,\n",
            "C:\\Users\\user\\AppData\\Local\\Programs\\Python\\Python310\\lib\\site-packages\\numpy\\core\\_methods.py:129: RuntimeWarning: invalid value encountered in scalar divide\n",
            "  ret = ret.dtype.type(ret / rcount)\n",
            "C:\\Users\\user\\AppData\\Local\\Programs\\Python\\Python310\\lib\\site-packages\\mlxtend\\frequent_patterns\\fpcommon.py:109: DeprecationWarning: DataFrames with non-bool types result in worse computationalperformance and their support might be discontinued in the future.Please use a DataFrame with bool type\n",
            "  warnings.warn(\n"
          ]
        },
        {
          "output_type": "stream",
          "name": "stdout",
          "text": [
            "=== Completed Step: Apriori Predictions in 3.33 seconds ===\n",
            "\n",
            "Running FP-Growth for Experiment 25...\n",
            "\n",
            "=== Starting Step: FP-Growth Frequent Itemsets ===\n",
            "=== Completed Step: FP-Growth Frequent Itemsets in 0.34 seconds ===\n",
            "\n",
            "=== Starting Step: FP-Growth Association Rules ===\n",
            "=== Completed Step: FP-Growth Association Rules in 0.00 seconds ===\n",
            "\n",
            "=== Starting Step: FP-Growth Predictions ===\n"
          ]
        },
        {
          "output_type": "stream",
          "name": "stderr",
          "text": [
            "Generating Predictions: 100%|███████████████████████████████████████| 38/38 [00:03<00:00, 11.38it/s]\n",
            "C:\\Users\\user\\AppData\\Local\\Programs\\Python\\Python310\\lib\\site-packages\\numpy\\core\\fromnumeric.py:3504: RuntimeWarning: Mean of empty slice.\n",
            "  return _methods._mean(a, axis=axis, dtype=dtype,\n",
            "C:\\Users\\user\\AppData\\Local\\Programs\\Python\\Python310\\lib\\site-packages\\numpy\\core\\_methods.py:129: RuntimeWarning: invalid value encountered in scalar divide\n",
            "  ret = ret.dtype.type(ret / rcount)\n",
            "C:\\Users\\user\\AppData\\Local\\Programs\\Python\\Python310\\lib\\site-packages\\mlxtend\\frequent_patterns\\fpcommon.py:109: DeprecationWarning: DataFrames with non-bool types result in worse computationalperformance and their support might be discontinued in the future.Please use a DataFrame with bool type\n",
            "  warnings.warn(\n"
          ]
        },
        {
          "output_type": "stream",
          "name": "stdout",
          "text": [
            "=== Completed Step: FP-Growth Predictions in 3.34 seconds ===\n",
            "\n",
            "=== Running Experiment 26 ===\n",
            "\n",
            "Running Apriori for Experiment 26...\n",
            "\n",
            "=== Starting Step: Apriori Frequent Itemsets ===\n",
            "=== Completed Step: Apriori Frequent Itemsets in 0.02 seconds ===\n",
            "\n",
            "=== Starting Step: Apriori Association Rules ===\n",
            "=== Completed Step: Apriori Association Rules in 0.00 seconds ===\n",
            "\n",
            "=== Starting Step: Apriori Predictions ===\n"
          ]
        },
        {
          "output_type": "stream",
          "name": "stderr",
          "text": [
            "Generating Predictions: 100%|███████████████████████████████████████| 38/38 [00:03<00:00, 11.32it/s]\n",
            "C:\\Users\\user\\AppData\\Local\\Programs\\Python\\Python310\\lib\\site-packages\\numpy\\core\\fromnumeric.py:3504: RuntimeWarning: Mean of empty slice.\n",
            "  return _methods._mean(a, axis=axis, dtype=dtype,\n",
            "C:\\Users\\user\\AppData\\Local\\Programs\\Python\\Python310\\lib\\site-packages\\numpy\\core\\_methods.py:129: RuntimeWarning: invalid value encountered in scalar divide\n",
            "  ret = ret.dtype.type(ret / rcount)\n",
            "C:\\Users\\user\\AppData\\Local\\Programs\\Python\\Python310\\lib\\site-packages\\mlxtend\\frequent_patterns\\fpcommon.py:109: DeprecationWarning: DataFrames with non-bool types result in worse computationalperformance and their support might be discontinued in the future.Please use a DataFrame with bool type\n",
            "  warnings.warn(\n"
          ]
        },
        {
          "output_type": "stream",
          "name": "stdout",
          "text": [
            "=== Completed Step: Apriori Predictions in 3.36 seconds ===\n",
            "\n",
            "Running FP-Growth for Experiment 26...\n",
            "\n",
            "=== Starting Step: FP-Growth Frequent Itemsets ===\n",
            "=== Completed Step: FP-Growth Frequent Itemsets in 0.33 seconds ===\n",
            "\n",
            "=== Starting Step: FP-Growth Association Rules ===\n",
            "=== Completed Step: FP-Growth Association Rules in 0.00 seconds ===\n",
            "\n",
            "=== Starting Step: FP-Growth Predictions ===\n"
          ]
        },
        {
          "output_type": "stream",
          "name": "stderr",
          "text": [
            "Generating Predictions: 100%|███████████████████████████████████████| 38/38 [00:03<00:00, 11.34it/s]\n",
            "C:\\Users\\user\\AppData\\Local\\Programs\\Python\\Python310\\lib\\site-packages\\numpy\\core\\fromnumeric.py:3504: RuntimeWarning: Mean of empty slice.\n",
            "  return _methods._mean(a, axis=axis, dtype=dtype,\n",
            "C:\\Users\\user\\AppData\\Local\\Programs\\Python\\Python310\\lib\\site-packages\\numpy\\core\\_methods.py:129: RuntimeWarning: invalid value encountered in scalar divide\n",
            "  ret = ret.dtype.type(ret / rcount)\n",
            "C:\\Users\\user\\AppData\\Local\\Programs\\Python\\Python310\\lib\\site-packages\\mlxtend\\frequent_patterns\\fpcommon.py:109: DeprecationWarning: DataFrames with non-bool types result in worse computationalperformance and their support might be discontinued in the future.Please use a DataFrame with bool type\n",
            "  warnings.warn(\n"
          ]
        },
        {
          "output_type": "stream",
          "name": "stdout",
          "text": [
            "=== Completed Step: FP-Growth Predictions in 3.35 seconds ===\n",
            "\n",
            "=== Running Experiment 27 ===\n",
            "\n",
            "Running Apriori for Experiment 27...\n",
            "\n",
            "=== Starting Step: Apriori Frequent Itemsets ===\n",
            "=== Completed Step: Apriori Frequent Itemsets in 0.03 seconds ===\n",
            "\n",
            "=== Starting Step: Apriori Association Rules ===\n",
            "=== Completed Step: Apriori Association Rules in 0.00 seconds ===\n",
            "\n",
            "=== Starting Step: Apriori Predictions ===\n"
          ]
        },
        {
          "output_type": "stream",
          "name": "stderr",
          "text": [
            "Generating Predictions: 100%|███████████████████████████████████████| 38/38 [00:03<00:00, 10.84it/s]\n",
            "C:\\Users\\user\\AppData\\Local\\Programs\\Python\\Python310\\lib\\site-packages\\numpy\\core\\fromnumeric.py:3504: RuntimeWarning: Mean of empty slice.\n",
            "  return _methods._mean(a, axis=axis, dtype=dtype,\n",
            "C:\\Users\\user\\AppData\\Local\\Programs\\Python\\Python310\\lib\\site-packages\\numpy\\core\\_methods.py:129: RuntimeWarning: invalid value encountered in scalar divide\n",
            "  ret = ret.dtype.type(ret / rcount)\n",
            "C:\\Users\\user\\AppData\\Local\\Programs\\Python\\Python310\\lib\\site-packages\\mlxtend\\frequent_patterns\\fpcommon.py:109: DeprecationWarning: DataFrames with non-bool types result in worse computationalperformance and their support might be discontinued in the future.Please use a DataFrame with bool type\n",
            "  warnings.warn(\n"
          ]
        },
        {
          "output_type": "stream",
          "name": "stdout",
          "text": [
            "=== Completed Step: Apriori Predictions in 3.51 seconds ===\n",
            "\n",
            "Running FP-Growth for Experiment 27...\n",
            "\n",
            "=== Starting Step: FP-Growth Frequent Itemsets ===\n",
            "=== Completed Step: FP-Growth Frequent Itemsets in 0.20 seconds ===\n",
            "\n",
            "=== Starting Step: FP-Growth Association Rules ===\n",
            "=== Completed Step: FP-Growth Association Rules in 0.00 seconds ===\n",
            "\n",
            "=== Starting Step: FP-Growth Predictions ===\n"
          ]
        },
        {
          "output_type": "stream",
          "name": "stderr",
          "text": [
            "Generating Predictions: 100%|███████████████████████████████████████| 38/38 [00:03<00:00, 10.97it/s]\n",
            "C:\\Users\\user\\AppData\\Local\\Programs\\Python\\Python310\\lib\\site-packages\\numpy\\core\\fromnumeric.py:3504: RuntimeWarning: Mean of empty slice.\n",
            "  return _methods._mean(a, axis=axis, dtype=dtype,\n",
            "C:\\Users\\user\\AppData\\Local\\Programs\\Python\\Python310\\lib\\site-packages\\numpy\\core\\_methods.py:129: RuntimeWarning: invalid value encountered in scalar divide\n",
            "  ret = ret.dtype.type(ret / rcount)\n",
            "C:\\Users\\user\\AppData\\Local\\Programs\\Python\\Python310\\lib\\site-packages\\mlxtend\\frequent_patterns\\fpcommon.py:109: DeprecationWarning: DataFrames with non-bool types result in worse computationalperformance and their support might be discontinued in the future.Please use a DataFrame with bool type\n",
            "  warnings.warn(\n"
          ]
        },
        {
          "output_type": "stream",
          "name": "stdout",
          "text": [
            "=== Completed Step: FP-Growth Predictions in 3.47 seconds ===\n",
            "\n",
            "=== Running Experiment 28 ===\n",
            "\n",
            "Running Apriori for Experiment 28...\n",
            "\n",
            "=== Starting Step: Apriori Frequent Itemsets ===\n",
            "=== Completed Step: Apriori Frequent Itemsets in 0.02 seconds ===\n",
            "\n",
            "=== Starting Step: Apriori Association Rules ===\n",
            "=== Completed Step: Apriori Association Rules in 0.00 seconds ===\n",
            "\n",
            "=== Starting Step: Apriori Predictions ===\n"
          ]
        },
        {
          "output_type": "stream",
          "name": "stderr",
          "text": [
            "Generating Predictions: 100%|███████████████████████████████████████| 38/38 [00:03<00:00, 11.33it/s]\n",
            "C:\\Users\\user\\AppData\\Local\\Programs\\Python\\Python310\\lib\\site-packages\\numpy\\core\\fromnumeric.py:3504: RuntimeWarning: Mean of empty slice.\n",
            "  return _methods._mean(a, axis=axis, dtype=dtype,\n",
            "C:\\Users\\user\\AppData\\Local\\Programs\\Python\\Python310\\lib\\site-packages\\numpy\\core\\_methods.py:129: RuntimeWarning: invalid value encountered in scalar divide\n",
            "  ret = ret.dtype.type(ret / rcount)\n",
            "C:\\Users\\user\\AppData\\Local\\Programs\\Python\\Python310\\lib\\site-packages\\mlxtend\\frequent_patterns\\fpcommon.py:109: DeprecationWarning: DataFrames with non-bool types result in worse computationalperformance and their support might be discontinued in the future.Please use a DataFrame with bool type\n",
            "  warnings.warn(\n"
          ]
        },
        {
          "output_type": "stream",
          "name": "stdout",
          "text": [
            "=== Completed Step: Apriori Predictions in 3.36 seconds ===\n",
            "\n",
            "Running FP-Growth for Experiment 28...\n",
            "\n",
            "=== Starting Step: FP-Growth Frequent Itemsets ===\n",
            "=== Completed Step: FP-Growth Frequent Itemsets in 0.32 seconds ===\n",
            "\n",
            "=== Starting Step: FP-Growth Association Rules ===\n",
            "=== Completed Step: FP-Growth Association Rules in 0.00 seconds ===\n",
            "\n",
            "=== Starting Step: FP-Growth Predictions ===\n"
          ]
        },
        {
          "output_type": "stream",
          "name": "stderr",
          "text": [
            "Generating Predictions: 100%|███████████████████████████████████████| 38/38 [00:03<00:00, 11.38it/s]\n",
            "C:\\Users\\user\\AppData\\Local\\Programs\\Python\\Python310\\lib\\site-packages\\numpy\\core\\fromnumeric.py:3504: RuntimeWarning: Mean of empty slice.\n",
            "  return _methods._mean(a, axis=axis, dtype=dtype,\n",
            "C:\\Users\\user\\AppData\\Local\\Programs\\Python\\Python310\\lib\\site-packages\\numpy\\core\\_methods.py:129: RuntimeWarning: invalid value encountered in scalar divide\n",
            "  ret = ret.dtype.type(ret / rcount)\n",
            "C:\\Users\\user\\AppData\\Local\\Programs\\Python\\Python310\\lib\\site-packages\\mlxtend\\frequent_patterns\\fpcommon.py:109: DeprecationWarning: DataFrames with non-bool types result in worse computationalperformance and their support might be discontinued in the future.Please use a DataFrame with bool type\n",
            "  warnings.warn(\n"
          ]
        },
        {
          "output_type": "stream",
          "name": "stdout",
          "text": [
            "=== Completed Step: FP-Growth Predictions in 3.34 seconds ===\n",
            "\n",
            "=== Running Experiment 29 ===\n",
            "\n",
            "Running Apriori for Experiment 29...\n",
            "\n",
            "=== Starting Step: Apriori Frequent Itemsets ===\n",
            "=== Completed Step: Apriori Frequent Itemsets in 0.02 seconds ===\n",
            "\n",
            "=== Starting Step: Apriori Association Rules ===\n",
            "=== Completed Step: Apriori Association Rules in 0.00 seconds ===\n",
            "\n",
            "=== Starting Step: Apriori Predictions ===\n"
          ]
        },
        {
          "output_type": "stream",
          "name": "stderr",
          "text": [
            "Generating Predictions: 100%|███████████████████████████████████████| 38/38 [00:03<00:00, 11.42it/s]\n",
            "C:\\Users\\user\\AppData\\Local\\Programs\\Python\\Python310\\lib\\site-packages\\numpy\\core\\fromnumeric.py:3504: RuntimeWarning: Mean of empty slice.\n",
            "  return _methods._mean(a, axis=axis, dtype=dtype,\n",
            "C:\\Users\\user\\AppData\\Local\\Programs\\Python\\Python310\\lib\\site-packages\\numpy\\core\\_methods.py:129: RuntimeWarning: invalid value encountered in scalar divide\n",
            "  ret = ret.dtype.type(ret / rcount)\n",
            "C:\\Users\\user\\AppData\\Local\\Programs\\Python\\Python310\\lib\\site-packages\\mlxtend\\frequent_patterns\\fpcommon.py:109: DeprecationWarning: DataFrames with non-bool types result in worse computationalperformance and their support might be discontinued in the future.Please use a DataFrame with bool type\n",
            "  warnings.warn(\n"
          ]
        },
        {
          "output_type": "stream",
          "name": "stdout",
          "text": [
            "=== Completed Step: Apriori Predictions in 3.33 seconds ===\n",
            "\n",
            "Running FP-Growth for Experiment 29...\n",
            "\n",
            "=== Starting Step: FP-Growth Frequent Itemsets ===\n",
            "=== Completed Step: FP-Growth Frequent Itemsets in 0.34 seconds ===\n",
            "\n",
            "=== Starting Step: FP-Growth Association Rules ===\n",
            "=== Completed Step: FP-Growth Association Rules in 0.00 seconds ===\n",
            "\n",
            "=== Starting Step: FP-Growth Predictions ===\n"
          ]
        },
        {
          "output_type": "stream",
          "name": "stderr",
          "text": [
            "Generating Predictions: 100%|███████████████████████████████████████| 38/38 [00:03<00:00, 11.55it/s]\n",
            "C:\\Users\\user\\AppData\\Local\\Programs\\Python\\Python310\\lib\\site-packages\\numpy\\core\\fromnumeric.py:3504: RuntimeWarning: Mean of empty slice.\n",
            "  return _methods._mean(a, axis=axis, dtype=dtype,\n",
            "C:\\Users\\user\\AppData\\Local\\Programs\\Python\\Python310\\lib\\site-packages\\numpy\\core\\_methods.py:129: RuntimeWarning: invalid value encountered in scalar divide\n",
            "  ret = ret.dtype.type(ret / rcount)\n",
            "C:\\Users\\user\\AppData\\Local\\Programs\\Python\\Python310\\lib\\site-packages\\mlxtend\\frequent_patterns\\fpcommon.py:109: DeprecationWarning: DataFrames with non-bool types result in worse computationalperformance and their support might be discontinued in the future.Please use a DataFrame with bool type\n",
            "  warnings.warn(\n"
          ]
        },
        {
          "output_type": "stream",
          "name": "stdout",
          "text": [
            "=== Completed Step: FP-Growth Predictions in 3.29 seconds ===\n",
            "\n",
            "=== Running Experiment 30 ===\n",
            "\n",
            "Running Apriori for Experiment 30...\n",
            "\n",
            "=== Starting Step: Apriori Frequent Itemsets ===\n",
            "=== Completed Step: Apriori Frequent Itemsets in 0.02 seconds ===\n",
            "\n",
            "=== Starting Step: Apriori Association Rules ===\n",
            "=== Completed Step: Apriori Association Rules in 0.00 seconds ===\n",
            "\n",
            "=== Starting Step: Apriori Predictions ===\n"
          ]
        },
        {
          "output_type": "stream",
          "name": "stderr",
          "text": [
            "Generating Predictions: 100%|███████████████████████████████████████| 38/38 [00:03<00:00, 11.41it/s]\n",
            "C:\\Users\\user\\AppData\\Local\\Programs\\Python\\Python310\\lib\\site-packages\\numpy\\core\\fromnumeric.py:3504: RuntimeWarning: Mean of empty slice.\n",
            "  return _methods._mean(a, axis=axis, dtype=dtype,\n",
            "C:\\Users\\user\\AppData\\Local\\Programs\\Python\\Python310\\lib\\site-packages\\numpy\\core\\_methods.py:129: RuntimeWarning: invalid value encountered in scalar divide\n",
            "  ret = ret.dtype.type(ret / rcount)\n",
            "C:\\Users\\user\\AppData\\Local\\Programs\\Python\\Python310\\lib\\site-packages\\mlxtend\\frequent_patterns\\fpcommon.py:109: DeprecationWarning: DataFrames with non-bool types result in worse computationalperformance and their support might be discontinued in the future.Please use a DataFrame with bool type\n",
            "  warnings.warn(\n"
          ]
        },
        {
          "output_type": "stream",
          "name": "stdout",
          "text": [
            "=== Completed Step: Apriori Predictions in 3.33 seconds ===\n",
            "\n",
            "Running FP-Growth for Experiment 30...\n",
            "\n",
            "=== Starting Step: FP-Growth Frequent Itemsets ===\n",
            "=== Completed Step: FP-Growth Frequent Itemsets in 0.34 seconds ===\n",
            "\n",
            "=== Starting Step: FP-Growth Association Rules ===\n",
            "=== Completed Step: FP-Growth Association Rules in 0.00 seconds ===\n",
            "\n",
            "=== Starting Step: FP-Growth Predictions ===\n"
          ]
        },
        {
          "output_type": "stream",
          "name": "stderr",
          "text": [
            "Generating Predictions: 100%|███████████████████████████████████████| 38/38 [00:03<00:00, 11.46it/s]\n",
            "C:\\Users\\user\\AppData\\Local\\Programs\\Python\\Python310\\lib\\site-packages\\numpy\\core\\fromnumeric.py:3504: RuntimeWarning: Mean of empty slice.\n",
            "  return _methods._mean(a, axis=axis, dtype=dtype,\n",
            "C:\\Users\\user\\AppData\\Local\\Programs\\Python\\Python310\\lib\\site-packages\\numpy\\core\\_methods.py:129: RuntimeWarning: invalid value encountered in scalar divide\n",
            "  ret = ret.dtype.type(ret / rcount)\n",
            "C:\\Users\\user\\AppData\\Local\\Programs\\Python\\Python310\\lib\\site-packages\\mlxtend\\frequent_patterns\\fpcommon.py:109: DeprecationWarning: DataFrames with non-bool types result in worse computationalperformance and their support might be discontinued in the future.Please use a DataFrame with bool type\n",
            "  warnings.warn(\n"
          ]
        },
        {
          "output_type": "stream",
          "name": "stdout",
          "text": [
            "=== Completed Step: FP-Growth Predictions in 3.32 seconds ===\n",
            "\n",
            "=== Running Experiment 31 ===\n",
            "\n",
            "Running Apriori for Experiment 31...\n",
            "\n",
            "=== Starting Step: Apriori Frequent Itemsets ===\n",
            "=== Completed Step: Apriori Frequent Itemsets in 0.02 seconds ===\n",
            "\n",
            "=== Starting Step: Apriori Association Rules ===\n",
            "=== Completed Step: Apriori Association Rules in 0.00 seconds ===\n",
            "\n",
            "=== Starting Step: Apriori Predictions ===\n"
          ]
        },
        {
          "output_type": "stream",
          "name": "stderr",
          "text": [
            "Generating Predictions: 100%|███████████████████████████████████████| 38/38 [00:03<00:00, 11.47it/s]\n",
            "C:\\Users\\user\\AppData\\Local\\Programs\\Python\\Python310\\lib\\site-packages\\numpy\\core\\fromnumeric.py:3504: RuntimeWarning: Mean of empty slice.\n",
            "  return _methods._mean(a, axis=axis, dtype=dtype,\n",
            "C:\\Users\\user\\AppData\\Local\\Programs\\Python\\Python310\\lib\\site-packages\\numpy\\core\\_methods.py:129: RuntimeWarning: invalid value encountered in scalar divide\n",
            "  ret = ret.dtype.type(ret / rcount)\n",
            "C:\\Users\\user\\AppData\\Local\\Programs\\Python\\Python310\\lib\\site-packages\\mlxtend\\frequent_patterns\\fpcommon.py:109: DeprecationWarning: DataFrames with non-bool types result in worse computationalperformance and their support might be discontinued in the future.Please use a DataFrame with bool type\n",
            "  warnings.warn(\n"
          ]
        },
        {
          "output_type": "stream",
          "name": "stdout",
          "text": [
            "=== Completed Step: Apriori Predictions in 3.32 seconds ===\n",
            "\n",
            "Running FP-Growth for Experiment 31...\n",
            "\n",
            "=== Starting Step: FP-Growth Frequent Itemsets ===\n",
            "=== Completed Step: FP-Growth Frequent Itemsets in 0.43 seconds ===\n",
            "\n",
            "=== Starting Step: FP-Growth Association Rules ===\n",
            "=== Completed Step: FP-Growth Association Rules in 0.00 seconds ===\n",
            "\n",
            "=== Starting Step: FP-Growth Predictions ===\n"
          ]
        },
        {
          "output_type": "stream",
          "name": "stderr",
          "text": [
            "Generating Predictions: 100%|███████████████████████████████████████| 38/38 [00:03<00:00, 11.40it/s]\n",
            "C:\\Users\\user\\AppData\\Local\\Programs\\Python\\Python310\\lib\\site-packages\\numpy\\core\\fromnumeric.py:3504: RuntimeWarning: Mean of empty slice.\n",
            "  return _methods._mean(a, axis=axis, dtype=dtype,\n",
            "C:\\Users\\user\\AppData\\Local\\Programs\\Python\\Python310\\lib\\site-packages\\numpy\\core\\_methods.py:129: RuntimeWarning: invalid value encountered in scalar divide\n",
            "  ret = ret.dtype.type(ret / rcount)\n",
            "C:\\Users\\user\\AppData\\Local\\Programs\\Python\\Python310\\lib\\site-packages\\mlxtend\\frequent_patterns\\fpcommon.py:109: DeprecationWarning: DataFrames with non-bool types result in worse computationalperformance and their support might be discontinued in the future.Please use a DataFrame with bool type\n",
            "  warnings.warn(\n"
          ]
        },
        {
          "output_type": "stream",
          "name": "stdout",
          "text": [
            "=== Completed Step: FP-Growth Predictions in 3.34 seconds ===\n",
            "\n",
            "=== Running Experiment 32 ===\n",
            "\n",
            "Running Apriori for Experiment 32...\n",
            "\n",
            "=== Starting Step: Apriori Frequent Itemsets ===\n",
            "=== Completed Step: Apriori Frequent Itemsets in 0.02 seconds ===\n",
            "\n",
            "=== Starting Step: Apriori Association Rules ===\n",
            "=== Completed Step: Apriori Association Rules in 0.00 seconds ===\n",
            "\n",
            "=== Starting Step: Apriori Predictions ===\n"
          ]
        },
        {
          "output_type": "stream",
          "name": "stderr",
          "text": [
            "Generating Predictions: 100%|███████████████████████████████████████| 38/38 [00:03<00:00, 11.47it/s]\n",
            "C:\\Users\\user\\AppData\\Local\\Programs\\Python\\Python310\\lib\\site-packages\\numpy\\core\\fromnumeric.py:3504: RuntimeWarning: Mean of empty slice.\n",
            "  return _methods._mean(a, axis=axis, dtype=dtype,\n",
            "C:\\Users\\user\\AppData\\Local\\Programs\\Python\\Python310\\lib\\site-packages\\numpy\\core\\_methods.py:129: RuntimeWarning: invalid value encountered in scalar divide\n",
            "  ret = ret.dtype.type(ret / rcount)\n",
            "C:\\Users\\user\\AppData\\Local\\Programs\\Python\\Python310\\lib\\site-packages\\mlxtend\\frequent_patterns\\fpcommon.py:109: DeprecationWarning: DataFrames with non-bool types result in worse computationalperformance and their support might be discontinued in the future.Please use a DataFrame with bool type\n",
            "  warnings.warn(\n"
          ]
        },
        {
          "output_type": "stream",
          "name": "stdout",
          "text": [
            "=== Completed Step: Apriori Predictions in 3.32 seconds ===\n",
            "\n",
            "Running FP-Growth for Experiment 32...\n",
            "\n",
            "=== Starting Step: FP-Growth Frequent Itemsets ===\n",
            "=== Completed Step: FP-Growth Frequent Itemsets in 0.34 seconds ===\n",
            "\n",
            "=== Starting Step: FP-Growth Association Rules ===\n",
            "=== Completed Step: FP-Growth Association Rules in 0.00 seconds ===\n",
            "\n",
            "=== Starting Step: FP-Growth Predictions ===\n"
          ]
        },
        {
          "output_type": "stream",
          "name": "stderr",
          "text": [
            "Generating Predictions: 100%|███████████████████████████████████████| 38/38 [00:03<00:00, 11.55it/s]"
          ]
        },
        {
          "output_type": "stream",
          "name": "stdout",
          "text": [
            "=== Completed Step: FP-Growth Predictions in 3.29 seconds ===\n",
            "All experiments completed. Results saved to: C:\\Users\\user\\Desktop\\CW4\\online+retail\\experiment_results_grouped.csv\n"
          ]
        },
        {
          "output_type": "stream",
          "name": "stderr",
          "text": [
            "\n",
            "C:\\Users\\user\\AppData\\Local\\Programs\\Python\\Python310\\lib\\site-packages\\numpy\\core\\fromnumeric.py:3504: RuntimeWarning: Mean of empty slice.\n",
            "  return _methods._mean(a, axis=axis, dtype=dtype,\n",
            "C:\\Users\\user\\AppData\\Local\\Programs\\Python\\Python310\\lib\\site-packages\\numpy\\core\\_methods.py:129: RuntimeWarning: invalid value encountered in scalar divide\n",
            "  ret = ret.dtype.type(ret / rcount)\n"
          ]
        }
      ]
    },
    {
      "cell_type": "code",
      "source": [],
      "metadata": {
        "id": "v9YQ95yeAKhf"
      },
      "execution_count": null,
      "outputs": []
    }
  ]
}